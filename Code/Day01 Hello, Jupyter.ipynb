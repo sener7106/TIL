{
 "cells": [
  {
   "cell_type": "code",
   "execution_count": 15,
   "id": "caabcdce",
   "metadata": {},
   "outputs": [
    {
     "name": "stdout",
     "output_type": "stream",
     "text": [
      "hello\n"
     ]
    }
   ],
   "source": [
    "print('hello') # shift+enter"
   ]
  },
  {
   "cell_type": "markdown",
   "id": "773c0cb0",
   "metadata": {},
   "source": [
    "# Hello markdown\n",
    "## hello markdown\n",
    "### hello markdown\n",
    "\n",
    "* python 2.7\n",
    "* python 3.9\n",
    "\n",
    "``` python \n",
    "s = \"Python syntax highlighting\"\n",
    "print s\n",
    "def add(a, b):\n",
    "    return a + b\n",
    "```\n",
    "\n",
    "> Blockquotes Starts\n",
    "\n",
    "This is **python**\n",
    "\n",
    "__webpage 호환__\n",
    "* [python webpage](https://www.python.org)\n",
    "* [naver](https://www.naver.com)"
   ]
  },
  {
   "cell_type": "markdown",
   "id": "6d50ff25",
   "metadata": {},
   "source": [
    "hi mister"
   ]
  },
  {
   "cell_type": "markdown",
   "id": "4e013704",
   "metadata": {},
   "source": [
    "# 마크다운 주요 단축키 설명\n",
    "- 쉘을 실행시키는 단축키 shift+enter, ctrl+enter //\n",
    "- esc 파란상태 -> b 아래로 생성, a 위로 생성 dd => 셀 삭제\n",
    "- z : 잘못 삭제했을 경우에 되돌리는 법"
   ]
  },
  {
   "cell_type": "code",
   "execution_count": 21,
   "id": "13c8029b",
   "metadata": {},
   "outputs": [
    {
     "name": "stdout",
     "output_type": "stream",
     "text": [
      "문자열의 길이 : 13\n"
     ]
    }
   ],
   "source": [
    "# 문자열의 길이를 구하는 함수\n",
    "message = '안녕하세요 오늘은 수요일'\n",
    "str_len = len(message)\n",
    "a = str(str_len)\n",
    "#print('문자열의 길이: ' + a)\n",
    "print(f\"문자열의 길이 : {str_len}\")"
   ]
  },
  {
   "cell_type": "code",
   "execution_count": 23,
   "id": "b7bd9b01",
   "metadata": {},
   "outputs": [
    {
     "name": "stdout",
     "output_type": "stream",
     "text": [
      "2\n"
     ]
    }
   ],
   "source": [
    "# 문자열의 개수 \n",
    "a = 'happy'\n",
    "b = a.count('p')\n",
    "print(b)"
   ]
  },
  {
   "cell_type": "code",
   "execution_count": 35,
   "id": "e9f92a5c",
   "metadata": {},
   "outputs": [
    {
     "name": "stdout",
     "output_type": "stream",
     "text": [
      "5\n"
     ]
    }
   ],
   "source": [
    "# 문자열의 위치 반환\n",
    "a = 'I like dog'\n",
    "f = a.find('e')\n",
    "print(f)"
   ]
  },
  {
   "cell_type": "code",
   "execution_count": 34,
   "id": "62d34a98",
   "metadata": {},
   "outputs": [
    {
     "name": "stdout",
     "output_type": "stream",
     "text": [
      "a.b.c.d\n"
     ]
    }
   ],
   "source": [
    "# 문자열의 첨가\n",
    "j = '.'.join('abcd')\n",
    "print(j)"
   ]
  },
  {
   "cell_type": "code",
   "execution_count": 40,
   "id": "c77b8de9",
   "metadata": {},
   "outputs": [
    {
     "data": {
      "text/plain": [
       "'hi my name is jongwoo'"
      ]
     },
     "execution_count": 40,
     "metadata": {},
     "output_type": "execute_result"
    }
   ],
   "source": [
    "# upper / lower\n",
    "\n",
    "a ='HI'\n",
    "b = 'hi'\n",
    "c = 'Hi my name is Jongwoo'\n",
    "c.lower()\n"
   ]
  },
  {
   "cell_type": "markdown",
   "id": "fb92f9fc",
   "metadata": {},
   "source": [
    "공백에 대한 함수(strip)"
   ]
  },
  {
   "cell_type": "code",
   "execution_count": 45,
   "id": "a0a92cd3",
   "metadata": {},
   "outputs": [
    {
     "name": "stdout",
     "output_type": "stream",
     "text": [
      "hi\n"
     ]
    }
   ],
   "source": [
    "a = '          hi   '\n",
    "b = '----------hi----'\n",
    "a.strip()\n",
    "s = b.strip('-')\n",
    "\n",
    "print(s)"
   ]
  },
  {
   "cell_type": "code",
   "execution_count": 46,
   "id": "054b36d6",
   "metadata": {},
   "outputs": [
    {
     "name": "stdout",
     "output_type": "stream",
     "text": [
      "Life is good\n"
     ]
    }
   ],
   "source": [
    "#문자열 바꾸기\n",
    "a = 'Life is bad'\n",
    "s = a.replace('bad', 'good')\n",
    "print(s)"
   ]
  },
  {
   "cell_type": "markdown",
   "id": "2b9bfe58",
   "metadata": {},
   "source": [
    "# replace, split, strip"
   ]
  },
  {
   "cell_type": "code",
   "execution_count": 54,
   "id": "2d6f4ae5",
   "metadata": {},
   "outputs": [
    {
     "name": "stdout",
     "output_type": "stream",
     "text": [
      "['Life', 'Hacker']\n"
     ]
    }
   ],
   "source": [
    "# 문자열 나누기(split)\n",
    "a = 'Life Hacker'\n",
    "s = a.split()\n",
    "print(s)"
   ]
  },
  {
   "cell_type": "markdown",
   "id": "8d5cf005",
   "metadata": {},
   "source": [
    "복수의 데이터를 담는 그릇을 복합자료형.. 배열 \n",
    "* list\n",
    "* tuple\n",
    "* dict\n",
    "* set\n",
    "* .... **args **kwargs(dict 용)"
   ]
  },
  {
   "cell_type": "code",
   "execution_count": 55,
   "id": "ad9017b0",
   "metadata": {},
   "outputs": [
    {
     "name": "stdout",
     "output_type": "stream",
     "text": [
      "[90, 89, 77, 95, 67] ['apple', 'banana', 'white']\n"
     ]
    }
   ],
   "source": [
    "score = [90, 89, 77, 95, 67]\n",
    "fruit = ['apple', 'banana', 'white']\n",
    "\n",
    "print(score, fruit)"
   ]
  },
  {
   "cell_type": "code",
   "execution_count": 58,
   "id": "4eec22c5",
   "metadata": {},
   "outputs": [
    {
     "data": {
      "text/plain": [
       "[4, 5]"
      ]
     },
     "execution_count": 58,
     "metadata": {},
     "output_type": "execute_result"
    }
   ],
   "source": [
    "a = [1, 2, 3, [4,5,6], 4.5]\n",
    "a[3][:2]"
   ]
  },
  {
   "cell_type": "code",
   "execution_count": 60,
   "id": "414b5fa5",
   "metadata": {},
   "outputs": [
    {
     "name": "stdout",
     "output_type": "stream",
     "text": [
      "[1, 3, 5, 7, 9, 11, 13, 15, 17, 19]\n",
      "[7, 9, 11, 13]\n"
     ]
    }
   ],
   "source": [
    "num = list(range(1, 21, 2)) # 1부터 20까지 2증가\n",
    "print(num)\n",
    "print(num[3:7])"
   ]
  },
  {
   "cell_type": "code",
   "execution_count": 61,
   "id": "4f595c0d",
   "metadata": {},
   "outputs": [
    {
     "name": "stdout",
     "output_type": "stream",
     "text": [
      "[1, 2, 4]\n"
     ]
    }
   ],
   "source": [
    "# 리스트에서 값 수정\n",
    "a = [1, 2, 3]\n",
    "a[2] = 4\n",
    "print(a)"
   ]
  },
  {
   "cell_type": "code",
   "execution_count": 62,
   "id": "061dd61d",
   "metadata": {},
   "outputs": [
    {
     "name": "stdout",
     "output_type": "stream",
     "text": [
      "[1, 2]\n"
     ]
    }
   ],
   "source": [
    "a = [1, 2, 3,4, 5]\n",
    "del a[2:]\n",
    "print(a)"
   ]
  },
  {
   "cell_type": "code",
   "execution_count": 63,
   "id": "ee7d922c",
   "metadata": {},
   "outputs": [],
   "source": [
    "b = 'I @@@want eggs'"
   ]
  },
  {
   "cell_type": "code",
   "execution_count": 65,
   "id": "423ac7f6",
   "metadata": {},
   "outputs": [
    {
     "data": {
      "text/plain": [
       "'I WANT EGGS'"
      ]
     },
     "execution_count": 65,
     "metadata": {},
     "output_type": "execute_result"
    }
   ],
   "source": [
    "b.replace('@', '').upper()"
   ]
  },
  {
   "cell_type": "code",
   "execution_count": 68,
   "id": "1235f033",
   "metadata": {},
   "outputs": [
    {
     "data": {
      "text/plain": [
       "[4, 1, 2, 3]"
      ]
     },
     "execution_count": 68,
     "metadata": {},
     "output_type": "execute_result"
    }
   ],
   "source": [
    "a = [1, 2, 3]\n",
    "a.insert(0, 4)\n",
    "a"
   ]
  },
  {
   "cell_type": "code",
   "execution_count": 70,
   "id": "9680f3a0",
   "metadata": {},
   "outputs": [
    {
     "data": {
      "text/plain": [
       "[1, 2, 1, 2, 3]"
      ]
     },
     "execution_count": 70,
     "metadata": {},
     "output_type": "execute_result"
    }
   ],
   "source": [
    "#리스트 내 요소제거\n",
    "sub = [1,2,3, 1, 2, 3]\n",
    "sub.remove(3)\n",
    "sub"
   ]
  },
  {
   "cell_type": "code",
   "execution_count": 71,
   "id": "df5d30da",
   "metadata": {},
   "outputs": [],
   "source": [
    "t1 = (1, 2, 3)"
   ]
  },
  {
   "cell_type": "code",
   "execution_count": 72,
   "id": "cd334b13",
   "metadata": {},
   "outputs": [
    {
     "name": "stdout",
     "output_type": "stream",
     "text": [
      "(1, 2, 3)\n"
     ]
    }
   ],
   "source": [
    "print(t1)"
   ]
  },
  {
   "cell_type": "code",
   "execution_count": 73,
   "id": "b6a257f3",
   "metadata": {},
   "outputs": [
    {
     "data": {
      "text/plain": [
       "{2, 3, 4, 5, 6}"
      ]
     },
     "execution_count": 73,
     "metadata": {},
     "output_type": "execute_result"
    }
   ],
   "source": [
    "s1 = set([1, 2, 3,4, 5, 6])\n",
    "s2 = set([2, 3, 4, 5, 6, 8])\n",
    "s1 & s2 # 교집합"
   ]
  },
  {
   "cell_type": "markdown",
   "id": "116e9e84",
   "metadata": {},
   "source": [
    "# 딕셔너리(dictionary)\n",
    "\n",
    " - KEY, VALUE PAIR 형태"
   ]
  },
  {
   "cell_type": "code",
   "execution_count": 77,
   "id": "095674f2",
   "metadata": {},
   "outputs": [
    {
     "name": "stdout",
     "output_type": "stream",
     "text": [
      "<class 'dict'>\n"
     ]
    }
   ],
   "source": [
    "D = {'A' : 100, 'B' : 200, 'C' : 300}\n",
    "print(type(D))"
   ]
  },
  {
   "cell_type": "code",
   "execution_count": 78,
   "id": "3eb81b02",
   "metadata": {},
   "outputs": [],
   "source": [
    "dict1 =  {'이름' : '존', '소속' : '빅데이터 그룹', '층수' : 30}"
   ]
  },
  {
   "cell_type": "code",
   "execution_count": 84,
   "id": "f8ca746c",
   "metadata": {},
   "outputs": [
    {
     "data": {
      "text/plain": [
       "dict_values(['존', '빅데이터 그룹', 30])"
      ]
     },
     "execution_count": 84,
     "metadata": {},
     "output_type": "execute_result"
    }
   ],
   "source": [
    "dict1['소속']\n",
    "dict1.keys()\n",
    "dict1.values()"
   ]
  },
  {
   "cell_type": "code",
   "execution_count": 85,
   "id": "794143a6",
   "metadata": {},
   "outputs": [],
   "source": [
    "name = ['good', 'james']\n",
    "group = ['빅데이터그룹', '경영지원팀']\n",
    "income = [5000, 6000]\n",
    "\n",
    "dict3 = {'이름' : name, '소속' : group, '연봉' : income}"
   ]
  },
  {
   "cell_type": "code",
   "execution_count": 86,
   "id": "87ba47ab",
   "metadata": {},
   "outputs": [
    {
     "name": "stdout",
     "output_type": "stream",
     "text": [
      "{'이름': ['good', 'james'], '소속': ['빅데이터그룹', '경영지원팀'], '연봉': [5000, 6000]}\n"
     ]
    }
   ],
   "source": [
    "print(dict3)"
   ]
  },
  {
   "cell_type": "code",
   "execution_count": 100,
   "id": "30e8e14f",
   "metadata": {},
   "outputs": [
    {
     "data": {
      "text/plain": [
       "6000"
      ]
     },
     "execution_count": 100,
     "metadata": {},
     "output_type": "execute_result"
    }
   ],
   "source": [
    "name.append('임재범')\n",
    "group.append('AI팀')\n",
    "\n",
    "dict3['연봉'][0]\n",
    "#del dict3['연봉'][0]"
   ]
  },
  {
   "cell_type": "markdown",
   "id": "5f4e6e7f",
   "metadata": {},
   "source": [
    "# 입력문`\n",
    "\n",
    "- 사용자에게 데이터를 입력 받기 위한 함수\n",
    "- input() 함수로 입력을 받을 경우는 __str__\n",
    "- input() 함수를 통해 입력받은 값을 할당할 수 있는 변수가 필요"
   ]
  },
  {
   "cell_type": "code",
   "execution_count": 103,
   "id": "58222683",
   "metadata": {},
   "outputs": [
    {
     "name": "stdout",
     "output_type": "stream",
     "text": [
      "177\n"
     ]
    }
   ],
   "source": [
    "height = int(input())\n",
    "\n",
    "area = height ** 2"
   ]
  },
  {
   "cell_type": "code",
   "execution_count": 104,
   "id": "a6be3eb4",
   "metadata": {},
   "outputs": [
    {
     "name": "stdout",
     "output_type": "stream",
     "text": [
      "31329\n"
     ]
    }
   ],
   "source": [
    "print(area)"
   ]
  },
  {
   "cell_type": "code",
   "execution_count": 106,
   "id": "cf870960",
   "metadata": {},
   "outputs": [
    {
     "name": "stdout",
     "output_type": "stream",
     "text": [
      "i like you\n"
     ]
    }
   ],
   "source": [
    "print('i', end = ' ')\n",
    "print('like', end = ' ')\n",
    "print('you')"
   ]
  },
  {
   "cell_type": "code",
   "execution_count": 111,
   "id": "c763bff1",
   "metadata": {},
   "outputs": [
    {
     "name": "stdout",
     "output_type": "stream",
     "text": [
      "Hello, ['good', 'james', '임재범', '임재범', '임재범', '임재범', '임재범', '임재범', '임재범']\n"
     ]
    }
   ],
   "source": [
    "print(\"Hello, %s\" % (name))"
   ]
  },
  {
   "cell_type": "code",
   "execution_count": 115,
   "id": "903f5006",
   "metadata": {},
   "outputs": [
    {
     "name": "stdout",
     "output_type": "stream",
     "text": [
      "상품의 가격5000\n",
      "사용 금액2000\n",
      "금액 3000\n"
     ]
    }
   ],
   "source": [
    "# 구매하려는 상품의 가격ㅇ르 입력하고 구매를 위해 낼 금ㅇ액을 입력하면 거스름돈을 출력하는 함수\n",
    "def pos(cost, pay) :\n",
    "    return cost - pay\n",
    "\n",
    "cost = int(input('상품의 가격'))\n",
    "pay = int(input('사용 금액'))\n",
    "\n",
    "print(\"금액 %d\" % pos(cost, pay))"
   ]
  },
  {
   "cell_type": "code",
   "execution_count": null,
   "id": "cc325ba9",
   "metadata": {},
   "outputs": [],
   "source": []
  }
 ],
 "metadata": {
  "kernelspec": {
   "display_name": "Python 3 (ipykernel)",
   "language": "python",
   "name": "python3"
  },
  "language_info": {
   "codemirror_mode": {
    "name": "ipython",
    "version": 3
   },
   "file_extension": ".py",
   "mimetype": "text/x-python",
   "name": "python",
   "nbconvert_exporter": "python",
   "pygments_lexer": "ipython3",
   "version": "3.9.7"
  }
 },
 "nbformat": 4,
 "nbformat_minor": 5
}
