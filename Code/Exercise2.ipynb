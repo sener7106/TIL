{
 "cells": [
  {
   "cell_type": "code",
   "execution_count": 1,
   "id": "2232c7f2",
   "metadata": {},
   "outputs": [
    {
     "name": "stdout",
     "output_type": "stream",
     "text": [
      "-2 은 음수입니다.\n"
     ]
    }
   ],
   "source": [
    "#2-1\n",
    "\n",
    "def find_n(n) :\n",
    "    if n < 0 :\n",
    "        print(\"%d 은 음수입니다.\" % n)\n",
    "    elif n > 0 :\n",
    "        print(\"%d 은 양수입니다.\" % n)\n",
    "    else :\n",
    "        print(\"0이네요\")\n",
    "\n",
    "find_n(-2)"
   ]
  },
  {
   "cell_type": "code",
   "execution_count": 2,
   "id": "f3a21d9a",
   "metadata": {},
   "outputs": [
    {
     "name": "stdout",
     "output_type": "stream",
     "text": [
      "홀수입니다.\n"
     ]
    }
   ],
   "source": [
    "#2-2\n",
    "\n",
    "def find_odd_even(n) :\n",
    "    if n % 2 == 0 :\n",
    "        print(\"짝수입니다.\")\n",
    "    else :\n",
    "        print(\"홀수입니다.\")\n",
    "\n",
    "find_odd_even(3)"
   ]
  },
  {
   "cell_type": "code",
   "execution_count": 3,
   "id": "1f813ddb",
   "metadata": {},
   "outputs": [
    {
     "name": "stdout",
     "output_type": "stream",
     "text": [
      "정수를 입력 => 3\n",
      "3의 배수입니다.\n"
     ]
    }
   ],
   "source": [
    "#2-3\n",
    "def find_three_times(n) :\n",
    "    if n % 3 == 0 :\n",
    "        print(\"3의 배수입니다.\")\n",
    "    else :\n",
    "        print(\"3의 배수가 아닙니다.\")\n",
    "\n",
    "num = int(input(\"정수를 입력 => \"))\n",
    "find_three_times(num)"
   ]
  },
  {
   "cell_type": "code",
   "execution_count": 4,
   "id": "3abbeebf",
   "metadata": {},
   "outputs": [
    {
     "name": "stdout",
     "output_type": "stream",
     "text": [
      "키를 입력하세요 :177\n",
      "몸무게를 입력하세요 :80\n",
      "과체중 25.5\n"
     ]
    }
   ],
   "source": [
    "def find_BMI(height, weight) :\n",
    "    height = height / 100\n",
    "    BMI = weight / (height ** 2)\n",
    "    if (BMI < 18.5) :\n",
    "        print(f\"저체중 {BMI:.1f}\")\n",
    "    elif BMI > 18.5 and BMI < 22.8 :\n",
    "        print(f\"정 상 {BM:.1f}\")\n",
    "    elif BMI > 22.9 and BMI < 24.8 :\n",
    "        print(f\"과체중 {BMI:.1f}\")\n",
    "    elif BMI > 24.9 and BMI < 29.8 :\n",
    "        print(f\"과체중 {BMI:.1f}\")\n",
    "    else :\n",
    "        print(f\"고도비만 {BMI:.1f}\")\n",
    "    \n",
    "height = float(input(\"키를 입력하세요 :\"))\n",
    "weight = float(input(\"몸무게를 입력하세요 :\"))\n",
    "\n",
    "find_BMI(height, weight)"
   ]
  },
  {
   "cell_type": "code",
   "execution_count": 5,
   "id": "bad91777",
   "metadata": {},
   "outputs": [
    {
     "name": "stdout",
     "output_type": "stream",
     "text": [
      "5760.0\n"
     ]
    }
   ],
   "source": [
    "# 2.5 1월: 5500 / 2월: 5300 / 3월 : 6700 / 4월: 5500 / 5월 : 5800\n",
    "\n",
    "ls = [5500, 5300, 6700, 5500, 5800]\n",
    "month = len(ls)\n",
    "sum = 0\n",
    "for money in ls :\n",
    "    sum = sum + money\n",
    "avg = sum / month\n",
    "print(avg)"
   ]
  },
  {
   "cell_type": "code",
   "execution_count": 8,
   "id": "0712803f",
   "metadata": {},
   "outputs": [
    {
     "name": "stdout",
     "output_type": "stream",
     "text": [
      "정수를 입력 => 8\n",
      "8 * 1 = 8\n",
      "8 * 2 = 16\n",
      "8 * 3 = 24\n",
      "8 * 4 = 32\n",
      "8 * 5 = 40\n",
      "8 * 6 = 48\n",
      "8 * 7 = 56\n",
      "8 * 8 = 64\n",
      "8 * 9 = 72\n"
     ]
    }
   ],
   "source": [
    "# 2,6 \n",
    "def gugu(n) :\n",
    "    for i in range(1, 10) :\n",
    "        print(f\"{n} * {i} = {n * i}\")\n",
    "num = int(input(\"정수를 입력 => \"))\n",
    "gugu(num)"
   ]
  },
  {
   "cell_type": "code",
   "execution_count": 12,
   "id": "632e8226",
   "metadata": {},
   "outputs": [
    {
     "name": "stdout",
     "output_type": "stream",
     "text": [
      "약수를 찾고 싶은 정수 입력 => 14\n",
      "[1, 2, 7, 14]\n"
     ]
    }
   ],
   "source": [
    "# 2.7\n",
    "def find_divisor(n) :\n",
    "    ls = []\n",
    "    for i in range(1, n + 1) :\n",
    "        if n % i == 0 :\n",
    "           ls.append(i)\n",
    "    return ls\n",
    "\n",
    "num = int(input(\"약수를 찾고 싶은 정수 입력 => \"))\n",
    "print(find_divisor(num))"
   ]
  },
  {
   "cell_type": "code",
   "execution_count": 49,
   "id": "d944261e",
   "metadata": {},
   "outputs": [
    {
     "name": "stdout",
     "output_type": "stream",
     "text": [
      "1000\n"
     ]
    }
   ],
   "source": [
    "#2-8\n",
    "ls = [1, 24, 3, 44, 1000, 2, 0, 74]\n",
    "\n",
    "def find_max(a) :\n",
    "    n = len(a)\n",
    "    max_v = a[0]\n",
    "    for i in range(1, n) :\n",
    "        if a[i] > max_v :\n",
    "            max_v = a[i]\n",
    "    return max_v\n",
    "\n",
    "print(find_max(ls))"
   ]
  },
  {
   "cell_type": "code",
   "execution_count": 27,
   "id": "1ccf7bbd",
   "metadata": {},
   "outputs": [
    {
     "name": "stdout",
     "output_type": "stream",
     "text": [
      "Please input Number : (끝내기 : 0)3\n",
      "Please input Number : (끝내기 : 0)4\n",
      "Please input Number : (끝내기 : 0)5\n",
      "Please input Number : (끝내기 : 0)6\n",
      "Please input Number : (끝내기 : 0)7\n",
      "Please input Number : (끝내기 : 0)8\n",
      "Please input Number : (끝내기 : 0)9\n",
      "Please input Number : (끝내기 : 0)0\n",
      "Average : 5.2\n"
     ]
    }
   ],
   "source": [
    "#2-9\n",
    "def find_avg() :\n",
    "    ls = []\n",
    "    sum = 0\n",
    "    while True :\n",
    "        num = int(input(\"Please input Number : (끝내기 : 0)\"))\n",
    "        ls.append(num)\n",
    "        if(num == 0) :\n",
    "            for i in ls :\n",
    "                sum = sum + i\n",
    "            break\n",
    "    print(\"Average : %.1f\" % (sum / len(ls)))\n",
    "\n",
    "find_avg()"
   ]
  },
  {
   "cell_type": "code",
   "execution_count": 61,
   "id": "5bb3f2e4",
   "metadata": {},
   "outputs": [
    {
     "data": {
      "text/plain": [
       "4.0"
      ]
     },
     "execution_count": 61,
     "metadata": {},
     "output_type": "execute_result"
    }
   ],
   "source": [
    "def avg_numbers(*args) :\n",
    "    result = 0\n",
    "    for i in args :\n",
    "        result += i\n",
    "    return result / len(args)\n",
    "\n",
    "avg_numbers(5, 4, 3)"
   ]
  },
  {
   "cell_type": "code",
   "execution_count": 60,
   "id": "cdbe6dc4",
   "metadata": {},
   "outputs": [
    {
     "name": "stdout",
     "output_type": "stream",
     "text": [
      "x, y를 입력 3 10\n",
      "13 -7 0.3 30\n"
     ]
    }
   ],
   "source": [
    "#2-10\n",
    "\n",
    "add = lambda x, y : x + y\n",
    "substract = lambda x, y : x - y\n",
    "divide = lambda x, y : x / y \n",
    "multiple = lambda x, y : x * y\n",
    "\n",
    "x, y = input(\"x, y를 입력 \").split()\n",
    "x = int(x)\n",
    "y = int(y)\n",
    "\n",
    "print(add(x,y), substract(x,y), divide(x,y) , multiple(x, y))"
   ]
  },
  {
   "cell_type": "markdown",
   "id": "25076dce",
   "metadata": {},
   "source": [
    "# Numpy, Pandas  -Exercise"
   ]
  },
  {
   "cell_type": "code",
   "execution_count": 54,
   "id": "f21f799c",
   "metadata": {},
   "outputs": [],
   "source": [
    "import numpy as np\n",
    "import pandas as pd\n",
    "import matplotlib.pyplot as plt"
   ]
  },
  {
   "cell_type": "code",
   "execution_count": 63,
   "id": "99f625c8",
   "metadata": {},
   "outputs": [
    {
     "name": "stdout",
     "output_type": "stream",
     "text": [
      "[[-0.47977671 -0.88451242 -0.25616436  0.23997124]\n",
      " [-0.19149987  0.72548428  1.13298956  0.14318943]\n",
      " [ 0.7696877   0.01590547  0.06806922  2.15053304]\n",
      " [ 0.8128242   0.02798377  0.04020789 -0.10075701]]\n",
      "[[-1.22699213 -1.8283267  -0.91604992 -0.82186474]\n",
      " [-0.20315695  0.02448508 -0.24156011 -1.26123917]\n",
      " [-2.7405336  -0.20156684 -0.78156247  0.76531152]\n",
      " [-0.55703089 -0.7797168  -0.26141728 -0.22947639]]\n"
     ]
    },
    {
     "data": {
      "image/png": "[encoded data removed]",
      "text/plain": [
       "<Figure size 432x288 with 1 Axes>"
      ]
     },
     "metadata": {
      "needs_background": "light"
     },
     "output_type": "display_data"
    }
   ],
   "source": [
    "# Ex 2 - 11\n",
    "\n",
    "mat1 = np.random.randn(4, 4)\n",
    "mat2 = np.random.randn(4, 4)\n",
    "n = 3 + np.random.randn(1000)\n",
    "\n",
    "print(np.maximum(mat1, mat2))\n",
    "print(np.minimum(mat1, mat2))\n",
    "\n",
    "plt.hist(n, bins = 256)\n",
    "plt.title(\"Gaussian Distribution\")\n",
    "plt.show()"
   ]
  },
  {
   "cell_type": "code",
   "execution_count": 23,
   "id": "f1fcfc5a",
   "metadata": {},
   "outputs": [
    {
     "name": "stdout",
     "output_type": "stream",
     "text": [
      "12.110057312952936\n",
      "0.48440229251811745\n",
      "합: [2.80342433 1.30116255 2.05453696 2.99908849 2.95184498]\n",
      "[0.56068487 0.26023251 0.41090739 0.5998177  0.590369  ]\n",
      "[3.31699281 2.0779882  2.50061422 2.32181052 1.89265157]\n",
      "[0.66339856 0.41559764 0.50012284 0.4643621  0.37853031]\n"
     ]
    }
   ],
   "source": [
    "# Ex 2 - 12\n",
    "# axis 1 = > y , 0 = > x\n",
    "matrix = np.random.rand(5, 5)\n",
    "print(matrix.sum())\n",
    "print(matrix.mean())\n",
    "print(\"합: \", matrix.sum(axis = 0))\n",
    "print(\"평균:\",matrix.mean(axis = 0))\n",
    "print(\"합\":matrix.sum(axis = 1))\n",
    "print(\"평균\";matrix.mean(axis = 1))"
   ]
  },
  {
   "cell_type": "code",
   "execution_count": 66,
   "id": "a70d3f37",
   "metadata": {},
   "outputs": [
    {
     "name": "stdout",
     "output_type": "stream",
     "text": [
      "70\n",
      "30\n",
      "80\n",
      "90\n",
      "국어    70\n",
      "영어    30\n",
      "수학    80\n",
      "과학    90\n",
      "Name: 성적표, dtype: int64\n"
     ]
    }
   ],
   "source": [
    "# Series 를 이용, 아래와 같은 성적표 만들기\n",
    "\n",
    "dict_grade = {\n",
    "    '국어' : 70,\n",
    "    '영어' : 30,\n",
    "    '수학' : 80,\n",
    "    '과학' : 90\n",
    "}\n",
    "grade = pd.Series(dict_grade, name = '성적표')\n",
    "for data in grade :\n",
    "    print(data)\n",
    "print(grade)"
   ]
  },
  {
   "cell_type": "code",
   "execution_count": 44,
   "id": "07950304",
   "metadata": {},
   "outputs": [
    {
     "name": "stdout",
     "output_type": "stream",
     "text": [
      "국어 70점 합격입니다.\n",
      "영어 30점 불합격입니다\n",
      "수학 80점 합격입니다.\n",
      "과학 90점 합격입니다.\n",
      "67.5 불합격\n"
     ]
    }
   ],
   "source": [
    "# Ex 2-13-1\n",
    "\n",
    "#grade[grade >= 50]\n",
    "for key, value in grade.items() :\n",
    "    if value >= 50 :\n",
    "        print(key + f\" {value}점 합격입니다.\")\n",
    "    else :\n",
    "        print(key + f\" {value}점 불합격입니다\")\n",
    "\n",
    "if grade.mean() >= 70 :\n",
    "    print(f\"{grade.mean()} 합격\")\n",
    "else :\n",
    "    print(f\"{grade.mean()} 불합격\")\n",
    "\n"
   ]
  },
  {
   "cell_type": "code",
   "execution_count": null,
   "id": "6a664f2c",
   "metadata": {},
   "outputs": [],
   "source": []
  }
 ],
 "metadata": {
  "kernelspec": {
   "display_name": "Python 3 (ipykernel)",
   "language": "python",
   "name": "python3"
  },
  "language_info": {
   "codemirror_mode": {
    "name": "ipython",
    "version": 3
   },
   "file_extension": ".py",
   "mimetype": "text/x-python",
   "name": "python",
   "nbconvert_exporter": "python",
   "pygments_lexer": "ipython3",
   "version": "3.9.7"
  }
 },
 "nbformat": 4,
 "nbformat_minor": 5
}
