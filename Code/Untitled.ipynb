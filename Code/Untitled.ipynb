{
 "cells": [
  {
   "cell_type": "markdown",
   "id": "058055ef",
   "metadata": {},
   "source": [
    "# 표준편차\n",
    "- 실제 관측값이 얼마나 분산되어서 분포하는가? / 통계치의 신뢰도에 관여\n",
    "- 표준편차는 편차들의 제곱을 산술평균한 값\n",
    "- u = 평균, sigma = 표준편차   E(X) - E(/X) , square(sigma) = 분산\n",
    "- u - o ~ u + o 66.7%\n",
    "- u - 2o ~ u + 2o 79.4%\n",
    "- u - 3o ~ u + 3o 99.7%"
   ]
  },
  {
   "cell_type": "code",
   "execution_count": null,
   "id": "b9a3daaa",
   "metadata": {},
   "outputs": [],
   "source": []
  }
 ],
 "metadata": {
  "kernelspec": {
   "display_name": "Python 3 (ipykernel)",
   "language": "python",
   "name": "python3"
  },
  "language_info": {
   "codemirror_mode": {
    "name": "ipython",
    "version": 3
   },
   "file_extension": ".py",
   "mimetype": "text/x-python",
   "name": "python",
   "nbconvert_exporter": "python",
   "pygments_lexer": "ipython3",
   "version": "3.9.7"
  }
 },
 "nbformat": 4,
 "nbformat_minor": 5
}
