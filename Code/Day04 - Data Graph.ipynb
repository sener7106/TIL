{
 "cells": [
  {
   "cell_type": "markdown",
   "id": "5884919d",
   "metadata": {},
   "source": [
    "# Numpy, Pandas 라이브러리\n",
    "- Numpy 배열 행렬\n",
    "- Pandas : Series, DataFrame\n",
    "- Groupby, pivot_table"
   ]
  },
  {
   "cell_type": "markdown",
   "id": "dd7559a7",
   "metadata": {},
   "source": [
    "# 데이터 수집\n",
    "- 분석에 필요한 데이터의 종류, 형태, 발생주기, 수집 기간 및 방법 등 데이터의 특성을 명확히 파악하고 정의하는 것\n",
    "- 정성적인 데이터를 어떻게 하면 정량적으로 정제할 수 있는가?\n",
    "- 데이터의 일관성 및 신뢰성 : 모든 사람들에게 동일한의미를 제공하는 일관성가 신뢰성이 있는 데이터 확보가 중요\n",
    "- 데이터의 항목, 속성, 발생 주기, 수집 방법 및 기간 등의 특징/속성을 기술\n",
    "- 적어도 몇십만건의 데이터가 필요"
   ]
  },
  {
   "cell_type": "code",
   "execution_count": null,
   "id": "c9316394",
   "metadata": {},
   "outputs": [],
   "source": [
    "# ctrl + '/' : 주석처리"
   ]
  }
 ],
 "metadata": {
  "kernelspec": {
   "display_name": "Python 3 (ipykernel)",
   "language": "python",
   "name": "python3"
  },
  "language_info": {
   "codemirror_mode": {
    "name": "ipython",
    "version": 3
   },
   "file_extension": ".py",
   "mimetype": "text/x-python",
   "name": "python",
   "nbconvert_exporter": "python",
   "pygments_lexer": "ipython3",
   "version": "3.9.7"
  }
 },
 "nbformat": 4,
 "nbformat_minor": 5
}
