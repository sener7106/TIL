{
 "cells": [
  {
   "cell_type": "markdown",
   "id": "d665eb76",
   "metadata": {},
   "source": [
    "# Example 1-1\n",
    "\n",
    " - 어떤 회원이 생년월일 입력란에 890724를 입력하셨을때 해당 문자을 연/월/일로 각각 나누어 출력하기"
   ]
  },
  {
   "cell_type": "code",
   "execution_count": 33,
   "id": "64874b4a",
   "metadata": {},
   "outputs": [
    {
     "name": "stdout",
     "output_type": "stream",
     "text": [
      "89/07/24\n",
      "2019-06-03\n",
      "daily essentials refreshing toner reviews\n",
      "01012345678\n"
     ]
    }
   ],
   "source": [
    "phoneNumber = '010-1234-5678'\n",
    "phoneNumber.replace(\"-\", \"\")\n",
    "\n",
    "sales = \"DAILY ESSENTIALS REFRESHING TONER REVIEWS\"\n",
    "sales.lower()\n",
    "\n",
    "days = '20190603'\n",
    "birthday = '890724'\n",
    "\n",
    "print(birthday[0:2] + '/' + birthday[2:4] + '/' + birthday[4:6])\n",
    "print(days[0:4] + '-' + days[4:6] + '-' + days[6:8])\n",
    "print(sales.lower())\n",
    "print(phoneNumber.replace(\"-\", \"\"))"
   ]
  },
  {
   "cell_type": "markdown",
   "id": "70a2a6d2",
   "metadata": {},
   "source": [
    "#Example 1-5 ~ 1-9"
   ]
  },
  {
   "cell_type": "code",
   "execution_count": null,
   "id": "9c4e3ff6",
   "metadata": {},
   "outputs": [],
   "source": []
  },
  {
   "cell_type": "code",
   "execution_count": 2,
   "id": "e358c41e",
   "metadata": {},
   "outputs": [
    {
     "name": "stdout",
     "output_type": "stream",
     "text": [
      "[1, 3, 4, 5, 7, 8, 13]\n"
     ]
    }
   ],
   "source": [
    "#1.6\n",
    "\n",
    "ls = [1,1,1,1,3,3,3,4,5,5,4,5,7,8,13]\n",
    "print(list(set(ls)))"
   ]
  },
  {
   "cell_type": "code",
   "execution_count": 7,
   "id": "8fe9d35d",
   "metadata": {},
   "outputs": [
    {
     "name": "stdout",
     "output_type": "stream",
     "text": [
      "radius ? : 2.4\n",
      "Area is.. : 18.09\n"
     ]
    }
   ],
   "source": [
    "#1.7\n",
    "PI = 3.14\n",
    "r = float(input(\"radius ? : \"))\n",
    "area = PI * (r ** 2)\n",
    "print(\"Area is.. : %.2f\" % area)"
   ]
  },
  {
   "cell_type": "code",
   "execution_count": 8,
   "id": "81e292c5",
   "metadata": {},
   "outputs": [
    {
     "name": "stdout",
     "output_type": "stream",
     "text": [
      "What's value of x : 4\n",
      "112 33 5.0\n"
     ]
    }
   ],
   "source": [
    "#1.8 \n",
    "x = int(input(\"What's value of x : \"))\n",
    "\n",
    "y1 = (x ** 2) - x + 100\n",
    "y2 = (2 * x)  + 25\n",
    "y3 = ((x ** 2) + x) / (x)\n",
    "\n",
    "print(y1, y2, y3)"
   ]
  },
  {
   "cell_type": "code",
   "execution_count": 22,
   "id": "5f760607",
   "metadata": {},
   "outputs": [
    {
     "name": "stdout",
     "output_type": "stream",
     "text": [
      "연도를 입력해주세요 : 1996\n",
      "자\n"
     ]
    }
   ],
   "source": [
    "#1.9\n",
    "\n",
    "dict1= {'96': '자',\n",
    "        '97' :'축',\n",
    "        '98' :'인',\n",
    "        '99' :'묘',\n",
    "        '00':'진',\n",
    "        '01': '사',\n",
    "        '02' :'오',\n",
    "        '03' :'미',\n",
    "        '04' :'신',\n",
    "        '05' :'유',\n",
    "        '06' :'술',\n",
    "        '07' :'해',\n",
    "       }\n",
    "\n",
    "year = input(\"연도를 입력해주세요 : \")\n",
    "year_for = year[2:4]\n",
    "print(dict1[year_for])"
   ]
  },
  {
   "cell_type": "code",
   "execution_count": 24,
   "id": "86b0c94f",
   "metadata": {},
   "outputs": [
    {
     "name": "stdout",
     "output_type": "stream",
     "text": [
      "화씨 입력 => 12\n",
      "섭씨는 53.6도\n"
     ]
    }
   ],
   "source": [
    "#1.10\n",
    "F = float(input(\"화씨 입력 => \"))\n",
    "C = (F * 1.8) + 32\n",
    "print(f'섭씨는 {C}도')"
   ]
  },
  {
   "cell_type": "code",
   "execution_count": 25,
   "id": "12203a75",
   "metadata": {},
   "outputs": [
    {
     "name": "stdout",
     "output_type": "stream",
     "text": [
      "radius => 4\n",
      "height => 10\n",
      "Volume is : 502.40000000000003m^3\n"
     ]
    }
   ],
   "source": [
    "#1.11\n",
    "r = float(input(\"radius => \"))\n",
    "h = float(input(\"height => \"))\n",
    "\n",
    "volume = 3.14 * (r ** 2) * h\n",
    "print(f'Volume is : {volume}m^3')"
   ]
  },
  {
   "cell_type": "code",
   "execution_count": 43,
   "id": "4455b88d",
   "metadata": {},
   "outputs": [
    {
     "name": "stdout",
     "output_type": "stream",
     "text": [
      "금액? 400\n",
      "반환될 금액은 .. 500원 = 1개 , 100원 = 1개, 50 = 0개, 10원 = 0개 \n"
     ]
    }
   ],
   "source": [
    "#1.13\n",
    "price = int(input(\"금액? \"))\n",
    "cost = 1000\n",
    "change = [500, 100, 50, 10]\n",
    "\n",
    "result = cost - price\n",
    "# if result = 250원인경우\n",
    "print(\"반환될 금액은 .. 500원 = %d개 , 100원 = %d개, 50 = %d개, 10원 = %d개 \" % (result / 500, (result % 500) / 100, (result % 100) / 50, (result % 50) / 10))"
   ]
  },
  {
   "cell_type": "code",
   "execution_count": 45,
   "id": "76054275",
   "metadata": {},
   "outputs": [
    {
     "name": "stdout",
     "output_type": "stream",
     "text": [
      "정수를 입력해주세요. : 101\n",
      "Odd Number\n",
      "None\n"
     ]
    }
   ],
   "source": [
    "# 정수입력  홀짝여부 판별\n",
    "\n",
    "def odd_even(n) :\n",
    "    if n % 2 == 0 :\n",
    "        print(\"Even Number\")\n",
    "    else :\n",
    "        print(\"Odd Number\")\n",
    "        \n",
    "num = int(input(\"정수를 입력해주세요. : \"))\n",
    "print(odd_even(num))"
   ]
  },
  {
   "cell_type": "markdown",
   "id": "c54ba9e9",
   "metadata": {},
   "source": [
    "# 비교연산자\n",
    "- boolean\n",
    "- == , >=, <=, !="
   ]
  },
  {
   "cell_type": "markdown",
   "id": "d07e9b05",
   "metadata": {},
   "source": [
    "# 반복문 while, continue.."
   ]
  },
  {
   "cell_type": "code",
   "execution_count": 46,
   "id": "b7730c4c",
   "metadata": {},
   "outputs": [
    {
     "name": "stdout",
     "output_type": "stream",
     "text": [
      "1,3,5,7,9,"
     ]
    }
   ],
   "source": [
    "a = 0\n",
    "while a < 10 :\n",
    "    a = a + 1\n",
    "    if a % 2 == 0 :\n",
    "        continue\n",
    "    print(a, end = ',')"
   ]
  },
  {
   "cell_type": "markdown",
   "id": "c7350844",
   "metadata": {},
   "source": [
    "# For문\n",
    "- for문은 지정된 횟수만큼 반복\n",
    "- if 문과 같이 쓰이며 업무 자동화에 사용\n",
    "\n",
    "- for in 범위(리스트, 튜플, 문자열)"
   ]
  },
  {
   "cell_type": "code",
   "execution_count": 49,
   "id": "081ef0ac",
   "metadata": {},
   "outputs": [
    {
     "name": "stdout",
     "output_type": "stream",
     "text": [
      "one\n",
      "two\n",
      "three\n"
     ]
    }
   ],
   "source": [
    "test_list = ['one', 'two', 'three']\n",
    "\n",
    "for i in range(0, len(test_list)) :\n",
    "    print(test_list[i])"
   ]
  },
  {
   "cell_type": "code",
   "execution_count": 52,
   "id": "71afb2e5",
   "metadata": {},
   "outputs": [
    {
     "name": "stdout",
     "output_type": "stream",
     "text": [
      "80 is Pass\n",
      "60 is Pass\n",
      "70 is Pass\n",
      "40 is None Pass\n",
      "70 is Pass\n",
      "80 is Pass\n",
      "40 is None Pass\n",
      "60 is Pass\n",
      "40 is None Pass\n"
     ]
    }
   ],
   "source": [
    "dat = [80 , 60, 70 ,40,70,80,40,60,40]\n",
    "\n",
    "for i in dat :\n",
    "    if i >= 60 :\n",
    "        print(f\"{i} is Pass\")\n",
    "    else :\n",
    "        print(f\"{i} is None Pass\")"
   ]
  },
  {
   "cell_type": "code",
   "execution_count": 61,
   "id": "67abb1f7",
   "metadata": {},
   "outputs": [
    {
     "name": "stdout",
     "output_type": "stream",
     "text": [
      "number : 9\n",
      "9 * 1 = 9\n",
      "9 * 2 = 18\n",
      "9 * 3 = 27\n",
      "9 * 4 = 36\n",
      "9 * 5 = 45\n",
      "9 * 6 = 54\n",
      "9 * 7 = 63\n",
      "9 * 8 = 72\n",
      "9 * 9 = 81\n"
     ]
    }
   ],
   "source": [
    "# 구구단 만들기\n",
    "def gugu(n) :\n",
    "    for i in range(1, 10) :\n",
    "        print(f\"{n} * {i} = {n * i}\")\n",
    "def gugu_while(n) :\n",
    "    i = 1\n",
    "    while(i < 10) :\n",
    "        print(f\"{n} * {i} = {n * i}\")\n",
    "        i = i + 1\n",
    "        \n",
    "num = int(input(\"number : \"))\n",
    "\n",
    "gugu(num)"
   ]
  },
  {
   "cell_type": "markdown",
   "id": "8fcff90b",
   "metadata": {},
   "source": [
    "# 익명함수 \n",
    "- 람다function을 이용한 함수의 사용\n",
    "\n",
    "def 함수이름(매개변수) :\n",
    "    return 결과\n",
    "\n",
    "lambda (매개변수 : 결과)"
   ]
  },
  {
   "cell_type": "code",
   "execution_count": 64,
   "id": "b76fa9b0",
   "metadata": {},
   "outputs": [
    {
     "data": {
      "text/plain": [
       "6"
      ]
     },
     "execution_count": 64,
     "metadata": {},
     "output_type": "execute_result"
    }
   ],
   "source": [
    "add = lambda a, b :  a + b"
   ]
  },
  {
   "cell_type": "code",
   "execution_count": 66,
   "id": "86189545",
   "metadata": {},
   "outputs": [
    {
     "name": "stdout",
     "output_type": "stream",
     "text": [
      "-2 은 음수입니다.\n"
     ]
    }
   ],
   "source": [
    "#2-1\n",
    "\n",
    "def find_n(n) :\n",
    "    if n < 0 :\n",
    "        print(\"%d 은 음수입니다.\" % n)\n",
    "    elif n > 0 :\n",
    "        print(\"%d 은 양수입니다.\" % n)\n",
    "    else :\n",
    "        print(\"0이네요\")\n",
    "\n",
    "find_n(-2)"
   ]
  },
  {
   "cell_type": "code",
   "execution_count": 68,
   "id": "5d46ead3",
   "metadata": {},
   "outputs": [
    {
     "name": "stdout",
     "output_type": "stream",
     "text": [
      "홀수입니다.\n"
     ]
    }
   ],
   "source": [
    "#2-2\n",
    "\n",
    "def find_odd_even(n) :\n",
    "    if n % 2 == 0 :\n",
    "        print(\"짝수입니다.\")\n",
    "    else :\n",
    "        print(\"홀수입니다.\")\n",
    "\n",
    "find_odd_even(3)"
   ]
  },
  {
   "cell_type": "code",
   "execution_count": 70,
   "id": "54da4687",
   "metadata": {},
   "outputs": [
    {
     "name": "stdout",
     "output_type": "stream",
     "text": [
      "정수를 입력 => 100\n",
      "3의 배수가 아닙니다.\n"
     ]
    }
   ],
   "source": [
    "#2-3\n",
    "def find_three_times(n) :\n",
    "    if n % 3 == 0 :\n",
    "        print(\"3의 배수입니다.\")\n",
    "    else :\n",
    "        print(\"3의 배수가 아닙니다.\")\n",
    "\n",
    "num = int(input(\"정수를 입력 => \"))\n",
    "find_three_times(num)"
   ]
  },
  {
   "cell_type": "code",
   "execution_count": 85,
   "id": "8349ef46",
   "metadata": {},
   "outputs": [
    {
     "name": "stdout",
     "output_type": "stream",
     "text": [
      "키를 입력하세요180\n",
      "몸무게를 입력하세요77\n",
      "과체중 23.8\n"
     ]
    }
   ],
   "source": [
    "def find_BMI(height, weight) :\n",
    "    height = height / 100\n",
    "    BMI = weight / (height ** 2)\n",
    "    if (BMI < 18.5) :\n",
    "        print(f\"저체중 {BMI:.1f}\")\n",
    "    elif BMI > 18.5 and BMI < 22.8 :\n",
    "        print(f\"정 상 {BM:.1f}\")\n",
    "    elif BMI > 22.9 and BMI < 24.8 :\n",
    "        print(f\"과체중 {BMI:.1f}\")\n",
    "    elif BMI > 24.9 and BMI < 29.8 :\n",
    "        print(f\"과체중 {BMI:.1f}\")\n",
    "    else :\n",
    "        print(f\"고도비만 {BMI:.1f}\")\n",
    "    \n",
    "height = float(input(\"키를 입력하세요 :\"))\n",
    "weight = float(input(\"몸무게를 입력하세요 :\"))\n",
    "\n",
    "find_BMI(height, weight)"
   ]
  },
  {
   "cell_type": "code",
   "execution_count": 95,
   "id": "06e61190",
   "metadata": {},
   "outputs": [
    {
     "name": "stdout",
     "output_type": "stream",
     "text": [
      "5760.0\n"
     ]
    }
   ],
   "source": [
    "# 2.5 1월: 5500 / 2월: 5300 / 3월 : 6700 / 4월: 5500 / 5월 : 5800\n",
    "\n",
    "ls = [5500, 5300, 6700, 5500, 5800]\n",
    "month = len(ls)\n",
    "sum = 0\n",
    "for money in ls :\n",
    "    sum = sum + money\n",
    "avg = sum / month\n",
    "print(avg)"
   ]
  },
  {
   "cell_type": "code",
   "execution_count": null,
   "id": "6c369bc6",
   "metadata": {},
   "outputs": [],
   "source": [
    "# 2.5 1월: 5500 / 2월: 5300 / 3월 : 6700 / 4월: 5500 / 5월 : 5800\n",
    "\n",
    "ls = [5500, 5300, 6700, 5500, 5800]\n",
    "month = len(ls)\n",
    "sum = 0\n",
    "for money in ls :\n",
    "    sum = sum + money\n",
    "avg = sum / month\n",
    "print(avg)"
   ]
  }
 ],
 "metadata": {
  "kernelspec": {
   "display_name": "Python 3 (ipykernel)",
   "language": "python",
   "name": "python3"
  },
  "language_info": {
   "codemirror_mode": {
    "name": "ipython",
    "version": 3
   },
   "file_extension": ".py",
   "mimetype": "text/x-python",
   "name": "python",
   "nbconvert_exporter": "python",
   "pygments_lexer": "ipython3",
   "version": "3.9.7"
  }
 },
 "nbformat": 4,
 "nbformat_minor": 5
}
