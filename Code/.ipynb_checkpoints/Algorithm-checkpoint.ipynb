{
 "cells": [
  {
   "cell_type": "markdown",
   "id": "dead38b4",
   "metadata": {},
   "source": [
    "# 재귀호출(Recursion)\n",
    "\n",
    "- 자기 자신의 함수를 부르는 것\n",
    "- 재귀호출 프로그램이 정상적으로 작동하기 위해선 종료 조건이 필요함.\n",
    "\n",
    "- factorial 함수\n",
    "``` python \n",
    "def fact(n) :\n",
    "    if n <= 1 :\n",
    "        return 1\n",
    "    return n * fact(n - 1)\n",
    "```"
   ]
  },
  {
   "cell_type": "code",
   "execution_count": 8,
   "id": "df1cef59",
   "metadata": {},
   "outputs": [
    {
     "data": {
      "text/plain": [
       "14"
      ]
     },
     "execution_count": 8,
     "metadata": {},
     "output_type": "execute_result"
    }
   ],
   "source": [
    "# 문제 1부터 n까지의 합을 재귀 호출로 구현\n",
    "\n",
    "def hap(n) :\n",
    "    if n == 0 :\n",
    "        return 0\n",
    "    return n + hap(n - 1)\n",
    "# 문제 2 . 숫자 n 개 중에서 최댓값 찾기를 재귀 호출로 구현\n",
    "\n",
    "def max_num(a) :\n",
    "    n = len(a)\n",
    "    max_v = a[0]\n",
    "    for i in range(1, n) :\n",
    "        if a[i] > max_v :\n",
    "            max_v = a[i]\n",
    "    return max_v\n",
    "\n",
    "def max_num_recursive(a, n) :\n",
    "    if n == 1:\n",
    "        return a[0]\n",
    "    max_n_1 = max_num_recursive(a, n - 1) # n - 1 개 중 최댓값을 구함\n",
    "    if max_n_1 > a[n - 1] :\n",
    "        return max_n_1\n",
    "    else :\n",
    "        return a[n - 1]\n",
    "\n",
    "a = [1, 2, 10, 14, 4]\n",
    "max_num_recursive(a, len(a))"
   ]
  },
  {
   "cell_type": "code",
   "execution_count": 1,
   "id": "fbf2541a",
   "metadata": {},
   "outputs": [
    {
     "data": {
      "text/plain": [
       "12"
      ]
     },
     "execution_count": 1,
     "metadata": {},
     "output_type": "execute_result"
    }
   ],
   "source": [
    "# a 와 b 의 최대공약수를 구하는 알고리즘\n",
    "def gcd(a, b) :\n",
    "    if b == 0 :\n",
    "        return a\n",
    "    return gcd(b, a%b)\n",
    "\n",
    "def gcd_not(a, b) :\n",
    "    i = min(a, b)\n",
    "    while True :\n",
    "        if a % i == 0 and b % i == 0:\n",
    "            return i\n",
    "        i = i - 1\n",
    "        \n",
    "gcd_not(60, 24)"
   ]
  },
  {
   "cell_type": "code",
   "execution_count": 4,
   "id": "0e1a2959",
   "metadata": {},
   "outputs": [
    {
     "data": {
      "text/plain": [
       "233"
      ]
     },
     "execution_count": 4,
     "metadata": {},
     "output_type": "execute_result"
    }
   ],
   "source": [
    "# fibonacchi 수열을 구현 알고리즘\n",
    "\n",
    "def fibo(n) :\n",
    "    if n <= 1 :\n",
    "        return n\n",
    "    return fibo(n - 2) + fibo(n - 1)\n",
    "\n",
    "fibo(13)"
   ]
  },
  {
   "cell_type": "code",
   "execution_count": 1,
   "id": "b3864f65",
   "metadata": {},
   "outputs": [
    {
     "name": "stdout",
     "output_type": "stream",
     "text": [
      "1 -> 3\n",
      "1 -> 2\n",
      "3 -> 2\n",
      "1 -> 3\n",
      "2 -> 1\n",
      "2 -> 3\n",
      "1 -> 3\n"
     ]
    }
   ],
   "source": [
    "# 하노의의 탑을 옮기는 알고리즘\n",
    "# 입력 : 원반의 개수 n, 옮길 원반의 현재 출발점 기둥 : from_pos\n",
    "# 원반을 옮길 도착점 기둥 to_pos\n",
    "# 보조기둥 aux_pos\n",
    "# 출력 : 원반을 옮기는 순서..\n",
    "\n",
    "def hanoi(n, from_pos, to_pos, aux_pos) : \n",
    "    if n == 1 :\n",
    "        print(from_pos, \"->\", to_pos)\n",
    "        return\n",
    "    # 원반 n - 1개를 aux_pos로, to_pos를 보조기둥\n",
    "    hanoi(n - 1, from_pos, aux_pos, to_pos)\n",
    "    # 가장 큰 원반을 목적지\n",
    "    print(from_pos , \"->\", to_pos)\n",
    "    # aux_pos 에 있는 원반 n - 1개를 목적지로 이동 (from_pos를 보조기둥)\n",
    "    hanoi(n - 1, aux_pos, to_pos, from_pos)\n",
    "\n",
    "hanoi(3, 1, 3, 2)\n"
   ]
  },
  {
   "cell_type": "markdown",
   "id": "a5add87f",
   "metadata": {},
   "source": [
    "# 탐색과 정렬\n",
    "\n",
    "- 탐색은 여러 개의 자료 중에서 원하는 것을 찾아내는 것\n",
    "- 정렬은 주어진 자료를 순서에 맞추어 나열하는 것\n"
   ]
  },
  {
   "cell_type": "markdown",
   "id": "694dde8c",
   "metadata": {},
   "source": [
    "## 순차 탐색\n",
    " - 리스트 안에 있는 원소를 하나씩 순차적으로 비교하면서 탐색한다."
   ]
  },
  {
   "cell_type": "code",
   "execution_count": 24,
   "id": "671f9b16",
   "metadata": {},
   "outputs": [
    {
     "name": "stdout",
     "output_type": "stream",
     "text": [
      "17\n",
      "92\n",
      "18\n",
      "33\n",
      "18\n",
      "7\n",
      "33\n",
      "42\n"
     ]
    },
    {
     "data": {
      "text/plain": [
       "[]"
      ]
     },
     "execution_count": 24,
     "metadata": {},
     "output_type": "execute_result"
    }
   ],
   "source": [
    "# 리스트에서 특정 숫자의 위치 찾기 \n",
    "# 입력 : 리스트 a, 찾는 값 x\n",
    "# 출력 : 찾으면 그 값의 위치, 찾지 못하면 -1\n",
    "\"\"\" 복잡도는 O(n) \"\"\"\n",
    "\n",
    "def search_list(a, x) :\n",
    "    n = len(a)\n",
    "    for idx in range(1, n) :\n",
    "        if x == a[idx] : # 리스트 a의 모든 값을 차례로 비교하여 같으면 위치를 돌려줍니다다.\n",
    "            return idx\n",
    "    \n",
    "    return -1\n",
    "\n",
    "def search_list_m(a, x) :\n",
    "    n = len(a)\n",
    "    data = []\n",
    "    for idx in range(1, n) :\n",
    "        if x == a[idx] :\n",
    "            data.append(idx)\n",
    "            \n",
    "    if data is not None :\n",
    "        return data\n",
    "    else : return -1\n",
    "\n",
    "def find_person(a, stu_no) :\n",
    "    n = len(a)\n",
    "    for idx in range(1, n) :\n",
    "        pass\n",
    "        \n",
    "\n",
    "v = [17, 92, 18, 33, 18, 7, 33, 42]\n",
    "\n",
    "search_list_m(v, 19)"
   ]
  },
  {
   "cell_type": "markdown",
   "id": "4af92fb1",
   "metadata": {},
   "source": [
    "## 정렬\n",
    "\n",
    "- 문제 : 리스트 안에 있는 자료를 순서대로 배열하기\n",
    "- 입력 : 정렬할 리스트\n",
    "- 출력 : 순서대로 정렬된 리스트\n",
    "\n",
    "### 선택정렬\n",
    "- 간단히 한명씩 뽑아서 추려낸 정렬 프로그램\n",
    "- 복잡도는 O(n^2)"
   ]
  },
  {
   "cell_type": "code",
   "execution_count": 41,
   "id": "ecf9002e",
   "metadata": {},
   "outputs": [
    {
     "name": "stdout",
     "output_type": "stream",
     "text": [
      "[1, 2, 3, 4, 5]\n"
     ]
    }
   ],
   "source": [
    "# 쉽게 설명한 선택정렬\n",
    "\n",
    "def find_min_idx(a) :\n",
    "    n = len(a)\n",
    "    min_idx = 0\n",
    "    for i in range(1, n) :\n",
    "        if a[i] < a[min_idx]:\n",
    "            min_idx = i\n",
    "    return min_idx\n",
    "\n",
    "def sel_sort(a) :\n",
    "    result = []\n",
    "    while a :\n",
    "        min_idx = find_min_idx(a)\n",
    "        value = a.pop(min_idx)\n",
    "        result.append(value)\n",
    "    return result\n",
    "\n",
    "d = [2, 4, 5, 1, 3]\n",
    "print(sel_sort(d))"
   ]
  },
  {
   "cell_type": "code",
   "execution_count": 44,
   "id": "05d8a408",
   "metadata": {},
   "outputs": [
    {
     "name": "stdout",
     "output_type": "stream",
     "text": [
      "[1, 2, 3, 4, 5]\n"
     ]
    }
   ],
   "source": [
    "def selt_sort(a) :\n",
    "    n = len(a)\n",
    "    for i in range(0, n - 1) :\n",
    "        # 1번 위치부터 끝까지 자료 값 중 최소 위치를 찾기\n",
    "        min_idx = i\n",
    "        for j in range(i + 1, n) :\n",
    "            if a[j] < a[min_idx]:\n",
    "                min_idx = j\n",
    "            #찾은 최솟값을 i번 위치로\n",
    "        a[i], a[min_idx] = a[min_idx], a[i]\n",
    "        \n",
    "d = [2, 4, 5, 1, 3]\n",
    "selt_sort(d)\n",
    "print(d)"
   ]
  },
  {
   "cell_type": "markdown",
   "id": "3a7a746a",
   "metadata": {},
   "source": [
    "## 삽입 정렬\n",
    "- 리스트 r의 자료를 앞에서부터 확인하여 값을 앞 또는 뒤에 차례로 추가..\n",
    "- 시간복잡도는 O(n^2)\n"
   ]
  },
  {
   "cell_type": "code",
   "execution_count": 51,
   "id": "1e474475",
   "metadata": {},
   "outputs": [
    {
     "name": "stdout",
     "output_type": "stream",
     "text": [
      "[1, 2, 3, 4, 5]\n"
     ]
    }
   ],
   "source": [
    "# 쉽게 설명한 삽입정렬\n",
    "# input = list a\n",
    "# output = new list sorted\n",
    "\n",
    "# 리스트 r에서 v가 들어가야 할 위치를 돌려주는 함수\n",
    "def find_ins_idx(r, v) :\n",
    "    for i in range(0, len(r)) :\n",
    "        # v 값 보다 1번 위치에 있는 자료 값이 크면\n",
    "        if v < r[i] : \n",
    "            return i\n",
    "    return len(r)\n",
    "\n",
    "def ins_sort(a) :\n",
    "    result = []\n",
    "    while a :\n",
    "        value = a.pop(0)\n",
    "        ins_idx = find_ins_idx(result, value)\n",
    "        result.insert(ins_idx, value)\n",
    "    return result\n",
    "\n",
    "d = [2, 4, 5, 1, 3]\n",
    "\n",
    "print(ins_sort(d))"
   ]
  },
  {
   "cell_type": "code",
   "execution_count": 55,
   "id": "bc028d6a",
   "metadata": {},
   "outputs": [
    {
     "name": "stdout",
     "output_type": "stream",
     "text": [
      "[1, 2, 3, 4, 5]\n"
     ]
    }
   ],
   "source": [
    "#일반적인 삽입정렬\n",
    "\n",
    "def ins_sort_g(a) :\n",
    "    n = len(a)\n",
    "    for i in range(1, n) :\n",
    "        key = a[i]\n",
    "        # j 를 i 바로 왼쪽 위치로 저장\n",
    "        j = i - 1\n",
    "        \n",
    "        while j >= 0 and a[j] > key :\n",
    "            a[j + 1] = a[j] # 삽입할 공간이 생기도록 값을 오른쪽으로 한칸 이동\n",
    "            j -= 1\n",
    "        a[j + 1] = key #찾은 삽입 위치에 key를 저장\n",
    "        \n",
    "d = [2, 4, 5, 1, 3]\n",
    "ins_sort_g(d)\n",
    "print(d)"
   ]
  },
  {
   "cell_type": "code",
   "execution_count": null,
   "id": "c98a97ee",
   "metadata": {},
   "outputs": [],
   "source": []
  }
 ],
 "metadata": {
  "kernelspec": {
   "display_name": "Python 3 (ipykernel)",
   "language": "python",
   "name": "python3"
  },
  "language_info": {
   "codemirror_mode": {
    "name": "ipython",
    "version": 3
   },
   "file_extension": ".py",
   "mimetype": "text/x-python",
   "name": "python",
   "nbconvert_exporter": "python",
   "pygments_lexer": "ipython3",
   "version": "3.9.7"
  }
 },
 "nbformat": 4,
 "nbformat_minor": 5
}
