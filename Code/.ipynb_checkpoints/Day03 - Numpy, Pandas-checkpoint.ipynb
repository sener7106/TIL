{
 "cells": [
  {
   "cell_type": "markdown",
   "id": "807a04f3",
   "metadata": {},
   "source": [
    "## 1. 파이썬 기초 문법\n",
    " - 데이터 타입\n",
    "     - 정수형(int)\n",
    "     - 실수형(float)\n",
    "     - 문자형(char)\n",
    " - 복합자료형(iterable)\n",
    "\n",
    "     - 리스트 => 순서, 수정 가능\n",
    "     - 튜플 => 순서, 수정 불가능\n",
    "     - 셋 => 중복을 허용하지 않음\n",
    "     - 딕셔너리 => {KEY : VALUE}\n",
    "     \n",
    "## 2. Statement & Function\n",
    " - 조건문\n",
    "     if elif else\n",
    "     ? :\n",
    " - 반복문\n",
    "     for in\n",
    " - 함수\n",
    "     def\n",
    "     익명함수 lambda .. 변수 : 조건 : 리턴값\n",
    "     \n",
    "#### 삼항연산\n",
    " - var <B>val1</B> if condition else <B>val2</B> "
   ]
  },
  {
   "cell_type": "markdown",
   "id": "b14a7a32",
   "metadata": {},
   "source": [
    "# 라이브러리와 모듈, 패키지\n",
    "\n",
    "## 모듈\n",
    " - 특정 기능들이 구현되어 있는 파이썬 파일(.py)\n",
    " - 필요한 파일을 import\n",
    " - 파이썬 코드를 논리적으로 묶어서 관리하고 사용할 수 있도록 한 것\n",
    " - EX) math.factorial(5) / from math import factorial\n",
    "\n",
    "## 패키지, 라이브러리\n",
    " - 특정 기능과 관련된 여러 모듈을 하나의 폴더에 넣은 것.\n",
    " - 파이썬에 기본적으로 설치되는 라이브러리 - stdlib\n",
    " - 사용자가 별도의 프로그램을 작성 안함.\n",
    " \n",
    " - 라이브러리는 특정 기능을 지원하는 모듈 및 함수를 모아놓은 집함\n",
    " - 기능에 따라 여러가지 라이브러리가 존재함.\n",
    "    \n",
    "### 데이터 사이언스 분야의 패키지..\n",
    " - pandas, numpy, matplotlib, scipy, seaborn, statsmodels, scikit-learn, tensorflow\n",
    " \n",
    "### 패키지 활용\n",
    " - pip(python install package) : 각종 패키지들을 설치 및 제거, 업데이트 하는 명령어, 주피터 싫랭시 !입력후 실행\n",
    " - !pip list\n",
    " - !pip upgrade"
   ]
  },
  {
   "cell_type": "markdown",
   "id": "0a6bbae6",
   "metadata": {},
   "source": [
    "# Numpy\n",
    "\n",
    " - Numeric + Python 의 약자, 수학 및 과학 연산 라이브러리\n",
    " - 배열이나 행렬 계산 함수 제공\n",
    " - 수열데이터 사용시 용이, 이후에 Pandas에서 DataFrame 형태로 사용함\n",
    " - 다차원 배열을 다룰 때 주로 사용.(인공 신경망, 비정형 데이터 처리, 자연어 처리 등)\n",
    " - 판다스는 데이터프레임 내의 데이터를 행렬로 처리"
   ]
  },
  {
   "cell_type": "code",
   "execution_count": 20,
   "id": "810dd7b7",
   "metadata": {},
   "outputs": [],
   "source": [
    "import numpy as np\n",
    "\n",
    "data = [6, 5, 3, 6, 3, 2, 1]"
   ]
  },
  {
   "cell_type": "code",
   "execution_count": 28,
   "id": "440e0974",
   "metadata": {},
   "outputs": [
    {
     "data": {
      "text/plain": [
       "dtype('int32')"
      ]
     },
     "execution_count": 28,
     "metadata": {},
     "output_type": "execute_result"
    }
   ],
   "source": [
    "# Numpy Data type (dtype)\n",
    "arr = np.array(data)\n",
    "arr.mean()\n",
    "arr.dtype"
   ]
  },
  {
   "cell_type": "code",
   "execution_count": 29,
   "id": "0c752311",
   "metadata": {},
   "outputs": [],
   "source": [
    "arr3 = np.array(['A', 'B', 'C'])\n",
    "arr4 = np.array(['하이', '소리']) # dtype('<U2')"
   ]
  },
  {
   "cell_type": "code",
   "execution_count": 35,
   "id": "b447e41b",
   "metadata": {},
   "outputs": [
    {
     "name": "stdout",
     "output_type": "stream",
     "text": [
      "<class 'numpy.ndarray'>\n"
     ]
    },
    {
     "data": {
      "text/plain": [
       "array([[1, 2, 3],\n",
       "       [4, 5, 6],\n",
       "       [7, 8, 9]])"
      ]
     },
     "execution_count": 35,
     "metadata": {},
     "output_type": "execute_result"
    }
   ],
   "source": [
    "# 2차원 행렬 생성(이중 리스트 사용)\n",
    "\n",
    "data = [\n",
    "    [1, 2, 3],\n",
    "    [4, 5, 6],\n",
    "    [7, 8, 9]\n",
    "]\n",
    "\n",
    "matrix = np.array(data)\n",
    "print(type(matrix))\n",
    "matrix"
   ]
  },
  {
   "cell_type": "code",
   "execution_count": 46,
   "id": "99854fd0",
   "metadata": {},
   "outputs": [
    {
     "name": "stdout",
     "output_type": "stream",
     "text": [
      "[[ 4  6]\n",
      " [ 7  9]\n",
      " [26 38]]\n",
      "[[-2 -2]\n",
      " [-3 -3]\n",
      " [12 22]]\n",
      "[[  1   4]\n",
      " [  4   9]\n",
      " [361 900]]\n"
     ]
    }
   ],
   "source": [
    "# Matrix 사칙연산\n",
    "mat1 = np.array([[1,2], [2,3], [19, 30]])\n",
    "mat2 = np.array([[3,4], [5,6], [7,8]])\n",
    "m = np.array([1,2,3])\n",
    "print(mat1 + mat2)\n",
    "print(mat1 - mat2)\n",
    "print(mat1 ** 2)"
   ]
  },
  {
   "cell_type": "code",
   "execution_count": 49,
   "id": "40ddb691",
   "metadata": {},
   "outputs": [
    {
     "data": {
      "text/plain": [
       "(3, 2)"
      ]
     },
     "execution_count": 49,
     "metadata": {},
     "output_type": "execute_result"
    }
   ],
   "source": [
    "# 배열의 형태 shape\n",
    "mat1.shape"
   ]
  },
  {
   "cell_type": "code",
   "execution_count": 57,
   "id": "701886c7",
   "metadata": {},
   "outputs": [
    {
     "name": "stdout",
     "output_type": "stream",
     "text": [
      "(2, 2) [[1 2]\n",
      " [3 4]]\n"
     ]
    }
   ],
   "source": [
    "arr3 = np.array([\n",
    "    [1, 2],\n",
    "    [3, 4]\n",
    "])\n",
    "\n",
    "print(arr3.shape, arr3, end= '\\n')"
   ]
  },
  {
   "cell_type": "code",
   "execution_count": 66,
   "id": "41936825",
   "metadata": {},
   "outputs": [],
   "source": [
    "arr4 = np.arange(10)\n",
    "arr5 = np.arange(1,6)\n",
    "arr6 = np.arange(1, 10, 2)"
   ]
  },
  {
   "cell_type": "code",
   "execution_count": 70,
   "id": "c6bb86f5",
   "metadata": {},
   "outputs": [
    {
     "data": {
      "text/plain": [
       "array([[-0.11314541, -0.93297674, -1.87456653, -0.06720974, -2.50382849],\n",
       "       [-1.4833217 , -0.87830002, -0.91692206,  1.7641309 ,  0.83965477],\n",
       "       [-0.19862303,  0.47417123,  0.740451  ,  1.24003272, -0.74268795],\n",
       "       [-1.00563314, -0.25061223, -1.91733524,  0.54766078,  0.53392028],\n",
       "       [-0.13829927, -1.24744466,  1.16007154,  0.0510459 ,  1.45679895],\n",
       "       [-1.83077911, -0.51460872,  0.6476422 ,  0.07836756, -3.38511321],\n",
       "       [-0.19987344,  0.36702194,  0.71600336,  1.15838037,  0.18320329],\n",
       "       [ 1.24992511, -0.95062045,  1.17929978,  0.24525108, -0.33151916],\n",
       "       [-0.7172986 ,  2.15948054,  0.22489322, -1.16868054, -0.13954008],\n",
       "       [ 0.54645146,  0.78102741,  0.0734096 ,  0.04696563, -0.30908503]])"
      ]
     },
     "execution_count": 70,
     "metadata": {},
     "output_type": "execute_result"
    }
   ],
   "source": [
    "arr7 = np.random.randn(10, 5)\n",
    "arr7\n",
    "\n",
    "# 평균 0, 표준편차 1의 정규분포 형태를 가진 값을 랜덤으로 산출하는 함수"
   ]
  },
  {
   "cell_type": "code",
   "execution_count": 77,
   "id": "337b38df",
   "metadata": {},
   "outputs": [
    {
     "name": "stdout",
     "output_type": "stream",
     "text": [
      "int32\n",
      "float64\n"
     ]
    },
    {
     "name": "stderr",
     "output_type": "stream",
     "text": [
      "C:\\Users\\user\\AppData\\Local\\Temp/ipykernel_8576/902003095.py:4: DeprecationWarning: `np.float` is a deprecated alias for the builtin `float`. To silence this warning, use `float` by itself. Doing this will not modify any behavior and is safe. If you specifically wanted the numpy scalar type, use `np.float64` here.\n",
      "Deprecated in NumPy 1.20; for more details and guidance: https://numpy.org/devdocs/release/1.20.0-notes.html#deprecations\n",
      "  arr_2 = arr_1.astype(np.float)\n"
     ]
    }
   ],
   "source": [
    "arr_1 = np.array([1,2,3,4,5])\n",
    "print(arr_1.dtype)\n",
    "\n",
    "arr_2 = arr_1.astype(float)\n",
    "print(arr_2.dtype)"
   ]
  },
  {
   "cell_type": "code",
   "execution_count": 80,
   "id": "9049bea8",
   "metadata": {},
   "outputs": [
    {
     "data": {
      "text/plain": [
       "array([ 1,  2,  3,  4,  5,  6,  7,  8,  9, 10])"
      ]
     },
     "execution_count": 80,
     "metadata": {},
     "output_type": "execute_result"
    }
   ],
   "source": [
    "arr = np.arange(1, 11)\n",
    "arr"
   ]
  },
  {
   "cell_type": "code",
   "execution_count": 83,
   "id": "8ca093e8",
   "metadata": {},
   "outputs": [
    {
     "data": {
      "text/plain": [
       "array([ 1,  2,  3,  4,  5,  6,  7,  8,  9, 10])"
      ]
     },
     "execution_count": 83,
     "metadata": {},
     "output_type": "execute_result"
    }
   ],
   "source": [
    "arr[:]"
   ]
  },
  {
   "cell_type": "code",
   "execution_count": 84,
   "id": "34017aee",
   "metadata": {},
   "outputs": [
    {
     "data": {
      "text/plain": [
       "(3, 3)"
      ]
     },
     "execution_count": 84,
     "metadata": {},
     "output_type": "execute_result"
    }
   ],
   "source": [
    "arr= np.array([[1,2,5], [6,7,8], [9, 10, 15]])\n",
    "arr.shape"
   ]
  },
  {
   "cell_type": "code",
   "execution_count": 86,
   "id": "7708793d",
   "metadata": {},
   "outputs": [
    {
     "data": {
      "text/plain": [
       "array([[ 1,  2,  5],\n",
       "       [ 6,  7,  8],\n",
       "       [ 9, 10, 15]])"
      ]
     },
     "execution_count": 86,
     "metadata": {},
     "output_type": "execute_result"
    }
   ],
   "source": [
    "arr"
   ]
  },
  {
   "cell_type": "code",
   "execution_count": 87,
   "id": "a61ad850",
   "metadata": {},
   "outputs": [
    {
     "data": {
      "text/plain": [
       "1"
      ]
     },
     "execution_count": 87,
     "metadata": {},
     "output_type": "execute_result"
    }
   ],
   "source": [
    "arr[0,0]"
   ]
  },
  {
   "cell_type": "code",
   "execution_count": 92,
   "id": "8b904d4d",
   "metadata": {},
   "outputs": [
    {
     "data": {
      "text/plain": [
       "array([1, 2, 5])"
      ]
     },
     "execution_count": 92,
     "metadata": {},
     "output_type": "execute_result"
    }
   ],
   "source": [
    "# [1, 2, 5]\n",
    "arr[0, :]"
   ]
  },
  {
   "cell_type": "code",
   "execution_count": 96,
   "id": "6725d088",
   "metadata": {},
   "outputs": [
    {
     "data": {
      "text/plain": [
       "array([[1, 2, 5],\n",
       "       [6, 7, 8]])"
      ]
     },
     "execution_count": 96,
     "metadata": {},
     "output_type": "execute_result"
    }
   ],
   "source": [
    "# [1,6, 9]\n",
    "arr2 = arr[: , 0]\n",
    "arr[0:2, :]"
   ]
  },
  {
   "cell_type": "code",
   "execution_count": 101,
   "id": "aabaa3b7",
   "metadata": {},
   "outputs": [
    {
     "data": {
      "text/plain": [
       "array([[ 3,  4,  5],\n",
       "       [ 6,  7,  8],\n",
       "       [ 9, 10, 15]])"
      ]
     },
     "execution_count": 101,
     "metadata": {},
     "output_type": "execute_result"
    }
   ],
   "source": [
    "# [3, 4, 5]\n",
    "# arr[:][0] vs arr[:, 0]\n",
    "arr[:][0] = [3, 4, 5]\n",
    "arr"
   ]
  },
  {
   "cell_type": "code",
   "execution_count": 104,
   "id": "733c674d",
   "metadata": {},
   "outputs": [
    {
     "data": {
      "text/plain": [
       "array([[ 1,  2],\n",
       "       [ 3,  4],\n",
       "       [ 5,  6],\n",
       "       [ 7,  8],\n",
       "       [ 9, 10]])"
      ]
     },
     "execution_count": 104,
     "metadata": {},
     "output_type": "execute_result"
    }
   ],
   "source": [
    "arr = np.arange(1, 11).reshape(5, 2)\n",
    "arr"
   ]
  },
  {
   "cell_type": "code",
   "execution_count": 119,
   "id": "c6db6da1",
   "metadata": {},
   "outputs": [
    {
     "data": {
      "text/plain": [
       "array([[1, 1],\n",
       "       [1, 1]])"
      ]
     },
     "execution_count": 119,
     "metadata": {},
     "output_type": "execute_result"
    }
   ],
   "source": [
    "#영행렬 생성\n",
    "arr_z = np.zeros((2,2)).astype(int)\n",
    "arr_z\n",
    "\n",
    "#항등행렬 생성\n",
    "arr_l = np.ones((2,2)).astype(int)\n",
    "arr_l"
   ]
  },
  {
   "cell_type": "code",
   "execution_count": 121,
   "id": "624954bb",
   "metadata": {},
   "outputs": [
    {
     "data": {
      "text/plain": [
       "55"
      ]
     },
     "execution_count": 121,
     "metadata": {},
     "output_type": "execute_result"
    }
   ],
   "source": [
    "# array operation\n",
    "arr1 = np.arange(1, 11).reshape(5, 2) # 사이즈 공유 필요\n",
    "arr1.sum()"
   ]
  },
  {
   "cell_type": "code",
   "execution_count": 124,
   "id": "d54ff4e9",
   "metadata": {},
   "outputs": [
    {
     "data": {
      "text/plain": [
       "array([ 3,  7, 11, 15, 19])"
      ]
     },
     "execution_count": 124,
     "metadata": {},
     "output_type": "execute_result"
    }
   ],
   "source": [
    "# axis = 1 인 경우 행 순으로 계산.. 0 인 경우  열을 계산\n",
    "arr.sum(axis=1)"
   ]
  },
  {
   "cell_type": "code",
   "execution_count": 123,
   "id": "15143838",
   "metadata": {},
   "outputs": [
    {
     "data": {
      "text/plain": [
       "array([25, 30])"
      ]
     },
     "execution_count": 123,
     "metadata": {},
     "output_type": "execute_result"
    }
   ],
   "source": [
    "arr1.sum(axis = 0)"
   ]
  },
  {
   "cell_type": "code",
   "execution_count": 126,
   "id": "cfe79217",
   "metadata": {},
   "outputs": [
    {
     "data": {
      "text/plain": [
       "array([5., 6.])"
      ]
     },
     "execution_count": 126,
     "metadata": {},
     "output_type": "execute_result"
    }
   ],
   "source": [
    "arr1.mean(axis = 0)"
   ]
  },
  {
   "cell_type": "markdown",
   "id": "1e85e7a3",
   "metadata": {},
   "source": [
    "# Pandas\n",
    "- 데이터 과학에 사용되는 라이브럴리로 데이터 불러오기, 전처리, 통계분석에 사용됨\n",
    "- Numpy 기반으로 작성된 라이브러리\n",
    "- Series 형태와 DataFrame 형태가 존재함\n",
    "- 넘파이 기반이기 때문에 넘파이 전용 함수 사용 가능.\n",
    "\n",
    "[python_web] https://pandas.pydata.org/Pandas_Cheat_Sheet.pdf\n",
    "\n",
    "- import pandas as pd\n",
    "\n",
    "## What is Series Data?\n",
    "- a1 = pd.Series([1,2,3,4,5,6,7])\n",
    "\n"
   ]
  },
  {
   "cell_type": "code",
   "execution_count": 128,
   "id": "8ec06c91",
   "metadata": {},
   "outputs": [],
   "source": [
    "import pandas as pd"
   ]
  },
  {
   "cell_type": "code",
   "execution_count": 129,
   "id": "7f7c690f",
   "metadata": {},
   "outputs": [],
   "source": [
    "a1 = pd.Series([1,2,3,4,5,6,7,11])"
   ]
  },
  {
   "cell_type": "code",
   "execution_count": 132,
   "id": "c606278e",
   "metadata": {},
   "outputs": [
    {
     "data": {
      "text/plain": [
       "4.875"
      ]
     },
     "execution_count": 132,
     "metadata": {},
     "output_type": "execute_result"
    }
   ],
   "source": [
    "a1.sum()\n",
    "a1.mean()"
   ]
  },
  {
   "cell_type": "code",
   "execution_count": 140,
   "id": "18c38023",
   "metadata": {},
   "outputs": [],
   "source": [
    "s2 = pd.Series(['Kim', 'JIN', \"Max\"], name = '출석부', index = ['하나', '둘', '셋'])"
   ]
  },
  {
   "cell_type": "code",
   "execution_count": 152,
   "id": "22db23f5",
   "metadata": {},
   "outputs": [],
   "source": [
    "# Series to Dict\n",
    "# 각 데이터가 매핑된 형태..\n",
    "\n",
    "mydict = {\n",
    "         'name' : 'Kim',\n",
    "         'age' : 20,\n",
    "         'gender' : 'male',\n",
    "         'job' : 'Strudent'\n",
    "         }\n",
    "\n",
    "person = pd.Series(mydict, name = '출석부')\n"
   ]
  },
  {
   "cell_type": "code",
   "execution_count": null,
   "id": "9d823b44",
   "metadata": {},
   "outputs": [],
   "source": []
  }
 ],
 "metadata": {
  "kernelspec": {
   "display_name": "Python 3 (ipykernel)",
   "language": "python",
   "name": "python3"
  },
  "language_info": {
   "codemirror_mode": {
    "name": "ipython",
    "version": 3
   },
   "file_extension": ".py",
   "mimetype": "text/x-python",
   "name": "python",
   "nbconvert_exporter": "python",
   "pygments_lexer": "ipython3",
   "version": "3.9.7"
  }
 },
 "nbformat": 4,
 "nbformat_minor": 5
}
