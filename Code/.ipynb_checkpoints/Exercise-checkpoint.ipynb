{
 "cells": [
  {
   "cell_type": "markdown",
   "id": "d665eb76",
   "metadata": {},
   "source": [
    "# Example 1-1\n",
    "\n",
    " - 어떤 회원이 생년월일 입력란에 890724를 입력하셨을때 해당 문자을 연/월/일로 각각 나누어 출력하기"
   ]
  },
  {
   "cell_type": "code",
   "execution_count": 33,
   "id": "64874b4a",
   "metadata": {},
   "outputs": [
    {
     "name": "stdout",
     "output_type": "stream",
     "text": [
      "89/07/24\n",
      "2019-06-03\n",
      "daily essentials refreshing toner reviews\n",
      "01012345678\n"
     ]
    }
   ],
   "source": [
    "phoneNumber = '010-1234-5678'\n",
    "phoneNumber.replace(\"-\", \"\")\n",
    "\n",
    "sales = \"DAILY ESSENTIALS REFRESHING TONER REVIEWS\"\n",
    "sales.lower()\n",
    "\n",
    "days = '20190603'\n",
    "birthday = '890724'\n",
    "\n",
    "print(birthday[0:2] + '/' + birthday[2:4] + '/' + birthday[4:6])\n",
    "print(days[0:4] + '-' + days[4:6] + '-' + days[6:8])\n",
    "print(sales.lower())\n",
    "print(phoneNumber.replace(\"-\", \"\"))"
   ]
  },
  {
   "cell_type": "markdown",
   "id": "c20b89a9",
   "metadata": {},
   "source": [
    "#Example 1-5 ~ 1-9"
   ]
  },
  {
   "cell_type": "code",
   "execution_count": null,
   "id": "38b90fdd",
   "metadata": {},
   "outputs": [],
   "source": []
  },
  {
   "cell_type": "code",
   "execution_count": 2,
   "id": "c9c502a4",
   "metadata": {},
   "outputs": [
    {
     "name": "stdout",
     "output_type": "stream",
     "text": [
      "[1, 3, 4, 5, 7, 8, 13]\n"
     ]
    }
   ],
   "source": [
    "#1.6\n",
    "\n",
    "ls = [1,1,1,1,3,3,3,4,5,5,4,5,7,8,13]\n",
    "print(list(set(ls)))"
   ]
  },
  {
   "cell_type": "code",
   "execution_count": 7,
   "id": "b863607b",
   "metadata": {},
   "outputs": [
    {
     "name": "stdout",
     "output_type": "stream",
     "text": [
      "radius ? : 2.4\n",
      "Area is.. : 18.09\n"
     ]
    }
   ],
   "source": [
    "#1.7\n",
    "PI = 3.14\n",
    "r = float(input(\"radius ? : \"))\n",
    "area = PI * (r ** 2)\n",
    "print(\"Area is.. : %.2f\" % area)"
   ]
  },
  {
   "cell_type": "code",
   "execution_count": 8,
   "id": "eac90b6d",
   "metadata": {},
   "outputs": [
    {
     "name": "stdout",
     "output_type": "stream",
     "text": [
      "What's value of x : 4\n",
      "112 33 5.0\n"
     ]
    }
   ],
   "source": [
    "#1.8 \n",
    "x = int(input(\"What's value of x : \"))\n",
    "\n",
    "y1 = (x ** 2) - x + 100\n",
    "y2 = (2 * x)  + 25\n",
    "y3 = ((x ** 2) + x) / (x)\n",
    "\n",
    "print(y1, y2, y3)"
   ]
  },
  {
   "cell_type": "code",
   "execution_count": 12,
   "id": "625b798b",
   "metadata": {},
   "outputs": [
    {
     "ename": "SyntaxError",
     "evalue": "invalid syntax (Temp/ipykernel_12700/4158456886.py, line 3)",
     "output_type": "error",
     "traceback": [
      "\u001b[1;36m  File \u001b[1;32m\"C:\\Users\\user\\AppData\\Local\\Temp/ipykernel_12700/4158456886.py\"\u001b[1;36m, line \u001b[1;32m3\u001b[0m\n\u001b[1;33m    dict1= ['96: '자',\u001b[0m\n\u001b[1;37m                  ^\u001b[0m\n\u001b[1;31mSyntaxError\u001b[0m\u001b[1;31m:\u001b[0m invalid syntax\n"
     ]
    }
   ],
   "source": [
    "#1.9\n",
    "\n",
    "dict1= {'96: '자',\n",
    "        '97' :'축',\n",
    "        '98 :'인',\n",
    "        '99 :'묘',\n",
    "        '00:'진',\n",
    "          '01': '사',\n",
    "          '02' :'오',\n",
    "          '03' :'미',\n",
    "          '04' :'신',\n",
    "          '05' :'유'\n",
    "          '06' :'술',\n",
    "          '07' :'해',\n",
    "       }\n"
   ]
  }
 ],
 "metadata": {
  "kernelspec": {
   "display_name": "Python 3 (ipykernel)",
   "language": "python",
   "name": "python3"
  },
  "language_info": {
   "codemirror_mode": {
    "name": "ipython",
    "version": 3
   },
   "file_extension": ".py",
   "mimetype": "text/x-python",
   "name": "python",
   "nbconvert_exporter": "python",
   "pygments_lexer": "ipython3",
   "version": "3.9.7"
  }
 },
 "nbformat": 4,
 "nbformat_minor": 5
}
