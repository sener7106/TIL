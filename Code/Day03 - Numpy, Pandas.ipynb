{
 "cells": [
  {
   "cell_type": "markdown",
   "id": "714ca68a",
   "metadata": {},
   "source": [
    "## 1. 파이썬 기초 문법\n",
    " - 데이터 타입\n",
    "     - 정수형(int)\n",
    "     - 실수형(float)\n",
    "     - 문자형(char)\n",
    " - 복합자료형(iterable)\n",
    "\n",
    "     - 리스트 => 순서, 수정 가능\n",
    "     - 튜플 => 순서, 수정 불가능\n",
    "     - 셋 => 중복을 허용하지 않음\n",
    "     - 딕셔너리 => {KEY : VALUE}\n",
    "     \n",
    "## 2. Statement & Function\n",
    " - 조건문\n",
    "     if elif else\n",
    "     ? :\n",
    " - 반복문\n",
    "     for in\n",
    " - 함수\n",
    "     def\n",
    "     익명함수 lambda .. 변수 : 조건 : 리턴값\n",
    "     \n",
    "#### 삼항연산\n",
    " - var <B>val1</B> if condition else <B>val2</B> "
   ]
  },
  {
   "cell_type": "markdown",
   "id": "cf37f559",
   "metadata": {},
   "source": [
    "# 라이브러리와 모듈, 패키지\n",
    "\n",
    "## 모듈\n",
    " - 특정 기능들이 구현되어 있는 파이썬 파일(.py)\n",
    " - 필요한 파일을 import\n",
    " - 파이썬 코드를 논리적으로 묶어서 관리하고 사용할 수 있도록 한 것\n",
    " - EX) math.factorial(5) / from math import factorial\n",
    "\n",
    "## 패키지, 라이브러리\n",
    " - 특정 기능과 관련된 여러 모듈을 하나의 폴더에 넣은 것.\n",
    " - 파이썬에 기본적으로 설치되는 라이브러리 - stdlib\n",
    " - 사용자가 별도의 프로그램을 작성 안함.\n",
    " \n",
    " - 라이브러리는 특정 기능을 지원하는 모듈 및 함수를 모아놓은 집함\n",
    " - 기능에 따라 여러가지 라이브러리가 존재함.\n",
    "    \n",
    "### 데이터 사이언스 분야의 패키지..\n",
    " - pandas, numpy, matplotlib, scipy, seaborn, statsmodels, scikit-learn, tensorflow\n",
    " \n",
    "### 패키지 활용\n",
    " - pip(python install package) : 각종 패키지들을 설치 및 제거, 업데이트 하는 명령어, 주피터 싫랭시 !입력후 실행\n",
    " - !pip list\n",
    " - !pip upgrade"
   ]
  },
  {
   "cell_type": "markdown",
   "id": "05274e41",
   "metadata": {},
   "source": [
    "# Numpy\n",
    "\n",
    " - Numeric + Python 의 약자, 수학 및 과학 연산 라이브러리\n",
    " - 배열이나 행렬 계산 함수 제공\n",
    " - 수열데이터 사용시 용이, 이후에 Pandas에서 DataFrame 형태로 사용함\n",
    " - 다차원 배열을 다룰 때 주로 사용.(인공 신경망, 비정형 데이터 처리, 자연어 처리 등)\n",
    " - 판다스는 데이터프레임 내의 데이터를 행렬로 처리"
   ]
  },
  {
   "cell_type": "code",
   "execution_count": 20,
   "id": "a66d08df",
   "metadata": {},
   "outputs": [],
   "source": [
    "import numpy as np\n",
    "\n",
    "data = [6, 5, 3, 6, 3, 2, 1]"
   ]
  },
  {
   "cell_type": "code",
   "execution_count": 28,
   "id": "f968e8e3",
   "metadata": {},
   "outputs": [
    {
     "data": {
      "text/plain": [
       "dtype('int32')"
      ]
     },
     "execution_count": 28,
     "metadata": {},
     "output_type": "execute_result"
    }
   ],
   "source": [
    "# Numpy Data type (dtype)\n",
    "arr = np.array(data)\n",
    "arr.mean()\n",
    "arr.dtype"
   ]
  },
  {
   "cell_type": "code",
   "execution_count": 29,
   "id": "c6996073",
   "metadata": {},
   "outputs": [],
   "source": [
    "arr3 = np.array(['A', 'B', 'C'])\n",
    "arr4 = np.array(['하이', '소리']) # dtype('<U2')"
   ]
  },
  {
   "cell_type": "code",
   "execution_count": 35,
   "id": "18aa6f2b",
   "metadata": {},
   "outputs": [
    {
     "name": "stdout",
     "output_type": "stream",
     "text": [
      "<class 'numpy.ndarray'>\n"
     ]
    },
    {
     "data": {
      "text/plain": [
       "array([[1, 2, 3],\n",
       "       [4, 5, 6],\n",
       "       [7, 8, 9]])"
      ]
     },
     "execution_count": 35,
     "metadata": {},
     "output_type": "execute_result"
    }
   ],
   "source": [
    "# 2차원 행렬 생성(이중 리스트 사용)\n",
    "\n",
    "data = [\n",
    "    [1, 2, 3],\n",
    "    [4, 5, 6],\n",
    "    [7, 8, 9]\n",
    "]\n",
    "\n",
    "matrix = np.array(data)\n",
    "print(type(matrix))\n",
    "matrix"
   ]
  },
  {
   "cell_type": "code",
   "execution_count": 46,
   "id": "ebce85cd",
   "metadata": {},
   "outputs": [
    {
     "name": "stdout",
     "output_type": "stream",
     "text": [
      "[[ 4  6]\n",
      " [ 7  9]\n",
      " [26 38]]\n",
      "[[-2 -2]\n",
      " [-3 -3]\n",
      " [12 22]]\n",
      "[[  1   4]\n",
      " [  4   9]\n",
      " [361 900]]\n"
     ]
    }
   ],
   "source": [
    "# Matrix 사칙연산\n",
    "mat1 = np.array([[1,2], [2,3], [19, 30]])\n",
    "mat2 = np.array([[3,4], [5,6], [7,8]])\n",
    "m = np.array([1,2,3])\n",
    "print(mat1 + mat2)\n",
    "print(mat1 - mat2)\n",
    "print(mat1 ** 2)"
   ]
  },
  {
   "cell_type": "code",
   "execution_count": 49,
   "id": "8b771d03",
   "metadata": {},
   "outputs": [
    {
     "data": {
      "text/plain": [
       "(3, 2)"
      ]
     },
     "execution_count": 49,
     "metadata": {},
     "output_type": "execute_result"
    }
   ],
   "source": [
    "# 배열의 형태 shape\n",
    "mat1.shape"
   ]
  },
  {
   "cell_type": "code",
   "execution_count": 57,
   "id": "5a377bad",
   "metadata": {},
   "outputs": [
    {
     "name": "stdout",
     "output_type": "stream",
     "text": [
      "(2, 2) [[1 2]\n",
      " [3 4]]\n"
     ]
    }
   ],
   "source": [
    "arr3 = np.array([\n",
    "    [1, 2],\n",
    "    [3, 4]\n",
    "])\n",
    "\n",
    "print(arr3.shape, arr3, end= '\\n')"
   ]
  },
  {
   "cell_type": "code",
   "execution_count": 66,
   "id": "ec72b970",
   "metadata": {},
   "outputs": [],
   "source": [
    "arr4 = np.arange(10)\n",
    "arr5 = np.arange(1,6)\n",
    "arr6 = np.arange(1, 10, 2)"
   ]
  },
  {
   "cell_type": "code",
   "execution_count": 70,
   "id": "3d215970",
   "metadata": {},
   "outputs": [
    {
     "data": {
      "text/plain": [
       "array([[-0.11314541, -0.93297674, -1.87456653, -0.06720974, -2.50382849],\n",
       "       [-1.4833217 , -0.87830002, -0.91692206,  1.7641309 ,  0.83965477],\n",
       "       [-0.19862303,  0.47417123,  0.740451  ,  1.24003272, -0.74268795],\n",
       "       [-1.00563314, -0.25061223, -1.91733524,  0.54766078,  0.53392028],\n",
       "       [-0.13829927, -1.24744466,  1.16007154,  0.0510459 ,  1.45679895],\n",
       "       [-1.83077911, -0.51460872,  0.6476422 ,  0.07836756, -3.38511321],\n",
       "       [-0.19987344,  0.36702194,  0.71600336,  1.15838037,  0.18320329],\n",
       "       [ 1.24992511, -0.95062045,  1.17929978,  0.24525108, -0.33151916],\n",
       "       [-0.7172986 ,  2.15948054,  0.22489322, -1.16868054, -0.13954008],\n",
       "       [ 0.54645146,  0.78102741,  0.0734096 ,  0.04696563, -0.30908503]])"
      ]
     },
     "execution_count": 70,
     "metadata": {},
     "output_type": "execute_result"
    }
   ],
   "source": [
    "arr7 = np.random.randn(10, 5)\n",
    "arr7\n",
    "\n",
    "# 평균 0, 표준편차 1의 정규분포 형태를 가진 값을 랜덤으로 산출하는 함수"
   ]
  },
  {
   "cell_type": "code",
   "execution_count": 77,
   "id": "4b1ccd45",
   "metadata": {},
   "outputs": [
    {
     "name": "stdout",
     "output_type": "stream",
     "text": [
      "int32\n",
      "float64\n"
     ]
    },
    {
     "name": "stderr",
     "output_type": "stream",
     "text": [
      "C:\\Users\\user\\AppData\\Local\\Temp/ipykernel_8576/902003095.py:4: DeprecationWarning: `np.float` is a deprecated alias for the builtin `float`. To silence this warning, use `float` by itself. Doing this will not modify any behavior and is safe. If you specifically wanted the numpy scalar type, use `np.float64` here.\n",
      "Deprecated in NumPy 1.20; for more details and guidance: https://numpy.org/devdocs/release/1.20.0-notes.html#deprecations\n",
      "  arr_2 = arr_1.astype(np.float)\n"
     ]
    }
   ],
   "source": [
    "arr_1 = np.array([1,2,3,4,5])\n",
    "print(arr_1.dtype)\n",
    "\n",
    "arr_2 = arr_1.astype(float)\n",
    "print(arr_2.dtype)"
   ]
  },
  {
   "cell_type": "code",
   "execution_count": 80,
   "id": "0cdfa749",
   "metadata": {},
   "outputs": [
    {
     "data": {
      "text/plain": [
       "array([ 1,  2,  3,  4,  5,  6,  7,  8,  9, 10])"
      ]
     },
     "execution_count": 80,
     "metadata": {},
     "output_type": "execute_result"
    }
   ],
   "source": [
    "arr = np.arange(1, 11)\n",
    "arr"
   ]
  },
  {
   "cell_type": "code",
   "execution_count": 83,
   "id": "70990694",
   "metadata": {},
   "outputs": [
    {
     "data": {
      "text/plain": [
       "array([ 1,  2,  3,  4,  5,  6,  7,  8,  9, 10])"
      ]
     },
     "execution_count": 83,
     "metadata": {},
     "output_type": "execute_result"
    }
   ],
   "source": [
    "arr[:]"
   ]
  },
  {
   "cell_type": "code",
   "execution_count": 84,
   "id": "7f4838d3",
   "metadata": {},
   "outputs": [
    {
     "data": {
      "text/plain": [
       "(3, 3)"
      ]
     },
     "execution_count": 84,
     "metadata": {},
     "output_type": "execute_result"
    }
   ],
   "source": [
    "arr= np.array([[1,2,5], [6,7,8], [9, 10, 15]])\n",
    "arr.shape"
   ]
  },
  {
   "cell_type": "code",
   "execution_count": 86,
   "id": "1f9ce5f3",
   "metadata": {},
   "outputs": [
    {
     "data": {
      "text/plain": [
       "array([[ 1,  2,  5],\n",
       "       [ 6,  7,  8],\n",
       "       [ 9, 10, 15]])"
      ]
     },
     "execution_count": 86,
     "metadata": {},
     "output_type": "execute_result"
    }
   ],
   "source": [
    "arr"
   ]
  },
  {
   "cell_type": "code",
   "execution_count": 87,
   "id": "40ed2974",
   "metadata": {},
   "outputs": [
    {
     "data": {
      "text/plain": [
       "1"
      ]
     },
     "execution_count": 87,
     "metadata": {},
     "output_type": "execute_result"
    }
   ],
   "source": [
    "arr[0,0]"
   ]
  },
  {
   "cell_type": "code",
   "execution_count": 92,
   "id": "39a9b58c",
   "metadata": {},
   "outputs": [
    {
     "data": {
      "text/plain": [
       "array([1, 2, 5])"
      ]
     },
     "execution_count": 92,
     "metadata": {},
     "output_type": "execute_result"
    }
   ],
   "source": [
    "# [1, 2, 5]\n",
    "arr[0, :]"
   ]
  },
  {
   "cell_type": "code",
   "execution_count": 96,
   "id": "4b7c3d9a",
   "metadata": {},
   "outputs": [
    {
     "data": {
      "text/plain": [
       "array([[1, 2, 5],\n",
       "       [6, 7, 8]])"
      ]
     },
     "execution_count": 96,
     "metadata": {},
     "output_type": "execute_result"
    }
   ],
   "source": [
    "# [1,6, 9]\n",
    "arr2 = arr[: , 0]\n",
    "arr[0:2, :]"
   ]
  },
  {
   "cell_type": "code",
   "execution_count": 101,
   "id": "04aa8095",
   "metadata": {},
   "outputs": [
    {
     "data": {
      "text/plain": [
       "array([[ 3,  4,  5],\n",
       "       [ 6,  7,  8],\n",
       "       [ 9, 10, 15]])"
      ]
     },
     "execution_count": 101,
     "metadata": {},
     "output_type": "execute_result"
    }
   ],
   "source": [
    "# [3, 4, 5]\n",
    "# arr[:][0] vs arr[:, 0]\n",
    "arr[:][0] = [3, 4, 5]\n",
    "arr"
   ]
  },
  {
   "cell_type": "code",
   "execution_count": 104,
   "id": "56e08f58",
   "metadata": {},
   "outputs": [
    {
     "data": {
      "text/plain": [
       "array([[ 1,  2],\n",
       "       [ 3,  4],\n",
       "       [ 5,  6],\n",
       "       [ 7,  8],\n",
       "       [ 9, 10]])"
      ]
     },
     "execution_count": 104,
     "metadata": {},
     "output_type": "execute_result"
    }
   ],
   "source": [
    "arr = np.arange(1, 11).reshape(5, 2)\n",
    "arr"
   ]
  },
  {
   "cell_type": "code",
   "execution_count": 119,
   "id": "fe0722eb",
   "metadata": {},
   "outputs": [
    {
     "data": {
      "text/plain": [
       "array([[1, 1],\n",
       "       [1, 1]])"
      ]
     },
     "execution_count": 119,
     "metadata": {},
     "output_type": "execute_result"
    }
   ],
   "source": [
    "#영행렬 생성\n",
    "arr_z = np.zeros((2,2)).astype(int)\n",
    "arr_z\n",
    "\n",
    "#항등행렬 생성\n",
    "arr_l = np.ones((2,2)).astype(int)\n",
    "arr_l"
   ]
  },
  {
   "cell_type": "code",
   "execution_count": 163,
   "id": "3efc8b1b",
   "metadata": {},
   "outputs": [
    {
     "data": {
      "text/plain": [
       "array([[ 1,  2],\n",
       "       [ 3,  4],\n",
       "       [ 5,  6],\n",
       "       [ 7,  8],\n",
       "       [ 9, 10]])"
      ]
     },
     "execution_count": 163,
     "metadata": {},
     "output_type": "execute_result"
    }
   ],
   "source": [
    "# array operation\n",
    "arr1 = np.arange(1, 11).reshape(5, 2) # 사이즈 공유 필요\n",
    "#arr1.sum()\n",
    "arr1"
   ]
  },
  {
   "cell_type": "code",
   "execution_count": 165,
   "id": "8e8dabbb",
   "metadata": {},
   "outputs": [
    {
     "data": {
      "text/plain": [
       "array([ 3,  7, 11, 15, 19])"
      ]
     },
     "execution_count": 165,
     "metadata": {},
     "output_type": "execute_result"
    }
   ],
   "source": [
    "# axis = 1 인 경우 행 순으로 계산.. 0 인 경우  열을 계산\n",
    "arr1.sum(axis=1)"
   ]
  },
  {
   "cell_type": "code",
   "execution_count": 123,
   "id": "ffc21962",
   "metadata": {},
   "outputs": [
    {
     "data": {
      "text/plain": [
       "array([25, 30])"
      ]
     },
     "execution_count": 123,
     "metadata": {},
     "output_type": "execute_result"
    }
   ],
   "source": [
    "arr1.sum(axis = 0)"
   ]
  },
  {
   "cell_type": "code",
   "execution_count": 126,
   "id": "cf5c815d",
   "metadata": {},
   "outputs": [
    {
     "data": {
      "text/plain": [
       "array([5., 6.])"
      ]
     },
     "execution_count": 126,
     "metadata": {},
     "output_type": "execute_result"
    }
   ],
   "source": [
    "arr1.mean(axis = 0)"
   ]
  },
  {
   "cell_type": "markdown",
   "id": "fe302bdc",
   "metadata": {},
   "source": [
    "# Pandas\n",
    "- 데이터 과학에 사용되는 라이브럴리로 데이터 불러오기, 전처리, 통계분석에 사용됨\n",
    "- Numpy 기반으로 작성된 라이브러리\n",
    "- Series 형태와 DataFrame 형태가 존재함\n",
    "- 넘파이 기반이기 때문에 넘파이 전용 함수 사용 가능.\n",
    "\n",
    "[python_web] https://pandas.pydata.org/Pandas_Cheat_Sheet.pdf\n",
    "\n",
    "- import pandas as pd\n",
    "\n",
    "## What is Series Data?\n",
    "- a1 = pd.Series([1,2,3,4,5,6,7])\n",
    "\n",
    "\n",
    "### random 함수\n",
    " - np.random.randn(m, m)  : 가우시안 표준 정규 분포 난수 생성\n",
    " - np.random.randint() 균일분포 정수 난수를 생성\n",
    " - np.random.rand() : 0 ~ 1 사이의 균일분포 난수 생성\n"
   ]
  },
  {
   "cell_type": "code",
   "execution_count": 128,
   "id": "f73b2621",
   "metadata": {},
   "outputs": [],
   "source": [
    "import pandas as pd"
   ]
  },
  {
   "cell_type": "code",
   "execution_count": 129,
   "id": "1f3032c7",
   "metadata": {},
   "outputs": [],
   "source": [
    "a1 = pd.Series([1,2,3,4,5,6,7,11])"
   ]
  },
  {
   "cell_type": "code",
   "execution_count": 132,
   "id": "f54738c7",
   "metadata": {},
   "outputs": [
    {
     "data": {
      "text/plain": [
       "4.875"
      ]
     },
     "execution_count": 132,
     "metadata": {},
     "output_type": "execute_result"
    }
   ],
   "source": [
    "a1.sum()\n",
    "a1.mean()"
   ]
  },
  {
   "cell_type": "code",
   "execution_count": 140,
   "id": "741c0e7d",
   "metadata": {},
   "outputs": [],
   "source": [
    "s2 = pd.Series(['Kim', 'JIN', \"Max\"], name = '출석부', index = ['하나', '둘', '셋'])"
   ]
  },
  {
   "cell_type": "code",
   "execution_count": 152,
   "id": "614ada3f",
   "metadata": {},
   "outputs": [],
   "source": [
    "# Series to Dict\n",
    "# 각 데이터가 매핑된 형태..\n",
    "\n",
    "mydict = {\n",
    "         'name' : 'Kim',\n",
    "         'age' : 20,\n",
    "         'gender' : 'male',\n",
    "         'job' : 'Strudent'\n",
    "         }\n",
    "\n",
    "person = pd.Series(mydict, name = '출석부')"
   ]
  },
  {
   "cell_type": "code",
   "execution_count": 156,
   "id": "d4a75ff9",
   "metadata": {},
   "outputs": [
    {
     "data": {
      "text/plain": [
       "gender    male\n",
       "Name: 출석부, dtype: object"
      ]
     },
     "execution_count": 156,
     "metadata": {},
     "output_type": "execute_result"
    }
   ],
   "source": [
    "# 비교연산자의 특징은 Bool 형태\n",
    "person[person != 'male']\n",
    "person[person == 'male']"
   ]
  },
  {
   "cell_type": "code",
   "execution_count": 158,
   "id": "275492d7",
   "metadata": {},
   "outputs": [],
   "source": [
    "#list -> Series\n",
    "a = pd.Series([2, 3, 4, 5, 6])\n",
    "# dict -> Seiries\n",
    "b = pd.Series({'Name' : \"JONGwOO\"})"
   ]
  },
  {
   "cell_type": "markdown",
   "id": "b9bd92d5",
   "metadata": {},
   "source": [
    "### enumerate() 함수는 인덱스랑 값을 같이 출력"
   ]
  },
  {
   "cell_type": "code",
   "execution_count": 167,
   "id": "83c5ce0d",
   "metadata": {},
   "outputs": [],
   "source": [
    "grade = pd.Series(['Kim', 'JIN', \"Max\"], name = '출석부', index = ['하나', '둘', '셋'])"
   ]
  },
  {
   "cell_type": "code",
   "execution_count": 172,
   "id": "5d6b8591",
   "metadata": {},
   "outputs": [
    {
     "name": "stdout",
     "output_type": "stream",
     "text": [
      "idx : 0, value: Kim\n",
      "idx : 1, value: JIN\n",
      "idx : 2, value: Max\n",
      "하나 Kim\n",
      "둘 JIN\n",
      "셋 Max\n"
     ]
    }
   ],
   "source": [
    "for idx, value in enumerate(grade) :\n",
    "    print('idx : {}, value: {}'.format(idx, value))\n",
    "for key, value in grade.items() :\n",
    "    print(key, value)"
   ]
  },
  {
   "cell_type": "markdown",
   "id": "c3d9c0fa",
   "metadata": {},
   "source": [
    "# Pandas DataFrame\n",
    "\n",
    "- DataFrame ; 엑셀과 같이, 인덱스, 변수(column), 값으로 이루어진 데이터 , idx는 고유값이므로 중복될 수 없음.\n",
    "- 대용량 데이터를 쉽고 빠르게 다룰수 있음 : 1G ~ 100G\n",
    "- 다른 시스템과의 연동이 쉽다.\n",
    "- 넘파이 라이브러리에서 지원하는 수학 및 통계 연산을 그대로 이용할 수 있다.\n",
    "- 가장 구조적인 데이터 형태로서 직관적이고 설명하기 쉬우며, csv or excel 형태로 저장 가능\n",
    "- DataFrame은 Series 가 모인 자료구조이다. 이중리스트로 조회한다.\n",
    "\n",
    "\n",
    "## DataFrame Handling\n",
    " - Indexing - 실무에서는 불필요한 Column이 많아 원하는 Column만 추출해 올 필요가 있다.\n",
    " \n",
    " [python_web] https://paperswithcode.com\n",
    " "
   ]
  },
  {
   "cell_type": "code",
   "execution_count": 173,
   "id": "a88650ab",
   "metadata": {},
   "outputs": [],
   "source": [
    "import pandas as pd"
   ]
  },
  {
   "cell_type": "code",
   "execution_count": 180,
   "id": "1f3b577c",
   "metadata": {},
   "outputs": [],
   "source": [
    "num1 = [\n",
    "    [1,2,3],\n",
    "    [4,5,6],\n",
    "    [7,8,9]\n",
    "]"
   ]
  },
  {
   "cell_type": "code",
   "execution_count": 181,
   "id": "05045fe8",
   "metadata": {},
   "outputs": [
    {
     "data": {
      "text/plain": [
       "array([[1, 2, 3],\n",
       "       [4, 5, 6],\n",
       "       [7, 8, 9]])"
      ]
     },
     "execution_count": 181,
     "metadata": {},
     "output_type": "execute_result"
    }
   ],
   "source": [
    "np.array(num1)"
   ]
  },
  {
   "cell_type": "code",
   "execution_count": 182,
   "id": "e0188b7c",
   "metadata": {},
   "outputs": [
    {
     "data": {
      "text/plain": [
       "0    [1, 2, 3]\n",
       "1    [4, 5, 6]\n",
       "2    [7, 8, 9]\n",
       "dtype: object"
      ]
     },
     "execution_count": 182,
     "metadata": {},
     "output_type": "execute_result"
    }
   ],
   "source": [
    "pd.Series(num1)"
   ]
  },
  {
   "cell_type": "code",
   "execution_count": 186,
   "id": "d9a8206f",
   "metadata": {},
   "outputs": [
    {
     "data": {
      "text/html": [
       "<div>\n",
       "<style scoped>\n",
       "    .dataframe tbody tr th:only-of-type {\n",
       "        vertical-align: middle;\n",
       "    }\n",
       "\n",
       "    .dataframe tbody tr th {\n",
       "        vertical-align: top;\n",
       "    }\n",
       "\n",
       "    .dataframe thead th {\n",
       "        text-align: right;\n",
       "    }\n",
       "</style>\n",
       "<table border=\"1\" class=\"dataframe\">\n",
       "  <thead>\n",
       "    <tr style=\"text-align: right;\">\n",
       "      <th></th>\n",
       "      <th>0</th>\n",
       "      <th>1</th>\n",
       "      <th>2</th>\n",
       "    </tr>\n",
       "  </thead>\n",
       "  <tbody>\n",
       "    <tr>\n",
       "      <th>0</th>\n",
       "      <td>1</td>\n",
       "      <td>2</td>\n",
       "      <td>3</td>\n",
       "    </tr>\n",
       "    <tr>\n",
       "      <th>1</th>\n",
       "      <td>4</td>\n",
       "      <td>5</td>\n",
       "      <td>6</td>\n",
       "    </tr>\n",
       "    <tr>\n",
       "      <th>2</th>\n",
       "      <td>7</td>\n",
       "      <td>8</td>\n",
       "      <td>9</td>\n",
       "    </tr>\n",
       "  </tbody>\n",
       "</table>\n",
       "</div>"
      ],
      "text/plain": [
       "   0  1  2\n",
       "0  1  2  3\n",
       "1  4  5  6\n",
       "2  7  8  9"
      ]
     },
     "execution_count": 186,
     "metadata": {},
     "output_type": "execute_result"
    }
   ],
   "source": [
    "pd.DataFrame(num1)"
   ]
  },
  {
   "cell_type": "code",
   "execution_count": 190,
   "id": "f0288598",
   "metadata": {},
   "outputs": [],
   "source": [
    "table1 = [\n",
    "    ['2021-12-06', 1000, 'False', 'gum'],\n",
    "    ['2021-12-07', 2000, 'True', 'snack'],\n",
    "    ['2021-12-08', 3000, 'False', 'beverage'],\n",
    "    ['2021-12-09', 4000, 'False', 'candy'],\n",
    "]"
   ]
  },
  {
   "cell_type": "code",
   "execution_count": 202,
   "id": "64953583",
   "metadata": {},
   "outputs": [],
   "source": [
    "df = pd.DataFrame(table1, columns = ['일자', '가격', '구매여부', '제품'])"
   ]
  },
  {
   "cell_type": "code",
   "execution_count": 204,
   "id": "0b37f20c",
   "metadata": {},
   "outputs": [
    {
     "data": {
      "text/plain": [
       "pandas.core.indexes.range.RangeIndex"
      ]
     },
     "execution_count": 204,
     "metadata": {},
     "output_type": "execute_result"
    }
   ],
   "source": [
    "type(df.columns)\n",
    "type(df.index)"
   ]
  },
  {
   "cell_type": "markdown",
   "id": "1b53ca97",
   "metadata": {},
   "source": [
    "KEY 컬럼 / VALUE : 데이터"
   ]
  },
  {
   "cell_type": "code",
   "execution_count": 207,
   "id": "cfe04507",
   "metadata": {},
   "outputs": [],
   "source": [
    "table2 = {\n",
    "    '일자' : ['2021-12-06', '2021-12-07', '2021-12-08', '2021-12-09'],\n",
    "    '가격' : [1000, 3000, 2000, 1000],\n",
    "    '구매여부' : [False, True, True, True],\n",
    "    '제품' : ['gum', 'snack', 'beverage', 'gum']\n",
    "}"
   ]
  },
  {
   "cell_type": "code",
   "execution_count": 208,
   "id": "a93d310a",
   "metadata": {},
   "outputs": [],
   "source": [
    "df1 = pd.DataFrame(table2)"
   ]
  },
  {
   "cell_type": "code",
   "execution_count": 209,
   "id": "54d84a31",
   "metadata": {},
   "outputs": [
    {
     "data": {
      "text/html": [
       "<div>\n",
       "<style scoped>\n",
       "    .dataframe tbody tr th:only-of-type {\n",
       "        vertical-align: middle;\n",
       "    }\n",
       "\n",
       "    .dataframe tbody tr th {\n",
       "        vertical-align: top;\n",
       "    }\n",
       "\n",
       "    .dataframe thead th {\n",
       "        text-align: right;\n",
       "    }\n",
       "</style>\n",
       "<table border=\"1\" class=\"dataframe\">\n",
       "  <thead>\n",
       "    <tr style=\"text-align: right;\">\n",
       "      <th></th>\n",
       "      <th>일자</th>\n",
       "      <th>가격</th>\n",
       "      <th>구매여부</th>\n",
       "      <th>제품</th>\n",
       "    </tr>\n",
       "  </thead>\n",
       "  <tbody>\n",
       "    <tr>\n",
       "      <th>0</th>\n",
       "      <td>2021-12-06</td>\n",
       "      <td>1000</td>\n",
       "      <td>False</td>\n",
       "      <td>gum</td>\n",
       "    </tr>\n",
       "    <tr>\n",
       "      <th>1</th>\n",
       "      <td>2021-12-07</td>\n",
       "      <td>3000</td>\n",
       "      <td>True</td>\n",
       "      <td>snack</td>\n",
       "    </tr>\n",
       "    <tr>\n",
       "      <th>2</th>\n",
       "      <td>2021-12-08</td>\n",
       "      <td>2000</td>\n",
       "      <td>True</td>\n",
       "      <td>beverage</td>\n",
       "    </tr>\n",
       "    <tr>\n",
       "      <th>3</th>\n",
       "      <td>2021-12-09</td>\n",
       "      <td>1000</td>\n",
       "      <td>True</td>\n",
       "      <td>gum</td>\n",
       "    </tr>\n",
       "  </tbody>\n",
       "</table>\n",
       "</div>"
      ],
      "text/plain": [
       "           일자    가격   구매여부        제품\n",
       "0  2021-12-06  1000  False       gum\n",
       "1  2021-12-07  3000   True     snack\n",
       "2  2021-12-08  2000   True  beverage\n",
       "3  2021-12-09  1000   True       gum"
      ]
     },
     "execution_count": 209,
     "metadata": {},
     "output_type": "execute_result"
    }
   ],
   "source": [
    "df1"
   ]
  },
  {
   "cell_type": "code",
   "execution_count": 211,
   "id": "112023dd",
   "metadata": {},
   "outputs": [
    {
     "data": {
      "text/html": [
       "<div>\n",
       "<style scoped>\n",
       "    .dataframe tbody tr th:only-of-type {\n",
       "        vertical-align: middle;\n",
       "    }\n",
       "\n",
       "    .dataframe tbody tr th {\n",
       "        vertical-align: top;\n",
       "    }\n",
       "\n",
       "    .dataframe thead th {\n",
       "        text-align: right;\n",
       "    }\n",
       "</style>\n",
       "<table border=\"1\" class=\"dataframe\">\n",
       "  <thead>\n",
       "    <tr style=\"text-align: right;\">\n",
       "      <th></th>\n",
       "      <th>일자</th>\n",
       "      <th>가격</th>\n",
       "      <th>구매여부</th>\n",
       "      <th>제품</th>\n",
       "    </tr>\n",
       "  </thead>\n",
       "  <tbody>\n",
       "    <tr>\n",
       "      <th>0</th>\n",
       "      <td>2021-12-06</td>\n",
       "      <td>1000</td>\n",
       "      <td>False</td>\n",
       "      <td>gum</td>\n",
       "    </tr>\n",
       "    <tr>\n",
       "      <th>1</th>\n",
       "      <td>2021-12-07</td>\n",
       "      <td>3000</td>\n",
       "      <td>True</td>\n",
       "      <td>snack</td>\n",
       "    </tr>\n",
       "  </tbody>\n",
       "</table>\n",
       "</div>"
      ],
      "text/plain": [
       "           일자    가격   구매여부     제품\n",
       "0  2021-12-06  1000  False    gum\n",
       "1  2021-12-07  3000   True  snack"
      ]
     },
     "execution_count": 211,
     "metadata": {},
     "output_type": "execute_result"
    }
   ],
   "source": [
    "df1.head(2) # 상위 5(2)개를 보겠다."
   ]
  },
  {
   "cell_type": "code",
   "execution_count": 212,
   "id": "16051421",
   "metadata": {},
   "outputs": [
    {
     "data": {
      "text/html": [
       "<div>\n",
       "<style scoped>\n",
       "    .dataframe tbody tr th:only-of-type {\n",
       "        vertical-align: middle;\n",
       "    }\n",
       "\n",
       "    .dataframe tbody tr th {\n",
       "        vertical-align: top;\n",
       "    }\n",
       "\n",
       "    .dataframe thead th {\n",
       "        text-align: right;\n",
       "    }\n",
       "</style>\n",
       "<table border=\"1\" class=\"dataframe\">\n",
       "  <thead>\n",
       "    <tr style=\"text-align: right;\">\n",
       "      <th></th>\n",
       "      <th>일자</th>\n",
       "      <th>가격</th>\n",
       "      <th>구매여부</th>\n",
       "      <th>제품</th>\n",
       "    </tr>\n",
       "  </thead>\n",
       "  <tbody>\n",
       "    <tr>\n",
       "      <th>3</th>\n",
       "      <td>2021-12-09</td>\n",
       "      <td>1000</td>\n",
       "      <td>True</td>\n",
       "      <td>gum</td>\n",
       "    </tr>\n",
       "  </tbody>\n",
       "</table>\n",
       "</div>"
      ],
      "text/plain": [
       "           일자    가격  구매여부   제품\n",
       "3  2021-12-09  1000  True  gum"
      ]
     },
     "execution_count": 212,
     "metadata": {},
     "output_type": "execute_result"
    }
   ],
   "source": [
    "df1.tail(1) # 하위 n개를 보겠다"
   ]
  },
  {
   "cell_type": "code",
   "execution_count": 221,
   "id": "311f5ff0",
   "metadata": {},
   "outputs": [
    {
     "data": {
      "text/html": [
       "<div>\n",
       "<style scoped>\n",
       "    .dataframe tbody tr th:only-of-type {\n",
       "        vertical-align: middle;\n",
       "    }\n",
       "\n",
       "    .dataframe tbody tr th {\n",
       "        vertical-align: top;\n",
       "    }\n",
       "\n",
       "    .dataframe thead th {\n",
       "        text-align: right;\n",
       "    }\n",
       "</style>\n",
       "<table border=\"1\" class=\"dataframe\">\n",
       "  <thead>\n",
       "    <tr style=\"text-align: right;\">\n",
       "      <th></th>\n",
       "      <th>일자</th>\n",
       "      <th>가격</th>\n",
       "      <th>구매여부</th>\n",
       "      <th>제품</th>\n",
       "    </tr>\n",
       "  </thead>\n",
       "  <tbody>\n",
       "    <tr>\n",
       "      <th>0</th>\n",
       "      <td>2021-12-06</td>\n",
       "      <td>1000</td>\n",
       "      <td>False</td>\n",
       "      <td>gum</td>\n",
       "    </tr>\n",
       "    <tr>\n",
       "      <th>1</th>\n",
       "      <td>2021-12-07</td>\n",
       "      <td>3000</td>\n",
       "      <td>True</td>\n",
       "      <td>snack</td>\n",
       "    </tr>\n",
       "    <tr>\n",
       "      <th>2</th>\n",
       "      <td>2021-12-08</td>\n",
       "      <td>2000</td>\n",
       "      <td>True</td>\n",
       "      <td>beverage</td>\n",
       "    </tr>\n",
       "    <tr>\n",
       "      <th>3</th>\n",
       "      <td>2021-12-09</td>\n",
       "      <td>1000</td>\n",
       "      <td>True</td>\n",
       "      <td>gum</td>\n",
       "    </tr>\n",
       "  </tbody>\n",
       "</table>\n",
       "</div>"
      ],
      "text/plain": [
       "           일자    가격   구매여부        제품\n",
       "0  2021-12-06  1000  False       gum\n",
       "1  2021-12-07  3000   True     snack\n",
       "2  2021-12-08  2000   True  beverage\n",
       "3  2021-12-09  1000   True       gum"
      ]
     },
     "execution_count": 221,
     "metadata": {},
     "output_type": "execute_result"
    }
   ],
   "source": [
    "df1.sort_values(by = ['일자', '가격'], ascending = True) # ascending => 오름차순 앞 순서부터 차례로 정렬"
   ]
  },
  {
   "cell_type": "code",
   "execution_count": 224,
   "id": "5f42d514",
   "metadata": {},
   "outputs": [
    {
     "data": {
      "text/plain": [
       "7000"
      ]
     },
     "execution_count": 224,
     "metadata": {},
     "output_type": "execute_result"
    }
   ],
   "source": [
    "df1['가격'].mean()\n",
    "df1['가격'].sum()"
   ]
  },
  {
   "cell_type": "code",
   "execution_count": 225,
   "id": "47f15f6d",
   "metadata": {},
   "outputs": [
    {
     "data": {
      "text/html": [
       "<div>\n",
       "<style scoped>\n",
       "    .dataframe tbody tr th:only-of-type {\n",
       "        vertical-align: middle;\n",
       "    }\n",
       "\n",
       "    .dataframe tbody tr th {\n",
       "        vertical-align: top;\n",
       "    }\n",
       "\n",
       "    .dataframe thead th {\n",
       "        text-align: right;\n",
       "    }\n",
       "</style>\n",
       "<table border=\"1\" class=\"dataframe\">\n",
       "  <thead>\n",
       "    <tr style=\"text-align: right;\">\n",
       "      <th></th>\n",
       "      <th>가격</th>\n",
       "    </tr>\n",
       "  </thead>\n",
       "  <tbody>\n",
       "    <tr>\n",
       "      <th>count</th>\n",
       "      <td>4.000000</td>\n",
       "    </tr>\n",
       "    <tr>\n",
       "      <th>mean</th>\n",
       "      <td>1750.000000</td>\n",
       "    </tr>\n",
       "    <tr>\n",
       "      <th>std</th>\n",
       "      <td>957.427108</td>\n",
       "    </tr>\n",
       "    <tr>\n",
       "      <th>min</th>\n",
       "      <td>1000.000000</td>\n",
       "    </tr>\n",
       "    <tr>\n",
       "      <th>25%</th>\n",
       "      <td>1000.000000</td>\n",
       "    </tr>\n",
       "    <tr>\n",
       "      <th>50%</th>\n",
       "      <td>1500.000000</td>\n",
       "    </tr>\n",
       "    <tr>\n",
       "      <th>75%</th>\n",
       "      <td>2250.000000</td>\n",
       "    </tr>\n",
       "    <tr>\n",
       "      <th>max</th>\n",
       "      <td>3000.000000</td>\n",
       "    </tr>\n",
       "  </tbody>\n",
       "</table>\n",
       "</div>"
      ],
      "text/plain": [
       "                가격\n",
       "count     4.000000\n",
       "mean   1750.000000\n",
       "std     957.427108\n",
       "min    1000.000000\n",
       "25%    1000.000000\n",
       "50%    1500.000000\n",
       "75%    2250.000000\n",
       "max    3000.000000"
      ]
     },
     "execution_count": 225,
     "metadata": {},
     "output_type": "execute_result"
    }
   ],
   "source": [
    "df1.describe() # 기초통계량을 제시"
   ]
  },
  {
   "cell_type": "code",
   "execution_count": 227,
   "id": "9e5d8415",
   "metadata": {},
   "outputs": [
    {
     "data": {
      "text/html": [
       "<div>\n",
       "<style scoped>\n",
       "    .dataframe tbody tr th:only-of-type {\n",
       "        vertical-align: middle;\n",
       "    }\n",
       "\n",
       "    .dataframe tbody tr th {\n",
       "        vertical-align: top;\n",
       "    }\n",
       "\n",
       "    .dataframe thead th {\n",
       "        text-align: right;\n",
       "    }\n",
       "</style>\n",
       "<table border=\"1\" class=\"dataframe\">\n",
       "  <thead>\n",
       "    <tr style=\"text-align: right;\">\n",
       "      <th></th>\n",
       "      <th>일자</th>\n",
       "      <th>제품</th>\n",
       "    </tr>\n",
       "  </thead>\n",
       "  <tbody>\n",
       "    <tr>\n",
       "      <th>count</th>\n",
       "      <td>4</td>\n",
       "      <td>4</td>\n",
       "    </tr>\n",
       "    <tr>\n",
       "      <th>unique</th>\n",
       "      <td>4</td>\n",
       "      <td>3</td>\n",
       "    </tr>\n",
       "    <tr>\n",
       "      <th>top</th>\n",
       "      <td>2021-12-06</td>\n",
       "      <td>gum</td>\n",
       "    </tr>\n",
       "    <tr>\n",
       "      <th>freq</th>\n",
       "      <td>1</td>\n",
       "      <td>2</td>\n",
       "    </tr>\n",
       "  </tbody>\n",
       "</table>\n",
       "</div>"
      ],
      "text/plain": [
       "                일자   제품\n",
       "count            4    4\n",
       "unique           4    3\n",
       "top     2021-12-06  gum\n",
       "freq             1    2"
      ]
     },
     "execution_count": 227,
     "metadata": {},
     "output_type": "execute_result"
    }
   ],
   "source": [
    "df1.describe(include = 'object')"
   ]
  },
  {
   "cell_type": "code",
   "execution_count": 231,
   "id": "e4d44f32",
   "metadata": {},
   "outputs": [
    {
     "data": {
      "text/html": [
       "<div>\n",
       "<style scoped>\n",
       "    .dataframe tbody tr th:only-of-type {\n",
       "        vertical-align: middle;\n",
       "    }\n",
       "\n",
       "    .dataframe tbody tr th {\n",
       "        vertical-align: top;\n",
       "    }\n",
       "\n",
       "    .dataframe thead th {\n",
       "        text-align: right;\n",
       "    }\n",
       "</style>\n",
       "<table border=\"1\" class=\"dataframe\">\n",
       "  <thead>\n",
       "    <tr style=\"text-align: right;\">\n",
       "      <th></th>\n",
       "      <th>가격</th>\n",
       "      <th>일자</th>\n",
       "    </tr>\n",
       "  </thead>\n",
       "  <tbody>\n",
       "    <tr>\n",
       "      <th>0</th>\n",
       "      <td>1000</td>\n",
       "      <td>2021-12-06</td>\n",
       "    </tr>\n",
       "    <tr>\n",
       "      <th>1</th>\n",
       "      <td>3000</td>\n",
       "      <td>2021-12-07</td>\n",
       "    </tr>\n",
       "    <tr>\n",
       "      <th>2</th>\n",
       "      <td>2000</td>\n",
       "      <td>2021-12-08</td>\n",
       "    </tr>\n",
       "    <tr>\n",
       "      <th>3</th>\n",
       "      <td>1000</td>\n",
       "      <td>2021-12-09</td>\n",
       "    </tr>\n",
       "  </tbody>\n",
       "</table>\n",
       "</div>"
      ],
      "text/plain": [
       "     가격          일자\n",
       "0  1000  2021-12-06\n",
       "1  3000  2021-12-07\n",
       "2  2000  2021-12-08\n",
       "3  1000  2021-12-09"
      ]
     },
     "execution_count": 231,
     "metadata": {},
     "output_type": "execute_result"
    }
   ],
   "source": [
    "df1[['가격', '일자']]"
   ]
  },
  {
   "cell_type": "markdown",
   "id": "80769479",
   "metadata": {},
   "source": [
    "### Indexing 을 위한 location 함수\n",
    " - Dataframe.loc[] : 해당 index의 row 데이터를 불러온다. at함수도 같은 기능을 하지만 여러데이터를 불러올 땐 loc가 더 유용.\n"
   ]
  },
  {
   "cell_type": "code",
   "execution_count": 239,
   "id": "6f9f8fb0",
   "metadata": {},
   "outputs": [
    {
     "data": {
      "text/html": [
       "<div>\n",
       "<style scoped>\n",
       "    .dataframe tbody tr th:only-of-type {\n",
       "        vertical-align: middle;\n",
       "    }\n",
       "\n",
       "    .dataframe tbody tr th {\n",
       "        vertical-align: top;\n",
       "    }\n",
       "\n",
       "    .dataframe thead th {\n",
       "        text-align: right;\n",
       "    }\n",
       "</style>\n",
       "<table border=\"1\" class=\"dataframe\">\n",
       "  <thead>\n",
       "    <tr style=\"text-align: right;\">\n",
       "      <th></th>\n",
       "      <th>일자</th>\n",
       "      <th>가격</th>\n",
       "      <th>구매여부</th>\n",
       "      <th>제품</th>\n",
       "    </tr>\n",
       "  </thead>\n",
       "  <tbody>\n",
       "    <tr>\n",
       "      <th>0</th>\n",
       "      <td>2021-12-06</td>\n",
       "      <td>1000</td>\n",
       "      <td>False</td>\n",
       "      <td>gum</td>\n",
       "    </tr>\n",
       "    <tr>\n",
       "      <th>1</th>\n",
       "      <td>2021-12-07</td>\n",
       "      <td>3000</td>\n",
       "      <td>True</td>\n",
       "      <td>snack</td>\n",
       "    </tr>\n",
       "    <tr>\n",
       "      <th>2</th>\n",
       "      <td>2021-12-08</td>\n",
       "      <td>2000</td>\n",
       "      <td>True</td>\n",
       "      <td>beverage</td>\n",
       "    </tr>\n",
       "    <tr>\n",
       "      <th>3</th>\n",
       "      <td>2021-12-09</td>\n",
       "      <td>1000</td>\n",
       "      <td>True</td>\n",
       "      <td>gum</td>\n",
       "    </tr>\n",
       "  </tbody>\n",
       "</table>\n",
       "</div>"
      ],
      "text/plain": [
       "           일자    가격   구매여부        제품\n",
       "0  2021-12-06  1000  False       gum\n",
       "1  2021-12-07  3000   True     snack\n",
       "2  2021-12-08  2000   True  beverage\n",
       "3  2021-12-09  1000   True       gum"
      ]
     },
     "execution_count": 239,
     "metadata": {},
     "output_type": "execute_result"
    }
   ],
   "source": [
    "# location 함수\n",
    "df1.loc[[0, 1]] \n",
    "df1.loc[:]"
   ]
  },
  {
   "cell_type": "code",
   "execution_count": 242,
   "id": "31fb4a58",
   "metadata": {},
   "outputs": [
    {
     "data": {
      "text/plain": [
       "1000"
      ]
     },
     "execution_count": 242,
     "metadata": {},
     "output_type": "execute_result"
    }
   ],
   "source": [
    "df1.loc[0, '가격'] # df1.loc[행, 렬]"
   ]
  },
  {
   "cell_type": "code",
   "execution_count": 247,
   "id": "dcbdad59",
   "metadata": {},
   "outputs": [
    {
     "data": {
      "text/html": [
       "<div>\n",
       "<style scoped>\n",
       "    .dataframe tbody tr th:only-of-type {\n",
       "        vertical-align: middle;\n",
       "    }\n",
       "\n",
       "    .dataframe tbody tr th {\n",
       "        vertical-align: top;\n",
       "    }\n",
       "\n",
       "    .dataframe thead th {\n",
       "        text-align: right;\n",
       "    }\n",
       "</style>\n",
       "<table border=\"1\" class=\"dataframe\">\n",
       "  <thead>\n",
       "    <tr style=\"text-align: right;\">\n",
       "      <th></th>\n",
       "      <th>일자</th>\n",
       "      <th>가격</th>\n",
       "      <th>구매여부</th>\n",
       "      <th>제품</th>\n",
       "    </tr>\n",
       "  </thead>\n",
       "  <tbody>\n",
       "    <tr>\n",
       "      <th>0</th>\n",
       "      <td>2021-12-06</td>\n",
       "      <td>1000</td>\n",
       "      <td>False</td>\n",
       "      <td>gum</td>\n",
       "    </tr>\n",
       "    <tr>\n",
       "      <th>3</th>\n",
       "      <td>2021-12-09</td>\n",
       "      <td>1000</td>\n",
       "      <td>True</td>\n",
       "      <td>gum</td>\n",
       "    </tr>\n",
       "  </tbody>\n",
       "</table>\n",
       "</div>"
      ],
      "text/plain": [
       "           일자    가격   구매여부   제품\n",
       "0  2021-12-06  1000  False  gum\n",
       "3  2021-12-09  1000   True  gum"
      ]
     },
     "execution_count": 247,
     "metadata": {},
     "output_type": "execute_result"
    }
   ],
   "source": [
    "df1['가격'] >= 2000 # 비교연산자\n",
    "\n",
    "df1[df1['제품'] == 'gum']"
   ]
  },
  {
   "cell_type": "code",
   "execution_count": 251,
   "id": "1170f848",
   "metadata": {},
   "outputs": [
    {
     "data": {
      "text/html": [
       "<div>\n",
       "<style scoped>\n",
       "    .dataframe tbody tr th:only-of-type {\n",
       "        vertical-align: middle;\n",
       "    }\n",
       "\n",
       "    .dataframe tbody tr th {\n",
       "        vertical-align: top;\n",
       "    }\n",
       "\n",
       "    .dataframe thead th {\n",
       "        text-align: right;\n",
       "    }\n",
       "</style>\n",
       "<table border=\"1\" class=\"dataframe\">\n",
       "  <thead>\n",
       "    <tr style=\"text-align: right;\">\n",
       "      <th></th>\n",
       "      <th>일자</th>\n",
       "      <th>가격</th>\n",
       "      <th>구매여부</th>\n",
       "      <th>제품</th>\n",
       "    </tr>\n",
       "  </thead>\n",
       "  <tbody>\n",
       "    <tr>\n",
       "      <th>0</th>\n",
       "      <td>2021-12-06</td>\n",
       "      <td>1000</td>\n",
       "      <td>False</td>\n",
       "      <td>gum</td>\n",
       "    </tr>\n",
       "    <tr>\n",
       "      <th>1</th>\n",
       "      <td>2021-12-07</td>\n",
       "      <td>3000</td>\n",
       "      <td>True</td>\n",
       "      <td>snack</td>\n",
       "    </tr>\n",
       "    <tr>\n",
       "      <th>3</th>\n",
       "      <td>2021-12-09</td>\n",
       "      <td>1000</td>\n",
       "      <td>True</td>\n",
       "      <td>gum</td>\n",
       "    </tr>\n",
       "  </tbody>\n",
       "</table>\n",
       "</div>"
      ],
      "text/plain": [
       "           일자    가격   구매여부     제품\n",
       "0  2021-12-06  1000  False    gum\n",
       "1  2021-12-07  3000   True  snack\n",
       "3  2021-12-09  1000   True    gum"
      ]
     },
     "execution_count": 251,
     "metadata": {},
     "output_type": "execute_result"
    }
   ],
   "source": [
    "df1[df1['제품'].isin(['snack', 'gum'])]"
   ]
  },
  {
   "cell_type": "code",
   "execution_count": 255,
   "id": "7ac30085",
   "metadata": {},
   "outputs": [
    {
     "data": {
      "text/html": [
       "<div>\n",
       "<style scoped>\n",
       "    .dataframe tbody tr th:only-of-type {\n",
       "        vertical-align: middle;\n",
       "    }\n",
       "\n",
       "    .dataframe tbody tr th {\n",
       "        vertical-align: top;\n",
       "    }\n",
       "\n",
       "    .dataframe thead th {\n",
       "        text-align: right;\n",
       "    }\n",
       "</style>\n",
       "<table border=\"1\" class=\"dataframe\">\n",
       "  <thead>\n",
       "    <tr style=\"text-align: right;\">\n",
       "      <th></th>\n",
       "      <th>일자</th>\n",
       "      <th>가격</th>\n",
       "      <th>구매여부</th>\n",
       "      <th>제품</th>\n",
       "    </tr>\n",
       "  </thead>\n",
       "  <tbody>\n",
       "    <tr>\n",
       "      <th>2</th>\n",
       "      <td>2021-12-08</td>\n",
       "      <td>2000</td>\n",
       "      <td>True</td>\n",
       "      <td>beverage</td>\n",
       "    </tr>\n",
       "  </tbody>\n",
       "</table>\n",
       "</div>"
      ],
      "text/plain": [
       "           일자    가격  구매여부        제품\n",
       "2  2021-12-08  2000  True  beverage"
      ]
     },
     "execution_count": 255,
     "metadata": {},
     "output_type": "execute_result"
    }
   ],
   "source": [
    "data = ['gum', 'snack']\n",
    "df1[~df1['제품'].isin(data)]"
   ]
  },
  {
   "cell_type": "code",
   "execution_count": 259,
   "id": "a74422b4",
   "metadata": {},
   "outputs": [
    {
     "data": {
      "text/html": [
       "<div>\n",
       "<style scoped>\n",
       "    .dataframe tbody tr th:only-of-type {\n",
       "        vertical-align: middle;\n",
       "    }\n",
       "\n",
       "    .dataframe tbody tr th {\n",
       "        vertical-align: top;\n",
       "    }\n",
       "\n",
       "    .dataframe thead th {\n",
       "        text-align: right;\n",
       "    }\n",
       "</style>\n",
       "<table border=\"1\" class=\"dataframe\">\n",
       "  <thead>\n",
       "    <tr style=\"text-align: right;\">\n",
       "      <th></th>\n",
       "      <th>일자</th>\n",
       "      <th>가격</th>\n",
       "      <th>구매여부</th>\n",
       "      <th>제품</th>\n",
       "      <th>환불여부</th>\n",
       "    </tr>\n",
       "  </thead>\n",
       "  <tbody>\n",
       "    <tr>\n",
       "      <th>0</th>\n",
       "      <td>2021-12-06</td>\n",
       "      <td>1000</td>\n",
       "      <td>False</td>\n",
       "      <td>gum</td>\n",
       "      <td>정상</td>\n",
       "    </tr>\n",
       "    <tr>\n",
       "      <th>1</th>\n",
       "      <td>2021-12-07</td>\n",
       "      <td>3000</td>\n",
       "      <td>True</td>\n",
       "      <td>snack</td>\n",
       "      <td>환불</td>\n",
       "    </tr>\n",
       "    <tr>\n",
       "      <th>2</th>\n",
       "      <td>2021-12-08</td>\n",
       "      <td>2000</td>\n",
       "      <td>True</td>\n",
       "      <td>beverage</td>\n",
       "      <td>정상</td>\n",
       "    </tr>\n",
       "    <tr>\n",
       "      <th>3</th>\n",
       "      <td>2021-12-09</td>\n",
       "      <td>1000</td>\n",
       "      <td>True</td>\n",
       "      <td>gum</td>\n",
       "      <td>환불</td>\n",
       "    </tr>\n",
       "  </tbody>\n",
       "</table>\n",
       "</div>"
      ],
      "text/plain": [
       "           일자    가격   구매여부        제품 환불여부\n",
       "0  2021-12-06  1000  False       gum   정상\n",
       "1  2021-12-07  3000   True     snack   환불\n",
       "2  2021-12-08  2000   True  beverage   정상\n",
       "3  2021-12-09  1000   True       gum   환불"
      ]
     },
     "execution_count": 259,
     "metadata": {},
     "output_type": "execute_result"
    }
   ],
   "source": [
    "df1['환불여부'] = ['정상', '환불', '정상', '환불']\n",
    "df1"
   ]
  },
  {
   "cell_type": "code",
   "execution_count": 260,
   "id": "0365b40c",
   "metadata": {},
   "outputs": [],
   "source": [
    "# 특정 조건에 따른 데이터 생성\n",
    "condition1 = (df1['제품'] == 'gum') | (df1['환불여부'] == '환불') \n",
    "\n",
    "df1.loc[condition1, '관심대상'] = True\n",
    "df1.loc[~condition1, '관심대상'] = False"
   ]
  },
  {
   "cell_type": "code",
   "execution_count": 268,
   "id": "f60ad747",
   "metadata": {},
   "outputs": [
    {
     "data": {
      "text/html": [
       "<div>\n",
       "<style scoped>\n",
       "    .dataframe tbody tr th:only-of-type {\n",
       "        vertical-align: middle;\n",
       "    }\n",
       "\n",
       "    .dataframe tbody tr th {\n",
       "        vertical-align: top;\n",
       "    }\n",
       "\n",
       "    .dataframe thead th {\n",
       "        text-align: right;\n",
       "    }\n",
       "</style>\n",
       "<table border=\"1\" class=\"dataframe\">\n",
       "  <thead>\n",
       "    <tr style=\"text-align: right;\">\n",
       "      <th></th>\n",
       "      <th>일자</th>\n",
       "      <th>가격</th>\n",
       "      <th>구매여부</th>\n",
       "      <th>제품</th>\n",
       "      <th>환불여부</th>\n",
       "    </tr>\n",
       "  </thead>\n",
       "  <tbody>\n",
       "    <tr>\n",
       "      <th>0</th>\n",
       "      <td>2021-12-06</td>\n",
       "      <td>1000</td>\n",
       "      <td>False</td>\n",
       "      <td>gum</td>\n",
       "      <td>정상</td>\n",
       "    </tr>\n",
       "    <tr>\n",
       "      <th>1</th>\n",
       "      <td>2021-12-07</td>\n",
       "      <td>3000</td>\n",
       "      <td>True</td>\n",
       "      <td>snack</td>\n",
       "      <td>환불</td>\n",
       "    </tr>\n",
       "    <tr>\n",
       "      <th>2</th>\n",
       "      <td>2021-12-08</td>\n",
       "      <td>2000</td>\n",
       "      <td>True</td>\n",
       "      <td>beverage</td>\n",
       "      <td>정상</td>\n",
       "    </tr>\n",
       "    <tr>\n",
       "      <th>3</th>\n",
       "      <td>2021-12-09</td>\n",
       "      <td>1000</td>\n",
       "      <td>True</td>\n",
       "      <td>gum</td>\n",
       "      <td>환불</td>\n",
       "    </tr>\n",
       "  </tbody>\n",
       "</table>\n",
       "</div>"
      ],
      "text/plain": [
       "           일자    가격   구매여부        제품 환불여부\n",
       "0  2021-12-06  1000  False       gum   정상\n",
       "1  2021-12-07  3000   True     snack   환불\n",
       "2  2021-12-08  2000   True  beverage   정상\n",
       "3  2021-12-09  1000   True       gum   환불"
      ]
     },
     "execution_count": 268,
     "metadata": {},
     "output_type": "execute_result"
    }
   ],
   "source": [
    "df1.drop(0, axis = 0)\n",
    "df1.drop('관심대상', axis = 1) # axis = 탐색할 축"
   ]
  },
  {
   "cell_type": "code",
   "execution_count": 273,
   "id": "ca87c539",
   "metadata": {},
   "outputs": [],
   "source": [
    "cond = ['환불여부', '관심대상']\n",
    "#df1.drop(cond, axis = 1, inplace = True)"
   ]
  },
  {
   "cell_type": "code",
   "execution_count": 281,
   "id": "6360343c",
   "metadata": {},
   "outputs": [
    {
     "data": {
      "text/html": [
       "<div>\n",
       "<style scoped>\n",
       "    .dataframe tbody tr th:only-of-type {\n",
       "        vertical-align: middle;\n",
       "    }\n",
       "\n",
       "    .dataframe tbody tr th {\n",
       "        vertical-align: top;\n",
       "    }\n",
       "\n",
       "    .dataframe thead th {\n",
       "        text-align: right;\n",
       "    }\n",
       "</style>\n",
       "<table border=\"1\" class=\"dataframe\">\n",
       "  <thead>\n",
       "    <tr style=\"text-align: right;\">\n",
       "      <th></th>\n",
       "      <th>일자</th>\n",
       "      <th>가격</th>\n",
       "      <th>구매여부</th>\n",
       "      <th>제품</th>\n",
       "      <th>구매여부(replace)</th>\n",
       "    </tr>\n",
       "  </thead>\n",
       "  <tbody>\n",
       "    <tr>\n",
       "      <th>0</th>\n",
       "      <td>2021-12-06</td>\n",
       "      <td>1000</td>\n",
       "      <td>False</td>\n",
       "      <td>gum</td>\n",
       "      <td>False</td>\n",
       "    </tr>\n",
       "    <tr>\n",
       "      <th>1</th>\n",
       "      <td>2021-12-07</td>\n",
       "      <td>3000</td>\n",
       "      <td>True</td>\n",
       "      <td>snack</td>\n",
       "      <td>True</td>\n",
       "    </tr>\n",
       "    <tr>\n",
       "      <th>2</th>\n",
       "      <td>2021-12-08</td>\n",
       "      <td>2000</td>\n",
       "      <td>True</td>\n",
       "      <td>beverage</td>\n",
       "      <td>True</td>\n",
       "    </tr>\n",
       "    <tr>\n",
       "      <th>3</th>\n",
       "      <td>2021-12-09</td>\n",
       "      <td>1000</td>\n",
       "      <td>True</td>\n",
       "      <td>gum</td>\n",
       "      <td>True</td>\n",
       "    </tr>\n",
       "  </tbody>\n",
       "</table>\n",
       "</div>"
      ],
      "text/plain": [
       "           일자    가격   구매여부        제품  구매여부(replace)\n",
       "0  2021-12-06  1000  False       gum          False\n",
       "1  2021-12-07  3000   True     snack           True\n",
       "2  2021-12-08  2000   True  beverage           True\n",
       "3  2021-12-09  1000   True       gum           True"
      ]
     },
     "execution_count": 281,
     "metadata": {},
     "output_type": "execute_result"
    }
   ],
   "source": [
    "df1['구매여부(replace)'] = df1['구매여부'].replace('True', 0).replace('False', 1)\n",
    "df1"
   ]
  },
  {
   "cell_type": "code",
   "execution_count": 284,
   "id": "015e4fbd",
   "metadata": {},
   "outputs": [],
   "source": [
    "# 한글말로 수정\n",
    "df1['제품(replace)'] = df1['제품'].replace('gum', '껌').replace('snack', '스낵').replace('beverage', '음료')"
   ]
  },
  {
   "cell_type": "code",
   "execution_count": 285,
   "id": "7f55975f",
   "metadata": {},
   "outputs": [
    {
     "data": {
      "text/html": [
       "<div>\n",
       "<style scoped>\n",
       "    .dataframe tbody tr th:only-of-type {\n",
       "        vertical-align: middle;\n",
       "    }\n",
       "\n",
       "    .dataframe tbody tr th {\n",
       "        vertical-align: top;\n",
       "    }\n",
       "\n",
       "    .dataframe thead th {\n",
       "        text-align: right;\n",
       "    }\n",
       "</style>\n",
       "<table border=\"1\" class=\"dataframe\">\n",
       "  <thead>\n",
       "    <tr style=\"text-align: right;\">\n",
       "      <th></th>\n",
       "      <th>일자</th>\n",
       "      <th>가격</th>\n",
       "      <th>구매여부</th>\n",
       "      <th>제품</th>\n",
       "      <th>구매여부(replace)</th>\n",
       "      <th>제품(replace)</th>\n",
       "    </tr>\n",
       "  </thead>\n",
       "  <tbody>\n",
       "    <tr>\n",
       "      <th>0</th>\n",
       "      <td>2021-12-06</td>\n",
       "      <td>1000</td>\n",
       "      <td>False</td>\n",
       "      <td>gum</td>\n",
       "      <td>False</td>\n",
       "      <td>껌</td>\n",
       "    </tr>\n",
       "    <tr>\n",
       "      <th>1</th>\n",
       "      <td>2021-12-07</td>\n",
       "      <td>3000</td>\n",
       "      <td>True</td>\n",
       "      <td>snack</td>\n",
       "      <td>True</td>\n",
       "      <td>스낵</td>\n",
       "    </tr>\n",
       "    <tr>\n",
       "      <th>2</th>\n",
       "      <td>2021-12-08</td>\n",
       "      <td>2000</td>\n",
       "      <td>True</td>\n",
       "      <td>beverage</td>\n",
       "      <td>True</td>\n",
       "      <td>음료</td>\n",
       "    </tr>\n",
       "    <tr>\n",
       "      <th>3</th>\n",
       "      <td>2021-12-09</td>\n",
       "      <td>1000</td>\n",
       "      <td>True</td>\n",
       "      <td>gum</td>\n",
       "      <td>True</td>\n",
       "      <td>껌</td>\n",
       "    </tr>\n",
       "  </tbody>\n",
       "</table>\n",
       "</div>"
      ],
      "text/plain": [
       "           일자    가격   구매여부        제품  구매여부(replace) 제품(replace)\n",
       "0  2021-12-06  1000  False       gum          False           껌\n",
       "1  2021-12-07  3000   True     snack           True          스낵\n",
       "2  2021-12-08  2000   True  beverage           True          음료\n",
       "3  2021-12-09  1000   True       gum           True           껌"
      ]
     },
     "execution_count": 285,
     "metadata": {},
     "output_type": "execute_result"
    }
   ],
   "source": [
    "df1"
   ]
  },
  {
   "cell_type": "code",
   "execution_count": 286,
   "id": "8b010593",
   "metadata": {},
   "outputs": [],
   "source": [
    "df3 = pd.DataFrame(table2)"
   ]
  },
  {
   "cell_type": "code",
   "execution_count": 287,
   "id": "c99bb842",
   "metadata": {},
   "outputs": [
    {
     "data": {
      "text/html": [
       "<div>\n",
       "<style scoped>\n",
       "    .dataframe tbody tr th:only-of-type {\n",
       "        vertical-align: middle;\n",
       "    }\n",
       "\n",
       "    .dataframe tbody tr th {\n",
       "        vertical-align: top;\n",
       "    }\n",
       "\n",
       "    .dataframe thead th {\n",
       "        text-align: right;\n",
       "    }\n",
       "</style>\n",
       "<table border=\"1\" class=\"dataframe\">\n",
       "  <thead>\n",
       "    <tr style=\"text-align: right;\">\n",
       "      <th></th>\n",
       "      <th>일자</th>\n",
       "      <th>가격</th>\n",
       "      <th>구매여부</th>\n",
       "      <th>제품</th>\n",
       "    </tr>\n",
       "  </thead>\n",
       "  <tbody>\n",
       "    <tr>\n",
       "      <th>0</th>\n",
       "      <td>2021-12-06</td>\n",
       "      <td>1000</td>\n",
       "      <td>False</td>\n",
       "      <td>gum</td>\n",
       "    </tr>\n",
       "    <tr>\n",
       "      <th>1</th>\n",
       "      <td>2021-12-07</td>\n",
       "      <td>3000</td>\n",
       "      <td>True</td>\n",
       "      <td>snack</td>\n",
       "    </tr>\n",
       "    <tr>\n",
       "      <th>2</th>\n",
       "      <td>2021-12-08</td>\n",
       "      <td>2000</td>\n",
       "      <td>True</td>\n",
       "      <td>beverage</td>\n",
       "    </tr>\n",
       "    <tr>\n",
       "      <th>3</th>\n",
       "      <td>2021-12-09</td>\n",
       "      <td>1000</td>\n",
       "      <td>True</td>\n",
       "      <td>gum</td>\n",
       "    </tr>\n",
       "  </tbody>\n",
       "</table>\n",
       "</div>"
      ],
      "text/plain": [
       "           일자    가격   구매여부        제품\n",
       "0  2021-12-06  1000  False       gum\n",
       "1  2021-12-07  3000   True     snack\n",
       "2  2021-12-08  2000   True  beverage\n",
       "3  2021-12-09  1000   True       gum"
      ]
     },
     "execution_count": 287,
     "metadata": {},
     "output_type": "execute_result"
    }
   ],
   "source": [
    "df3"
   ]
  },
  {
   "cell_type": "markdown",
   "id": "e1eb681e",
   "metadata": {},
   "source": [
    "# 데이터 불러오기\n",
    "- pandas를 이용해 csv 혹은 excel 형식의 데이터 파일을 불러올 수 있음\n",
    "- 필요한 경우에는 데이터 파일 간 병합(join)의 수행이 필요\n",
    "- read_csv() 명령어를 이용하여 데이털르 불러옴\n",
    "- 위치를 상대경로로 지정해주어야함 아니면 같은 폴더에 위치\n"
   ]
  },
  {
   "cell_type": "code",
   "execution_count": 301,
   "id": "9f2fc551",
   "metadata": {},
   "outputs": [
    {
     "name": "stdout",
     "output_type": "stream",
     "text": [
      "(1795, 6)\n"
     ]
    },
    {
     "data": {
      "text/html": [
       "<div>\n",
       "<style scoped>\n",
       "    .dataframe tbody tr th:only-of-type {\n",
       "        vertical-align: middle;\n",
       "    }\n",
       "\n",
       "    .dataframe tbody tr th {\n",
       "        vertical-align: top;\n",
       "    }\n",
       "\n",
       "    .dataframe thead th {\n",
       "        text-align: right;\n",
       "    }\n",
       "</style>\n",
       "<table border=\"1\" class=\"dataframe\">\n",
       "  <thead>\n",
       "    <tr style=\"text-align: right;\">\n",
       "      <th></th>\n",
       "      <th>datetimes</th>\n",
       "      <th>event</th>\n",
       "      <th>country</th>\n",
       "      <th>userID</th>\n",
       "      <th>source</th>\n",
       "      <th>topic</th>\n",
       "    </tr>\n",
       "  </thead>\n",
       "  <tbody>\n",
       "    <tr>\n",
       "      <th>0</th>\n",
       "      <td>2018-01-01 00:01:01</td>\n",
       "      <td>read</td>\n",
       "      <td>country_7</td>\n",
       "      <td>2458151261</td>\n",
       "      <td>SEO</td>\n",
       "      <td>North America</td>\n",
       "    </tr>\n",
       "    <tr>\n",
       "      <th>1</th>\n",
       "      <td>2018-01-01 00:03:20</td>\n",
       "      <td>read</td>\n",
       "      <td>country_7</td>\n",
       "      <td>2458151262</td>\n",
       "      <td>SEO</td>\n",
       "      <td>South America</td>\n",
       "    </tr>\n",
       "    <tr>\n",
       "      <th>2</th>\n",
       "      <td>2018-01-01 00:04:01</td>\n",
       "      <td>read</td>\n",
       "      <td>country_7</td>\n",
       "      <td>2458151263</td>\n",
       "      <td>AdWords</td>\n",
       "      <td>Africa</td>\n",
       "    </tr>\n",
       "    <tr>\n",
       "      <th>3</th>\n",
       "      <td>2018-01-01 00:04:02</td>\n",
       "      <td>read</td>\n",
       "      <td>country_7</td>\n",
       "      <td>2458151264</td>\n",
       "      <td>AdWords</td>\n",
       "      <td>Europe</td>\n",
       "    </tr>\n",
       "    <tr>\n",
       "      <th>4</th>\n",
       "      <td>2018-01-01 00:05:03</td>\n",
       "      <td>read</td>\n",
       "      <td>country_8</td>\n",
       "      <td>2458151265</td>\n",
       "      <td>Reddit</td>\n",
       "      <td>North America</td>\n",
       "    </tr>\n",
       "  </tbody>\n",
       "</table>\n",
       "</div>"
      ],
      "text/plain": [
       "             datetimes event    country      userID   source          topic\n",
       "0  2018-01-01 00:01:01  read  country_7  2458151261      SEO  North America\n",
       "1  2018-01-01 00:03:20  read  country_7  2458151262      SEO  South America\n",
       "2  2018-01-01 00:04:01  read  country_7  2458151263  AdWords         Africa\n",
       "3  2018-01-01 00:04:02  read  country_7  2458151264  AdWords         Europe\n",
       "4  2018-01-01 00:05:03  read  country_8  2458151265   Reddit  North America"
      ]
     },
     "execution_count": 301,
     "metadata": {},
     "output_type": "execute_result"
    }
   ],
   "source": [
    "# url_data\n",
    "url_data = 'http://46.101.230.157/dilan/pandas_tutorial_read.csv'\n",
    "table1 = pd.read_csv(url_data, delimiter = ';', names = ['datetimes', 'event', 'country', 'userID', 'source', 'topic'])\n",
    "print(table1.shape)\n",
    "table1.head()"
   ]
  },
  {
   "cell_type": "markdown",
   "id": "9cffe255",
   "metadata": {},
   "source": [
    "## GroupBy, pivot table\n",
    "\n",
    "- 데이터 분석에 가장 많이 사용되는 함수, 데이터를 특정 항목에 대해 요약 정리\n",
    "- 월별 매출액 / 항목별 판매량 / 라인 별 불량률 등 원하는 목표 변수에 대한 지표를 직관적으로 확인 가능\n",
    "\n",
    "- Group By : 항목 별 값의 결과를 Series로\n",
    "- Pivot Table : 결과를 DataFrame으로\n",
    "\n"
   ]
  },
  {
   "cell_type": "code",
   "execution_count": 302,
   "id": "e1dac20b",
   "metadata": {},
   "outputs": [
    {
     "name": "stdout",
     "output_type": "stream",
     "text": [
      "C:\\Users\\user\\Desktop\\SaltLux\\Code\n"
     ]
    }
   ],
   "source": [
    "!cd "
   ]
  },
  {
   "cell_type": "code",
   "execution_count": 329,
   "id": "6f1a5845",
   "metadata": {},
   "outputs": [],
   "source": [
    "import numpy as np\n",
    "import pandas as pd"
   ]
  },
  {
   "cell_type": "code",
   "execution_count": 330,
   "id": "c123428a",
   "metadata": {},
   "outputs": [],
   "source": [
    "current_path = \"C:/Users/user/Desktop/SaltLux/Code/data/store_market_data.csv\""
   ]
  },
  {
   "cell_type": "code",
   "execution_count": 331,
   "id": "0e1eb530",
   "metadata": {},
   "outputs": [],
   "source": [
    "table1 = pd.read_csv('store_market_data.csv')"
   ]
  },
  {
   "cell_type": "code",
   "execution_count": 332,
   "id": "fcf560e0",
   "metadata": {},
   "outputs": [
    {
     "name": "stdout",
     "output_type": "stream",
     "text": [
      "(705571, 20)\n"
     ]
    },
    {
     "data": {
      "text/html": [
       "<div>\n",
       "<style scoped>\n",
       "    .dataframe tbody tr th:only-of-type {\n",
       "        vertical-align: middle;\n",
       "    }\n",
       "\n",
       "    .dataframe tbody tr th {\n",
       "        vertical-align: top;\n",
       "    }\n",
       "\n",
       "    .dataframe thead th {\n",
       "        text-align: right;\n",
       "    }\n",
       "</style>\n",
       "<table border=\"1\" class=\"dataframe\">\n",
       "  <thead>\n",
       "    <tr style=\"text-align: right;\">\n",
       "      <th></th>\n",
       "      <th>공급일자</th>\n",
       "      <th>요일</th>\n",
       "      <th>공급월</th>\n",
       "      <th>공급주차</th>\n",
       "      <th>회원번호</th>\n",
       "      <th>조합원상태</th>\n",
       "      <th>물품대분류</th>\n",
       "      <th>물품중분류</th>\n",
       "      <th>물품소분류</th>\n",
       "      <th>물품명</th>\n",
       "      <th>구매수량</th>\n",
       "      <th>주소-구</th>\n",
       "      <th>주소-동</th>\n",
       "      <th>성별</th>\n",
       "      <th>연령</th>\n",
       "      <th>연령대</th>\n",
       "      <th>구매금액</th>\n",
       "      <th>구매매장</th>\n",
       "      <th>반품_원거래일자</th>\n",
       "      <th>구매시각</th>\n",
       "    </tr>\n",
       "  </thead>\n",
       "  <tbody>\n",
       "    <tr>\n",
       "      <th>0</th>\n",
       "      <td>2018-01-02</td>\n",
       "      <td>화</td>\n",
       "      <td>1</td>\n",
       "      <td>1</td>\n",
       "      <td>272369856</td>\n",
       "      <td>정상회원</td>\n",
       "      <td>과실</td>\n",
       "      <td>과일</td>\n",
       "      <td>사과</td>\n",
       "      <td>사과/유(1.5kg)</td>\n",
       "      <td>1.0</td>\n",
       "      <td>수지구</td>\n",
       "      <td>풍덕천동</td>\n",
       "      <td>여</td>\n",
       "      <td>45.0</td>\n",
       "      <td>40대</td>\n",
       "      <td>22207</td>\n",
       "      <td>매장C</td>\n",
       "      <td>NaN</td>\n",
       "      <td>10:04</td>\n",
       "    </tr>\n",
       "    <tr>\n",
       "      <th>1</th>\n",
       "      <td>2018-01-02</td>\n",
       "      <td>화</td>\n",
       "      <td>1</td>\n",
       "      <td>1</td>\n",
       "      <td>1506656256</td>\n",
       "      <td>정상회원</td>\n",
       "      <td>채소</td>\n",
       "      <td>버섯</td>\n",
       "      <td>느타리버섯</td>\n",
       "      <td>느타리버섯(300g)</td>\n",
       "      <td>1.0</td>\n",
       "      <td>수지구</td>\n",
       "      <td>풍덕천동</td>\n",
       "      <td>여</td>\n",
       "      <td>36.0</td>\n",
       "      <td>30대이하</td>\n",
       "      <td>4977</td>\n",
       "      <td>매장C</td>\n",
       "      <td>NaN</td>\n",
       "      <td>10:05</td>\n",
       "    </tr>\n",
       "    <tr>\n",
       "      <th>2</th>\n",
       "      <td>2018-01-02</td>\n",
       "      <td>화</td>\n",
       "      <td>1</td>\n",
       "      <td>1</td>\n",
       "      <td>1506656256</td>\n",
       "      <td>정상회원</td>\n",
       "      <td>축산물</td>\n",
       "      <td>알</td>\n",
       "      <td>유정란</td>\n",
       "      <td>유정란/매장용(10알/국내산)</td>\n",
       "      <td>1.0</td>\n",
       "      <td>수지구</td>\n",
       "      <td>풍덕천동</td>\n",
       "      <td>여</td>\n",
       "      <td>36.0</td>\n",
       "      <td>30대이하</td>\n",
       "      <td>7083</td>\n",
       "      <td>매장C</td>\n",
       "      <td>NaN</td>\n",
       "      <td>10:05</td>\n",
       "    </tr>\n",
       "    <tr>\n",
       "      <th>3</th>\n",
       "      <td>2018-01-02</td>\n",
       "      <td>화</td>\n",
       "      <td>1</td>\n",
       "      <td>1</td>\n",
       "      <td>1023108864</td>\n",
       "      <td>정상회원</td>\n",
       "      <td>반찬</td>\n",
       "      <td>두부/유부</td>\n",
       "      <td>두부</td>\n",
       "      <td>연두부(100g)</td>\n",
       "      <td>1.0</td>\n",
       "      <td>수지구</td>\n",
       "      <td>풍덕천동</td>\n",
       "      <td>여</td>\n",
       "      <td>36.0</td>\n",
       "      <td>30대이하</td>\n",
       "      <td>766</td>\n",
       "      <td>매장C</td>\n",
       "      <td>NaN</td>\n",
       "      <td>10:08</td>\n",
       "    </tr>\n",
       "    <tr>\n",
       "      <th>4</th>\n",
       "      <td>2018-01-02</td>\n",
       "      <td>화</td>\n",
       "      <td>1</td>\n",
       "      <td>1</td>\n",
       "      <td>1476143616</td>\n",
       "      <td>정상회원</td>\n",
       "      <td>간식</td>\n",
       "      <td>빵</td>\n",
       "      <td>식빵, 식사대용</td>\n",
       "      <td>아침빵(240g/8개)/매장</td>\n",
       "      <td>1.0</td>\n",
       "      <td>수지구</td>\n",
       "      <td>풍덕천동</td>\n",
       "      <td>여</td>\n",
       "      <td>34.0</td>\n",
       "      <td>30대이하</td>\n",
       "      <td>4403</td>\n",
       "      <td>매장C</td>\n",
       "      <td>NaN</td>\n",
       "      <td>10:09</td>\n",
       "    </tr>\n",
       "  </tbody>\n",
       "</table>\n",
       "</div>"
      ],
      "text/plain": [
       "         공급일자 요일  공급월  공급주차        회원번호 조합원상태 물품대분류  물품중분류     물품소분류  \\\n",
       "0  2018-01-02  화    1     1   272369856  정상회원    과실     과일        사과   \n",
       "1  2018-01-02  화    1     1  1506656256  정상회원    채소     버섯     느타리버섯   \n",
       "2  2018-01-02  화    1     1  1506656256  정상회원   축산물      알       유정란   \n",
       "3  2018-01-02  화    1     1  1023108864  정상회원    반찬  두부/유부        두부   \n",
       "4  2018-01-02  화    1     1  1476143616  정상회원    간식      빵  식빵, 식사대용   \n",
       "\n",
       "                물품명  구매수량 주소-구  주소-동 성별    연령    연령대   구매금액 구매매장  반품_원거래일자  \\\n",
       "0       사과/유(1.5kg)   1.0  수지구  풍덕천동  여  45.0    40대  22207  매장C       NaN   \n",
       "1       느타리버섯(300g)   1.0  수지구  풍덕천동  여  36.0  30대이하   4977  매장C       NaN   \n",
       "2  유정란/매장용(10알/국내산)   1.0  수지구  풍덕천동  여  36.0  30대이하   7083  매장C       NaN   \n",
       "3         연두부(100g)   1.0  수지구  풍덕천동  여  36.0  30대이하    766  매장C       NaN   \n",
       "4   아침빵(240g/8개)/매장   1.0  수지구  풍덕천동  여  34.0  30대이하   4403  매장C       NaN   \n",
       "\n",
       "    구매시각  \n",
       "0  10:04  \n",
       "1  10:05  \n",
       "2  10:05  \n",
       "3  10:08  \n",
       "4  10:09  "
      ]
     },
     "execution_count": 332,
     "metadata": {},
     "output_type": "execute_result"
    }
   ],
   "source": [
    "print(table1.shape)\n",
    "table1.head()"
   ]
  },
  {
   "cell_type": "code",
   "execution_count": 323,
   "id": "f53d367d",
   "metadata": {},
   "outputs": [
    {
     "name": "stdout",
     "output_type": "stream",
     "text": [
      "(705571, 20)\n"
     ]
    }
   ],
   "source": [
    "table2 = pd.read_csv(current_path)\n",
    "print(table2.shape)"
   ]
  },
  {
   "cell_type": "code",
   "execution_count": 333,
   "id": "9b12d659",
   "metadata": {},
   "outputs": [
    {
     "data": {
      "text/plain": [
       "요일\n",
       "금    11064.344340\n",
       "목    10857.069337\n",
       "수    11062.047300\n",
       "월    10542.528917\n",
       "일    10939.249736\n",
       "토    11046.589839\n",
       "화    11002.352378\n",
       "Name: 구매금액, dtype: float64"
      ]
     },
     "execution_count": 333,
     "metadata": {},
     "output_type": "execute_result"
    }
   ],
   "source": [
    "table1.groupby('요일')['구매금액'].mean() # 요일을 인덱스로.. 평균 겂"
   ]
  },
  {
   "cell_type": "code",
   "execution_count": 334,
   "id": "55c32364",
   "metadata": {},
   "outputs": [
    {
     "data": {
      "text/html": [
       "<div>\n",
       "<style scoped>\n",
       "    .dataframe tbody tr th:only-of-type {\n",
       "        vertical-align: middle;\n",
       "    }\n",
       "\n",
       "    .dataframe tbody tr th {\n",
       "        vertical-align: top;\n",
       "    }\n",
       "\n",
       "    .dataframe thead th {\n",
       "        text-align: right;\n",
       "    }\n",
       "</style>\n",
       "<table border=\"1\" class=\"dataframe\">\n",
       "  <thead>\n",
       "    <tr style=\"text-align: right;\">\n",
       "      <th></th>\n",
       "      <th>공급일자</th>\n",
       "      <th>요일</th>\n",
       "      <th>공급월</th>\n",
       "      <th>공급주차</th>\n",
       "      <th>회원번호</th>\n",
       "      <th>조합원상태</th>\n",
       "      <th>물품대분류</th>\n",
       "      <th>물품중분류</th>\n",
       "      <th>물품소분류</th>\n",
       "      <th>물품명</th>\n",
       "      <th>구매수량</th>\n",
       "      <th>주소-구</th>\n",
       "      <th>주소-동</th>\n",
       "      <th>성별</th>\n",
       "      <th>연령</th>\n",
       "      <th>연령대</th>\n",
       "      <th>구매금액</th>\n",
       "      <th>구매매장</th>\n",
       "      <th>반품_원거래일자</th>\n",
       "      <th>구매시각</th>\n",
       "    </tr>\n",
       "  </thead>\n",
       "  <tbody>\n",
       "    <tr>\n",
       "      <th>0</th>\n",
       "      <td>2018-01-02</td>\n",
       "      <td>화</td>\n",
       "      <td>1</td>\n",
       "      <td>1</td>\n",
       "      <td>272369856</td>\n",
       "      <td>정상회원</td>\n",
       "      <td>과실</td>\n",
       "      <td>과일</td>\n",
       "      <td>사과</td>\n",
       "      <td>사과/유(1.5kg)</td>\n",
       "      <td>1.0</td>\n",
       "      <td>수지구</td>\n",
       "      <td>풍덕천동</td>\n",
       "      <td>여</td>\n",
       "      <td>45.0</td>\n",
       "      <td>40대</td>\n",
       "      <td>22207</td>\n",
       "      <td>매장C</td>\n",
       "      <td>NaN</td>\n",
       "      <td>10:04</td>\n",
       "    </tr>\n",
       "    <tr>\n",
       "      <th>1</th>\n",
       "      <td>2018-01-02</td>\n",
       "      <td>화</td>\n",
       "      <td>1</td>\n",
       "      <td>1</td>\n",
       "      <td>1506656256</td>\n",
       "      <td>정상회원</td>\n",
       "      <td>채소</td>\n",
       "      <td>버섯</td>\n",
       "      <td>느타리버섯</td>\n",
       "      <td>느타리버섯(300g)</td>\n",
       "      <td>1.0</td>\n",
       "      <td>수지구</td>\n",
       "      <td>풍덕천동</td>\n",
       "      <td>여</td>\n",
       "      <td>36.0</td>\n",
       "      <td>30대이하</td>\n",
       "      <td>4977</td>\n",
       "      <td>매장C</td>\n",
       "      <td>NaN</td>\n",
       "      <td>10:05</td>\n",
       "    </tr>\n",
       "    <tr>\n",
       "      <th>2</th>\n",
       "      <td>2018-01-02</td>\n",
       "      <td>화</td>\n",
       "      <td>1</td>\n",
       "      <td>1</td>\n",
       "      <td>1506656256</td>\n",
       "      <td>정상회원</td>\n",
       "      <td>축산물</td>\n",
       "      <td>알</td>\n",
       "      <td>유정란</td>\n",
       "      <td>유정란/매장용(10알/국내산)</td>\n",
       "      <td>1.0</td>\n",
       "      <td>수지구</td>\n",
       "      <td>풍덕천동</td>\n",
       "      <td>여</td>\n",
       "      <td>36.0</td>\n",
       "      <td>30대이하</td>\n",
       "      <td>7083</td>\n",
       "      <td>매장C</td>\n",
       "      <td>NaN</td>\n",
       "      <td>10:05</td>\n",
       "    </tr>\n",
       "    <tr>\n",
       "      <th>3</th>\n",
       "      <td>2018-01-02</td>\n",
       "      <td>화</td>\n",
       "      <td>1</td>\n",
       "      <td>1</td>\n",
       "      <td>1023108864</td>\n",
       "      <td>정상회원</td>\n",
       "      <td>반찬</td>\n",
       "      <td>두부/유부</td>\n",
       "      <td>두부</td>\n",
       "      <td>연두부(100g)</td>\n",
       "      <td>1.0</td>\n",
       "      <td>수지구</td>\n",
       "      <td>풍덕천동</td>\n",
       "      <td>여</td>\n",
       "      <td>36.0</td>\n",
       "      <td>30대이하</td>\n",
       "      <td>766</td>\n",
       "      <td>매장C</td>\n",
       "      <td>NaN</td>\n",
       "      <td>10:08</td>\n",
       "    </tr>\n",
       "    <tr>\n",
       "      <th>4</th>\n",
       "      <td>2018-01-02</td>\n",
       "      <td>화</td>\n",
       "      <td>1</td>\n",
       "      <td>1</td>\n",
       "      <td>1476143616</td>\n",
       "      <td>정상회원</td>\n",
       "      <td>간식</td>\n",
       "      <td>빵</td>\n",
       "      <td>식빵, 식사대용</td>\n",
       "      <td>아침빵(240g/8개)/매장</td>\n",
       "      <td>1.0</td>\n",
       "      <td>수지구</td>\n",
       "      <td>풍덕천동</td>\n",
       "      <td>여</td>\n",
       "      <td>34.0</td>\n",
       "      <td>30대이하</td>\n",
       "      <td>4403</td>\n",
       "      <td>매장C</td>\n",
       "      <td>NaN</td>\n",
       "      <td>10:09</td>\n",
       "    </tr>\n",
       "  </tbody>\n",
       "</table>\n",
       "</div>"
      ],
      "text/plain": [
       "         공급일자 요일  공급월  공급주차        회원번호 조합원상태 물품대분류  물품중분류     물품소분류  \\\n",
       "0  2018-01-02  화    1     1   272369856  정상회원    과실     과일        사과   \n",
       "1  2018-01-02  화    1     1  1506656256  정상회원    채소     버섯     느타리버섯   \n",
       "2  2018-01-02  화    1     1  1506656256  정상회원   축산물      알       유정란   \n",
       "3  2018-01-02  화    1     1  1023108864  정상회원    반찬  두부/유부        두부   \n",
       "4  2018-01-02  화    1     1  1476143616  정상회원    간식      빵  식빵, 식사대용   \n",
       "\n",
       "                물품명  구매수량 주소-구  주소-동 성별    연령    연령대   구매금액 구매매장  반품_원거래일자  \\\n",
       "0       사과/유(1.5kg)   1.0  수지구  풍덕천동  여  45.0    40대  22207  매장C       NaN   \n",
       "1       느타리버섯(300g)   1.0  수지구  풍덕천동  여  36.0  30대이하   4977  매장C       NaN   \n",
       "2  유정란/매장용(10알/국내산)   1.0  수지구  풍덕천동  여  36.0  30대이하   7083  매장C       NaN   \n",
       "3         연두부(100g)   1.0  수지구  풍덕천동  여  36.0  30대이하    766  매장C       NaN   \n",
       "4   아침빵(240g/8개)/매장   1.0  수지구  풍덕천동  여  34.0  30대이하   4403  매장C       NaN   \n",
       "\n",
       "    구매시각  \n",
       "0  10:04  \n",
       "1  10:05  \n",
       "2  10:05  \n",
       "3  10:08  \n",
       "4  10:09  "
      ]
     },
     "execution_count": 334,
     "metadata": {},
     "output_type": "execute_result"
    }
   ],
   "source": [
    "table1.head()"
   ]
  },
  {
   "cell_type": "code",
   "execution_count": 336,
   "id": "3ca35afc",
   "metadata": {},
   "outputs": [
    {
     "data": {
      "text/plain": [
       "요일  연령대  \n",
       "금   30대이하    158434038\n",
       "    40대      449759043\n",
       "    50대      319196997\n",
       "    60대      170808002\n",
       "    70대이상    117390184\n",
       "목   30대이하    150301936\n",
       "    40대      416901325\n",
       "    50대      293524482\n",
       "    60대      157682379\n",
       "    70대이상    112148947\n",
       "수   30대이하    156665842\n",
       "    40대      436644537\n",
       "    50대      298765854\n",
       "    60대      168640554\n",
       "    70대이상    100567716\n",
       "월   30대이하    195332433\n",
       "    40대      502023099\n",
       "    50대      306132225\n",
       "    60대      189428259\n",
       "    70대이상    112213387\n",
       "일   30대이하     88129516\n",
       "    40대      219118519\n",
       "    50대      162602594\n",
       "    60대       79819775\n",
       "    70대이상     41891404\n",
       "토   30대이하    139605909\n",
       "    40대      392879470\n",
       "    50대      315820204\n",
       "    60대      135737196\n",
       "    70대이상     92900311\n",
       "화   30대이하    159659515\n",
       "    40대      459077946\n",
       "    50대      324727130\n",
       "    60대      175776657\n",
       "    70대이상    104139379\n",
       "Name: 구매금액, dtype: int64"
      ]
     },
     "execution_count": 336,
     "metadata": {},
     "output_type": "execute_result"
    }
   ],
   "source": [
    "table1.groupby(['요일', '연령대'])['구매금액'].sum()"
   ]
  },
  {
   "cell_type": "code",
   "execution_count": 337,
   "id": "98b0ce41",
   "metadata": {},
   "outputs": [
    {
     "data": {
      "text/plain": [
       "수지구       0.860027\n",
       "기타        0.040995\n",
       "기흥구       0.036481\n",
       "분당구       0.031912\n",
       "수원 영통구    0.009754\n",
       "서울 강남구    0.006138\n",
       "서울 송파구    0.004014\n",
       "처인구       0.002618\n",
       "화성        0.002422\n",
       "광주        0.002123\n",
       "중원구       0.001094\n",
       "수원 장안구    0.000777\n",
       "수정구       0.000536\n",
       "수원 팔달구    0.000441\n",
       "하남        0.000388\n",
       "수원 권선구    0.000281\n",
       "Name: 주소-구, dtype: float64"
      ]
     },
     "execution_count": 337,
     "metadata": {},
     "output_type": "execute_result"
    }
   ],
   "source": [
    "table1['주소-구'].value_counts(normalize = True)"
   ]
  },
  {
   "cell_type": "code",
   "execution_count": 352,
   "id": "149b3138",
   "metadata": {},
   "outputs": [
    {
     "data": {
      "text/html": [
       "<div>\n",
       "<style scoped>\n",
       "    .dataframe tbody tr th:only-of-type {\n",
       "        vertical-align: middle;\n",
       "    }\n",
       "\n",
       "    .dataframe tbody tr th {\n",
       "        vertical-align: top;\n",
       "    }\n",
       "\n",
       "    .dataframe thead th {\n",
       "        text-align: right;\n",
       "    }\n",
       "</style>\n",
       "<table border=\"1\" class=\"dataframe\">\n",
       "  <thead>\n",
       "    <tr style=\"text-align: right;\">\n",
       "      <th>요일</th>\n",
       "      <th>금</th>\n",
       "      <th>목</th>\n",
       "      <th>수</th>\n",
       "      <th>월</th>\n",
       "      <th>일</th>\n",
       "      <th>토</th>\n",
       "      <th>화</th>\n",
       "    </tr>\n",
       "    <tr>\n",
       "      <th>연령대</th>\n",
       "      <th></th>\n",
       "      <th></th>\n",
       "      <th></th>\n",
       "      <th></th>\n",
       "      <th></th>\n",
       "      <th></th>\n",
       "      <th></th>\n",
       "    </tr>\n",
       "  </thead>\n",
       "  <tbody>\n",
       "    <tr>\n",
       "      <th>30대이하</th>\n",
       "      <td>158434038</td>\n",
       "      <td>150301936</td>\n",
       "      <td>156665842</td>\n",
       "      <td>195332433</td>\n",
       "      <td>88129516</td>\n",
       "      <td>139605909</td>\n",
       "      <td>159659515</td>\n",
       "    </tr>\n",
       "    <tr>\n",
       "      <th>40대</th>\n",
       "      <td>449759043</td>\n",
       "      <td>416901325</td>\n",
       "      <td>436644537</td>\n",
       "      <td>502023099</td>\n",
       "      <td>219118519</td>\n",
       "      <td>392879470</td>\n",
       "      <td>459077946</td>\n",
       "    </tr>\n",
       "    <tr>\n",
       "      <th>50대</th>\n",
       "      <td>319196997</td>\n",
       "      <td>293524482</td>\n",
       "      <td>298765854</td>\n",
       "      <td>306132225</td>\n",
       "      <td>162602594</td>\n",
       "      <td>315820204</td>\n",
       "      <td>324727130</td>\n",
       "    </tr>\n",
       "    <tr>\n",
       "      <th>60대</th>\n",
       "      <td>170808002</td>\n",
       "      <td>157682379</td>\n",
       "      <td>168640554</td>\n",
       "      <td>189428259</td>\n",
       "      <td>79819775</td>\n",
       "      <td>135737196</td>\n",
       "      <td>175776657</td>\n",
       "    </tr>\n",
       "    <tr>\n",
       "      <th>70대이상</th>\n",
       "      <td>117390184</td>\n",
       "      <td>112148947</td>\n",
       "      <td>100567716</td>\n",
       "      <td>112213387</td>\n",
       "      <td>41891404</td>\n",
       "      <td>92900311</td>\n",
       "      <td>104139379</td>\n",
       "    </tr>\n",
       "  </tbody>\n",
       "</table>\n",
       "</div>"
      ],
      "text/plain": [
       "요일             금          목          수          월          일          토  \\\n",
       "연령대                                                                       \n",
       "30대이하  158434038  150301936  156665842  195332433   88129516  139605909   \n",
       "40대    449759043  416901325  436644537  502023099  219118519  392879470   \n",
       "50대    319196997  293524482  298765854  306132225  162602594  315820204   \n",
       "60대    170808002  157682379  168640554  189428259   79819775  135737196   \n",
       "70대이상  117390184  112148947  100567716  112213387   41891404   92900311   \n",
       "\n",
       "요일             화  \n",
       "연령대               \n",
       "30대이하  159659515  \n",
       "40대    459077946  \n",
       "50대    324727130  \n",
       "60대    175776657  \n",
       "70대이상  104139379  "
      ]
     },
     "execution_count": 352,
     "metadata": {},
     "output_type": "execute_result"
    }
   ],
   "source": [
    "# pivot_table\n",
    "pd.pivot_table(data= table1, index = '요일', values = '구매금액', columns = '연령대', aggfunc = 'sum').T"
   ]
  },
  {
   "cell_type": "code",
   "execution_count": 351,
   "id": "5ff4a9c4",
   "metadata": {},
   "outputs": [
    {
     "data": {
      "text/html": [
       "<div>\n",
       "<style scoped>\n",
       "    .dataframe tbody tr th:only-of-type {\n",
       "        vertical-align: middle;\n",
       "    }\n",
       "\n",
       "    .dataframe tbody tr th {\n",
       "        vertical-align: top;\n",
       "    }\n",
       "\n",
       "    .dataframe thead tr th {\n",
       "        text-align: left;\n",
       "    }\n",
       "\n",
       "    .dataframe thead tr:last-of-type th {\n",
       "        text-align: right;\n",
       "    }\n",
       "</style>\n",
       "<table border=\"1\" class=\"dataframe\">\n",
       "  <thead>\n",
       "    <tr>\n",
       "      <th></th>\n",
       "      <th>sum</th>\n",
       "      <th>mean</th>\n",
       "    </tr>\n",
       "    <tr>\n",
       "      <th></th>\n",
       "      <th>구매금액</th>\n",
       "      <th>구매금액</th>\n",
       "    </tr>\n",
       "    <tr>\n",
       "      <th>요일</th>\n",
       "      <th></th>\n",
       "      <th></th>\n",
       "    </tr>\n",
       "  </thead>\n",
       "  <tbody>\n",
       "    <tr>\n",
       "      <th>금</th>\n",
       "      <td>1215650577</td>\n",
       "      <td>11064.344340</td>\n",
       "    </tr>\n",
       "    <tr>\n",
       "      <th>목</th>\n",
       "      <td>1130698629</td>\n",
       "      <td>10857.069337</td>\n",
       "    </tr>\n",
       "    <tr>\n",
       "      <th>수</th>\n",
       "      <td>1161404346</td>\n",
       "      <td>11062.047300</td>\n",
       "    </tr>\n",
       "    <tr>\n",
       "      <th>월</th>\n",
       "      <td>1305186165</td>\n",
       "      <td>10542.528917</td>\n",
       "    </tr>\n",
       "    <tr>\n",
       "      <th>일</th>\n",
       "      <td>591561808</td>\n",
       "      <td>10939.249736</td>\n",
       "    </tr>\n",
       "    <tr>\n",
       "      <th>토</th>\n",
       "      <td>1076943090</td>\n",
       "      <td>11046.589839</td>\n",
       "    </tr>\n",
       "    <tr>\n",
       "      <th>화</th>\n",
       "      <td>1223417575</td>\n",
       "      <td>11002.352378</td>\n",
       "    </tr>\n",
       "  </tbody>\n",
       "</table>\n",
       "</div>"
      ],
      "text/plain": [
       "           sum          mean\n",
       "          구매금액          구매금액\n",
       "요일                          \n",
       "금   1215650577  11064.344340\n",
       "목   1130698629  10857.069337\n",
       "수   1161404346  11062.047300\n",
       "월   1305186165  10542.528917\n",
       "일    591561808  10939.249736\n",
       "토   1076943090  11046.589839\n",
       "화   1223417575  11002.352378"
      ]
     },
     "execution_count": 351,
     "metadata": {},
     "output_type": "execute_result"
    }
   ],
   "source": [
    "pd.pivot_table(data= table1, index = '요일', values = '구매금액', aggfunc = ['sum','mean'])"
   ]
  },
  {
   "cell_type": "code",
   "execution_count": null,
   "id": "0b6d733d",
   "metadata": {},
   "outputs": [],
   "source": []
  }
 ],
 "metadata": {
  "kernelspec": {
   "display_name": "Python 3 (ipykernel)",
   "language": "python",
   "name": "python3"
  },
  "language_info": {
   "codemirror_mode": {
    "name": "ipython",
    "version": 3
   },
   "file_extension": ".py",
   "mimetype": "text/x-python",
   "name": "python",
   "nbconvert_exporter": "python",
   "pygments_lexer": "ipython3",
   "version": "3.9.7"
  }
 },
 "nbformat": 4,
 "nbformat_minor": 5
}
