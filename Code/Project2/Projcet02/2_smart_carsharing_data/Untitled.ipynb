{
 "cells": [
  {
   "cell_type": "code",
   "execution_count": 1,
   "id": "03ca6de8-66b6-4110-b775-a5c4080ab73a",
   "metadata": {},
   "outputs": [],
   "source": [
    "import pandas as pd"
   ]
  },
  {
   "cell_type": "code",
   "execution_count": 8,
   "id": "cecc75c0-9196-4784-ae4a-1865e96ec98d",
   "metadata": {},
   "outputs": [],
   "source": [
    "df = pd.read_excel('Carsharing_data_id.xlsx')"
   ]
  },
  {
   "cell_type": "code",
   "execution_count": null,
   "id": "59f22eae-ff81-4680-8f54-fcfb3a16d727",
   "metadata": {},
   "outputs": [],
   "source": []
  }
 ],
 "metadata": {
  "kernelspec": {
   "display_name": "Python 3 (ipykernel)",
   "language": "python",
   "name": "python3"
  },
  "language_info": {
   "codemirror_mode": {
    "name": "ipython",
    "version": 3
   },
   "file_extension": ".py",
   "mimetype": "text/x-python",
   "name": "python",
   "nbconvert_exporter": "python",
   "pygments_lexer": "ipython3",
   "version": "3.9.7"
  }
 },
 "nbformat": 4,
 "nbformat_minor": 5
}
