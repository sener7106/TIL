{
 "cells": [
  {
   "cell_type": "code",
   "execution_count": 1,
   "id": "18b4784d-22a2-4c19-944a-b83b12620d5b",
   "metadata": {},
   "outputs": [],
   "source": [
    "import pandas as pd\n",
    "import numpy as np"
   ]
  },
  {
   "cell_type": "markdown",
   "id": "a23fbacb-1e9f-4c8a-a384-79c8b36a0953",
   "metadata": {},
   "source": [
    "# 데이터 로드"
   ]
  },
  {
   "cell_type": "code",
   "execution_count": 3,
   "id": "01d26e38-1a02-4c70-a2df-a06fc7ea8411",
   "metadata": {},
   "outputs": [
    {
     "data": {
      "text/html": [
       "<div>\n",
       "<style scoped>\n",
       "    .dataframe tbody tr th:only-of-type {\n",
       "        vertical-align: middle;\n",
       "    }\n",
       "\n",
       "    .dataframe tbody tr th {\n",
       "        vertical-align: top;\n",
       "    }\n",
       "\n",
       "    .dataframe thead th {\n",
       "        text-align: right;\n",
       "    }\n",
       "</style>\n",
       "<table border=\"1\" class=\"dataframe\">\n",
       "  <thead>\n",
       "    <tr style=\"text-align: right;\">\n",
       "      <th></th>\n",
       "      <th>시도코드</th>\n",
       "      <th>시도명칭</th>\n",
       "      <th>시군구코드</th>\n",
       "      <th>시군구명칭</th>\n",
       "      <th>읍면동코드</th>\n",
       "      <th>읍면동명칭</th>\n",
       "    </tr>\n",
       "  </thead>\n",
       "  <tbody>\n",
       "    <tr>\n",
       "      <th>0</th>\n",
       "      <td>11</td>\n",
       "      <td>서울특별시</td>\n",
       "      <td>010</td>\n",
       "      <td>종로구</td>\n",
       "      <td>53</td>\n",
       "      <td>사직동</td>\n",
       "    </tr>\n",
       "    <tr>\n",
       "      <th>1</th>\n",
       "      <td>11</td>\n",
       "      <td>서울특별시</td>\n",
       "      <td>010</td>\n",
       "      <td>종로구</td>\n",
       "      <td>54</td>\n",
       "      <td>삼청동</td>\n",
       "    </tr>\n",
       "    <tr>\n",
       "      <th>2</th>\n",
       "      <td>11</td>\n",
       "      <td>서울특별시</td>\n",
       "      <td>010</td>\n",
       "      <td>종로구</td>\n",
       "      <td>55</td>\n",
       "      <td>부암동</td>\n",
       "    </tr>\n",
       "  </tbody>\n",
       "</table>\n",
       "</div>"
      ],
      "text/plain": [
       "  시도코드   시도명칭 시군구코드 시군구명칭 읍면동코드 읍면동명칭\n",
       "0   11  서울특별시   010   종로구    53   사직동\n",
       "1   11  서울특별시   010   종로구    54   삼청동\n",
       "2   11  서울특별시   010   종로구    55   부암동"
      ]
     },
     "execution_count": 3,
     "metadata": {},
     "output_type": "execute_result"
    }
   ],
   "source": [
    "df = pd.read_excel('../data/project2/adm_code.xls', header=1, dtype=object)\n",
    "df.head(3)"
   ]
  },
  {
   "cell_type": "markdown",
   "id": "ce358d15-396e-41aa-a26a-ed1da13632e5",
   "metadata": {},
   "source": [
    "# 행정구역번호 생성"
   ]
  },
  {
   "cell_type": "code",
   "execution_count": 5,
   "id": "e0a34477-1f24-47ee-bfb3-f8858a507348",
   "metadata": {},
   "outputs": [
    {
     "data": {
      "text/html": [
       "<div>\n",
       "<style scoped>\n",
       "    .dataframe tbody tr th:only-of-type {\n",
       "        vertical-align: middle;\n",
       "    }\n",
       "\n",
       "    .dataframe tbody tr th {\n",
       "        vertical-align: top;\n",
       "    }\n",
       "\n",
       "    .dataframe thead th {\n",
       "        text-align: right;\n",
       "    }\n",
       "</style>\n",
       "<table border=\"1\" class=\"dataframe\">\n",
       "  <thead>\n",
       "    <tr style=\"text-align: right;\">\n",
       "      <th></th>\n",
       "      <th>시도코드</th>\n",
       "      <th>시도명칭</th>\n",
       "      <th>시군구코드</th>\n",
       "      <th>시군구명칭</th>\n",
       "      <th>읍면동코드</th>\n",
       "      <th>읍면동명칭</th>\n",
       "      <th>행정구역번호</th>\n",
       "    </tr>\n",
       "  </thead>\n",
       "  <tbody>\n",
       "    <tr>\n",
       "      <th>0</th>\n",
       "      <td>11</td>\n",
       "      <td>서울특별시</td>\n",
       "      <td>010</td>\n",
       "      <td>종로구</td>\n",
       "      <td>53</td>\n",
       "      <td>사직동</td>\n",
       "      <td>1101053</td>\n",
       "    </tr>\n",
       "    <tr>\n",
       "      <th>1</th>\n",
       "      <td>11</td>\n",
       "      <td>서울특별시</td>\n",
       "      <td>010</td>\n",
       "      <td>종로구</td>\n",
       "      <td>54</td>\n",
       "      <td>삼청동</td>\n",
       "      <td>1101054</td>\n",
       "    </tr>\n",
       "    <tr>\n",
       "      <th>2</th>\n",
       "      <td>11</td>\n",
       "      <td>서울특별시</td>\n",
       "      <td>010</td>\n",
       "      <td>종로구</td>\n",
       "      <td>55</td>\n",
       "      <td>부암동</td>\n",
       "      <td>1101055</td>\n",
       "    </tr>\n",
       "  </tbody>\n",
       "</table>\n",
       "</div>"
      ],
      "text/plain": [
       "  시도코드   시도명칭 시군구코드 시군구명칭 읍면동코드 읍면동명칭   행정구역번호\n",
       "0   11  서울특별시   010   종로구    53   사직동  1101053\n",
       "1   11  서울특별시   010   종로구    54   삼청동  1101054\n",
       "2   11  서울특별시   010   종로구    55   부암동  1101055"
      ]
     },
     "execution_count": 5,
     "metadata": {},
     "output_type": "execute_result"
    }
   ],
   "source": [
    "df['행정구역번호'] = df['시도코드']+df['시군구코드']+df['읍면동코드']\n",
    "df.head(3)"
   ]
  },
  {
   "cell_type": "markdown",
   "id": "dc6f5a19-d1e9-4fac-94e3-d0710a2cf537",
   "metadata": {},
   "source": [
    "# 필요없는 컬럼 삭제"
   ]
  },
  {
   "cell_type": "code",
   "execution_count": 4,
   "id": "6ae6e8cf-b6b3-4ed3-8dc7-ff58919daaa6",
   "metadata": {},
   "outputs": [],
   "source": [
    "df.drop(columns=['시도코드', '시군구코드', '읍면동코드'], inplace=True)"
   ]
  },
  {
   "cell_type": "markdown",
   "id": "c0163e2f-5eaa-4d34-9633-76c96063a6a8",
   "metadata": {},
   "source": [
    "# 필요없는 값 삭제\n",
    "- 서울과 경기도만 쓸 것이 때문에 둘 외에는 삭제\n",
    "- 서울과 경기도 2개의 데이터로 분할"
   ]
  },
  {
   "cell_type": "code",
   "execution_count": 5,
   "id": "623e1204-8126-46fb-835a-6713654c4686",
   "metadata": {},
   "outputs": [
    {
     "data": {
      "text/plain": [
       "array(['서울특별시', '부산광역시', '대구광역시', '인천광역시', '광주광역시', '대전광역시', '울산광역시',\n",
       "       '세종특별자치시', '경기도', '강원도', '충청북도', '충청남도', '전라북도', '전라남도', '경상북도',\n",
       "       '경상남도', '제주특별자치도'], dtype=object)"
      ]
     },
     "execution_count": 5,
     "metadata": {},
     "output_type": "execute_result"
    }
   ],
   "source": [
    "df['시도명칭'].unique()"
   ]
  },
  {
   "cell_type": "code",
   "execution_count": 6,
   "id": "f20ca0f4-b3b6-4e10-b751-0d273fa1c61b",
   "metadata": {},
   "outputs": [],
   "source": [
    "# 서울\n",
    "df_s = df.copy()\n",
    "# 경기\n",
    "df_g = df.copy()"
   ]
  },
  {
   "cell_type": "code",
   "execution_count": 7,
   "id": "c2cc79f2-b1c1-4f1c-a26c-162d2fa2bfd3",
   "metadata": {},
   "outputs": [],
   "source": [
    "df_s['시도명칭'] = np.where(df_s['시도명칭']=='서울특별시', df_s['시도명칭'], np.NaN)\n",
    "df_g['시도명칭'] = np.where(df_g['시도명칭']=='경기도', df_g['시도명칭'], np.NaN)"
   ]
  },
  {
   "cell_type": "code",
   "execution_count": 8,
   "id": "946fed94-8c95-419d-a10e-4510b40f4807",
   "metadata": {},
   "outputs": [
    {
     "name": "stdout",
     "output_type": "stream",
     "text": [
      "서울\n",
      " 시도명칭      3076\n",
      "시군구명칭        0\n",
      "읍면동명칭        0\n",
      "행정구역번호       0\n",
      "dtype: int64\n"
     ]
    }
   ],
   "source": [
    "print('서울\\n', df_s.isnull().sum())"
   ]
  },
  {
   "cell_type": "code",
   "execution_count": 9,
   "id": "5b8f8303-8b1d-4a07-9743-23edafc2d72c",
   "metadata": {},
   "outputs": [
    {
     "name": "stdout",
     "output_type": "stream",
     "text": [
      "경기\n",
      " 시도명칭      2950\n",
      "시군구명칭        0\n",
      "읍면동명칭        0\n",
      "행정구역번호       0\n",
      "dtype: int64\n"
     ]
    }
   ],
   "source": [
    "print('경기\\n', df_g.isnull().sum())"
   ]
  },
  {
   "cell_type": "code",
   "execution_count": 10,
   "id": "b1ff92b7-f920-4745-b89d-3c66a8a2dde2",
   "metadata": {},
   "outputs": [],
   "source": [
    "df_s.dropna(inplace=True)\n",
    "df_g.dropna(inplace=True)"
   ]
  },
  {
   "cell_type": "markdown",
   "id": "23b1c078-3a13-4967-98a9-442ca8a310c9",
   "metadata": {},
   "source": [
    "# 컬럼 정렬"
   ]
  },
  {
   "cell_type": "code",
   "execution_count": 11,
   "id": "99636d1e-55a6-45f6-98e6-50d5f8502185",
   "metadata": {},
   "outputs": [
    {
     "data": {
      "text/html": [
       "<div>\n",
       "<style scoped>\n",
       "    .dataframe tbody tr th:only-of-type {\n",
       "        vertical-align: middle;\n",
       "    }\n",
       "\n",
       "    .dataframe tbody tr th {\n",
       "        vertical-align: top;\n",
       "    }\n",
       "\n",
       "    .dataframe thead th {\n",
       "        text-align: right;\n",
       "    }\n",
       "</style>\n",
       "<table border=\"1\" class=\"dataframe\">\n",
       "  <thead>\n",
       "    <tr style=\"text-align: right;\">\n",
       "      <th></th>\n",
       "      <th>행정구역번호</th>\n",
       "      <th>시군구명칭</th>\n",
       "      <th>읍면동명칭</th>\n",
       "    </tr>\n",
       "  </thead>\n",
       "  <tbody>\n",
       "    <tr>\n",
       "      <th>0</th>\n",
       "      <td>111053</td>\n",
       "      <td>종로구</td>\n",
       "      <td>사직동</td>\n",
       "    </tr>\n",
       "    <tr>\n",
       "      <th>1</th>\n",
       "      <td>111054</td>\n",
       "      <td>종로구</td>\n",
       "      <td>삼청동</td>\n",
       "    </tr>\n",
       "    <tr>\n",
       "      <th>2</th>\n",
       "      <td>111055</td>\n",
       "      <td>종로구</td>\n",
       "      <td>부암동</td>\n",
       "    </tr>\n",
       "  </tbody>\n",
       "</table>\n",
       "</div>"
      ],
      "text/plain": [
       "   행정구역번호 시군구명칭 읍면동명칭\n",
       "0  111053   종로구   사직동\n",
       "1  111054   종로구   삼청동\n",
       "2  111055   종로구   부암동"
      ]
     },
     "execution_count": 11,
     "metadata": {},
     "output_type": "execute_result"
    }
   ],
   "source": [
    "# 서울\n",
    "df_s = df_s[['행정구역번호', '시군구명칭', '읍면동명칭']]\n",
    "df_s.head(3)"
   ]
  },
  {
   "cell_type": "code",
   "execution_count": 12,
   "id": "40ec433f-39e5-490d-ae59-4e718d6e5d08",
   "metadata": {},
   "outputs": [
    {
     "data": {
      "text/html": [
       "<div>\n",
       "<style scoped>\n",
       "    .dataframe tbody tr th:only-of-type {\n",
       "        vertical-align: middle;\n",
       "    }\n",
       "\n",
       "    .dataframe tbody tr th {\n",
       "        vertical-align: top;\n",
       "    }\n",
       "\n",
       "    .dataframe thead th {\n",
       "        text-align: right;\n",
       "    }\n",
       "</style>\n",
       "<table border=\"1\" class=\"dataframe\">\n",
       "  <thead>\n",
       "    <tr style=\"text-align: right;\">\n",
       "      <th></th>\n",
       "      <th>행정구역번호</th>\n",
       "      <th>시군구명칭</th>\n",
       "      <th>읍면동명칭</th>\n",
       "    </tr>\n",
       "  </thead>\n",
       "  <tbody>\n",
       "    <tr>\n",
       "      <th>1178</th>\n",
       "      <td>311154</td>\n",
       "      <td>수원시 장안구</td>\n",
       "      <td>파장동</td>\n",
       "    </tr>\n",
       "    <tr>\n",
       "      <th>1179</th>\n",
       "      <td>311155</td>\n",
       "      <td>수원시 장안구</td>\n",
       "      <td>율천동</td>\n",
       "    </tr>\n",
       "    <tr>\n",
       "      <th>1180</th>\n",
       "      <td>311156</td>\n",
       "      <td>수원시 장안구</td>\n",
       "      <td>정자1동</td>\n",
       "    </tr>\n",
       "  </tbody>\n",
       "</table>\n",
       "</div>"
      ],
      "text/plain": [
       "      행정구역번호    시군구명칭 읍면동명칭\n",
       "1178  311154  수원시 장안구   파장동\n",
       "1179  311155  수원시 장안구   율천동\n",
       "1180  311156  수원시 장안구  정자1동"
      ]
     },
     "execution_count": 12,
     "metadata": {},
     "output_type": "execute_result"
    }
   ],
   "source": [
    "df_g = df_g[['행정구역번호', '시군구명칭', '읍면동명칭']]\n",
    "df_g.head(3)"
   ]
  },
  {
   "cell_type": "markdown",
   "id": "4b0af3a3-ad53-4613-954f-b3e1ccd6b8fa",
   "metadata": {},
   "source": [
    "# 데이터 저장"
   ]
  },
  {
   "cell_type": "code",
   "execution_count": 20,
   "id": "293df477-947f-47f1-8219-e2f7a48fe50b",
   "metadata": {},
   "outputs": [],
   "source": [
    "df_s.to_csv('../data/project2/seoul_id.csv', encoding='euc-kr', index=False)\n",
    "df_g.to_csv('../data/project2/gyeonggi_id.csv', encoding='euc-kr', index=False)"
   ]
  },
  {
   "cell_type": "code",
   "execution_count": null,
   "id": "df017f3a-635c-426d-8a81-3922893190e4",
   "metadata": {},
   "outputs": [],
   "source": []
  }
 ],
 "metadata": {
  "kernelspec": {
   "display_name": "Python 3 (ipykernel)",
   "language": "python",
   "name": "python3"
  },
  "language_info": {
   "codemirror_mode": {
    "name": "ipython",
    "version": 3
   },
   "file_extension": ".py",
   "mimetype": "text/x-python",
   "name": "python",
   "nbconvert_exporter": "python",
   "pygments_lexer": "ipython3",
   "version": "3.9.7"
  }
 },
 "nbformat": 4,
 "nbformat_minor": 5
}
