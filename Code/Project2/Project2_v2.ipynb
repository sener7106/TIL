{
 "cells": [
  {
   "cell_type": "markdown",
   "id": "ec38329a-16d7-4cd0-9007-7ebae85686db",
   "metadata": {},
   "source": [
    "# Smart Card Data 정의"
   ]
  },
  {
   "cell_type": "markdown",
   "id": "90d538dd-c08b-4560-83bb-27bda70140ce",
   "metadata": {},
   "source": [
    "| 데이터 컬럼 | 정의 | 데이터 컬럼 | 정의 |\n",
    "| :-- | :-- | :-- | :-- |\n",
    "| ChainID | Index | off_Ion | 하차 지점 경도 |\n",
    "| card_name | 대중교통 승하차 카드 고유 번호 | off_lat | 하차 지점 위도 |\n",
    "| Bus | 버스 승차 여부 (True, False) | off_dong | 하차 지점 행정구역 (동) |\n",
    "| Subway | 지하철 승차 여부 (True, False) | off_hour | 하차 시간대 (시) |\n",
    "| on_area_name | 승차 지점 | off_minute | 하차 시간대 (분) |\n",
    "| on_Ion | 승차 지점 경도 | off_second | 하차 시간대 (초) |\n",
    "| on_lat | 승차 지점 위도 | no_transfer | 환승 횟수 (Number of Transfer) |\n",
    "| on_dong | 승차 지점 행정구역 (동) | total_distance | 총 이동 거리 |\n",
    "| on_hour | 승차 시간대 (시) | total_time | 총 이동 시간 |\n",
    "| on_minute | 승차 시간대 (분) | route_id | 버스 노선 정보 |\n",
    "| on_second | 승차 시간대 (초) | Haversine | 지구 표면에 있는 두 지점 사이의 직선 거리 |\n",
    "| off_area_name | 하차 지점 | Circuity | Haversine 거리와 실제 네트워크 통행 거리의 비율 |\n"
   ]
  },
  {
   "cell_type": "markdown",
   "id": "6a2ee0a6-5bca-4382-adc5-2a7980ebc610",
   "metadata": {},
   "source": [
    "# 용어 정리"
   ]
  },
  {
   "cell_type": "markdown",
   "id": "f9982756-7613-4cf2-8cf8-0eca65e4efc3",
   "metadata": {},
   "source": [
    "## 온디맨드 (on-demend) - 주문형 서비스\n",
    "- 정의\n",
    "    - 소비자가 있는 곳까지 찾아가서 상품과 서비스를 전달하는 것\n",
    "    - 이용자의 요구에 따라 상품이나 서비스가 바로 제공되는 것\n",
    "    \n",
    "## O2O (Online to Offline)\n",
    "- 온라인에서 결제하고 오프라인에서 사용하는 것\n",
    "\n",
    "## 예시\n",
    "- 배달의 민족 앱에서 음식을 주문한다.\n",
    "- 카카오 택시, 우버 앱등을 이용해서 택시를 부른다."
   ]
  },
  {
   "cell_type": "markdown",
   "id": "3c7f6a36-dea7-4c8b-afd7-1eb4c3d439cb",
   "metadata": {},
   "source": [
    "# 분석 방향 정의"
   ]
  },
  {
   "cell_type": "markdown",
   "id": "c0096bd4-99b4-449c-a4c8-dc36aa62ccb3",
   "metadata": {},
   "source": [
    "### 1번. 취약 지점 파악\n",
    "실제 통행 기록인 스마트카드 데이터를 활용하여 , 서울시 내에서 대중교통 취약지점을 확인하고 온디맨드 서비스가 어느 지점을 집중적으로 공략해서 서비스 되어야할지 파악"
   ]
  },
  {
   "cell_type": "code",
   "execution_count": null,
   "id": "eb844ebf-81f7-47e8-84e2-f1227c0af83f",
   "metadata": {},
   "outputs": [],
   "source": []
  }
 ],
 "metadata": {
  "kernelspec": {
   "display_name": "Python 3 (ipykernel)",
   "language": "python",
   "name": "python3"
  },
  "language_info": {
   "codemirror_mode": {
    "name": "ipython",
    "version": 3
   },
   "file_extension": ".py",
   "mimetype": "text/x-python",
   "name": "python",
   "nbconvert_exporter": "python",
   "pygments_lexer": "ipython3",
   "version": "3.9.7"
  }
 },
 "nbformat": 4,
 "nbformat_minor": 5
}
