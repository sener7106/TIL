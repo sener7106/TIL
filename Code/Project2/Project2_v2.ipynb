{
 "cells": [
  {
   "cell_type": "markdown",
   "id": "ec38329a-16d7-4cd0-9007-7ebae85686db",
   "metadata": {},
   "source": [
    "# Smart Card Data 정의"
   ]
  },
  {
   "cell_type": "markdown",
   "id": "90d538dd-c08b-4560-83bb-27bda70140ce",
   "metadata": {},
   "source": [
    "| 데이터 컬럼 | 정의 | 데이터 컬럼 | 정의 |\n",
    "| :-- | :-- | :-- | :-- |\n",
    "| ChainID | Index | off_Ion | 하차 지점 경도 |\n",
    "| card_name | 대중교통 승하차 카드 고유 번호 | off_lat | 하차 지점 위도 |\n",
    "| Bus | 버스 승차 여부 (True, False) | off_dong | 하차 지점 행정구역 (동) |\n",
    "| Subway | 지하철 승차 여부 (True, False) | off_hour | 하차 시간대 (시) |\n",
    "| on_area_name | 승차 지점 | off_minute | 하차 시간대 (분) |\n",
    "| on_Ion | 승차 지점 경도 | off_second | 하차 시간대 (초) |\n",
    "| on_lat | 승차 지점 위도 | no_transfer | 환승 횟수 (Number of Transfer) |\n",
    "| on_dong | 승차 지점 행정구역 (동) | total_distance | 총 이동 거리 |\n",
    "| on_hour | 승차 시간대 (시) | total_time | 총 이동 시간 |\n",
    "| on_minute | 승차 시간대 (분) | route_id | 버스 노선 정보 |\n",
    "| on_second | 승차 시간대 (초) | Haversine | 지구 표면에 있는 두 지점 사이의 직선 거리 |\n",
    "| off_area_name | 하차 지점 | Circuity | Haversine 거리와 실제 네트워크 통행 거리의 비율 |\n"
   ]
  },
  {
   "cell_type": "markdown",
   "id": "6a2ee0a6-5bca-4382-adc5-2a7980ebc610",
   "metadata": {},
   "source": [
    "# 용어 정리"
   ]
  },
  {
   "cell_type": "markdown",
   "id": "f9982756-7613-4cf2-8cf8-0eca65e4efc3",
   "metadata": {
    "jp-MarkdownHeadingCollapsed": true,
    "tags": []
   },
   "source": [
    "## 온디맨드 (on-demend) - 주문형 서비스\n",
    "- 정의\n",
    "    - 소비자가 있는 곳까지 찾아가서 상품과 서비스를 전달하는 것\n",
    "    - 이용자의 요구에 따라 상품이나 서비스가 바로 제공되는 것\n",
    "    - 수요가 있을 만한 구역에 배치해야 한다.\n",
    "## O2O (Online to Offline)\n",
    "- 온라인에서 결제하고 오프라인에서 사용하는 것\n",
    "\n",
    "## 예시\n",
    "- 배달의 민족 앱에서 음식을 주문한다.\n",
    "- 카카오 택시, 우버 앱등을 이용해서 택시를 부른다."
   ]
  },
  {
   "cell_type": "markdown",
   "id": "3c7f6a36-dea7-4c8b-afd7-1eb4c3d439cb",
   "metadata": {},
   "source": [
    "# 분석 방향 정의"
   ]
  },
  {
   "cell_type": "markdown",
   "id": "c0096bd4-99b4-449c-a4c8-dc36aa62ccb3",
   "metadata": {},
   "source": [
    "### 1번. 취약 지점 파악\n",
    "실제 통행 기록인 스마트카드 데이터를 활용하여 , 서울시 내에서 대중교통 취약지점을 확인하고 온디맨드 서비스가 어느 지점을 집중적으로 공략해서 서비스 되어야할지 파악"
   ]
  },
  {
   "cell_type": "markdown",
   "id": "1210bc1a-1a7f-41a3-86e9-a8e97285cdb3",
   "metadata": {},
   "source": [
    "- Circuity의 차이가 환승 횟수와 관계를 가질까?\n",
    "- Circuity 1에 가까울 수록 직전성이 높고, 1보다 크면 클수록 우회\n",
    "- 모든 통행수단에 대해 거리가 멀 수록 Circuity가 낮아짐."
   ]
  },
  {
   "cell_type": "markdown",
   "id": "02b9818a-cb2f-4404-b29f-c062acfb756f",
   "metadata": {},
   "source": [
    "- 온디맨드 서비스를 이용하는 고객은 생활이 선택이 자신의 가치와 일치할 때 이용한다.\n",
    "- 다양한 교통 서비스에는 선택의 자유가 중요하고, 이에 따른 차량 공유 사이트는 근처에 있어야함. \n",
    "- 주로 경로 시간과 배차 시간이 측면에서 대중교통을 쉽게 이용할 수 있는 지역과 300m미만의 거리에 공유 차량이\n",
    " 있는 지역에서 사용자들을 끌어들인다."
   ]
  },
  {
   "cell_type": "markdown",
   "id": "9aee4ea3-9b9d-406d-90b0-cc419524c1b1",
   "metadata": {},
   "source": [
    "- 통행패턴의 변화를 유도하려면 해당 서비스가 사용자 친화적이여야함.\n",
    "- 개인수준(통행 행동, 통행 선호도)이나 사회적 수준(사회적 지속가능성)에서 보다 정량적인 \n",
    "결과를 필요하게 된다."
   ]
  },
  {
   "cell_type": "markdown",
   "id": "d5de6bb5-2d50-425e-8a48-65aa6fdf23e7",
   "metadata": {},
   "source": [
    "- 이용자의 카결제 일자를 파악, 교통수단 별 지역간 수요(출발지 - 도착지 분포 - OD 분포)는 중심 시가지와 주변지역이 수요가 많다.\n",
    "- 택시/대여자전거는 중심시가지 내에 단거리 이동에 많이 이용."
   ]
  },
  {
   "cell_type": "markdown",
   "id": "0a0153dc-cb98-435a-8944-e6b3853bb884",
   "metadata": {},
   "source": [
    "__경로검색 데이터를__ 시계열적으로 분석하면, 교통수단 및 이동 장소 등 변화를 유추 가능"
   ]
  },
  {
   "cell_type": "code",
   "execution_count": null,
   "id": "3f3ad3e5-470f-4048-9188-948eb2919d45",
   "metadata": {},
   "outputs": [],
   "source": []
  }
 ],
 "metadata": {
  "kernelspec": {
   "display_name": "Python 3 (ipykernel)",
   "language": "python",
   "name": "python3"
  },
  "language_info": {
   "codemirror_mode": {
    "name": "ipython",
    "version": 3
   },
   "file_extension": ".py",
   "mimetype": "text/x-python",
   "name": "python",
   "nbconvert_exporter": "python",
   "pygments_lexer": "ipython3",
   "version": "3.9.7"
  }
 },
 "nbformat": 4,
 "nbformat_minor": 5
}
