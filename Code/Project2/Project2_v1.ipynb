{
 "cells": [
  {
   "cell_type": "code",
   "execution_count": 1,
   "id": "153511f8-e5e8-4bdf-a36b-51282d9befe3",
   "metadata": {},
   "outputs": [
    {
     "name": "stderr",
     "output_type": "stream",
     "text": [
      "C:\\Users\\user\\AppData\\Local\\Temp/ipykernel_21140/2669561005.py:24: DeprecationWarning: `set_matplotlib_formats` is deprecated since IPython 7.23, directly use `matplotlib_inline.backend_inline.set_matplotlib_formats()`\n",
      "  set_matplotlib_formats('retina')\n"
     ]
    }
   ],
   "source": [
    "import os\n",
    "import numpy as np\n",
    "import pandas as pd\n",
    "\n",
    "import matplotlib as mpl # 그래프 옵션\n",
    "import matplotlib.pyplot as plt # 그래프 출력\n",
    "\n",
    "import seaborn as sns\n",
    "\n",
    "%matplotlib inline\n",
    "# 그래프 설정 한글폰트\n",
    "if os.name == 'nt': # 윈도우 사용자\n",
    "    mpl.rc('font', family = 'Malgun Gothic')\n",
    "elif os.name == 'posix': # 맥 사용자\n",
    "    mpl.rc('font', family = 'AppleGothic')\n",
    "else:\n",
    "    print('check your os')\n",
    "\n",
    "mpl.rc(\"axes\", unicode_minus=True)\n",
    "pd.options.display.max_columns = 100\n",
    "pd.options.display.max_rows = 1000\n",
    "# 그래프의 한글을 선명하게\n",
    "from IPython.display import set_matplotlib_formats\n",
    "set_matplotlib_formats('retina')\n",
    "\n",
    "# 그래프에서 음수값 나올 때, 깨지는 현상 방지\n",
    "mpl.rc('axes', unicode_minus = False)\n",
    "\n",
    "import warnings\n",
    "warnings.filterwarnings('ignore')\n",
    "# 라이브러리\n",
    "from scipy import stats\n",
    "import matplotlib.pyplot as plt\n",
    "import seaborn as sns\n",
    "from statsmodels.stats.proportion import proportions_ztest\n",
    "\n",
    "# 이상치 측정용 스케일\n",
    "from sklearn.preprocessing import scale, minmax_scale , robust_scale\n",
    "import matplotlib\n"
   ]
  },
  {
   "cell_type": "code",
   "execution_count": null,
   "id": "57551b57-11c0-41d2-ae0a-3b3f2fa9ec7b",
   "metadata": {},
   "outputs": [],
   "source": []
  }
 ],
 "metadata": {
  "kernelspec": {
   "display_name": "Python 3 (ipykernel)",
   "language": "python",
   "name": "python3"
  },
  "language_info": {
   "codemirror_mode": {
    "name": "ipython",
    "version": 3
   },
   "file_extension": ".py",
   "mimetype": "text/x-python",
   "name": "python",
   "nbconvert_exporter": "python",
   "pygments_lexer": "ipython3",
   "version": "3.9.7"
  }
 },
 "nbformat": 4,
 "nbformat_minor": 5
}
