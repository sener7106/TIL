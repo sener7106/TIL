{
 "cells": [
  {
   "cell_type": "markdown",
   "id": "7b574004-95a9-4dec-ba73-11ef64d1b238",
   "metadata": {
    "tags": []
   },
   "source": [
    "# 프로젝트2 - 스마트카드 데이터 대중교통망 Circuity 활용\n",
    "\n",
    "### 문제 제시 배경\n",
    "\n",
    "* 최근 도시 팽창으로 인해 교통혼잡이 날로 증가하여 사회 문제로 부상하고 있다. 이를 해결하기 위해 '통합거리 비례제'를 실시해 버스, 지하철, 버스-지하철 이러한 환승통행이 이루어지고 있다. 이에 대한 해결책의 일환으로 시장에서는 고객의 요구와 수요에 대응하는 '주문형 서비스'인 '온디맨드 서비스'가 생겨나고 있다. 이 서비스에 대한 논의가 활발하게 이루어지고 있는 와중에, 이를 활용한 MaaS 플랫폼이 다수 출시되고 있다. 서울시 내 혼잡지역을 파악해 어느 지역에 '온디맨드 서비스'를 실시하면 좋을지, 궁극적으로 어떻게 하면 교통혼잡을 줄일 수 있을지 라는 생각으로 이 프로젝트를 시작하였다.\n",
    "\n",
    "### 프로젝트 개요\n",
    "\n",
    "* 수요와 공급에 따른 교통수단별 Circuity(우회계수)를 확인하고, 취약지점을 파악해 수요가 필요한 지점에 서비스를 하는 것이 중요하다.\n",
    "\n",
    "### 프로젝트 목적\n",
    "\n",
    "* Smart Card 데이터를 활용하여 서울특별시 내의 대중교통 취약지점을 확인하고, 온디맨드 서비스의 최적 입지에 대해 분석한다.\n",
    "\n",
    "### 분석 절차\n",
    "\n",
    "1. 실제 통행 기록인 스마트 카드 데이터를 활용하여 서울시 내 대중교통 취약지점을 파악한다. 이를 활용해 온디맨드 서비스가 어느 지점에서 실시되면 좋을지 파악한다.\n",
    "* 데이터를 정제하고, 지도 상에 시각화하여 서울시 내 25개 구에 대한 Circuity 빈도를 파악한다.\n",
    "\n",
    "2. 시각화를 통해 어느 지역을 중심으로 파악하면 좋을지 생각해본다. Circuity(우회계수)의 빈도가 높은 4개의 구를 중심으로 세부적인 내용을 분석한다.\n",
    "* 버스, 지하철, 버스-지하철 그룹으로 나눠 이에 대한 분석을 진행한다.\n",
    "* 위도, 경도 데이터를 활용한 대중교통 이용 고객의 루트를 확인한다.\n",
    "* 경로 검색 데이터를 시계열적으로 분석하면 교통수단 및 이용 장소 등의 변화를 유추할 수 있을 것이다.\n",
    "\n",
    "3. 각 데이터의 분석결과를 전처리 및 시각화 과정을 통해 Circuity와의 관계성을 파악한다.\n",
    "\n",
    "### 예상 기대효과\n",
    "\n",
    "* 혼잡한 지점, 평균 대기시간이 긴 지점 주변을 공략하면 인원이 분산되는 효과를 얻을 수 있을 것이다.\n",
    "* 대중교통이 미비한 지점, 역과의 거리가 너무 먼 지점 등은 택시 등을 이용하게 되므로, 이 지점에 온디맨드 서비스가 생긴다면 효과를 볼 수 있을 것이다.\n",
    "* Circuity가 큰 지점은 그만큼 우회해서 간다는 뜻이므로 시간이 오래 걸린다. Circuity와 관련된 분석을 통해 소비자의 요구를 효율적으로 해결할 수 있는 온디맨드 서비스가 필요한 지점을 파악하여 소비자의 수요와 불편을 해결할 수 있을 것이다.\n",
    "\n",
    "### 해야할일\n",
    "\n",
    "1. 시군구별로 데이터를 분리하기\n",
    "2. Circuity가 높은 4개의 시군구를 중심으로 데이터를 분석하기.. 시군구명칭 pivot_table\n",
    " - 서초구, 양천구, 중랑구, 서대문구를 중심으로 데이터 분석.\n",
    " - 유의미한 Circuity 데이터 추출을 위해서\n",
    " - 대중교통이 취약한 부분은 혼잡하고, 돌아가는 지점 . Circuity > 1.0\n",
    " - Circuity가 1.0보다 아래인 지점은 정제\n",
    " - 거시적으로는 문제 배경을 잡는 것을 중심으로, 미시적으로는 자세하게 분석.\n",
    " - 특정 행정동의 혼잡 경로 중심으로 분석할 것이므로, total distance를 적게 잡을 필요성 있음.\n",
    " - crosstab으로 특정 구에 해당하는 데이터만 원본데이터에서 추출하고, 경로를 특정하자.\n",
    " - Circuity가 3.0이상인 데이터에 대해서는 고려하지 않음(why? 극단적으로 높은 Circuity는 분류해서 확인할 필요가 있고, 오류로 인해 높은 경우가 있음)\n",
    "3. 어떤 관계성을 데이터 분석할까?\n",
    "4. 대중교통 이용승객 수와 도로교통별 혼잡 우회계수와 상관관계가 있을까??"
   ]
  },
  {
   "cell_type": "markdown",
   "id": "0853cb35",
   "metadata": {},
   "source": [
    "## 1. 패키지 불러오기"
   ]
  },
  {
   "cell_type": "code",
   "execution_count": 1,
   "id": "eb4ccd76",
   "metadata": {
    "tags": []
   },
   "outputs": [],
   "source": [
    "import pandas as pd\n",
    "import numpy as np\n",
    "import matplotlib as mpl\n",
    "import matplotlib.pyplot as plt\n",
    "mpl.rc('font',family='Malgun Gothic')\n",
    "mpl.rc('axes',unicode_minus=True)\n",
    "pd.options.display.max_columns=100\n",
    "pd.options.display.max_rows=100\n",
    "import seaborn as sns\n",
    "%matplotlib inline\n",
    "import warnings\n",
    "warnings.filterwarnings('ignore')\n",
    "from tqdm import tqdm\n",
    "import datetime\n",
    "import json\n",
    "import matplotlib_inline.backend_inline\n",
    "matplotlib_inline.backend_inline.set_matplotlib_formats('retina')\n",
    "\n",
    "pd.options.display.max_columns=100\n",
    "pd.options.display.max_rows=100"
   ]
  },
  {
   "cell_type": "markdown",
   "id": "e65b974c",
   "metadata": {},
   "source": [
    "## 2. 데이터 불러오기"
   ]
  },
  {
   "cell_type": "code",
   "execution_count": 2,
   "id": "ee99273d",
   "metadata": {
    "scrolled": true
   },
   "outputs": [
    {
     "ename": "FileNotFoundError",
     "evalue": "[Errno 2] No such file or directory: 'C:/Users/user/Desktop/프로젝트_2차/1안_스마트카드데이터/smartcard_Chain.csv'",
     "output_type": "error",
     "traceback": [
      "\u001b[1;31m---------------------------------------------------------------------------\u001b[0m",
      "\u001b[1;31mFileNotFoundError\u001b[0m                         Traceback (most recent call last)",
      "\u001b[1;32m~\\AppData\\Local\\Temp/ipykernel_1756/1060615286.py\u001b[0m in \u001b[0;36m<module>\u001b[1;34m\u001b[0m\n\u001b[1;32m----> 1\u001b[1;33m \u001b[0mdf\u001b[0m\u001b[1;33m=\u001b[0m\u001b[0mpd\u001b[0m\u001b[1;33m.\u001b[0m\u001b[0mread_csv\u001b[0m\u001b[1;33m(\u001b[0m\u001b[1;34m'C:/Users/user/Desktop/프로젝트_2차/1안_스마트카드데이터/smartcard_Chain.csv'\u001b[0m\u001b[1;33m,\u001b[0m\u001b[0mencoding\u001b[0m\u001b[1;33m=\u001b[0m\u001b[1;34m'euc-kr'\u001b[0m\u001b[1;33m)\u001b[0m\u001b[1;33m\u001b[0m\u001b[1;33m\u001b[0m\u001b[0m\n\u001b[0m\u001b[0;32m      2\u001b[0m \u001b[0mdf\u001b[0m\u001b[1;33m.\u001b[0m\u001b[0mhead\u001b[0m\u001b[1;33m(\u001b[0m\u001b[1;33m)\u001b[0m\u001b[1;33m\u001b[0m\u001b[1;33m\u001b[0m\u001b[0m\n",
      "\u001b[1;32mC:\\ProgramData\\Anaconda3\\lib\\site-packages\\pandas\\util\\_decorators.py\u001b[0m in \u001b[0;36mwrapper\u001b[1;34m(*args, **kwargs)\u001b[0m\n\u001b[0;32m    309\u001b[0m                     \u001b[0mstacklevel\u001b[0m\u001b[1;33m=\u001b[0m\u001b[0mstacklevel\u001b[0m\u001b[1;33m,\u001b[0m\u001b[1;33m\u001b[0m\u001b[1;33m\u001b[0m\u001b[0m\n\u001b[0;32m    310\u001b[0m                 )\n\u001b[1;32m--> 311\u001b[1;33m             \u001b[1;32mreturn\u001b[0m \u001b[0mfunc\u001b[0m\u001b[1;33m(\u001b[0m\u001b[1;33m*\u001b[0m\u001b[0margs\u001b[0m\u001b[1;33m,\u001b[0m \u001b[1;33m**\u001b[0m\u001b[0mkwargs\u001b[0m\u001b[1;33m)\u001b[0m\u001b[1;33m\u001b[0m\u001b[1;33m\u001b[0m\u001b[0m\n\u001b[0m\u001b[0;32m    312\u001b[0m \u001b[1;33m\u001b[0m\u001b[0m\n\u001b[0;32m    313\u001b[0m         \u001b[1;32mreturn\u001b[0m \u001b[0mwrapper\u001b[0m\u001b[1;33m\u001b[0m\u001b[1;33m\u001b[0m\u001b[0m\n",
      "\u001b[1;32mC:\\ProgramData\\Anaconda3\\lib\\site-packages\\pandas\\io\\parsers\\readers.py\u001b[0m in \u001b[0;36mread_csv\u001b[1;34m(filepath_or_buffer, sep, delimiter, header, names, index_col, usecols, squeeze, prefix, mangle_dupe_cols, dtype, engine, converters, true_values, false_values, skipinitialspace, skiprows, skipfooter, nrows, na_values, keep_default_na, na_filter, verbose, skip_blank_lines, parse_dates, infer_datetime_format, keep_date_col, date_parser, dayfirst, cache_dates, iterator, chunksize, compression, thousands, decimal, lineterminator, quotechar, quoting, doublequote, escapechar, comment, encoding, encoding_errors, dialect, error_bad_lines, warn_bad_lines, on_bad_lines, delim_whitespace, low_memory, memory_map, float_precision, storage_options)\u001b[0m\n\u001b[0;32m    584\u001b[0m     \u001b[0mkwds\u001b[0m\u001b[1;33m.\u001b[0m\u001b[0mupdate\u001b[0m\u001b[1;33m(\u001b[0m\u001b[0mkwds_defaults\u001b[0m\u001b[1;33m)\u001b[0m\u001b[1;33m\u001b[0m\u001b[1;33m\u001b[0m\u001b[0m\n\u001b[0;32m    585\u001b[0m \u001b[1;33m\u001b[0m\u001b[0m\n\u001b[1;32m--> 586\u001b[1;33m     \u001b[1;32mreturn\u001b[0m \u001b[0m_read\u001b[0m\u001b[1;33m(\u001b[0m\u001b[0mfilepath_or_buffer\u001b[0m\u001b[1;33m,\u001b[0m \u001b[0mkwds\u001b[0m\u001b[1;33m)\u001b[0m\u001b[1;33m\u001b[0m\u001b[1;33m\u001b[0m\u001b[0m\n\u001b[0m\u001b[0;32m    587\u001b[0m \u001b[1;33m\u001b[0m\u001b[0m\n\u001b[0;32m    588\u001b[0m \u001b[1;33m\u001b[0m\u001b[0m\n",
      "\u001b[1;32mC:\\ProgramData\\Anaconda3\\lib\\site-packages\\pandas\\io\\parsers\\readers.py\u001b[0m in \u001b[0;36m_read\u001b[1;34m(filepath_or_buffer, kwds)\u001b[0m\n\u001b[0;32m    480\u001b[0m \u001b[1;33m\u001b[0m\u001b[0m\n\u001b[0;32m    481\u001b[0m     \u001b[1;31m# Create the parser.\u001b[0m\u001b[1;33m\u001b[0m\u001b[1;33m\u001b[0m\u001b[0m\n\u001b[1;32m--> 482\u001b[1;33m     \u001b[0mparser\u001b[0m \u001b[1;33m=\u001b[0m \u001b[0mTextFileReader\u001b[0m\u001b[1;33m(\u001b[0m\u001b[0mfilepath_or_buffer\u001b[0m\u001b[1;33m,\u001b[0m \u001b[1;33m**\u001b[0m\u001b[0mkwds\u001b[0m\u001b[1;33m)\u001b[0m\u001b[1;33m\u001b[0m\u001b[1;33m\u001b[0m\u001b[0m\n\u001b[0m\u001b[0;32m    483\u001b[0m \u001b[1;33m\u001b[0m\u001b[0m\n\u001b[0;32m    484\u001b[0m     \u001b[1;32mif\u001b[0m \u001b[0mchunksize\u001b[0m \u001b[1;32mor\u001b[0m \u001b[0miterator\u001b[0m\u001b[1;33m:\u001b[0m\u001b[1;33m\u001b[0m\u001b[1;33m\u001b[0m\u001b[0m\n",
      "\u001b[1;32mC:\\ProgramData\\Anaconda3\\lib\\site-packages\\pandas\\io\\parsers\\readers.py\u001b[0m in \u001b[0;36m__init__\u001b[1;34m(self, f, engine, **kwds)\u001b[0m\n\u001b[0;32m    809\u001b[0m             \u001b[0mself\u001b[0m\u001b[1;33m.\u001b[0m\u001b[0moptions\u001b[0m\u001b[1;33m[\u001b[0m\u001b[1;34m\"has_index_names\"\u001b[0m\u001b[1;33m]\u001b[0m \u001b[1;33m=\u001b[0m \u001b[0mkwds\u001b[0m\u001b[1;33m[\u001b[0m\u001b[1;34m\"has_index_names\"\u001b[0m\u001b[1;33m]\u001b[0m\u001b[1;33m\u001b[0m\u001b[1;33m\u001b[0m\u001b[0m\n\u001b[0;32m    810\u001b[0m \u001b[1;33m\u001b[0m\u001b[0m\n\u001b[1;32m--> 811\u001b[1;33m         \u001b[0mself\u001b[0m\u001b[1;33m.\u001b[0m\u001b[0m_engine\u001b[0m \u001b[1;33m=\u001b[0m \u001b[0mself\u001b[0m\u001b[1;33m.\u001b[0m\u001b[0m_make_engine\u001b[0m\u001b[1;33m(\u001b[0m\u001b[0mself\u001b[0m\u001b[1;33m.\u001b[0m\u001b[0mengine\u001b[0m\u001b[1;33m)\u001b[0m\u001b[1;33m\u001b[0m\u001b[1;33m\u001b[0m\u001b[0m\n\u001b[0m\u001b[0;32m    812\u001b[0m \u001b[1;33m\u001b[0m\u001b[0m\n\u001b[0;32m    813\u001b[0m     \u001b[1;32mdef\u001b[0m \u001b[0mclose\u001b[0m\u001b[1;33m(\u001b[0m\u001b[0mself\u001b[0m\u001b[1;33m)\u001b[0m\u001b[1;33m:\u001b[0m\u001b[1;33m\u001b[0m\u001b[1;33m\u001b[0m\u001b[0m\n",
      "\u001b[1;32mC:\\ProgramData\\Anaconda3\\lib\\site-packages\\pandas\\io\\parsers\\readers.py\u001b[0m in \u001b[0;36m_make_engine\u001b[1;34m(self, engine)\u001b[0m\n\u001b[0;32m   1038\u001b[0m             )\n\u001b[0;32m   1039\u001b[0m         \u001b[1;31m# error: Too many arguments for \"ParserBase\"\u001b[0m\u001b[1;33m\u001b[0m\u001b[1;33m\u001b[0m\u001b[0m\n\u001b[1;32m-> 1040\u001b[1;33m         \u001b[1;32mreturn\u001b[0m \u001b[0mmapping\u001b[0m\u001b[1;33m[\u001b[0m\u001b[0mengine\u001b[0m\u001b[1;33m]\u001b[0m\u001b[1;33m(\u001b[0m\u001b[0mself\u001b[0m\u001b[1;33m.\u001b[0m\u001b[0mf\u001b[0m\u001b[1;33m,\u001b[0m \u001b[1;33m**\u001b[0m\u001b[0mself\u001b[0m\u001b[1;33m.\u001b[0m\u001b[0moptions\u001b[0m\u001b[1;33m)\u001b[0m  \u001b[1;31m# type: ignore[call-arg]\u001b[0m\u001b[1;33m\u001b[0m\u001b[1;33m\u001b[0m\u001b[0m\n\u001b[0m\u001b[0;32m   1041\u001b[0m \u001b[1;33m\u001b[0m\u001b[0m\n\u001b[0;32m   1042\u001b[0m     \u001b[1;32mdef\u001b[0m \u001b[0m_failover_to_python\u001b[0m\u001b[1;33m(\u001b[0m\u001b[0mself\u001b[0m\u001b[1;33m)\u001b[0m\u001b[1;33m:\u001b[0m\u001b[1;33m\u001b[0m\u001b[1;33m\u001b[0m\u001b[0m\n",
      "\u001b[1;32mC:\\ProgramData\\Anaconda3\\lib\\site-packages\\pandas\\io\\parsers\\c_parser_wrapper.py\u001b[0m in \u001b[0;36m__init__\u001b[1;34m(self, src, **kwds)\u001b[0m\n\u001b[0;32m     49\u001b[0m \u001b[1;33m\u001b[0m\u001b[0m\n\u001b[0;32m     50\u001b[0m         \u001b[1;31m# open handles\u001b[0m\u001b[1;33m\u001b[0m\u001b[1;33m\u001b[0m\u001b[0m\n\u001b[1;32m---> 51\u001b[1;33m         \u001b[0mself\u001b[0m\u001b[1;33m.\u001b[0m\u001b[0m_open_handles\u001b[0m\u001b[1;33m(\u001b[0m\u001b[0msrc\u001b[0m\u001b[1;33m,\u001b[0m \u001b[0mkwds\u001b[0m\u001b[1;33m)\u001b[0m\u001b[1;33m\u001b[0m\u001b[1;33m\u001b[0m\u001b[0m\n\u001b[0m\u001b[0;32m     52\u001b[0m         \u001b[1;32massert\u001b[0m \u001b[0mself\u001b[0m\u001b[1;33m.\u001b[0m\u001b[0mhandles\u001b[0m \u001b[1;32mis\u001b[0m \u001b[1;32mnot\u001b[0m \u001b[1;32mNone\u001b[0m\u001b[1;33m\u001b[0m\u001b[1;33m\u001b[0m\u001b[0m\n\u001b[0;32m     53\u001b[0m \u001b[1;33m\u001b[0m\u001b[0m\n",
      "\u001b[1;32mC:\\ProgramData\\Anaconda3\\lib\\site-packages\\pandas\\io\\parsers\\base_parser.py\u001b[0m in \u001b[0;36m_open_handles\u001b[1;34m(self, src, kwds)\u001b[0m\n\u001b[0;32m    220\u001b[0m         \u001b[0mLet\u001b[0m \u001b[0mthe\u001b[0m \u001b[0mreaders\u001b[0m \u001b[0mopen\u001b[0m \u001b[0mIOHandles\u001b[0m \u001b[0mafter\u001b[0m \u001b[0mthey\u001b[0m \u001b[0mare\u001b[0m \u001b[0mdone\u001b[0m \u001b[1;32mwith\u001b[0m \u001b[0mtheir\u001b[0m \u001b[0mpotential\u001b[0m \u001b[0mraises\u001b[0m\u001b[1;33m.\u001b[0m\u001b[1;33m\u001b[0m\u001b[1;33m\u001b[0m\u001b[0m\n\u001b[0;32m    221\u001b[0m         \"\"\"\n\u001b[1;32m--> 222\u001b[1;33m         self.handles = get_handle(\n\u001b[0m\u001b[0;32m    223\u001b[0m             \u001b[0msrc\u001b[0m\u001b[1;33m,\u001b[0m\u001b[1;33m\u001b[0m\u001b[1;33m\u001b[0m\u001b[0m\n\u001b[0;32m    224\u001b[0m             \u001b[1;34m\"r\"\u001b[0m\u001b[1;33m,\u001b[0m\u001b[1;33m\u001b[0m\u001b[1;33m\u001b[0m\u001b[0m\n",
      "\u001b[1;32mC:\\ProgramData\\Anaconda3\\lib\\site-packages\\pandas\\io\\common.py\u001b[0m in \u001b[0;36mget_handle\u001b[1;34m(path_or_buf, mode, encoding, compression, memory_map, is_text, errors, storage_options)\u001b[0m\n\u001b[0;32m    700\u001b[0m         \u001b[1;32mif\u001b[0m \u001b[0mioargs\u001b[0m\u001b[1;33m.\u001b[0m\u001b[0mencoding\u001b[0m \u001b[1;32mand\u001b[0m \u001b[1;34m\"b\"\u001b[0m \u001b[1;32mnot\u001b[0m \u001b[1;32min\u001b[0m \u001b[0mioargs\u001b[0m\u001b[1;33m.\u001b[0m\u001b[0mmode\u001b[0m\u001b[1;33m:\u001b[0m\u001b[1;33m\u001b[0m\u001b[1;33m\u001b[0m\u001b[0m\n\u001b[0;32m    701\u001b[0m             \u001b[1;31m# Encoding\u001b[0m\u001b[1;33m\u001b[0m\u001b[1;33m\u001b[0m\u001b[0m\n\u001b[1;32m--> 702\u001b[1;33m             handle = open(\n\u001b[0m\u001b[0;32m    703\u001b[0m                 \u001b[0mhandle\u001b[0m\u001b[1;33m,\u001b[0m\u001b[1;33m\u001b[0m\u001b[1;33m\u001b[0m\u001b[0m\n\u001b[0;32m    704\u001b[0m                 \u001b[0mioargs\u001b[0m\u001b[1;33m.\u001b[0m\u001b[0mmode\u001b[0m\u001b[1;33m,\u001b[0m\u001b[1;33m\u001b[0m\u001b[1;33m\u001b[0m\u001b[0m\n",
      "\u001b[1;31mFileNotFoundError\u001b[0m: [Errno 2] No such file or directory: 'C:/Users/user/Desktop/프로젝트_2차/1안_스마트카드데이터/smartcard_Chain.csv'"
     ]
    }
   ],
   "source": [
    "df=pd.read_csv('C:/Users/user/Desktop/TodayLearn/TiL/Code/Project2/Projcet02/1_smart_card_data/'',encoding='euc-kr')\n",
    "df.head()"
   ]
  },
  {
   "cell_type": "code",
   "execution_count": null,
   "id": "e45b7ea6",
   "metadata": {},
   "outputs": [],
   "source": [
    "print(df.shape)"
   ]
  },
  {
   "cell_type": "code",
   "execution_count": null,
   "id": "03628146",
   "metadata": {},
   "outputs": [],
   "source": [
    "df.isnull().sum()"
   ]
  },
  {
   "cell_type": "markdown",
   "id": "269fe35f",
   "metadata": {},
   "source": [
    "## 3. 데이터 정제\n",
    "* df:원본데이터\n",
    "* df_copy=df.copy()"
   ]
  },
  {
   "cell_type": "markdown",
   "id": "2be71c1d",
   "metadata": {},
   "source": [
    "### 3.1. 결측치 및 이상치 확인, 외부 데이터 병합"
   ]
  },
  {
   "cell_type": "code",
   "execution_count": null,
   "id": "ab52b18d",
   "metadata": {},
   "outputs": [],
   "source": [
    "df_copy=df.copy()"
   ]
  },
  {
   "cell_type": "code",
   "execution_count": null,
   "id": "7a3bd098",
   "metadata": {},
   "outputs": [],
   "source": [
    "df_copy"
   ]
  },
  {
   "cell_type": "code",
   "execution_count": null,
   "id": "bfd0e7c2",
   "metadata": {},
   "outputs": [],
   "source": [
    "df_copy.info()"
   ]
  },
  {
   "cell_type": "code",
   "execution_count": null,
   "id": "2ff5f569",
   "metadata": {},
   "outputs": [],
   "source": [
    "df_copy['Circuity']"
   ]
  },
  {
   "cell_type": "code",
   "execution_count": null,
   "id": "8611ed60",
   "metadata": {},
   "outputs": [],
   "source": [
    "df_copy['Circuity']=np.where(df_copy['Circuity']==0,np.nan,df_copy['Circuity'])\n",
    "df_copy['Circuity']=np.where(df_copy['Haversine']==0,np.nan,df_copy['Circuity'])"
   ]
  },
  {
   "cell_type": "code",
   "execution_count": null,
   "id": "0a4930c3",
   "metadata": {},
   "outputs": [],
   "source": [
    "df_copy.isnull().sum()"
   ]
  },
  {
   "cell_type": "code",
   "execution_count": null,
   "id": "8d099ac1",
   "metadata": {},
   "outputs": [],
   "source": [
    "df_copy.shape"
   ]
  },
  {
   "cell_type": "code",
   "execution_count": null,
   "id": "5d704f76",
   "metadata": {},
   "outputs": [],
   "source": [
    "df_copy['route_id']=df_copy['route_id'].fillna('-1')\n",
    "df_copy.isnull().sum()"
   ]
  },
  {
   "cell_type": "markdown",
   "id": "390b2d99",
   "metadata": {},
   "source": [
    "어떤 것을 분석하면 좋을까?\n",
    "Circuity를 활용할 수 있는 방법은? 탑승 시간에 따른 평균 Circuity의 변화를 확인하자.\n",
    "total distance/Haversine=Circuity\n",
    "Circuity가 1에 가까울수록 직전성이 높다, 1보다 클수록 돌아간다는 의미\n",
    "차량 공유 서비스는 근처에 있어야한다.\n",
    "-짧은 거리에도 버스, 지하철이 아닌 빠르게 갈 수 있는 공유 자전거, 공유 킥보드\n",
    "-교통수단별 수요 파악\n",
    "-이용자의 카결제 데이터를 파악하여 교통수단별 지역간 수요(출발지-도착지 분포,OD 분포)OD분포-origin destination,중심 시가지와 주변지역의 수요가 많다(노선버스),택시.대여 자전거는 중심 시가지내에 단거리 이동에 많이 이용.\n",
    "-경로검색 데이터를 시계열적으로 분석 시, 교통수단 및 이동장소 등의 변화를 유추할 수 있음.\n",
    "-ICT,AI 등의 최신 기술을 도입하여 누구나 이용할 수 있는 새로운 이동서비스를 제공"
   ]
  },
  {
   "cell_type": "code",
   "execution_count": null,
   "id": "22fad721",
   "metadata": {},
   "outputs": [],
   "source": [
    "#시간대 변화\n",
    "#40키로 되는 거리는 차량을 이용하지 굳이 온디맨드 서비스를 이용할까?,,온디맨드 서비스는 가까운 거리에서 이용하지 않을까,,,\n",
    "\n",
    "#시간대-분단위로 변화(total_time이 초 단위로 되어있으니까)\n",
    "df_copy['total_time(m)']=(df_copy['total_time']//60)\n",
    "df_copy.head()"
   ]
  },
  {
   "cell_type": "markdown",
   "id": "a446a6db",
   "metadata": {},
   "source": [
    "평균 이동거리에 걸린 시간대비 Circuity가 차이가 있는지에 대해서 확인\n",
    "차량공유 서비스가 아니라 전동킥보다, 자전거 같은 종류는 상대적으로 먼 거리에서 사용 안함.\n",
    "그럼 total distance를 2키로 정도로 한정할 수 있지 않을까?\n",
    "\n",
    "Circuity가 적은 곳에선 안 쓰고\n",
    "Circuity가 많은 곳에선 쓰고(우회계수가 높을수록 우회해서 간다. 더 돌아간다)"
   ]
  },
  {
   "cell_type": "markdown",
   "id": "06e534c6",
   "metadata": {},
   "source": [
    "버스는 노선이 한정되어 있어서 가려면 돌아가야 됨. 사람들이 어떤 곳에서 차량공유를 할까? 상대적으로 긴 거리에선 오랜 시간이 걸리고, 우회계수가 높은 곳을 갈 때 차량공유를 할 것이다. 아니면 버스가 안 다니는 곳을 갈 때 차량공유를 할 것이다."
   ]
  },
  {
   "cell_type": "code",
   "execution_count": null,
   "id": "cf239918",
   "metadata": {},
   "outputs": [],
   "source": [
    "#시군구명칭.csv 파일 병합(외부자료)\n",
    "#on_area_name 탑승위치가 해당되는 구의 명칭을 데이터에 통합\n",
    "sample=pd.read_csv('C:/Users/user/Desktop/프로젝트_2차/1안_스마트카드데이터/seoul_id.csv',encoding='euc-kr',dtype='object')\n",
    "\n",
    "sample.rename(columns={'행정구역번호':'on_dong'},inplace=True)\n",
    "sample.head()"
   ]
  },
  {
   "cell_type": "code",
   "execution_count": null,
   "id": "8f061283",
   "metadata": {},
   "outputs": [],
   "source": [
    "df_copy['on_dong']=df_copy['on_dong'].astype(str)"
   ]
  },
  {
   "cell_type": "code",
   "execution_count": null,
   "id": "958a39c0",
   "metadata": {},
   "outputs": [],
   "source": [
    "df_copy=df_copy.merge(sample,how='left',on='on_dong')"
   ]
  },
  {
   "cell_type": "code",
   "execution_count": null,
   "id": "e88658c2",
   "metadata": {},
   "outputs": [],
   "source": [
    "df_copy.isnull().sum()"
   ]
  },
  {
   "cell_type": "code",
   "execution_count": null,
   "id": "974430d8",
   "metadata": {},
   "outputs": [],
   "source": [
    "df_copy.dropna(inplace=True)"
   ]
  },
  {
   "cell_type": "code",
   "execution_count": null,
   "id": "803e8457",
   "metadata": {},
   "outputs": [],
   "source": [
    "df_copy.isnull().sum()"
   ]
  },
  {
   "cell_type": "code",
   "execution_count": null,
   "id": "e6d93ba0",
   "metadata": {},
   "outputs": [],
   "source": [
    "df_copy.tail(3)"
   ]
  },
  {
   "cell_type": "code",
   "execution_count": null,
   "id": "979f3d30",
   "metadata": {},
   "outputs": [],
   "source": [
    "df_copy['시군구명칭'].value_counts()"
   ]
  },
  {
   "cell_type": "markdown",
   "id": "1feab039",
   "metadata": {},
   "source": [
    "### 3.2. 특정 구간 데이터 확인을 위한 Circuity 구간 보정"
   ]
  },
  {
   "cell_type": "markdown",
   "id": "23952428",
   "metadata": {},
   "source": [
    "* total_distance가 너무 큰 데이터는 총 거리가 먼데, 온디맨드 서비스를 이용할까에 대한 의문이 들어 제외하고, Circuity(우회계수)가 1보다 작은 것은 직선거리가 더 큰 것이므로 우리가 하고자 하는 프로젝트의 insight와 안 맞다고 판단해 제외한다. 그리고 Circuity가 3보다 큰 데이터도 그래프를 그려보면 유의미한 값과는 거리가 멀다고 판단해 이 또한 제외한다."
   ]
  },
  {
   "cell_type": "code",
   "execution_count": null,
   "id": "b6ca0aa5",
   "metadata": {},
   "outputs": [],
   "source": [
    "df_copy=df_copy[(df_copy['Circuity']>1.0)&(df_copy['Circuity']<3.0)]\n",
    "print(df_copy.shape)"
   ]
  },
  {
   "cell_type": "code",
   "execution_count": null,
   "id": "398720cd",
   "metadata": {},
   "outputs": [],
   "source": [
    "df_copy.head()"
   ]
  },
  {
   "cell_type": "code",
   "execution_count": null,
   "id": "3598bc04",
   "metadata": {},
   "outputs": [],
   "source": [
    "#plt.figure(figsize=(20,10))\n",
    "plt.xticks(rotation=45)\n",
    "sns.barplot(data=df_copy,x='시군구명칭',y='Circuity')\n",
    "plt.show()"
   ]
  },
  {
   "cell_type": "markdown",
   "id": "c8dcf845",
   "metadata": {},
   "source": [
    "## 4. 데이터 분석 과정"
   ]
  },
  {
   "cell_type": "markdown",
   "id": "7bac71c1",
   "metadata": {},
   "source": [
    "### 4.1. Folium, 우회계수를 활용한 시군구에 따른 혼잡도 파악"
   ]
  },
  {
   "cell_type": "code",
   "execution_count": null,
   "id": "39363972",
   "metadata": {},
   "outputs": [],
   "source": [
    "import folium\n",
    "\n",
    "folium.Map()"
   ]
  },
  {
   "cell_type": "markdown",
   "id": "f09fdd54",
   "metadata": {},
   "source": [
    "- 시군구별로 데이터 분리하기\n",
    "- Circuity가 높은 4개의 시군구를 중심으로 데이터 분석\n",
    "- 관계성 찾아내기"
   ]
  },
  {
   "cell_type": "code",
   "execution_count": null,
   "id": "26939093",
   "metadata": {},
   "outputs": [],
   "source": [
    "import json"
   ]
  },
  {
   "cell_type": "code",
   "execution_count": null,
   "id": "cae33136",
   "metadata": {},
   "outputs": [],
   "source": [
    "geo_path='C:/Users/user/Desktop/프로젝트_2차/1안_스마트카드데이터/municipalities-geo-simple (1).json'\n",
    "geo_str=json.load(open(geo_path,encoding='utf-8'))\n",
    "\n",
    "center=[37.541,126.986]\n",
    "m1=folium.Map(location=center,zoom_start=10.5)\n",
    "\n",
    "folium.Choropleth(\n",
    "        geo_data=geo_str,\n",
    "        data=df_copy,\n",
    "        columns=('시군구명칭','Circuity'),\n",
    "        key_on='feature.properties.name',\n",
    "        fill_color='BuPu',\n",
    "        legend_name='탑승빈도').add_to(m1)\n",
    "\n",
    "m1"
   ]
  },
  {
   "cell_type": "markdown",
   "id": "72a67f8e",
   "metadata": {},
   "source": [
    "* Folium 데이터 단계구분도 확인 결과, 상위 30% 내에서 서초구, 중랑구, 양천구, 서대문구 총 4개의 구역에서 우회계수의 분포가 높게 나타남.- 타 구에 비해 혼잡하다고 추정.\n",
    "* 이를 기준으로 4군데의 지역의 데이터를 분석해 유의미한 insight를 찾아내는 것이 프로젝트의 목적이다."
   ]
  },
  {
   "cell_type": "markdown",
   "id": "17dd7203",
   "metadata": {},
   "source": [
    "* 서초구 \n",
    "* 중랑구\n",
    "* 양천구 \n",
    "* 서대문구 "
   ]
  },
  {
   "cell_type": "code",
   "execution_count": null,
   "id": "fbe32367",
   "metadata": {},
   "outputs": [],
   "source": [
    "df_copy.pivot_table(index='시군구명칭',values='Circuity',aggfunc='mean').T"
   ]
  },
  {
   "cell_type": "markdown",
   "id": "cae4e76f",
   "metadata": {},
   "source": [
    "* 서초구 Circuity 평균이 1.284\n",
    "* 중랑구 Circuity 평균이 1.271\n",
    "* 양천구 Circuity 평균이 1.330\n",
    "* 서대문구 Circuity 평균이 1.363"
   ]
  },
  {
   "cell_type": "markdown",
   "id": "76c8ee5e",
   "metadata": {},
   "source": [
    "* 4개의 구를 각각 비교하여 혼잡정도를 비교, 최종 온디맨드 서비스 최적위치를 확인함."
   ]
  },
  {
   "cell_type": "code",
   "execution_count": null,
   "id": "1d5126ad",
   "metadata": {},
   "outputs": [],
   "source": [
    "plt.figure(figsize=(20,14))\n",
    "plt.xticks(rotation=45)\n",
    "sns.boxplot(data=df_copy,x='시군구명칭',y='Circuity')"
   ]
  },
  {
   "cell_type": "code",
   "execution_count": null,
   "id": "7e548195",
   "metadata": {},
   "outputs": [],
   "source": [
    "df_copy_seocho=df_copy[df_copy['시군구명칭']=='서초구']\n",
    "df_copy_seocho"
   ]
  },
  {
   "cell_type": "code",
   "execution_count": null,
   "id": "6e5dd1a5",
   "metadata": {},
   "outputs": [],
   "source": [
    "df_copy_joong=df_copy[df_copy['시군구명칭']=='중랑구']\n",
    "df_copy_joong"
   ]
  },
  {
   "cell_type": "code",
   "execution_count": null,
   "id": "de2a4d81",
   "metadata": {},
   "outputs": [],
   "source": [
    "df_copy_yang=df_copy[df_copy['시군구명칭']=='양천구']\n",
    "df_copy_yang"
   ]
  },
  {
   "cell_type": "code",
   "execution_count": null,
   "id": "1c9cc2f0",
   "metadata": {},
   "outputs": [],
   "source": [
    "df_copy_seodae=df_copy[df_copy['시군구명칭']=='서대문구']\n",
    "df_copy_seodae"
   ]
  },
  {
   "cell_type": "markdown",
   "id": "c2d923e9",
   "metadata": {},
   "source": [
    "### 4.2. 통행수단에 따른 Circuity의 추이"
   ]
  },
  {
   "cell_type": "markdown",
   "id": "2c1c829b",
   "metadata": {},
   "source": [
    "### 그룹마다 Circuity 비교\n",
    "- 버스랑 지하철 둘 다 타는 그룹\n",
    "- 버스만 타는 그룹\n",
    "- 지하철만 타는 그룹"
   ]
  },
  {
   "cell_type": "code",
   "execution_count": null,
   "id": "64aa95cf",
   "metadata": {
    "tags": []
   },
   "outputs": [],
   "source": [
    "df_copy.head()"
   ]
  },
  {
   "cell_type": "code",
   "execution_count": null,
   "id": "1e386f97",
   "metadata": {},
   "outputs": [],
   "source": [
    "cond1=(df_copy['Bus']==True)&(df_copy['Subway']==False)\n",
    "\n",
    "df_bus = df_copy[cond1]"
   ]
  },
  {
   "cell_type": "code",
   "execution_count": null,
   "id": "54f87bfd",
   "metadata": {},
   "outputs": [],
   "source": [
    "df_bus"
   ]
  },
  {
   "cell_type": "code",
   "execution_count": null,
   "id": "173a2adf",
   "metadata": {},
   "outputs": [],
   "source": [
    "cond2=(df_copy['Bus']==False)&(df_copy['Subway']==True)\n",
    "\n",
    "df_subway=df_copy[cond2]"
   ]
  },
  {
   "cell_type": "code",
   "execution_count": null,
   "id": "3a26aa10",
   "metadata": {},
   "outputs": [],
   "source": [
    "df_subway"
   ]
  },
  {
   "cell_type": "code",
   "execution_count": null,
   "id": "545350b3",
   "metadata": {},
   "outputs": [],
   "source": [
    "cond3=(df_copy['Bus']==True)&(df_copy['Subway']==True)\n",
    "\n",
    "df_both=df_copy[cond3]"
   ]
  },
  {
   "cell_type": "code",
   "execution_count": null,
   "id": "8523428c",
   "metadata": {},
   "outputs": [],
   "source": [
    "df_both"
   ]
  },
  {
   "cell_type": "code",
   "execution_count": null,
   "id": "4937ff80",
   "metadata": {},
   "outputs": [],
   "source": [
    "group_tranfer={'only_bus':df_bus['Circuity'].mean(),\n",
    "    'only_subway':df_subway['Circuity'].mean(),\n",
    "    'both':df_both['Circuity'].mean()\n",
    "}\n",
    "\n",
    "group_tranfer"
   ]
  },
  {
   "cell_type": "markdown",
   "id": "f7a19517",
   "metadata": {},
   "source": [
    "* df_copy에서 그룹을 나눠 버스만 이용한 경우 Circuity 평균은 1.335이고, 지하철만 이용한 경우 Circuity 평균은 1.230이고, 버스와 지하철 둘 다 이용한 경우 Circuity 평균은 1.348이다. 이것을 기준으로 데이터를 절삭할 수 있다."
   ]
  },
  {
   "cell_type": "markdown",
   "id": "c05051b1",
   "metadata": {},
   "source": [
    "* 몇 개의 데이터를 살펴보니, 일이 있어 일부러 돌아간다거나 잘못 타서 내리고 다시 타는 경우 등 이러한 경우가 있어 이러한 데이터도 제외시켜야 할 것 같다.\n",
    "* haversine은 직선거리인데, haversine이 total_distance보다 큰 경우도 말이 안 된다."
   ]
  },
  {
   "cell_type": "code",
   "execution_count": null,
   "id": "e38e571d",
   "metadata": {},
   "outputs": [],
   "source": [
    "df_mean=pd.DataFrame(columns=['name','mean'],data=group_tranfer.items())\n",
    "df_mean"
   ]
  },
  {
   "cell_type": "code",
   "execution_count": null,
   "id": "487731fb",
   "metadata": {},
   "outputs": [],
   "source": [
    "df_mean=pd.pivot_table(data=df_mean,index='name',values='mean')\n",
    "df_mean"
   ]
  },
  {
   "cell_type": "code",
   "execution_count": null,
   "id": "1254d21b",
   "metadata": {
    "tags": []
   },
   "outputs": [],
   "source": [
    "df_mean.plot(kind='bar')"
   ]
  },
  {
   "cell_type": "markdown",
   "id": "2864576e",
   "metadata": {},
   "source": [
    "### 4.3. 특정 4개의 구에 대한 개별적 분석 실시"
   ]
  },
  {
   "cell_type": "markdown",
   "id": "7b9f871c",
   "metadata": {},
   "source": [
    "### 4.3.0. 서초구, 중랑구, 양천구, 서대문구의 평균 Circuity 확인"
   ]
  },
  {
   "cell_type": "code",
   "execution_count": null,
   "id": "434d01f5",
   "metadata": {},
   "outputs": [],
   "source": [
    "df_sel=df_copy[df_copy['시군구명칭'].str.contains('서초구|중랑구|양천구|서대문구')]\n",
    "df_sel.head()"
   ]
  },
  {
   "cell_type": "code",
   "execution_count": null,
   "id": "da779d30",
   "metadata": {
    "scrolled": true
   },
   "outputs": [],
   "source": [
    "print(df_sel.shape)"
   ]
  },
  {
   "cell_type": "markdown",
   "id": "e98970ab",
   "metadata": {},
   "source": [
    "* 백만개의 데이터 분석"
   ]
  },
  {
   "cell_type": "code",
   "execution_count": null,
   "id": "1b17cd85",
   "metadata": {},
   "outputs": [],
   "source": [
    "sns.barplot(data=df_sel,x='시군구명칭',y='Circuity')"
   ]
  },
  {
   "cell_type": "code",
   "execution_count": null,
   "id": "10aff1f8",
   "metadata": {},
   "outputs": [],
   "source": [
    "#sns.barplot(data=df_sel,x='total_distance',y='Circuity',hue='시군구명칭')"
   ]
  },
  {
   "cell_type": "markdown",
   "id": "fbbf967e",
   "metadata": {},
   "source": [
    "### 4.3.1. 서초구의 대중교통 취약지점 분석"
   ]
  },
  {
   "cell_type": "code",
   "execution_count": null,
   "id": "45049e99",
   "metadata": {},
   "outputs": [],
   "source": [
    "df_copy_seocho.head()"
   ]
  },
  {
   "cell_type": "code",
   "execution_count": null,
   "id": "e48d2738",
   "metadata": {},
   "outputs": [],
   "source": [
    "df_copy_seocho.describe()"
   ]
  },
  {
   "cell_type": "markdown",
   "id": "3f794a09",
   "metadata": {},
   "source": [
    "* 서초구의 total_distance 평균이 8627.74m (total_distance<=2000)-너무 큰 데이터는 제외\n",
    "* 서초구에서 버스만 타는 그룹, 지하철만 타는 그룹, 버스랑 지하철 둘 다 타는 그룹\n",
    "* haversine이 total_distance보다 큰 경우도 봐야함."
   ]
  },
  {
   "cell_type": "code",
   "execution_count": null,
   "id": "f5e834af",
   "metadata": {},
   "outputs": [],
   "source": []
  },
  {
   "cell_type": "code",
   "execution_count": null,
   "id": "21e7341e",
   "metadata": {},
   "outputs": [],
   "source": []
  },
  {
   "cell_type": "code",
   "execution_count": null,
   "id": "4859e68b",
   "metadata": {},
   "outputs": [],
   "source": []
  },
  {
   "cell_type": "code",
   "execution_count": null,
   "id": "24511a5a",
   "metadata": {},
   "outputs": [],
   "source": []
  },
  {
   "cell_type": "code",
   "execution_count": null,
   "id": "93020ba4",
   "metadata": {},
   "outputs": [],
   "source": []
  },
  {
   "cell_type": "code",
   "execution_count": null,
   "id": "e940498b",
   "metadata": {},
   "outputs": [],
   "source": []
  },
  {
   "cell_type": "code",
   "execution_count": null,
   "id": "5de888b7",
   "metadata": {},
   "outputs": [],
   "source": []
  },
  {
   "cell_type": "markdown",
   "id": "f1135ce1",
   "metadata": {},
   "source": [
    "### 4.3.2. 양천구의 대중교통 취약지점 분석"
   ]
  },
  {
   "cell_type": "code",
   "execution_count": null,
   "id": "1ed7c37b",
   "metadata": {},
   "outputs": [],
   "source": []
  },
  {
   "cell_type": "code",
   "execution_count": null,
   "id": "d46929ed",
   "metadata": {},
   "outputs": [],
   "source": []
  },
  {
   "cell_type": "code",
   "execution_count": null,
   "id": "5976224a",
   "metadata": {},
   "outputs": [],
   "source": []
  },
  {
   "cell_type": "code",
   "execution_count": null,
   "id": "599fe648",
   "metadata": {},
   "outputs": [],
   "source": []
  },
  {
   "cell_type": "markdown",
   "id": "08ef36b7",
   "metadata": {
    "tags": [],
    "toc-hr-collapsed": true
   },
   "source": [
    "### 4.3.3. 중랑구의 대중교통 취약지점 분석"
   ]
  },
  {
   "cell_type": "code",
   "execution_count": null,
   "id": "3a1b318e",
   "metadata": {
    "scrolled": true
   },
   "outputs": [],
   "source": [
    "print(df_copy_joong.shape)"
   ]
  },
  {
   "cell_type": "code",
   "execution_count": null,
   "id": "8b8032fb",
   "metadata": {
    "tags": []
   },
   "outputs": [],
   "source": [
    "df_copy_joong.head(2)"
   ]
  },
  {
   "cell_type": "markdown",
   "id": "1590ef7d",
   "metadata": {},
   "source": [
    "* 중랑구에서 버스만 타는 그룹, 지하철만 타는 그룹, 버스-지하철 둘 다 타는 그룹"
   ]
  },
  {
   "cell_type": "code",
   "execution_count": null,
   "id": "2f68db7a",
   "metadata": {},
   "outputs": [],
   "source": [
    "only_bus=(df_copy_joong['Bus']==True)&(df_copy_joong['Subway']==False)\n",
    "only_subway=(df_copy_joong['Bus']==False)&(df_copy_joong['Subway']==True)\n",
    "both=(df_copy_joong['Bus']==True)&(df_copy_joong['Subway']==True)"
   ]
  },
  {
   "cell_type": "code",
   "execution_count": null,
   "id": "09e89264",
   "metadata": {},
   "outputs": [],
   "source": [
    "df_joong_bus=df_copy_joong[only_bus]\n",
    "df_joong_sub=df_copy_joong[only_subway]\n",
    "df_joong_both=df_copy_joong[both]"
   ]
  },
  {
   "cell_type": "code",
   "execution_count": null,
   "id": "ba9cf284",
   "metadata": {
    "tags": []
   },
   "outputs": [],
   "source": [
    "df_joong_sub[df_joong_sub['Circuity']>1.5]"
   ]
  },
  {
   "cell_type": "code",
   "execution_count": null,
   "id": "533d07e6",
   "metadata": {
    "tags": []
   },
   "outputs": [],
   "source": [
    "Is_dong=list(set(list(df_copy_joong['읍면동명칭'])))\n",
    "\n",
    "Is_dong"
   ]
  },
  {
   "cell_type": "code",
   "execution_count": null,
   "id": "4560f807",
   "metadata": {
    "tags": []
   },
   "outputs": [],
   "source": [
    "df_copy_joong.head()"
   ]
  },
  {
   "cell_type": "code",
   "execution_count": null,
   "id": "c3e27ead",
   "metadata": {},
   "outputs": [],
   "source": [
    "df_joong=df_copy_joong.copy()\n",
    "df_joong.head()"
   ]
  },
  {
   "cell_type": "code",
   "execution_count": null,
   "id": "c57a2da4",
   "metadata": {},
   "outputs": [],
   "source": [
    "df_joong['on_lat'].mean()"
   ]
  },
  {
   "cell_type": "code",
   "execution_count": null,
   "id": "f684fe29",
   "metadata": {},
   "outputs": [],
   "source": [
    "df_joong['on_lon'].mean()"
   ]
  },
  {
   "cell_type": "code",
   "execution_count": null,
   "id": "845e272c",
   "metadata": {},
   "outputs": [],
   "source": [
    "import random\n",
    "i=random.randint(0,1000)\n",
    "\n",
    "print(i)"
   ]
  },
  {
   "cell_type": "markdown",
   "id": "0af6b115",
   "metadata": {},
   "source": [
    "#### 4.3.3.1. 면목 3,8동 내 이용승객 분포"
   ]
  },
  {
   "cell_type": "code",
   "execution_count": null,
   "id": "e8f34050",
   "metadata": {
    "tags": []
   },
   "outputs": [],
   "source": [
    "Is_dong=list(set(list(df_joong['읍면동명칭'])))\n",
    "\n",
    "Is_dong"
   ]
  },
  {
   "cell_type": "code",
   "execution_count": null,
   "id": "6952b943",
   "metadata": {},
   "outputs": [],
   "source": [
    "n=len(Is_dong)\n",
    "\n",
    "for i in range(0,len(Is_dong)):\n",
    "    df_joong[df_joong['읍면동명칭']==Is_dong[i]]"
   ]
  },
  {
   "cell_type": "code",
   "execution_count": null,
   "id": "f918bfed",
   "metadata": {
    "tags": []
   },
   "outputs": [],
   "source": [
    "df_joong_meon3=df_joong[df_joong['읍면동명칭']==Is_dong[12]]\n",
    "\n",
    "df_joong_meon3.head()"
   ]
  },
  {
   "cell_type": "code",
   "execution_count": null,
   "id": "c87fecd5",
   "metadata": {},
   "outputs": [],
   "source": [
    "def find_circuity(data):\n",
    "    cond=(df_joong['Circuity']>1.5)&(df_joong['total_distance']<=2000)\n",
    "    return data[cond]"
   ]
  },
  {
   "cell_type": "markdown",
   "id": "7aab8309",
   "metadata": {},
   "source": [
    "* 우회계수가 높은 지역에 온디맨드 서비스가 필요할 것이고, 거리는 이 프로젝트에서 하고자 하는 온디맨드 서비스 즉, 전동 퀵보드와 같은 짧은 거리에서 유용하게 사용할 것 같은 온디맨드 서비스를 제공하기 위해 2km로 제한함."
   ]
  },
  {
   "cell_type": "code",
   "execution_count": null,
   "id": "658e7dee",
   "metadata": {
    "tags": []
   },
   "outputs": [],
   "source": [
    "df_joong_meon3_cir=find_circuity(df_joong_meon3)\n",
    "\n",
    "print(df_joong_meon3_cir.shape)\n",
    "df_joong_meon3_cir.head()"
   ]
  },
  {
   "cell_type": "markdown",
   "id": "624f3443",
   "metadata": {},
   "source": [
    "* 대중교통 이용한 사람 기준"
   ]
  },
  {
   "cell_type": "code",
   "execution_count": null,
   "id": "01227328",
   "metadata": {},
   "outputs": [],
   "source": [
    "df_joong_meon3['on_lat'].mean()"
   ]
  },
  {
   "cell_type": "code",
   "execution_count": null,
   "id": "432a302a",
   "metadata": {},
   "outputs": [],
   "source": [
    "df_joong_meon3['on_lon'].mean()"
   ]
  },
  {
   "cell_type": "code",
   "execution_count": null,
   "id": "667f8eb6",
   "metadata": {},
   "outputs": [],
   "source": [
    "df_joong_meon3_cir['on_lat'].mean()"
   ]
  },
  {
   "cell_type": "code",
   "execution_count": null,
   "id": "4fa04650",
   "metadata": {
    "tags": []
   },
   "outputs": [],
   "source": [
    "import folium\n",
    "import random\n",
    "\n",
    "map=folium.Map(location=[37.58297,127.09096],zoom_start=12)\n",
    "\n",
    "from folium.plugins import MarkerCluster\n",
    "marker_cluster=MarkerCluster().add_to(map)\n",
    "\n",
    "for lat, lon in zip(df_joong_meon3['on_lat'],df_joong_meon3['on_lon']):\n",
    "    folium.Marker([lat,lon]).add_to(marker_cluster)\n",
    "    \n",
    "map"
   ]
  },
  {
   "cell_type": "markdown",
   "id": "d0ebb7fb",
   "metadata": {},
   "source": [
    "* 범위 조정한 데이터로 대중교통 이용한 사람, 도착한 사람"
   ]
  },
  {
   "cell_type": "code",
   "execution_count": null,
   "id": "8bd8bae4",
   "metadata": {},
   "outputs": [],
   "source": [
    "import folium\n",
    "import random\n",
    "\n",
    "map=folium.Map(location=[37.58297,127.09096],zoom_start=12)\n",
    "\n",
    "from folium.plugins import MarkerCluster\n",
    "marker_cluster=MarkerCluster().add_to(map)\n",
    "\n",
    "for lat, lon in zip(df_joong_meon3_cir['on_lat'],df_joong_meon3_cir['on_lon']):\n",
    "    folium.Marker([lat,lon]).add_to(marker_cluster)\n",
    "    \n",
    "for lat, lon in zip(df_joong_meon3_cir['off_lat'],df_joong_meon3_cir['off_lon']):\n",
    "    folium.Marker([lat,lon]).add_to(marker_cluster)\n",
    "    \n",
    "map"
   ]
  },
  {
   "cell_type": "markdown",
   "id": "6fbae328",
   "metadata": {},
   "source": [
    "* 상봉터미널(134건), 하나인쇄명함할인마트(216건), 서일대학교(500건 이상)"
   ]
  },
  {
   "cell_type": "markdown",
   "id": "d891a162",
   "metadata": {},
   "source": [
    "* 범위 조정한 데이터로 대중교통 도착한 사람"
   ]
  },
  {
   "cell_type": "code",
   "execution_count": null,
   "id": "7c62d2bd",
   "metadata": {},
   "outputs": [],
   "source": [
    "import folium\n",
    "import random\n",
    "\n",
    "map=folium.Map(location=[37.58297,127.09096],zoom_start=12)\n",
    "\n",
    "from folium.plugins import MarkerCluster\n",
    "marker_cluster=MarkerCluster().add_to(map)\n",
    "\n",
    "for lat, lon in zip(df_joong_meon3_cir['off_lat'],df_joong_meon3_cir['off_lon']):\n",
    "    folium.Marker([lat,lon]).add_to(marker_cluster)\n",
    "    \n",
    "map"
   ]
  },
  {
   "cell_type": "markdown",
   "id": "760fdee5",
   "metadata": {},
   "source": [
    "#### 4.3.3.2. 면목2동 내 이용승객 분포"
   ]
  },
  {
   "cell_type": "code",
   "execution_count": null,
   "id": "6f2c3280",
   "metadata": {},
   "outputs": [],
   "source": [
    "df_joong_meon2=df_joong[df_joong['읍면동명칭']==Is_dong[3]]\n",
    "print(df_joong_meon2.shape)\n",
    "df_joong_meon2.head()"
   ]
  },
  {
   "cell_type": "code",
   "execution_count": null,
   "id": "2a926dbe",
   "metadata": {},
   "outputs": [],
   "source": [
    "df_joong_meon2_cir=find_circuity(df_joong_meon2)\n",
    "\n",
    "print(df_joong_meon2_cir.shape)\n",
    "df_joong_meon2_cir.head()"
   ]
  },
  {
   "cell_type": "code",
   "execution_count": null,
   "id": "93ade409",
   "metadata": {},
   "outputs": [],
   "source": [
    "clustering_whole(df_joong_meon2)"
   ]
  },
  {
   "cell_type": "code",
   "execution_count": null,
   "id": "78b1bbee",
   "metadata": {},
   "outputs": [],
   "source": [
    "clustering_sub(df_joong_meon2_cir)"
   ]
  },
  {
   "cell_type": "markdown",
   "id": "b8bd72a7",
   "metadata": {},
   "source": [
    "* 면목공원 근처 7호선 면목역(151건), 중랑초등학교-면목한신아파트 근처(113건)"
   ]
  },
  {
   "cell_type": "markdown",
   "id": "7a7e0cc8",
   "metadata": {},
   "source": [
    "#### 4.3.3.3. 면목4동 내 이용승객 분포"
   ]
  },
  {
   "cell_type": "code",
   "execution_count": null,
   "id": "79efcfd6",
   "metadata": {},
   "outputs": [],
   "source": [
    "df_joong_meon4=df_joong[df_joong['읍면동명칭']==Is_dong[8]]\n",
    "print(df_joong_meon4.shape)\n",
    "df_joong_meon4.head()"
   ]
  },
  {
   "cell_type": "code",
   "execution_count": null,
   "id": "89f374cc",
   "metadata": {},
   "outputs": [],
   "source": [
    "df_joong_meon4_cir=find_circuity(df_joong_meon4)\n",
    "\n",
    "print(df_joong_meon4_cir.shape)\n",
    "df_joong_meon4_cir.head()"
   ]
  },
  {
   "cell_type": "code",
   "execution_count": null,
   "id": "3fa663e1",
   "metadata": {},
   "outputs": [],
   "source": [
    "clustering_whole(df_joong_meon4)"
   ]
  },
  {
   "cell_type": "code",
   "execution_count": null,
   "id": "f09362f5",
   "metadata": {},
   "outputs": [],
   "source": [
    "clustering_sub(df_joong_meon4_cir)"
   ]
  },
  {
   "cell_type": "markdown",
   "id": "945c1e45",
   "metadata": {},
   "source": [
    "#### 4.3.3.4. 면목5동 내 이용승객 분포"
   ]
  },
  {
   "cell_type": "code",
   "execution_count": null,
   "id": "25b23e9c",
   "metadata": {},
   "outputs": [],
   "source": [
    "df_joong_meon5=df_joong[df_joong['읍면동명칭']==Is_dong[15]]\n",
    "print(df_joong_meon5.shape)\n",
    "df_joong_meon5.head()"
   ]
  },
  {
   "cell_type": "code",
   "execution_count": null,
   "id": "e4ea4923",
   "metadata": {},
   "outputs": [],
   "source": [
    "df_joong_meon5_cir=find_circuity(df_joong_meon5)\n",
    "\n",
    "print(df_joong_meon5_cir.shape)\n",
    "df_joong_meon5_cir.head()"
   ]
  },
  {
   "cell_type": "code",
   "execution_count": null,
   "id": "5819a146",
   "metadata": {},
   "outputs": [],
   "source": [
    "clustering_whole(df_joong_meon5)"
   ]
  },
  {
   "cell_type": "code",
   "execution_count": null,
   "id": "88238c28",
   "metadata": {},
   "outputs": [],
   "source": [
    "clustering_sub(df_joong_meon5_cir)"
   ]
  },
  {
   "cell_type": "markdown",
   "id": "c1622a9c",
   "metadata": {},
   "source": [
    "#### 4.3.3.5. 면목7동 내 이용승객 분포"
   ]
  },
  {
   "cell_type": "code",
   "execution_count": null,
   "id": "daf3faa7",
   "metadata": {},
   "outputs": [],
   "source": [
    "df_joong_meon7=df_joong[df_joong['읍면동명칭']==Is_dong[6]]\n",
    "print(df_joong_meon7.shape)\n",
    "df_joong_meon7.head()"
   ]
  },
  {
   "cell_type": "code",
   "execution_count": null,
   "id": "50e7d24a",
   "metadata": {},
   "outputs": [],
   "source": [
    "df_joong_meon7_cir=find_circuity(df_joong_meon7)\n",
    "\n",
    "print(df_joong_meon7_cir.shape)\n",
    "df_joong_meon7_cir.head()"
   ]
  },
  {
   "cell_type": "code",
   "execution_count": null,
   "id": "af546e6d",
   "metadata": {},
   "outputs": [],
   "source": [
    "clustering_whole(df_joong_meon7)"
   ]
  },
  {
   "cell_type": "code",
   "execution_count": null,
   "id": "72e4fc86",
   "metadata": {},
   "outputs": [],
   "source": [
    "clustering_sub(df_joong_meon7_cir)"
   ]
  },
  {
   "cell_type": "markdown",
   "id": "3ea6b9a3",
   "metadata": {},
   "source": [
    "* 버스 노선 따라 돌아감. 장안교 건너서 가는 버스 노선"
   ]
  },
  {
   "cell_type": "markdown",
   "id": "0cc5af29",
   "metadata": {},
   "source": [
    "#### 4.3.3.6. 면목본동 내 이용승객 분포"
   ]
  },
  {
   "cell_type": "code",
   "execution_count": null,
   "id": "718b1b0a",
   "metadata": {},
   "outputs": [],
   "source": [
    "df_joong_meonbon=df_joong[df_joong['읍면동명칭']==Is_dong[11]]\n",
    "print(df_joong_meonbon.shape)\n",
    "df_joong_meonbon.head()"
   ]
  },
  {
   "cell_type": "code",
   "execution_count": null,
   "id": "74fee261",
   "metadata": {},
   "outputs": [],
   "source": [
    "df_joong_meonbon_cir=find_circuity(df_joong_meonbon)\n",
    "\n",
    "print(df_joong_meonbon_cir.shape)\n",
    "df_joong_meonbon_cir.head()"
   ]
  },
  {
   "cell_type": "code",
   "execution_count": null,
   "id": "9a8fdd46",
   "metadata": {},
   "outputs": [],
   "source": [
    "clustering_whole(df_joong_meonbon)"
   ]
  },
  {
   "cell_type": "code",
   "execution_count": null,
   "id": "b38de207",
   "metadata": {},
   "outputs": [],
   "source": [
    "clustering_sub(df_joong_meonbon_cir)"
   ]
  },
  {
   "cell_type": "markdown",
   "id": "61b5610d",
   "metadata": {},
   "source": [
    "* 서일대학교 주변(300건 이상), 서울중목초등학교 앞/면목한신아파트 앞(100건 이상), 지하철 7호선 면목역-하나인쇄명함할인마트(719건)"
   ]
  },
  {
   "cell_type": "markdown",
   "id": "d098936f",
   "metadata": {},
   "source": [
    "#### 4.3.3.7. 묵1동 내 이용승객 분포"
   ]
  },
  {
   "cell_type": "code",
   "execution_count": null,
   "id": "8683f0f3",
   "metadata": {},
   "outputs": [],
   "source": [
    "df_joong_mook1=df_joong[df_joong['읍면동명칭']==Is_dong[5]]\n",
    "print(df_joong_mook1.shape)\n",
    "df_joong_mook1.head()"
   ]
  },
  {
   "cell_type": "code",
   "execution_count": null,
   "id": "aeaed7b6",
   "metadata": {},
   "outputs": [],
   "source": [
    "df_joong_mook1_cir=find_circuity(df_joong_mook1)\n",
    "\n",
    "print(df_joong_mook1_cir.shape)\n",
    "df_joong_mook1_cir.head()"
   ]
  },
  {
   "cell_type": "code",
   "execution_count": null,
   "id": "acc59a92",
   "metadata": {},
   "outputs": [],
   "source": [
    "clustering_whole(df_joong_mook1)"
   ]
  },
  {
   "cell_type": "code",
   "execution_count": null,
   "id": "80718b7d",
   "metadata": {},
   "outputs": [],
   "source": [
    "clustering_sub(df_joong_mook1_cir)"
   ]
  },
  {
   "cell_type": "markdown",
   "id": "24157534",
   "metadata": {},
   "source": [
    "* 봉화산을 둘러서 가야하니까 우회계수 높음."
   ]
  },
  {
   "cell_type": "markdown",
   "id": "cb4aff9d",
   "metadata": {},
   "source": [
    "#### 4.3.3.8. 묵2동 내 이용승객 분포"
   ]
  },
  {
   "cell_type": "code",
   "execution_count": null,
   "id": "d418f185",
   "metadata": {},
   "outputs": [],
   "source": [
    "df_joong_mook2=df_joong[df_joong['읍면동명칭']==Is_dong[2]]\n",
    "print(df_joong_mook2.shape)\n",
    "df_joong_mook2.head()"
   ]
  },
  {
   "cell_type": "code",
   "execution_count": null,
   "id": "78e9b3aa",
   "metadata": {},
   "outputs": [],
   "source": [
    "df_joong_mook2_cir=find_circuity(df_joong_mook2)\n",
    "\n",
    "print(df_joong_mook2_cir.shape)\n",
    "df_joong_mook2_cir.head()"
   ]
  },
  {
   "cell_type": "code",
   "execution_count": null,
   "id": "0c209ba6",
   "metadata": {},
   "outputs": [],
   "source": [
    "clustering_whole(df_joong_mook2)"
   ]
  },
  {
   "cell_type": "code",
   "execution_count": null,
   "id": "12dd7b63",
   "metadata": {},
   "outputs": [],
   "source": [
    "clustering_sub(df_joong_mook2_cir)"
   ]
  },
  {
   "cell_type": "markdown",
   "id": "8eb0328e",
   "metadata": {},
   "source": [
    "* 먹골역 주변, 화랑로 건너서 석계역 주변(100건 이상)"
   ]
  },
  {
   "cell_type": "markdown",
   "id": "52df1210",
   "metadata": {},
   "source": [
    "#### 4.3.3.9. 상봉1동 내 이용승객 분포"
   ]
  },
  {
   "cell_type": "code",
   "execution_count": null,
   "id": "187cf272",
   "metadata": {},
   "outputs": [],
   "source": [
    "df_joong_sang1=df_joong[df_joong['읍면동명칭']==Is_dong[1]]\n",
    "print(df_joong_sang1.shape)\n",
    "df_joong_sang1.head()"
   ]
  },
  {
   "cell_type": "code",
   "execution_count": null,
   "id": "b6f04ac8",
   "metadata": {},
   "outputs": [],
   "source": [
    "df_joong_sang1_cir=find_circuity(df_joong_sang1)\n",
    "\n",
    "print(df_joong_sang1_cir.shape)\n",
    "df_joong_sang1_cir.head()"
   ]
  },
  {
   "cell_type": "code",
   "execution_count": null,
   "id": "1b43ce0a",
   "metadata": {},
   "outputs": [],
   "source": [
    "clustering_whole(df_joong_sang1)"
   ]
  },
  {
   "cell_type": "code",
   "execution_count": null,
   "id": "0cefd725",
   "metadata": {},
   "outputs": [],
   "source": [
    "clustering_sub(df_joong_sang1_cir)"
   ]
  },
  {
   "cell_type": "markdown",
   "id": "cc41919e",
   "metadata": {},
   "source": [
    "* 상봉지하차도, 신내지하차도"
   ]
  },
  {
   "cell_type": "markdown",
   "id": "33ab20fb",
   "metadata": {},
   "source": [
    "#### 4.3.3.10. 상봉2동 내 이용승객 분포"
   ]
  },
  {
   "cell_type": "code",
   "execution_count": null,
   "id": "00fe927f",
   "metadata": {},
   "outputs": [],
   "source": [
    "df_joong_sang2=df_joong[df_joong['읍면동명칭']==Is_dong[14]]\n",
    "print(df_joong_sang2.shape)\n",
    "df_joong_sang2.head()"
   ]
  },
  {
   "cell_type": "code",
   "execution_count": null,
   "id": "43ba05e2",
   "metadata": {},
   "outputs": [],
   "source": [
    "df_joong_sang2_cir=find_circuity(df_joong_sang2)\n",
    "\n",
    "print(df_joong_sang2_cir.shape)\n",
    "df_joong_sang2_cir.head()"
   ]
  },
  {
   "cell_type": "code",
   "execution_count": null,
   "id": "41d2b6d5",
   "metadata": {},
   "outputs": [],
   "source": [
    "clustering_whole(df_joong_sang2)"
   ]
  },
  {
   "cell_type": "code",
   "execution_count": null,
   "id": "db945906",
   "metadata": {},
   "outputs": [],
   "source": [
    "clustering_sub(df_joong_sang2_cir)"
   ]
  },
  {
   "cell_type": "markdown",
   "id": "81efa880",
   "metadata": {},
   "source": [
    "* 상봉터미널, 서일대학교"
   ]
  },
  {
   "cell_type": "markdown",
   "id": "8c6211fb",
   "metadata": {},
   "source": [
    "#### 4.3.3.11. 망우본동 내 이용승객 분포"
   ]
  },
  {
   "cell_type": "code",
   "execution_count": null,
   "id": "9669b3cd",
   "metadata": {},
   "outputs": [],
   "source": [
    "df_joong_mangbon=df_joong[df_joong['읍면동명칭']==Is_dong[0]]\n",
    "print(df_joong_mangbon.shape)\n",
    "df_joong_mangbon.head()"
   ]
  },
  {
   "cell_type": "code",
   "execution_count": null,
   "id": "4aa5d6d1",
   "metadata": {},
   "outputs": [],
   "source": [
    "df_joong_mangbon_cir=find_circuity(df_joong_mangbon)\n",
    "\n",
    "print(df_joong_mangbon_cir.shape)\n",
    "df_joong_mangbon_cir.head()"
   ]
  },
  {
   "cell_type": "code",
   "execution_count": null,
   "id": "82be3557",
   "metadata": {},
   "outputs": [],
   "source": [
    "clustering_whole(df_joong_mangbon)"
   ]
  },
  {
   "cell_type": "code",
   "execution_count": null,
   "id": "ed50702f",
   "metadata": {},
   "outputs": [],
   "source": [
    "clustering_sub(df_joong_mangbon_cir)"
   ]
  },
  {
   "cell_type": "markdown",
   "id": "2f558033",
   "metadata": {},
   "source": [
    "* 중랑구청, 이화여대병설미디어고등학교, 송곡고등학교, 송곡여자중학교 근처에"
   ]
  },
  {
   "cell_type": "markdown",
   "id": "c794f785",
   "metadata": {},
   "source": [
    "#### 4.3.3.12. 망우3동 내 이용승객 분포"
   ]
  },
  {
   "cell_type": "code",
   "execution_count": null,
   "id": "abe73215",
   "metadata": {},
   "outputs": [],
   "source": [
    "df_joong_mang3=df_joong[df_joong['읍면동명칭']==Is_dong[7]]\n",
    "print(df_joong_mang3.shape)\n",
    "df_joong_mang3.head()"
   ]
  },
  {
   "cell_type": "code",
   "execution_count": null,
   "id": "e92ef223",
   "metadata": {},
   "outputs": [],
   "source": [
    "df_joong_mang3_cir=find_circuity(df_joong_mang3)\n",
    "\n",
    "print(df_joong_mang3_cir.shape)\n",
    "df_joong_mang3_cir.head()"
   ]
  },
  {
   "cell_type": "code",
   "execution_count": null,
   "id": "d4558e45",
   "metadata": {},
   "outputs": [],
   "source": [
    "clustering_whole(df_joong_mang3)"
   ]
  },
  {
   "cell_type": "code",
   "execution_count": null,
   "id": "39927be2",
   "metadata": {},
   "outputs": [],
   "source": [
    "clustering_sub(df_joong_mang3_cir)"
   ]
  },
  {
   "cell_type": "markdown",
   "id": "81b02d4d",
   "metadata": {},
   "source": [
    "* 면일초등학교, 혜원여자중고등학교 앞"
   ]
  },
  {
   "cell_type": "markdown",
   "id": "9d6beda9",
   "metadata": {},
   "source": [
    "#### 4.3.3.13. 신내1동 내 이용승객 분포"
   ]
  },
  {
   "cell_type": "code",
   "execution_count": null,
   "id": "716773df",
   "metadata": {},
   "outputs": [],
   "source": [
    "df_joong_sin1=df_joong[df_joong['읍면동명칭']==Is_dong[9]]\n",
    "print(df_joong_sin1.shape)\n",
    "df_joong_sin1.head()"
   ]
  },
  {
   "cell_type": "code",
   "execution_count": null,
   "id": "6bcce5f8",
   "metadata": {},
   "outputs": [],
   "source": [
    "df_joong_sin1_cir=find_circuity(df_joong_sin1)\n",
    "\n",
    "print(df_joong_sin1_cir.shape)\n",
    "df_joong_sin1_cir.head()"
   ]
  },
  {
   "cell_type": "code",
   "execution_count": null,
   "id": "26ff8205",
   "metadata": {},
   "outputs": [],
   "source": [
    "clustering_whole(df_joong_sin1)"
   ]
  },
  {
   "cell_type": "code",
   "execution_count": null,
   "id": "8e06795a",
   "metadata": {},
   "outputs": [],
   "source": [
    "clustering_sub(df_joong_sin1_cir)"
   ]
  },
  {
   "cell_type": "markdown",
   "id": "1909cd0a",
   "metadata": {},
   "source": [
    "* 봉화산, 신내차량사업소, 용마산로 거쳐서 가야함. 동성 1,2차 아파트, 데시앙 아파트 돌아서 가야함."
   ]
  },
  {
   "cell_type": "markdown",
   "id": "dff9949a",
   "metadata": {},
   "source": [
    "#### 4.3.3.14. 신내2동 내 이용승객 분포"
   ]
  },
  {
   "cell_type": "code",
   "execution_count": null,
   "id": "297b3bdb",
   "metadata": {},
   "outputs": [],
   "source": [
    "df_joong_sin2=df_joong[df_joong['읍면동명칭']==Is_dong[4]]\n",
    "print(df_joong_sin2.shape)\n",
    "df_joong_sin2.head()"
   ]
  },
  {
   "cell_type": "code",
   "execution_count": null,
   "id": "2c5f65ae",
   "metadata": {},
   "outputs": [],
   "source": [
    "df_joong_sin2_cir=find_circuity(df_joong_sin2)\n",
    "\n",
    "print(df_joong_sin2_cir.shape)\n",
    "df_joong_sin2_cir.head()"
   ]
  },
  {
   "cell_type": "code",
   "execution_count": null,
   "id": "a7f63a78",
   "metadata": {},
   "outputs": [],
   "source": [
    "clustering_whole(df_joong_sin2)"
   ]
  },
  {
   "cell_type": "code",
   "execution_count": null,
   "id": "32a15ea9",
   "metadata": {},
   "outputs": [],
   "source": [
    "clustering_sub(df_joong_sin2_cir)"
   ]
  },
  {
   "cell_type": "markdown",
   "id": "74eca8fb",
   "metadata": {},
   "source": [
    "* 봉화산, 신내 단지 아파트 돌아서 가야함."
   ]
  },
  {
   "cell_type": "markdown",
   "id": "9124d972",
   "metadata": {},
   "source": [
    "#### 4.3.3.15. 중화1동 내 이용승객 분포"
   ]
  },
  {
   "cell_type": "code",
   "execution_count": null,
   "id": "91d867df",
   "metadata": {},
   "outputs": [],
   "source": [
    "df_joong_joonghwa1=df_joong[df_joong['읍면동명칭']==Is_dong[13]]\n",
    "print(df_joong_joonghwa1.shape)\n",
    "df_joong_joonghwa1.head()"
   ]
  },
  {
   "cell_type": "code",
   "execution_count": null,
   "id": "bc10286b",
   "metadata": {},
   "outputs": [],
   "source": [
    "df_joong_joonghwa1_cir=find_circuity(df_joong_joonghwa1)\n",
    "\n",
    "print(df_joong_joonghwa1_cir.shape)\n",
    "df_joong_joonghwa1_cir.head()"
   ]
  },
  {
   "cell_type": "code",
   "execution_count": null,
   "id": "45b0e1a5",
   "metadata": {},
   "outputs": [],
   "source": [
    "clustering_whole(df_joong_joonghwa1)"
   ]
  },
  {
   "cell_type": "code",
   "execution_count": null,
   "id": "c3d18656",
   "metadata": {},
   "outputs": [],
   "source": [
    "clustering_sub(df_joong_joonghwa1_cir)"
   ]
  },
  {
   "cell_type": "markdown",
   "id": "cc1c9ca6",
   "metadata": {},
   "source": [
    "* 코스트코, 홈플러스 앞, 장안중학교, 중흥초등학교, 7호선중화역 앞"
   ]
  },
  {
   "cell_type": "markdown",
   "id": "845f42f5",
   "metadata": {},
   "source": [
    "#### 4.3.3.16. 중화2동 내 이용승객 분포"
   ]
  },
  {
   "cell_type": "code",
   "execution_count": null,
   "id": "e265d0e1",
   "metadata": {},
   "outputs": [],
   "source": [
    "df_joong_joonghwa2=df_joong[df_joong['읍면동명칭']==Is_dong[10]]\n",
    "print(df_joong_joonghwa2.shape)\n",
    "df_joong_joonghwa2.head()"
   ]
  },
  {
   "cell_type": "code",
   "execution_count": null,
   "id": "921819b0",
   "metadata": {},
   "outputs": [],
   "source": [
    "df_joong_joonghwa2_cir=find_circuity(df_joong_joonghwa2)\n",
    "\n",
    "print(df_joong_joonghwa2_cir.shape)\n",
    "df_joong_joonghwa2_cir.head()"
   ]
  },
  {
   "cell_type": "code",
   "execution_count": null,
   "id": "931ce4ff",
   "metadata": {},
   "outputs": [],
   "source": [
    "clustering_whole(df_joong_joonghwa2)"
   ]
  },
  {
   "cell_type": "code",
   "execution_count": null,
   "id": "1c1319d9",
   "metadata": {},
   "outputs": [],
   "source": [
    "clustering_sub(df_joong_joonghwa2_cir)"
   ]
  },
  {
   "cell_type": "markdown",
   "id": "d1f70c10",
   "metadata": {},
   "source": [
    "* 동일로 지하차도?"
   ]
  },
  {
   "cell_type": "markdown",
   "id": "571b8ceb",
   "metadata": {},
   "source": [
    "### 4.3.4. 서대문구의 대중교통 취약지점 분석"
   ]
  },
  {
   "cell_type": "code",
   "execution_count": null,
   "id": "fcca15ac",
   "metadata": {},
   "outputs": [],
   "source": []
  },
  {
   "cell_type": "code",
   "execution_count": null,
   "id": "cd6fa4d1",
   "metadata": {},
   "outputs": [],
   "source": []
  },
  {
   "cell_type": "code",
   "execution_count": null,
   "id": "8018ac0a",
   "metadata": {},
   "outputs": [],
   "source": []
  },
  {
   "cell_type": "code",
   "execution_count": null,
   "id": "4c05d882",
   "metadata": {},
   "outputs": [],
   "source": []
  },
  {
   "cell_type": "markdown",
   "id": "7d4c0815",
   "metadata": {},
   "source": [
    "## 사용함수"
   ]
  },
  {
   "cell_type": "markdown",
   "id": "c9f00a15",
   "metadata": {},
   "source": [
    "### Circuity>1.5이고, total_distance가 2km인 데이터를 정제-find_circuity(data)"
   ]
  },
  {
   "cell_type": "code",
   "execution_count": null,
   "id": "fa860e71",
   "metadata": {},
   "outputs": [],
   "source": [
    "def find_circuity(data):\n",
    "    cond=(data['Circuity']>1.5)&(data['total_distance']<=2000)\n",
    "    return data[cond]"
   ]
  },
  {
   "cell_type": "markdown",
   "id": "cfe0723e",
   "metadata": {},
   "source": [
    "### 이용승객 클러스터링"
   ]
  },
  {
   "cell_type": "code",
   "execution_count": null,
   "id": "a8bdd2a7",
   "metadata": {},
   "outputs": [],
   "source": [
    "def clustering_whole(data):\n",
    "    import folium\n",
    "    \n",
    "    map=folium.Map(location=[37.59576,127.08818],zoom_start=12)\n",
    "    \n",
    "    from folium.plugins import MarkerCluster\n",
    "    marker_cluster=MarkerCluster().add_to(map)\n",
    "    \n",
    "    for lat, lon in zip(data['on_lat'],data['on_lon']):\n",
    "        folium.Marker([lat,lon]).add_to(marker_cluster)\n",
    "        \n",
    "    return map"
   ]
  },
  {
   "cell_type": "code",
   "execution_count": null,
   "id": "f98434ae",
   "metadata": {},
   "outputs": [],
   "source": [
    "def clustering_sub(data):\n",
    "    import folium\n",
    "    \n",
    "    map=folium.Map(location=[37.59576,127.08818],zoom_start=12)\n",
    "    \n",
    "    from folium.plugins import MarkerCluster\n",
    "    marker_cluster=MarkerCluster().add_to(map)\n",
    "    \n",
    "    for lat, lon in zip(data['on_lat'],data['on_lon']):\n",
    "        folium.Marker([lat,lon]).add_to(marker_cluster)\n",
    "        \n",
    "    for lat, lon in zip(data['off_lat'],data['off_lon']):\n",
    "        folium.Marker([lat,lon]).add_to(marker_cluster)\n",
    "        \n",
    "    return map"
   ]
  },
  {
   "cell_type": "code",
   "execution_count": null,
   "id": "7716250e",
   "metadata": {},
   "outputs": [],
   "source": []
  }
 ],
 "metadata": {
  "kernelspec": {
   "display_name": "Python 3 (ipykernel)",
   "language": "python",
   "name": "python3"
  },
  "language_info": {
   "codemirror_mode": {
    "name": "ipython",
    "version": 3
   },
   "file_extension": ".py",
   "mimetype": "text/x-python",
   "name": "python",
   "nbconvert_exporter": "python",
   "pygments_lexer": "ipython3",
   "version": "3.9.7"
  }
 },
 "nbformat": 4,
 "nbformat_minor": 5
}
