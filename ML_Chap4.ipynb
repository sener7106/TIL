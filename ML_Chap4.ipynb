{
  "nbformat": 4,
  "nbformat_minor": 0,
  "metadata": {
    "colab": {
      "name": "ML_Chap4.ipynb",
      "provenance": [],
      "collapsed_sections": [],
      "toc_visible": true,
      "authorship_tag": "ABX9TyNnYKAuOiPyKnNHdUAr30CN",
      "include_colab_link": true
    },
    "kernelspec": {
      "name": "python3",
      "display_name": "Python 3"
    },
    "language_info": {
      "name": "python"
    }
  },
  "cells": [
    {
      "cell_type": "markdown",
      "metadata": {
        "id": "view-in-github",
        "colab_type": "text"
      },
      "source": [
        "<a href=\"https://colab.research.google.com/github/sener7106/TiL/blob/main/ML_Chap4.ipynb\" target=\"_parent\"><img src=\"https://colab.research.google.com/assets/colab-badge.svg\" alt=\"Open In Colab\"/></a>"
      ]
    },
    {
      "cell_type": "markdown",
      "source": [
        "# 04-1 로지스틱 회귀\n",
        "\n",
        "- 분류와 회귀 문제, 특성값을 전처리(Scaled)하거나 특성을 조합(다중회귀)하여 새로운 특성을 만들 수 있다."
      ],
      "metadata": {
        "id": "47C6jUv8LtrF"
      }
    },
    {
      "cell_type": "code",
      "source": [
        "# 데이터 준비하기"
      ],
      "metadata": {
        "id": "Zkz5XRE2MNw_"
      },
      "execution_count": 1,
      "outputs": []
    },
    {
      "cell_type": "code",
      "source": [
        "import numpy as np\n",
        "import pandas as pd\n",
        "fish = pd.read_csv('https://bit.ly/fish_csv_data')\n",
        "fish.head()"
      ],
      "metadata": {
        "colab": {
          "base_uri": "https://localhost:8080/",
          "height": 206
        },
        "id": "H7bgS7iAMPLM",
        "outputId": "cfb5b981-bcf9-4a1a-e4e0-9768f0b65743"
      },
      "execution_count": 2,
      "outputs": [
        {
          "output_type": "execute_result",
          "data": {
            "text/html": [
              "\n",
              "  <div id=\"df-f0f67a7a-8db0-4ca8-b08a-9e3fc558c14d\">\n",
              "    <div class=\"colab-df-container\">\n",
              "      <div>\n",
              "<style scoped>\n",
              "    .dataframe tbody tr th:only-of-type {\n",
              "        vertical-align: middle;\n",
              "    }\n",
              "\n",
              "    .dataframe tbody tr th {\n",
              "        vertical-align: top;\n",
              "    }\n",
              "\n",
              "    .dataframe thead th {\n",
              "        text-align: right;\n",
              "    }\n",
              "</style>\n",
              "<table border=\"1\" class=\"dataframe\">\n",
              "  <thead>\n",
              "    <tr style=\"text-align: right;\">\n",
              "      <th></th>\n",
              "      <th>Species</th>\n",
              "      <th>Weight</th>\n",
              "      <th>Length</th>\n",
              "      <th>Diagonal</th>\n",
              "      <th>Height</th>\n",
              "      <th>Width</th>\n",
              "    </tr>\n",
              "  </thead>\n",
              "  <tbody>\n",
              "    <tr>\n",
              "      <th>0</th>\n",
              "      <td>Bream</td>\n",
              "      <td>242.0</td>\n",
              "      <td>25.4</td>\n",
              "      <td>30.0</td>\n",
              "      <td>11.5200</td>\n",
              "      <td>4.0200</td>\n",
              "    </tr>\n",
              "    <tr>\n",
              "      <th>1</th>\n",
              "      <td>Bream</td>\n",
              "      <td>290.0</td>\n",
              "      <td>26.3</td>\n",
              "      <td>31.2</td>\n",
              "      <td>12.4800</td>\n",
              "      <td>4.3056</td>\n",
              "    </tr>\n",
              "    <tr>\n",
              "      <th>2</th>\n",
              "      <td>Bream</td>\n",
              "      <td>340.0</td>\n",
              "      <td>26.5</td>\n",
              "      <td>31.1</td>\n",
              "      <td>12.3778</td>\n",
              "      <td>4.6961</td>\n",
              "    </tr>\n",
              "    <tr>\n",
              "      <th>3</th>\n",
              "      <td>Bream</td>\n",
              "      <td>363.0</td>\n",
              "      <td>29.0</td>\n",
              "      <td>33.5</td>\n",
              "      <td>12.7300</td>\n",
              "      <td>4.4555</td>\n",
              "    </tr>\n",
              "    <tr>\n",
              "      <th>4</th>\n",
              "      <td>Bream</td>\n",
              "      <td>430.0</td>\n",
              "      <td>29.0</td>\n",
              "      <td>34.0</td>\n",
              "      <td>12.4440</td>\n",
              "      <td>5.1340</td>\n",
              "    </tr>\n",
              "  </tbody>\n",
              "</table>\n",
              "</div>\n",
              "      <button class=\"colab-df-convert\" onclick=\"convertToInteractive('df-f0f67a7a-8db0-4ca8-b08a-9e3fc558c14d')\"\n",
              "              title=\"Convert this dataframe to an interactive table.\"\n",
              "              style=\"display:none;\">\n",
              "        \n",
              "  <svg xmlns=\"http://www.w3.org/2000/svg\" height=\"24px\"viewBox=\"0 0 24 24\"\n",
              "       width=\"24px\">\n",
              "    <path d=\"M0 0h24v24H0V0z\" fill=\"none\"/>\n",
              "    <path d=\"M18.56 5.44l.94 2.06.94-2.06 2.06-.94-2.06-.94-.94-2.06-.94 2.06-2.06.94zm-11 1L8.5 8.5l.94-2.06 2.06-.94-2.06-.94L8.5 2.5l-.94 2.06-2.06.94zm10 10l.94 2.06.94-2.06 2.06-.94-2.06-.94-.94-2.06-.94 2.06-2.06.94z\"/><path d=\"M17.41 7.96l-1.37-1.37c-.4-.4-.92-.59-1.43-.59-.52 0-1.04.2-1.43.59L10.3 9.45l-7.72 7.72c-.78.78-.78 2.05 0 2.83L4 21.41c.39.39.9.59 1.41.59.51 0 1.02-.2 1.41-.59l7.78-7.78 2.81-2.81c.8-.78.8-2.07 0-2.86zM5.41 20L4 18.59l7.72-7.72 1.47 1.35L5.41 20z\"/>\n",
              "  </svg>\n",
              "      </button>\n",
              "      \n",
              "  <style>\n",
              "    .colab-df-container {\n",
              "      display:flex;\n",
              "      flex-wrap:wrap;\n",
              "      gap: 12px;\n",
              "    }\n",
              "\n",
              "    .colab-df-convert {\n",
              "      background-color: #E8F0FE;\n",
              "      border: none;\n",
              "      border-radius: 50%;\n",
              "      cursor: pointer;\n",
              "      display: none;\n",
              "      fill: #1967D2;\n",
              "      height: 32px;\n",
              "      padding: 0 0 0 0;\n",
              "      width: 32px;\n",
              "    }\n",
              "\n",
              "    .colab-df-convert:hover {\n",
              "      background-color: #E2EBFA;\n",
              "      box-shadow: 0px 1px 2px rgba(60, 64, 67, 0.3), 0px 1px 3px 1px rgba(60, 64, 67, 0.15);\n",
              "      fill: #174EA6;\n",
              "    }\n",
              "\n",
              "    [theme=dark] .colab-df-convert {\n",
              "      background-color: #3B4455;\n",
              "      fill: #D2E3FC;\n",
              "    }\n",
              "\n",
              "    [theme=dark] .colab-df-convert:hover {\n",
              "      background-color: #434B5C;\n",
              "      box-shadow: 0px 1px 3px 1px rgba(0, 0, 0, 0.15);\n",
              "      filter: drop-shadow(0px 1px 2px rgba(0, 0, 0, 0.3));\n",
              "      fill: #FFFFFF;\n",
              "    }\n",
              "  </style>\n",
              "\n",
              "      <script>\n",
              "        const buttonEl =\n",
              "          document.querySelector('#df-f0f67a7a-8db0-4ca8-b08a-9e3fc558c14d button.colab-df-convert');\n",
              "        buttonEl.style.display =\n",
              "          google.colab.kernel.accessAllowed ? 'block' : 'none';\n",
              "\n",
              "        async function convertToInteractive(key) {\n",
              "          const element = document.querySelector('#df-f0f67a7a-8db0-4ca8-b08a-9e3fc558c14d');\n",
              "          const dataTable =\n",
              "            await google.colab.kernel.invokeFunction('convertToInteractive',\n",
              "                                                     [key], {});\n",
              "          if (!dataTable) return;\n",
              "\n",
              "          const docLinkHtml = 'Like what you see? Visit the ' +\n",
              "            '<a target=\"_blank\" href=https://colab.research.google.com/notebooks/data_table.ipynb>data table notebook</a>'\n",
              "            + ' to learn more about interactive tables.';\n",
              "          element.innerHTML = '';\n",
              "          dataTable['output_type'] = 'display_data';\n",
              "          await google.colab.output.renderOutput(dataTable, element);\n",
              "          const docLink = document.createElement('div');\n",
              "          docLink.innerHTML = docLinkHtml;\n",
              "          element.appendChild(docLink);\n",
              "        }\n",
              "      </script>\n",
              "    </div>\n",
              "  </div>\n",
              "  "
            ],
            "text/plain": [
              "  Species  Weight  Length  Diagonal   Height   Width\n",
              "0   Bream   242.0    25.4      30.0  11.5200  4.0200\n",
              "1   Bream   290.0    26.3      31.2  12.4800  4.3056\n",
              "2   Bream   340.0    26.5      31.1  12.3778  4.6961\n",
              "3   Bream   363.0    29.0      33.5  12.7300  4.4555\n",
              "4   Bream   430.0    29.0      34.0  12.4440  5.1340"
            ]
          },
          "metadata": {},
          "execution_count": 2
        }
      ]
    },
    {
      "cell_type": "code",
      "source": [
        "print(pd.unique(fish['Species']))"
      ],
      "metadata": {
        "colab": {
          "base_uri": "https://localhost:8080/"
        },
        "id": "C4R4RCEZMbjV",
        "outputId": "8fd0c14c-376e-4d3c-d420-e67fcc742895"
      },
      "execution_count": 3,
      "outputs": [
        {
          "output_type": "stream",
          "name": "stdout",
          "text": [
            "['Bream' 'Roach' 'Whitefish' 'Parkki' 'Perch' 'Pike' 'Smelt']\n"
          ]
        }
      ]
    },
    {
      "cell_type": "code",
      "source": [
        "fish_input = fish[['Weight', 'Length', 'Diagonal', 'Height', 'Width']].to_numpy()"
      ],
      "metadata": {
        "id": "lXrBWlVxMgDV"
      },
      "execution_count": 4,
      "outputs": []
    },
    {
      "cell_type": "code",
      "source": [
        "print(fish_input[:5])"
      ],
      "metadata": {
        "colab": {
          "base_uri": "https://localhost:8080/"
        },
        "id": "lbHzXjiaMvGc",
        "outputId": "1166682b-1aa2-4469-efea-2290c7895534"
      },
      "execution_count": 6,
      "outputs": [
        {
          "output_type": "stream",
          "name": "stdout",
          "text": [
            "[[242.      25.4     30.      11.52     4.02  ]\n",
            " [290.      26.3     31.2     12.48     4.3056]\n",
            " [340.      26.5     31.1     12.3778   4.6961]\n",
            " [363.      29.      33.5     12.73     4.4555]\n",
            " [430.      29.      34.      12.444    5.134 ]]\n"
          ]
        }
      ]
    },
    {
      "cell_type": "code",
      "source": [
        "fish_target = fish['Species'].to_numpy()"
      ],
      "metadata": {
        "id": "hWNcLOw5MwOP"
      },
      "execution_count": 7,
      "outputs": []
    },
    {
      "cell_type": "code",
      "source": [
        "from sklearn.model_selection import train_test_split\n",
        "\n",
        "train_input, test_input, train_target, test_target = train_test_split(fish_input, fish_target, random_state =42)"
      ],
      "metadata": {
        "id": "V8A_qMGtNAp_"
      },
      "execution_count": 12,
      "outputs": []
    },
    {
      "cell_type": "markdown",
      "source": [
        "## 데이터 전처리(스케일링)"
      ],
      "metadata": {
        "id": "M7TcUxdXOGNp"
      }
    },
    {
      "cell_type": "code",
      "source": [
        "# 데이터 전처리(스케일링)\n",
        "from sklearn.preprocessing import StandardScaler\n",
        "\n",
        "ss = StandardScaler()\n",
        "ss.fit(train_input)\n",
        "train_scaled = ss.transform(train_input)\n",
        "test_scaled = ss.transform(test_input)"
      ],
      "metadata": {
        "id": "2csLpLKiNNER"
      },
      "execution_count": 15,
      "outputs": []
    },
    {
      "cell_type": "markdown",
      "source": [
        "## KNeighborsClassifier 의 확률 예측"
      ],
      "metadata": {
        "id": "uXN4u3TgOJ8e"
      }
    },
    {
      "cell_type": "code",
      "source": [
        "# KNeighborsClassifier의 확률 예측\n",
        "\n",
        "from sklearn.neighbors import KNeighborsClassifier\n",
        "kn = KNeighborsClassifier(n_neighbors = 3)\n",
        "kn.fit(train_scaled, train_target)\n",
        "print(kn.score(train_scaled, train_target))\n",
        "print(kn.score(test_scaled, test_target))"
      ],
      "metadata": {
        "colab": {
          "base_uri": "https://localhost:8080/"
        },
        "id": "qXHAcEExNUTS",
        "outputId": "f3b46d4b-807e-42a2-8f8e-558e63191289"
      },
      "execution_count": 16,
      "outputs": [
        {
          "output_type": "stream",
          "name": "stdout",
          "text": [
            "0.8907563025210085\n",
            "0.85\n"
          ]
        }
      ]
    },
    {
      "cell_type": "markdown",
      "source": [
        "- <b>다중분류(Multi-class Classification) </b> = 훈련 셋과 테스트 셋(타깃 데이터)에 2개 이상의 클래스가 포함된 문제\n",
        "\n",
        "- 이진 분류와 모델을 만들고 훈련하는 방식은 동일. 다중 분류에서도 타깃값을 숫자로 바꾸어 입력할 수 있지만, 사이킷런 패키지에서는 문자열로 된 타깃 값을 그대로 사용할 수 있음.\n",
        "\n",
        "- 사이킷런의 분류모델은  **predict_proba()**  메서드로 클래스별 확률값을 반환. "
      ],
      "metadata": {
        "id": "z9Kh2o4YN_lQ"
      }
    },
    {
      "cell_type": "code",
      "source": [
        "print(kn.classes_)"
      ],
      "metadata": {
        "colab": {
          "base_uri": "https://localhost:8080/"
        },
        "id": "Y4gwEkLjOdzJ",
        "outputId": "020f5cf6-ebeb-464e-db87-5f6de98ae13a"
      },
      "execution_count": 17,
      "outputs": [
        {
          "output_type": "stream",
          "name": "stdout",
          "text": [
            "['Bream' 'Parkki' 'Perch' 'Pike' 'Roach' 'Smelt' 'Whitefish']\n"
          ]
        }
      ]
    },
    {
      "cell_type": "code",
      "source": [
        "print(kn.predict(test_scaled[:5]))"
      ],
      "metadata": {
        "colab": {
          "base_uri": "https://localhost:8080/"
        },
        "id": "EAQ2UUqNOzp3",
        "outputId": "a92ff3a6-7e40-420a-e150-4e6a56ad3763"
      },
      "execution_count": 18,
      "outputs": [
        {
          "output_type": "stream",
          "name": "stdout",
          "text": [
            "['Perch' 'Smelt' 'Pike' 'Perch' 'Perch']\n"
          ]
        }
      ]
    },
    {
      "cell_type": "code",
      "source": [
        "proba = kn.predict_proba(test_scaled[:5])\n",
        "print(np.round(proba, decimals = 4))"
      ],
      "metadata": {
        "colab": {
          "base_uri": "https://localhost:8080/"
        },
        "id": "UbdYTteAO4K3",
        "outputId": "d5277863-ddc7-4e83-82af-df4e0419695e"
      },
      "execution_count": 19,
      "outputs": [
        {
          "output_type": "stream",
          "name": "stdout",
          "text": [
            "[[0.     0.     1.     0.     0.     0.     0.    ]\n",
            " [0.     0.     0.     0.     0.     1.     0.    ]\n",
            " [0.     0.     0.     1.     0.     0.     0.    ]\n",
            " [0.     0.     0.6667 0.     0.3333 0.     0.    ]\n",
            " [0.     0.     0.6667 0.     0.3333 0.     0.    ]]\n"
          ]
        }
      ]
    },
    {
      "cell_type": "code",
      "source": [
        "distances, indexes = kn.kneighbors(test_scaled[3:4])\n",
        "print(train_target[indexes])"
      ],
      "metadata": {
        "colab": {
          "base_uri": "https://localhost:8080/"
        },
        "id": "fm8Rb7aXPR8O",
        "outputId": "9011d6b3-111e-4562-87f7-5b1b586bc1c9"
      },
      "execution_count": 21,
      "outputs": [
        {
          "output_type": "stream",
          "name": "stdout",
          "text": [
            "[['Roach' 'Perch' 'Perch']]\n"
          ]
        }
      ]
    },
    {
      "cell_type": "code",
      "source": [
        "# 3개의 최근접 이웃을 활용한 모델에게 가능한 확률은 0/3, 1/3, 2/3, 3/3 4개의 확률만이 존재.. 수정이 필요"
      ],
      "metadata": {
        "id": "hBs5FRPSPgi5"
      },
      "execution_count": 22,
      "outputs": []
    },
    {
      "cell_type": "markdown",
      "source": [
        "## 로지스틱 회귀(Logistic Regression)\n",
        "- 회귀모델이라 쓰고 분류 모델이라 읽는다."
      ],
      "metadata": {
        "id": "Vip_NoaIP4X1"
      }
    },
    {
      "cell_type": "markdown",
      "source": [
        "``` \n",
        " z = a * (Weight) + b * (length) + c * (diagonal) + d * (height) + e * (width) + f\n",
        "\n",
        "```\n",
        "\n"
      ],
      "metadata": {
        "id": "oGEATbafQD5M"
      }
    },
    {
      "cell_type": "markdown",
      "source": [
        "z는 어떤 값도 가능하지만 확률이 되려면 0~1 사이의 값이 되어야함. \n",
        "z가 큰 음수일 때 0이 되고, z가 아주 큰 양수 일때 1이 되는 함수.\n",
        "-> sigmoid 함수를 사용"
      ],
      "metadata": {
        "id": "h1nzsoPYQGQc"
      }
    },
    {
      "cell_type": "markdown",
      "source": [
        "![image.png](data:image/png;base64,iVBORw0KGgoAAAANSUhEUgAAA6kAAAKTCAYAAAD7SU7MAAAgAElEQVR4nOzdf3Ab9Z0//qcVKz+UH44TJ9Eaxw4JBRPwAYsbOwHzaaAkbW1aK0fTodwV+qnSS1WufOeOm0LHClOUKdwUOpOW2/pD1CncXK4fQi/yHXaPmE9Ji4HIwSwUQ3CPmMSOmxWJSaJAlDiK5e8fK8n6sZJWP2yvk+djJjMgS7vvXe2u9vV+vd7vLRobGxsDERERERERkQGYproBRERERERERBEMUomIiIiIiMgwGKQSERERERGRYTBIJSIiIiIiIsNgkEpERERERESGwSCViIiIiIiIDINBKhERERERERkGg1QiIiIiIiIyDAapREREREREZBgMUomIiIiIiMgwGKQSERERERGRYTBIJSIiIiIiIsNgkEpERERERESGwSCViIiIiIiIDINBKhERERERERkGg1QiIiIiIiIyDAapREREREREZBgMUomIiIiIiMgwGKQSERERERGRYTBIJSIiIiIiIsNgkEpERERERESGwSCViPQLKfC02OFsU6a6JZSRH/v+2Y4ftMoITHVTiIiIiLJQPNUNuOz4OuBs8UBZbsMTjzaibKrbM00o7U442xRUbnoC275i8L32p52w/6I77Vvq/t6NLTckv16w7fTvw+P/uAuDpevx4E/vRXXuS4rT92+Po+PiBjzyVSH3hQRk7HRK6EY17v2nh7DeWqDGTUchBR0/eQyev5Rhw99vw+bV5tyWc/A5/OBnXQjUOuDeKoZfLMH6+2x4peVZPCtXwyFaCtZsIiIioonEIDVfsgS7JANrH4T7OzX6PxcEghPXKt2U3z2Ox9r6EQzluABTCRq+/wTuuyHHm+ssBUPp91re2wMAcTf6UyPTdmb0l0EoAIIVlVhVkBYBOPgcpFcB0WHDqnxqMPq86PYDQB9e6VGwvimPgHe6Oy7DeyQIQEHnq73YvDrH4+78We1sqbUR9962F08++yy6qx2oY5xKRERE08A0DlKDGHx5B558vg8BiHC4HZiKsCJ4LhxMBAsZcvZi53d3oDufQGuWgA3fz5SZ6UfXvjwDupAfXft7cd8NOvZ+cBjy3t1o39eLQb+6v8zzBFTWNmHLN+pQlnecW4DtKYQbtsDt3jKFDQhCfvUtNWjp/wh9oQbU5FvYH1Lg+fcuBKw22MQ8v6jqetSVyOhGNW6vvYwDVABYKqJ+RbuaSb0ti06uLFTfZcOq13Zh1296IX6nBpPTnURERESUu+kZpAb60SHtgKdv6kdaDZ8anuomaBvRk5nxY/gUAJSh8cdPwHZFlus4IMH+jKzvvX/Zhyd/ugt9n8W/HPxMQf8fduLhni619DPbNsTJc3suEcE/PYtne8LnRqALu164FU98I798amD/bnT4gJrvbEDeYaVFxJan3JjKMN4wTAIaW36JxolcR+l6NK31YMfru9HZWIPGy7m8moiIiKaFaRek+vt2Y8eOTgwGLai+pxGW33RAZ5g0oUpKSwq4tBpseSaPm/jI+DS/H34AmVtmxswZOaxH79ETkCFFAtSldbjPvhn1K0tgRhCBozJ2/XInuo/3YddPJZT8xIH8h87luD05yz/zXbCxtsNdkH7djQCAmrvvg/ml5yC/vAPSlS441uR6jA6i/cVewNKA2+uYh5uOar54K8pe78TeNhkbtorMphIREZGhTavZff2vPomHn+zE4GglNvzwCTx0R9VUNwn+k34AgGWugQZ7LSpTA9PZxTBCq/pf3A35MwBl6/HIj7egYWVJ+CbZDMvyOmzZ7oJtOYDPZDz7r7IhxupOS3/Zhye3P4fezwBLrQNbvtSA+79VhxJTAPIzTux4Pcesf+8+vDYMlN22Pv+yYZoayzfi9hVAoGcvXvNPdWOIiIiI0ptWmdSSVdei0mrBrf+fAw2GmOA1iBOn1LLKslJDNEg1ekEN9GbNnfqMSagXr70+DMCChnvvxSqtBpkENP7tBnT9pBPDPe3Yd0rEhtLJbmg+8sx85y2I4Vd34vF/k+EPAZbqe/HId0W1g0LcAtdWwNnajd5fP4yH+7bgoW9lM/43iO4/dCGAEtwqVk7cJtAEK0FdXSV2H+lH1wE/1t9ZyMoPIiIiosKaVkEqrmjEI9unuhGxBqEMqf9lmTfl4eC4jxUYZqRsn4y3AgBKb8Wt6eaFWbkRt6/oxO4jg3hL9mPDHdP7Jjp4XEbnnna80qfA/1k4N2y2oOSKatz+lc3YIJYVpAMheLwb//7zZ9HlU9dRdtuDeORvalASk/G0iFvg+qcSPPmzTgzu34mHe9rR8C0HvlknwJwpMzoiw9sLoLQON69M8z7/ILpe3IXOnkEonyXkwpc2wvUTW8xY1kh5dCVsP9mGxqWaW4ZhuRO7f/cKegf96mRYJjNKKmtw+12b0XhDWfRRP5bbHsLPvxX7kB0FHS1OeI7X4cFntqDG34fO3+zG3t5B+EcAmC2ovKEJm+/ZgOqYw8zf14ldv90bXZ95XiVqGjfj3juq4/anZmtP9cPbsRudbw9C8Y9/38KKGtTfaUvzfQ+j48cPw3M09WOJIm3b/Z9d6D2iIBAEADMsK6px6x33wrZW37FUUnMzhOcHMSjL8N+5XscwACIiIqKpMb2CVKMZOQblFABUovwyn6Q0leEjA+oss6uuyvAolBLUXF+G3UeG0X9kEMDEzHQ68QLo/bfHIf1BSS5bDgbgPyLDI8loX7EBD/3DZqxKUY+ttDlhb4t5Ie65ukH4P/Ki/f+2Yd9H4dpNs4CGbz+I+9ZoZ/Qtn9uMbU/djI5WCZ6DCrp+5UTXv5Zg1S3N2PyleqxKlVrt70N/COm/v7904LHtHgymqtM2zUx4IRiegTkIaI3jDSnY97PHsStxYrRQUN1/v5Dxytot2FajrjAQSDGBWiiIwF868NiPPRiMXU8wgMGe3XhS9sL26DY0XgEo7Y/B2TYY38rPBiE//yTkN2xwORshaAaqsbOMJ/4pAOXDbng+7Ea7dT0cP7oXNUnf9/izqIKjWssPQP6VE9L+xBrdIAJHetH5q4ex7/c2bNugvQviWFfhKgugfPgB+kLrUcfSbSIiIjIoBqn5eL8XvQAAMyyzprgtGsqsUx85K4p64y9UZG6LUF4JYBgYGsQwamCgAmrd/L/fgR1/UABYUPmFr+PeDTejcqkFZgDBwDAGe/Zi93/uQ/+RTjz+iyV46ofZZ7R6f/0D7Hg9EhGaIdxyPx78Gx0lvJZVaPyHp3BrXwee/VU7ek/50f+H5/D4H55D5d1PYNuXkve48tEhBABUVqYq9fWj89dqgGq5YTMevGd96oBXp75/iwSoZgi3fBP33xUJotWJtl74P8+ia/9OOHszjbjuw66fygjMqMT6rffDVlMJixkIBgYh/0bCzv2D8PxiN1bd44fUNpg0qZf/YCd2PuNB31EPdrxQrTlDstL+OB4LB7dmawO++b8bUb+iDGaTup7e3+3Grs4++H37sOOnC9MEu9qU3z0ZDVAt1Rtw/zeaULM8fDwN96HzX3fCc9CDx/9dz+jzVVi5Cujq7cfAEaAuXWaciIiIaAoxSM1D33t94f8y1jgv5ZgCADAb4NvN6vGxkfaOJ5emmWG89lo/AAvE7z4Bx5r4wMFsKcOq2+7FI7VXQXp4J+QPX8FrvvWajwQRml1wNWkH9jX/az3K9u+Dee03sWVTAyqzPOxKqhvx4E83qNnYF9rwWn8lNq7X7hJQhtRjqcyaosvAL+OtIwAsDdjy/Q1YlW927lQndr+q5iQrm7dhW9w+UCfauu+xalS3OrFTzvQIqgACgcpotjS6FEsl6r7zCALD/4hdH74G6dcBBMrW45Efx46ZNqNkdSMe+sFZPPyTTgy//hr6vrEKsUXF8HWowS2AyjsfwUPfWBU3UZnZUgnx7ocgrg1nc9MEu5pCveh8SV2+RdwC19a6uLJjc1k1Gv/BBaH1YUg9eh7HZUa5tQTo9WP4tL4mEBEREU0FFnzlKtSL7pgbw8GONvTl8QiSiSAs1ZtJDeKCZqlhBhdz+MykyHF78ubH6VMAsAo335Qms2WpQ/1qAFAwcCyH1azcjCee+SVc384+QB1nRsnKBtz7w6fwy2ceRJ1mJYAffj8ACKgqT7GYkUBBOxSG93sxCABlG3DvV1Icv6YS1N1j0xUQl224Py5AHVeCW2+tARBA4LM0k3qtvBliKYDAIfT74v/U+997oQCA1YYtCQFqnCsa8WA4MB3+fTu6RzK3GwDwThe6AgBQiaZ76lKMi7VA/O4WNOicxjsyC3mkI4uIiIjIiAyQa5uegt2vhG8gy1BWNozh4S7s+q8NcDUboMQ2nP3K/O2WoKwUwKlhdDxqR0euKzSnLu9M86dkkaDXjBwnFSrQ9lhtcG1vRPbfZJk6NvnDfrz1dgB1a1JEDoFueA8CaYM/Qwgg8GmGtyytQXWZB4PDXdjRcgFbvn8/6q7IvdxXHY8MlNx0c/ogtPRW3HrdLvT3pluaBdeuTj0jsXlOuJ2Wm1GXcgi0BXM1A/g+yG+rnVQ1jRsyHisl65vQ8J870BXoxVvvA3Vihg8AUAbDY2Q/14C6dLNdm2pw6y0l6Ho587Nl1I4rBqhERERkbMyk5kRBZ0f47vgGG7Z9qwEWAMrvdqLjL1PaMABBnB0BgDIIyzK9dxUa1q/KPMNrOuYSNNRWp/xz2TL19j0aOKfRf7hf/Y+KyhzHoxZge/JSgrr1IiwIQH7mH+H8dRf6j49nGoOBYfS/uguP/Wgn5ACAmg1Yr1HqO71UYvPf21BpAnC8Gzsf/R6+9087sFseziHDqmA4nFledWWmklgzrlqVMTRE2SIdq11clv3xdrwfA+qMYPir1TqCclMNqsOnid4spuJT5+guWVGZcdxy5v1FRERENH0wk5qDwOu74fEBgAUNd9TBsroGX6/pwnO9g/C4OyBmOTlKYQ3jzAm1bTN13DsLX3kEv/xKij/6OuBs8UDJObMICCuvggUKAv2H0A8xzQy/Cvp61UxQTXXqoDfj+tJtzySwrNmCh/zqbK/K68/h8def03yfecUGPLSlIXWJqIbh3z2Gh/cMZn5jHuIfg1KGBUsA+NJ8AACuaMS2n65C5292wdOjIHiqF53Sw+gsqYZtyxY0VuutSQ6EO1ig68oklBcoK7hMyD5IDUXGTZegROfmVZaXAfJwuMNG/9kUKdFNS+eVXDnOLCoREREZHzOp2Qp049nnw1nUmq/j66sBwIKGLVsgWgAc9eDxZ+Tkx1FMGgUDPgAog6D5/MlJVi3iZguAU6/htXSlmQc7sdcHwFSD+loDPXM2a2ZU3vkQfv7UNtz3hVUQSmK2xWyB8Lk62BxP4OctqR8/AwBmkxH2gTlc6qpj7GxJNTZsdeGX4e0uMQHw98HzpBNSxgmOIvwYPpVXgymDwFn1u9A/Xp2IiIho8jGTmo2Qgo6fhks1TZWwfSMmE2apw/33v4U+SUagR8Jj//ogtn2rJqtMWUH4/fADQGlZ1o82mRCmGqy/rQxdLw2j63kPNlxnS84yBwfh+fcuBABYbt2YYhKfaaakEg1/8wga/ia7jwlNLribtP9W9pVtcOvNEhcgCw6EHx3Uo2DYNwzoyTdGtvuuPnTslODpC0Bu3YF9//wI1qcbV6muDVVWQPZB16Rc/lOZx2BOmDmW8LkdnlxKx8k2eEwt39XzOCZgfDy3/6QfmTKvwXP6iquHP1EbWzYdn+9ERERElw1mUnULQH7mcXiOqv9X2bwl6dEhFtGBR5rViVqGX90B56+64Z/sGX8/OYFhAChbYpjnjFZuuh8N8xAOnHai+2hknGYQgaPd2PnoY+jwAZgn4v67cy/1pcJTy7WBwcEsy4xLqtH4D4+o50ioH6+8rqfMVEBZeCKp6PjklILoO5jpPROopBKrSgGgH+8e1BEghmS89Y76n5XL9QWplSvU4viAoiBTON7bm3YGqbB+DBwGgFWoWqGrCURERERTgplUXYIYbHsy+ixCS60DD6V4PIbQ9BAcHzsh7ffDv38ndq6qwUNfmMR86vCwekNbZpBMKgCYqnFfy304vf059B7vxs4fdye/p0TEfY841JLpS0DwT8/B+UwXhvU+biTWrFWw/eiRFI9OmWSrqrHK1IXejGOKNZgE3CyWoeN3+sdhijfUAHIv/K/vhdzsgJgqq35qH/b+KZvGFNoq1NeVofOlYfR2dEJZmz5b7d+3F3IIgKUB9SlnEo5XcvUqlKEfwx92ofvUemxIlYk+tQ97ZR0L9PWh9xSAz12LanZPEhERkYHxVkUPXyd2toczSctteOS7YpoyXgvE77jw4G1lQNkG2G6b3KgrkoGqFAw25qysAQ/+9Ak4mkVUxozTNM+rhNjswBNPONBglNRvAfTuzzFABYCRfnjfNsgEN7NENag6JeOto1l+NqTgLVktcS2z6ixxXbtRzboHZDz76xRju4OD8Px8NyK53ZLSqemOqbxjo/qYHJ8HO5/vTzkOPXjUgx3Pq+elsGEDavRedZdvxO0rAGAQu3/eAUWrKiOkoOPnu9Cvo2LD3/sWFACVomicDiwiIiIiDcyk6mFdD1vtXuwc3ohtP9Izc68FNd96Ar8MQvfjUAo9c+vgnodh3xP/Wt3fu2H7Sw7r8XngtHt0vz1+htgY5jKITQ6IKcZc5mLyZ7zNjvhdNxxr9L9faXsYzvbh3FY2IcwQa2uAP/VC7h7E5uWpnzs6LojA0V60P/8sOn0ATJVoqNfZaWKqxte/JeKt8Njuh5/cgPvvsUG8wgyEghju68Szv/Kgzw9Y5lkQ+Cygb/bbiVC6Hvd/tQvOtkEMvvw4Hv5wPb7+zY2oX1EGswkIfjYIue1Z7PrDoBrALrfBkaICQ1sJNny7EV2PdkA56sFj24Zx/999HeJyC8wIInBUxgv/51l0+SwQaysh9/SlWZYf3d2DACpRX8sQlYiIiIyNQaouFojffQo/hzmrZ3CajTBBK02tbM+wYuMdNOa6jWh4vhddr+5D76b74jOBB5/DD37WlXo2a1MJxPscSeO307GIDmz7toTHn5Ph7+uE9GhnYotQ+aWHsDGwAztfBSxzpq5GXGjaBtecJ/Hk833wH9mH536yD1oPHbJU2/CgI4dHU11hwyOOYThbu+H3dWHnj7uS3lLZ9Ai2VLbjez1plnN0L145AuCGjTomsCIiIiKaWtM8SA0HjXonJwrI2OmU0B2ohK1lW3Zj/kxmTGT4kNXMrfm4YZLWM0kmbb9dzkzVaL5rFbp+04VXur+JmrUxZ0LwgmaAap4noLKmAbZN61FdmnjmRM5bc8oBB2W3OPDU9X3o/K0HXb2DUD4LAiYzylbdisZvNKFhhR+7Hw4AsKBcSMwMmqHrZJ2h500WWOYj7bNihTsewlO1g+h62YN9+/sw6A9PpDSrBEJlNRru2oz1q0tSNGm8reYZKVogbsET/9yAfc/vxt7eQfhHAJjMKKmswca778WG6hLgI3UMeqoJlnr/32sYRhk2NNdN6HWMiIiIqBCmeZBagy3PuLFF79v7vOj2A8AgvG8raLzCYOM26dKj41Eq8e/X9yiRyVayfjM2vPw4Ov/Tg8G1mxEt+r1hC9xu3WdgmM7ztqQaG77zCDZo/a23Da8NA7DcDDFpQugyND7qRmOm5etqewnW/9CN9RnbWomGux9Ew92Z3phIX1vNpdXYsHWb9r4AgJWb8ZR7s/bfTu1D+/4ALLX3w7Y82/YRERERTb5pHqRmqboedSUyugOVqL+JASpNPPkZO+zPTHUrCsC0CrZ76vDaLzrheb0JD94yhdMwB2RIv1JLjLOaiOgy1feiB/2owX3fEplFJSIiomnh8gpSLSK2PJVF5nUi6axIpHhm0/TYa9VrGlDypy74c0iMmuetQkNtnp0opsIfX+Yb7seWtb3Y8cIL6Ft734Q9xkRpfwxPvrsKG5sbULdCQIklvCUjw+jv3otde/Zh8DPkMBHRZegvHux6FRC/uwUNl8jjnYiIiOjSVzQ2NjY21Y0gomki1I/dP3ocvbe64GqamABx8LcP47GX0s9wbLauh+NH96KGgVcafuz753+Ep8SBJ7ame2wWERERkbEwSCUigwnC/5EXe1/ch+7DCvyfhdPRZgtKrqjG7V/ZjA1iGSsRiIiIiC5RDFKJiIiIiIjIMDjlCBERERERERkGg1QiIiIiIiIyDAapREREREREZBgMUomIiIiIiMgwGKQSERERERGRYTBIJSIiIiIiIsNgkEpERERERESGwSCViIiIiIiIDINBKhERERERERkGg1QiIiIiIiIyDAapREREREREZBgMUomIiIiIiMgwGKQSERERERGRYTBIJSIiIiIiIsNgkEpERERERESGwSCViIiIiIiIDINBKhERERERERkGg1QiIiIiIiIyDAapREREREREZBgMUomIiIiIiMgwGKQSERERERGRYTBIJSIiIiIiIsNgkEpERERERESGwSCViIiIiIiIDOMyCVJlSHYnOnyT8zm51Q5nu6L7/Uq7M/z+yVlfqjbYW2WNhUuw2+1p/knQ+FTh1p+mDVKuK/Z1wKnV7lSvF1Sux2KGfZRKgbZJ77rHj2UiIiIiotwUT3UDCkqWYD9QD/dWUcebFXS0OOHRCBZEhxuOVIuQJdg1oyMRDrcDqdccv76069BeMSS7F/Vp15HqoynabLXBtb0RQrrPig643Rqv+zrgbPFAcOhsT/j9kfBFaHbB1ZR2zYjuM9jgcjsS2qmgo8UO+x7tbZBb7ZB6Yl7Qs60FI0OKDQyzWre6zQOb9B8fSdta69B5DsQtJb7N0PsdxS/D4wXgk9BR60KjNcsmEBERERFhOgSp4eAGOm6YlWMKhAq9N9UCGre70Rj3WvhGXbLDHvO+qsSPJgYdvg44WwbSrk1udcJT4YB7uxh+vx1SNoGqT0HO+SmNQFNpd0KCmH3QFgk2rTa43G59n48GtG64RCCSTXQi03eqYMAnwKYZ4Alo3O7AgN0D2deYFBCJW93Qiq0nhwiHZmQ/QWsryLbm2ebwOWBzuyD6OuBscQLbGagSERERUfaMH6RaRdRbPRgozxwOKUMK1FAut3yZ3CpBaXbBHQ2cZEh2T07LUtqcsLdBzWo1K/D0iHC4wxGptRGOZi+cB2RA1BmlHhuAYq0qUCZQhqdNgM2td2kxWTarDS6HCKfkgdPu0ZURVnq8UGod4QAVAEQ4HCLse2QoTekyjAKqrAo8T3dA1MyWSpCtNtissa8lZBUTWW1wPZC+vblLzkbGE+Fw12dYhAdeCFAkJzq2uyC0JWZJY96aaVtrHXA359tmNaPqyPj5mEoCayNcbgGS3Q57xgoDIiIiIqJ4xg9SwxnPjHwd8AyJECFBkrMtpQ2XlVY4YgLU/MSVSspSUoAplAuAV392VDmmAMk53ZzIrRLgcGcOHKIlumqWLTZQUZNu4ZJbKX1pqDKkQFyTsDaxHqKknQUdF852h8ekJv212QX31vh16soq+jq0X7cKEOCBpLGu8fekK92NBN9VCe9ROzuqtjsgQoYXCjwtdniQWPYtQ5IAm9sFod0JZ4sdosMN91b1r0q7E86hAm1rbJt1ZFCVdgA9Eux2RPcB2p1wtilqG5MOpvByw99d9qXDRERERHS5mgZBqh4ypHA5qaO8A84WCbKu7M34OFH1RlsNuuLHqWqU++aiQogPbMqrIPjUbCQACGkzXgpkrwL4PPDIjXCIGuMHK/Q1Q2l3hrNvGlnchCBEsDbC5W7UWEp0rRol08ltV4YArEn+bFU2paAJ4yzlVjXIS7nWcAAVXVtSkCSHg1EBtmhZagHKdEUHXMec0e91/GV3TDAeu85IcyTYJQW27S71uG1ywV2rryy8IGNSE8YMay4n8f+bXHA3ZVhuqjHNREREREQpXAJBqhqwKc2ucDlpIxzNTjjtUvoyw/BkQkJceW9i0JWi3DcmuByXISgYSihEPjagjusMZ6SktJvoUScPcgzAuacDitgYF0xlCthi3yfBAbdbQEeLE872hMAtpwl3MhEgVADJI3YVDPhS5Ya1JrWSkZTg7AmXVAOIm7hKluBsE+BwhwO+8PLix8BOXBmqEA7e1HG/jswZxJgANS5wzdhJEPudjm+JOhMvYr5LrYA8loKOp72o3+6O+5s6azQzoEREREQ0uaZ5kBoToMbcSAtNLrjghLOlI3Vppq4MT8w40iw+J25NKKUtr4LgG4gLUpVjClBRDwHIUPIrQ5IU2LY7IFgV2PY4IbWL2QUOkSxZTBDa+IAN3qTALXa1qWYxTi1VSadQIUBOHH8reyFb6+PGk8Z8QkeGNjX5gNr5ML42AY2bRHhSjYHVyiJmohHQJ2ZvVbGB9Hh74oLzCc82ZgrIBTQ+UA9nS0JnR22a8vcCHh9ERERERLGmQZCa7pEcqcszBT2liAnrSHocTYbMonZQopGtsjbCVmuH1Cqry/N1QGoDbNsz5fHGg3CHVV12JLiUyvWOu1VLoRGXMVbb5NoOOFvUx4Uk71rtwEl3djCG0GSDaI8dKyxDkmSIjsTHymjT3s+pgx5xjQhJ8kBucoxnUvfIEOpt2uvTkbHUQ98xp2MyLs0AUD2uEpcvbnXD0WqPzzLnkhHPsA+EJlf8+NcCHh9ERERERLGMH6T6ZHh9AI4pgJjmxtfXAefTgEMzc6qREY0aDwQTs0Zyqx12u3YWSm61QxqyweVOWF/48TIDCeMIxa0u2Fqc0WAifoxiipa1SpATs1nWRrgcA7BLesfdphlnGROY5Px4G11EOLbb4GwZf7SPEC3PTif2OamJ36v6N7tXYyIj0QG3I36yJV1ZvLTHkH6pguqYBqI+xXevflaAw52QjQ8fV16N7VAnUNLozPF1oCPd7L8JdM0WXPBycCIiIiKieMYPUguU5UpJ9kK22rQzcltdsLVIUHwA4oIKBcqQANsDGsFMysfLZF/CmnL21uk4GU1O36OCAZ8IR1KACmR6TupU76PcSlvVCeGDt/UAACAASURBVLJEh0ZmO9I5cSBSNJ4i+x/3jF8Rju1VQFK5sfa6laHE2YZj/powszARERER0UQxfpA60cR6iJKkOc5TaZfg8QnhUttYAoQKBZLW8zt9HZDaFIjZPQOHNAmossqQNMcWK+hoSX5O6vQmQKwX4NHMkqsl0kKzLfpeXZ0evg5dk2oRERERERnFpROkWgUIPklj1t1x2tktEQ63Sy0dTcw41cbPmhr3qa1uuNqTHzUSKa/NJkRVJ3oCJrrodvpRAzFRcz8jYWbmAtGcuTmWvlmBlTatCZPGpZxkqskFd7nWc2EF2La7NTpMCkWdhdkTl4lNeEczx5kSERER0cQrGhsbG5vqRhAREREREREBgGmqG0BEREREREQUwSCViIiIiIiIDINBKhERERERERkGg1QiIiIiIiIyDAapREREREREZBgMUomIiIiIiMgwGKQSERERERGRYTBIJSIiIiIiIsNgkEpERERERESGwSCViIiIiIiIDINBKhERERERERkGg1QiIiIiIiIyDAapREREUQo6Wpzo8E11OyaW0u6Es12Z6mYQERFpmhZBqtLuhN1uT/svlx9bpd0Je6uc4V0yJLuETO/SQ27NrZ1xfB1w5tCeVNuavk25b7uebZVbE77HVjn5NbvGzaIswd7Sgcvi9upy2dZCbGeO50Y8BR0tdh3XBWMpyLUl/RogJV1nw/vKHtlfk7HvtNpRWEq7hIFNLjRas2lTDkFtquM1w7kgt9ohJX0o5rtI+S++jUKTA/VeqQDBeI7bD72/wQnyPs/Hf9cmc/05rSuPzxVkGTluq77rkd7OIPWcT39s53+Pln4fpTi/8vjNSrWPJv5aDv3fqyxNu99CurQUT3UD9BCaXHA3pf670u6EpPGas03jRK91wL1V1L9y2QsZQH2mt7XaIfUkvy463HBksbrIhdsTezPR7IKrSch63bDa4NreiNSfzJcMye5B1fZsbugiFChDAmxxn1XQ0ZL42kQI72No7x+51Q5PRfp9fqmZHtuc2GmS7bGSfG4BieeogMbtbjQWoLWXFhEOtzv+JdkDT4UD7u3jF7hC77vk41KjHQUlw+Oth217cjvGr7EiHG4H0l/WU3TwTdg1OdNxq6CjJfFXUkDjJgH2NhmNKX8Ttc8ZABl/S3P7DU69vky/g5nWrf+3OKENer8zWYI92nuQxbUp7nNZrC+x1QnbnM29h9LuhHPIpv/eyNcBZ4snLkDL+l5H9sALQHm6A2La7c10zsuQ7F7dq1XvFx36f+vC34/ocMOduH2yBLvdrr3thdhHeUi6L8z6uFLQsUeBAAmSPHntJoo1LYLUXGgFtuoNTzaXfgUde9QfD0+7AjHDRa0wF6Dsb5LFrW4kXcJ9HXC2DEABMl6UlDYn7G0pl54xQJ+2fB5I7aLBAzNSqTf9iL1RkCXYW5xAlp0aceeprwPOFic6Jrxj5NKjHLv08vtKuwdKvSPumim32iEN2eByqzd4SrsTTruUIVBNvrFWb45FfTeJPg+cdk/qpa9JannqYDJKgC1pQTbY9nggQ0wbdCf9tskS7HuUtL8v+fwGJ65PbrUj9d7IvG651Q59YUx4P8Z0vsitdjhbkP4GX5ZglxTYtrvV60j4upLx2iRLUC9r7uj+17U+DZk68wvK2giXO/fuqGhQvF1U/zuH7Z0syjEFqHVo39uJDrianXAekAEx4Q157qN8ad4X6jaegHBZ1Uy2NIkBNlHEtAhSU/bIxhCaMyzE1wFPjwjb1iz6kdoleHwiHO56eO0SOmon9kY2ZUY0TGh2wVWbxQKtVbou+ql7qNP3UCrtHihWQG6RILhtUBIzwBVZtHUKiM02KG36vtf4YzAhkyJLsO+pSviRDWcuHnCN37Q8DTg2DcApyXHLyD5Lk7COTfXwSuM9tlrfZ8r2x/b29qidFaLDhao9Tgxsiv9RUpchJLRPvakbf2/izXLi9kT2iw0DLWqmSXS44UjaNjUoVSLbInsh1zrie7LDNwhSj4LGXDsarI2w1XrgiVlGfPZO/z5O+z3KEuwH6uGq8Kjfg/WL+CL+H96vj1+O3GqHhNSZpsRrROqOsQzZoITszfj2JGQAo5+L/Z5j3yPBbh//vGZGPjFTFJNJS7nPNI9LNxxi4vGmsa2pjrmM36EC2QvUPxAXosLbI8AWs++EJgdsXie8GvelqcnwDNng0vv7kybrkTrgyqUKRYBQIWe5LTnK4Tc4NfXGObdtTsMnw+sT4YipDhC3OiDaPZB9jSnXIx+QITTHtMPaCEezF860WWr1c6LDHXe9F7e6YGuR0q4vVqb7I6HZpXF9jWsFPF5A8ElwtrvgKvfEn6+xrdPIDiYSHe7UHduRa0HMNUBocsFdrmYktbPseoYd6e9MV4YUCGv0H4NCuQC0pcgm+jogtSkQHQXcR3nKdB8Jqw2uB1L9MXItjT2vRDjcLrXcWZqMSjeicdMiSAWyK/VJpqDjaQ/Q7NJ58w9AluBsA2zb1ZsdcbuSsWdUluywx7c6qxNaV8/XBEzmkVMm1dcByVsPx/ZGKK12SHa1F9kd3tZse76zUl4FIUOmQVdZd7m+G4nx4Ew9ftSe344cen69kPbUw+Uez9Qo7U5417jh3hp+ITweTf+yFXgk73gPfnh8mFQ+/oOatv3h3t7E4EI5JsAT1zus3sAL1oQbWp8ML2zhdYVvJmpjSkBlCXa7M+k88D7tQf12NxyR1xLuQOTWmAAV6bN2ypCeeoH0hPJ0n9e3jzN+j0MeSLDBHYm05ZOw75GhNEXeEwmItI7FmAxPUs1ZMrlVAh4YPx+VdiecrUL4nJAhJWRv4j6nVdYWR80S6ikRHD/2kteVdp+lOC41tlTnMZf5OwQUDPgE1Mder30KFGs9bHHXcAFifeL5kU7kJlvMmLEcX2+2mdTciWtESLq3JVc5/AanlU1nXhaODUCprU9Yroj6WimuIyueet7WN8f/Taith+BNl21WoAwB0PwuFQwcA6Dj3iHSaaLZqThkg6tJgNIOoEftUErsAJFbJWCTG65yNftrr3XA7Q6HteGKrCid2UH5QMx9Ra0D7q1COPgRNa8FEB1wuyPzVGjdNxXq+1b3uVKhAKLO3wzRAbc7PCY1sWIeGtuTxT7SIlQIGe7J0lft6buP7EBSR88xtQNBaHbBnXSchyv8fB1wttjhyXbYHFGOpk2Qmg+5NdwzVKvnoqTVkwT1wrMdaU/QwpT7apRt5XJBODYApaI+4617LiUhsRk1AYCw1Q13jqWXOSlgGY3QZINoTzfmQoanTYHoGL+5itwUeOTG7L5vH1CfEHwKTQm93GI9RMmrq0w7uoxmR8w+F2FrFiAdi/wI59b+pBssnwwv6uHYNBCzbEDp8UKpsIXLID2QrTa4Yo9V0QFHrR1SXEeAAtSnPk6UdqdaXhmTcYl8T872mIAl2pGUx0knS5B6RDi2pn9b+n2s83v0JQSgYj1EKSZDI3shJwVEkXZ61DHUOq8D4lZXfPtjv0+fAkWzykIdJ16VqSpFNxmemI6+RIU49vUfc5m/Q2jtl2MDUFCV3PZyARjS0cDwTb7N7YYjPH4tY4dr+IY9ewo8Lek7BzXXXV4FYSh96W4269b6HczuNzh/mmNSKzrgjGbStTtfU3WGCVkNEwqzCmp2MrazIa4SSkDjJhF2KX64gdwani9B92VNQON2hzq5UNz6bXDFXm+S7iNiqlVEAGiEyy2io8UJe2uGe47E6ggkH1uJ/69nGFN+Jao6+GR4fYDije0cjJEikFcl3BMmBvBJEjPAyYF2fCAfk1nOu2xbq/w/cf0J/2/Vcd2Z4hJmuvxMmyA1U8+S9kVFGe+9cwBSxiAqfFGxjo8/il/HeO++3T4xPblyqxPe+vieLHW2t+wyycoxJe0Pa8aSkCTqBVrs0Sr5RA43VgKECgVS3E2VCLFWgRz32kSXl4hwOETY93RAETW+c58CBSJscRsrQKgAvMey6I2NfE5jO5K/i+zGASdmAYVyAcqB8C1nru23ChB8MQHUsQGg3gahHEBM9k8ZUiCuUReuDCkQ6pPH3IlrRCBh/FrKzKWvA1Ib4sorw0sJlxzFXgfEaHY4G3EVD7X6MpNp93FkuZm+x6TAMD5DIx+QIW5yaAYK8gEZQr0tu0kvEm9SrOERiVYR9XDCaR9IOI8FiPVqR9xAITrc0gXdkbfkeeznc8wlfYdaAWm59pAJPeNx1W2L+Z0QHXBvV7NVUrkbjvLEDyTf+GcyHghM9YRfqa7T2f4Gq5KrkrIfPqIZkDc1It0wllSdD8qQAmQ7fMWnQIm5L1EzmwnviR4TMb95tfGTkekTGQOtblu9zom9lKR9pOc40qrEUL/n+MqEQopk/VLTkySQ2zwQHC7U73Fqz0cRG8hrnY8anUCx7Ro/5tQhBkpsVlKWYE8Yy55fhWBqSruUdB+ZfZUW0dSbFkFqYs+SrtnZIuMCYgJOV7MzQ8muvpkjtXr7hApB84cVyG5WQWUImj+GqUoa049HCd/QW21wJNz5afdYao33SqCzl0/cqlHSo/GeuDbIEuwH0gQNed3EpWuIDbZUP1rqijV/IPMfcxszy7B7vOQzm5kK9cml/YkBlKKWs1lF1CMyXkqGt0dE/VZ1W5QhaI/1Ka+C4NMzidcAPE/LQHOq87MwN+Jx52P4xiG/Kojcv0dxjQhpjwylSYjZl/nSKIENj4lWqftRbHfCabfHdfAJTS64a9WbZvuEdhAV4tgvxDGX8JnE1xI7a8Lrlb0KxE2pDpg0pdmxmYjEoRspOvqynnnVKHL6DdZxjlsb4ZqodFt5FYQeb0JZtnY57zjtcuDYKpO08spOaY/XlLUCurgsbj6zZItwOLzqGNIYQjQjq9HKHDvFx8dExrZVbyCe2AgpWqEjlNvgbckwH0XOFQ2Ijm22xd5PiDbYrKnHsue3jxL+0uRAfUtiYkeEQyv5AugaR5uEJb80CaZFkJq18AmHhNr66AD9FgmCWztjkSs9JRqZAzcBjdtdQOLFJc3FQG8Ar7QXOPDROTlAQXtV8/nRSEtA4wM2eFs8kJu0ppjIJWuuYMAHjULBGJFJOmJ/OHzKBDwTNbesvzpWTQGgqDdpW4FIBtx7DMAxL+Ta+nDJZprs7LGBFOWlCXwylGYbBJ2TWcWSW51Q1uQwFYXogNshpc6k65HP9xgp+W0XYvZlnmRvcgmsRpZQvXaoAdX4eFVEb5rVscvqtbLgtyIFOfYLcMwltSsxsBVha/bAGfOYDKVdylCOOblZzbxvbnUMDdHsgK1N85k8f4N1Tf6SVUYopuMmXUeQtRG2WjukVjlmci/1c4401yNxjQhJirluRStC8jlzZEgtCurTXtb0BZuaWdzEdWkEu0KzSzuAzvBbnHivk7pTPGZywYkUnX05fMxFJrbSfX1LNXlTit9Wq4h6qyf+qRCyR60oyGcsqW4ZrkGJHT2pOkrCE/4xGKWpcmkGqel6JmMurgUPBgoSuEUuLhq9hT4Z8rGCtRZ5/Uhk6P2VW+3wZF0Oq9NEXDitjXA0O+FsleMDBasAAV4oPqSexEIrAxO+4U4bpGrdSB8bKOxxqaf9qYTHCMq+qrjJRCITrciQIa4Z31vjWcH4m0fdpapWGxxNjRDKB6I3sUkzvaYgNDvggKLzMRMFltf3GA6C2mSIjtQhqnoTrHaiZDrqlWMKkBB0qOWpWkejOi7Oo/E4EaHJBrHNk9uxA4SPH0l77HOBjv28j7lYVhH11uRzRWhywTFkjxlbmCYjkSjdtSpFRjDb5zjG3dxGx8COHyeZJp+SD8Sfx/FyDLjz/A1Oe8Ou8/FqiUOERIcb7nIFmbpC1Nl1nYgmChPHdmp+KNzZFS0HzVyFkPmpBQJsDgdwTM9VLfMMuEKqTHD4+iokTZimdmDZvemGUqVbn1Geuy1DCj/ntFHjvM74eMGcnpOqlXDQ11kst9rhXVOI4RaZKs8maPIxogIydpCa9iTTHqOa+4VRz3PmEiUOPM8jcEtxIx5ftiPAlli3W1DqDcmESxt0yNAcejIJpSXq5DweeKyIKbkOBxHpelzDE2SM34zLkFq8mW/sk27i1R9TFPRnQ0f7EZ5RMKmkPFzG9rQCYVPMRDzh7J/HKqA+dpKdcNl0bFZOaXdC6hFgS1kqp9Xk8LPnItkMveVwvg7964j5jFOSITRnGdDEyvN7FGrrIbQNoD7d28OlYpKOMUXq8jzo8IkxWR0l5fEoH5CTglr1D17ISJjtNivq5EROSeM5tDr3mfZxGbucAh1z6tog1kPzkUYTPqFLulY1uSZw3YWeLMsYUlc2CRAydoXkGJhnWemjd4IcRXfHdG5Bh9LjhVLr0KgMUCdkGrBrTWamzoSdKhAvzOz+6e/JNEuaNfdB6myznmFJyjFFfYyP1hvTPSd1iseJR57vqnnflHHSJyJjMHaQOmHlnVqmeOKJLG7EpyRbVEiGnSEuPNZGUpJm4HUhPH4vIq7cTIRjuy08ji+8JIcL9XuS5qvXWJ8Ie7SUTv3Rr3payj17pSFz+yOBTXhmw9iZBisEKD1AfdwkLwKqrApk2CAmPJoj2nscXVVuN05Ck0PNZmSaZTIHiaWL+Zel5/k9aj72IpF6fRJa7XGzhWq2PVrKFrlRVL8Db+RmM7HzL5opSszGhCdLy9D8tK2OlncmTAyzVd8+Sz4uEwPPwh1zanttEFpSzPx5KZI98FTYoo8qostP5BzTmuFeblUnkrRNTcumeDKwcCvKBShSikmhZAnOxOekElHBFI2NjY1NdSOmymRPSJH5mX86aJRz6aG9rfqyx7lkpwuyrSkXrmMCpazHLNG0l+O5MbV0TFZGk0ppd8JTniJzokmGZPegSiurlMMQkMxloEh9fcuq3LdQYwLTbH8GOf0GF/A8n8z153q/oe9zmct903fepBmTqvkbnvneIXPn3ySOSdUh/X7OckyqDqnOSz1jzHXdk2W6T9Jzj8QxqTTFLusglYhoqkRvRjhLosEY6+Z5omQ79pWIiGgyMUglIiIiIiIiwzBNdQOIiIiIiIiIIhikEhERERERkWEwSCUiIiIiIiLDYJBKREREREREhsEglYiIiIiIiAyDQSoREREREREZBoNUIiIiIiIiMgwGqURERERERGQYDFKJiIiIiIjIMBikEhERERERkWEwSCUiIiIiIiLDYJBKREREREREhsEglYiIiIiIiAyDQSoREREREREZBoNUIiIiIiIiMgwGqURERERERGQYDFKJiIiIiIjIMBikEhERERERkWEwSCUiIiIiIiLDYJBKREREREREhsEglYiIiIiIiAyDQSoREREREREZBoNUIiIiIiIiMgwGqURERERERGQYDFKJiIiIiIjIMBikEhERERERkWEwSCUiIiIiIiLDYJBKREREREREhsEglYiIiIiIiAyDQSoREREREREZBoNUIiIiIiIiMgwGqURERERERGQYDFKJiIiIiIjIMBikEhERERERkWEwSCUiIiIiIiLDYJBKREREREREhsEglYiIiIiIiAyDQSoREREREREZRvFUN4CIiIgyGxsbi/v/UCiE0dFRmEwmzJgxA0VFRVPUMiIiosJiJpWIiGgaGRsbw/nz53H8+HF4PB4MDAxMdZOIiIgKiplUIiIiA4tkUIPBID755BOcPHkSR44cwUsvvYRDhw5h+fLlWLly5RS3koiIqHAYpBIREU0Dp0+fxosvvog///nPMJlMOHbsGC5evIhQKISxsTGW+xIR0SWDQSoREdE0sGjRInzzm9/E2NgYTpw4gaeeegpnzpyZ6mYREREVHINUIiKiaWDGjBmYO3cuQqEQiouLYTKZmD0lIqJLEoNUIiIiA0sMRIuKihicEhHRJY2z+xIREREREZFhMEglIiIiIiIiw2CQSkRERERERIbBIJWIiIiIiIgMg0EqERERERERGQaDVCIiIiIiIjIMPoKGiIhoGhgbG0v737Gv8RE1REQ0nTGTSkRENE2MjY0hFAphbGxM8x8REdGlgJlUIiLKKBIAjY6O4vz58zCZTJg9e3Y0Y5dN5m50dBTnzp2DyWTCrFmzYDKZmPlLI7Lvg8EghoeHcfbsWRw9ehSBQAAmkwmHDx+GIAgwm81YvHgx5s2bN8UtJiIiyk/RGLteiYgog7GxMVy8eBGDg4PYv38/li9fjnXr1qG4WO3rzCbIPHv2LF5++WWMjo5i7dq1WLp0aXQ5lCzyM338+HH89re/xfvvvx99fWxsDEVFRSgqKsKCBQvw9a9/HTfddBNMJhZKERHR9MUglYiIUorNoB49ehQvvvgi5syZg02bNmHRokXR92UTpIZCIQwNDeGFF15AaWkpGhsbsWTJkmiwRfFix5yOjo4iFAppvs9kMkWz0gxSiYhoOuOvGBERZfTpp5/i97//PY4fP44777wTpaWlOS+rqKgIFRUVWL9+Pd599128/vrrGBkZKWBrL01FRUUoLi7GzJkzNf8VFxezdJqIiC4JDFKJiCitixcv4uDBg3jnnXdQX1+P8vLyuLGo2QZFkUzfNddcg5qaGvzxj3/EwMBA3IRANC6yj7P5R0RENJ0xSCUiopTGxsZw5swZ7Nu3D3PnzsVNN91UsPGjs2fPxi233IKRkRHs27eP2VQiIiICwCCViIgyOHLkCA4ePIirr74aixcvLljGzmQyoaKiAsuXL8eBAwcwPDxcoBYTERHRdMYglYjoMqH1XM1QKJT0L/E9vb29OH/+PK6++mrMnDkz4zL1/gMAi8WClStXYnh4GIcOHWKpLxEREfE5qUREl5PR0VGcOXMGvb29+PDDDxEIBJLeYzabsWbNGlx33XW4ePEiPvjgA8ybNw+CIGguMxQK4cSJE+jq6kJ/fz+Ki4tRX1+P6upq7N+/H++//z5KSkpw6623orq6Oq5cuKioCCtWrAAA/M///A9uu+02zJgxY2I2noiIiKYFBqlERJe4SHYyFAqht7cXL7zwAoaGhuD3+xEMBqPviZTwWiwWVFVV4dprr8Wnn36Kjz/+GPPnz0dJSUlSiW8oFMKhQ4ewd+9eLF26FA0NDXjnnXfgdrthtVqxZMkSrFy5Em+88QY+/fRTLF68OBrsRpa1aNEiWCwWDA0NYWRkBHPmzMlYSpzPBEuxy+YkQ0RERMbDIJWI6DJw8eJFvPHGG3juuecwe/Zs/O3f/i3Ky8sxMDCAF198EadPn8bXvvY13HjjjTCbzVi8eDFmzpyJQCCAc+fOoby8HLNmzUpa7unTp7Fv3z4sW7YMX/jCF7BgwQIAwIsvvohgMIgvf/nLOHz4MA4fPozZs2drTo40d+5czJs3D6dOnYoGqZl0d3dj9+7d0SA7G2azGd///vexcuXKrD9LREREE49BKhHRJSqSaRwbG8PRo0exa9cuXLhwAQ888ABWr14Ns9kMq9UKRVHQ2dmJ4uJirFixIhqMRmb2/eyzz2CxWDTLcA8fPoyRkRHU1NSgrKwMoVAIiqIAACoqKnD11VdjdHQU1113HRoaGmC1WpOWEXnOp9/vh9/vx8KFCzNuW01NDSorK3PKphYXF2PhwoXR7DEREREZC4NUIqJL3OjoKF555RUMDQ3BZrPhuuuug9lsBqAGbGazGRcuXMCnn36KYDAYF6RGJlJKFczdeOONqKmpwYwZM2AymXDu3Dn8+c9/hslkwrXXXovFixejoaEB69atg8lk0nx8TaTMOJvnpM6ZMwezZ8/OaX/wWaJERETGxiCViOgSNzw8jLfffhtmsxnr1q2D2WxGUVERxsbGMDIyglOnTqGoqAilpaVJs/dGpAocI8FphN/vx+HDh1FcXIzrr78++vdIFna6BYehUIjPb83BzJkzYTKZpt33TURExsAglYjoEjY2NobTp0/j1KlTKC0txZIlS6KBQ2RW3qGhIQiCgIqKimiGFVADylmzZsFsNkeznIkuXryIs2fPori4GHPmzMHRo0fx8ccfY9myZRAEAUVFRRgdHY3OIjxv3jzNyZdCoRBmz56NWbNm6Qpszp07B7/fn1e5byRYTycUCuGhhx7Cp59+mvV6LkeRLPWjjz6KqqoqBqlERJQTBqlERJc4k8kEk8mEsrIyzJ49OxrYBQIB9PX14cSJE1i7dq1mUDFv3jzMmTMHw8PDGBkZwdy5cwGMz67b39+PtrY2lJWV4a677sLBgwcRDAZRWVmJ0tJShEIhDA8P47//+7+xYMECNDU1JWVrz5w5gzNnzkRn+dWjt7d3UiZOKioqws9+9rOs13E5KyoqisuuExERZYtBKhHRJayoqAhlZWWoqqrC8PAw/H4/5s6di/Pnz+O9995Dd3c3qqursWHDBixatCjpswsXLkRpaSnOnz+fVPZ64cIFvPnmm+jp6cH111+PwcFBfPDBBwiFQpg7dy5mzJiBzz77DL29vTh16hTWrl0bl6mNiCx72bJluseZ1tXVYc2aNTnvE71MJpNmmyk1Zk+JiChfDFKJiC5xCxcuxMaNG9HW1oaXX34ZV111Fc6ePYu+vj6sWLECX/ziF7F8+fJo9isyXhVQJyiqqqrCn/70J5w8eRJWqzUahJhMJixatAjLli1DWVkZ3nvvPcyfPx/XXXcdfD4furq6cO7cORw9ehSf//znceWVV8ZNWhRZx8cff4zz589j5cqVust9J2vyo3TrSSw1ZnBGRERUGAxSiYgucSaTCWvXrsXChQvh9XohyzLmz5+PdevWYfXq1Zg3b17Kz0YmQOrp6cHg4CCqq6ujkyCZzWbU1tZiZGQEQ0NDMJvN+Pa3v42RkRH88Y9/xHvvvYfS0lJ84QtfwOc+9znNmX1HR0fx0UcfYdasWVi9evW0C/TOnj2Ls2fPYv78+bpLlYmIiCg9BqlERJeo2IxlJNhcvXp1NAMYGaua+P7Y/y4qKsL111+PpUuX4r333sO6deuwYMGC6OeWLFmCr371q3HLLCoqSpEN5wAAIABJREFUwooVK6KPrkk1RnFsbAzDw8P48MMPcc0112DFihUTsyMKJPJInlAohPPnz+PYsWOQZRnnzp3D+vXrceWVV+a17Mg+jN33RhD7vN1QKAQgPtse+Y75aB8iIioUBqlERJe42KAn2wltioqKsGzZMqxduxZvvPEGDh8+jBtuuCFloBuRbj2Rz46OjuL999/H6dOncffdd2vO/GskY2NjOHHiBF555RWcPHkSiqLggw8+gCAIOY+PjV324OAgfD4fPv/5zxty4qHjx4/jnXfeQVFREYqLi7Fo0SIoioI5c+bgmmuuiSsFJyIiygeDVCIiSmvmzJlYt24d+vr6cODAAVx11VVpS4T1OnnyJPbv349rrrkGoihGy4iNqqioCGazGYsWLcL8+fNRXFyMDz/8sCDLHhsbw6FDhyDLMm666aaUz6udCmNjY/jkk0/Q2dmJ5cuXY2RkBC+99BKWLl2KmTNnYmhoCMFgEIsWLdI98RUREVE6xuuqJSIiQzGZTLjiiitw++234+jRo3j33XcxOjqa1zIvXLiA/fv3IxgM4s4778SiRYumRRautLQUd9xxBzZu3Igbb7yxYONQx8bGcP78eQQCgZye/Rq7nEL/A4CDBw9i/vz5qKurQ2VlJU6dOoUZM2aguroagiBg4cKFhsz+EhHR9MRMKhERZTRz5kzcfPPNuHDhAmRZxpIlS3DVVVflFFgGg0F4vV4cOnQIGzduxOc+97lpE+BESl3zDdInWuz4WUBt94wZM1BUVITTp0/jP/7jP3DmzJmUAXFRURFmz56NO+64AytXrsTq1atRXFwMs9mMEydOYGRkBNdeey3WrFmDv/qrv8KCBQs0J8YiIiLKBX9RiIgopdggdMGCBWhoaMC1116L+fPn57XMq666CldeeSWWLFmi+7EzUy3x0TlGE8l8XrhwAQMDA3jjjTfQ19eHQCCAFStW4K677sKKFSswd+5cfOlLX0IwGEy7LTNmzMDixYthMpmwePFijI2NIRgM4qOPPsLMmTOxfPlyLFy4cBK3kIiILhcMUomISJeioiLMnTsXc+bMif5/LoqLi2G1WgGkn2CJsjM6OooTJ05gz549ePfdd3HLLbfg7/7u7wAAL730Ev7rv/4L99xzD6xWK8rLy3UF20VFRQiFQnjzzTfx7rvv4s4770R/fz+WLl2KsrIyfPLJJ/jzn/+MpUuXYtWqVdOis4GIiIyPQSoREWUUG3zkO8FRpPT0chIbEMaO9YwIhULR12PLdGOlesxLZFknT57Es88+i3fffRdf+tKX8NWvfhVz587F6Ogoli5dig8//BCjo6O6Z3mOLPfs2bNoa2uDz+dDRUUFBgcHceONN6K4uBgffPABhoaGcPXVV2e9T4iIiFJhkEpERDQJQqEQLl68iAsXLmgGqSMjI7hw4QLOnj2LYDCYFIzOmDEDs2bN0hz7GQwG8dprr2Hfvn245pprcNNNNyEUCuHEiROQZRnd3d348pe/jCVLlmSd7bRYLFi7di28Xi/efPNNfO1rX4PX68W//Mu/oLKyEhs3bsTixYuZRSUiooIpGjPq4BoiIiIDGhsbw+joKHp6etDa2oq5c+fie9/7Hq6//vq0n/n000+xd+9evPTSS7h48WLc30OhEAKBAC5evIiSkpK4gC/y39XV1di8eTNWrlyZ9NkzZ87giSeewJtvvokFCxZg/vz5mD17NpYuXYrrrrsO69atQ3l5eTTAzSagjGR2E7PBkaxuqmflEhER5YqZVCIiokkwf/583H333fjrv/7rpL+Njo7ipZdeQk9PD374wx+mfN5oquDy7NmzOH78OObPn497770Xzc3NSYFjrpnO2PLsxH5tZk+JiGgiMEglIiKaYFqZ0VihUCguM6k19jTT8k0mE2bOnIlFixYljfmNlBObzeasxwNnajsREVGhsT6HiIhompszZw6WLFkCIDmQHB0dxdDQEN566620z0YlIiIyCmZSiYiIdIiMRb1w4QKCwSDOnj2LixcvRv/77NmzMJlM0WzlZGUdI48Gqq2txdGjR3HkyBGcOXMGc+bMQSAQQH9/P95++21YLBZUV1dPSpuIiIjywSCViIhIh7GxMQwPD+OPf/wjzpw5g6NHj8Lv9yMQCODll1/Ge++9h6VLl+KWW25BaWnppLatuLgYa9euxYkTJ3Do0CE8//zzmDdvHgDg3LlzWLJkCerq6rBo0SKW7BIRkeExSCUiItKhqKgIZrMZ8+bNg8lkwoIFC3DttdcCQDRzarFY8noGbD6TGy1duhQ2mw19fX04ceIEioqKsGDBAlRVVeGKK67AnDlzGKASEdG0wCCViIhIh6KiIixevBiNjY0TsmyLxYL58+dnHUhG3l9cXIxly5Zh2bJlBW8fERHRZOJzUomIiKZYKBTCyZMn4ff7ceWVV2Y9uy8REdGlhEEqERERERERGQYfQUNERERERESGwSCViIiIiIiIDINBKhERERERERkGg1QiIiIiIiIyDAapREREREREZBgMUomIiIiIiMgwGKQSERERERGRYTBIJSIiIiIiIsNgkEpERERERESGwSCViIiIiIiIDINBKhERERERERkGg1QiIiIiIiIyDAapREREREREZBgMUomIiIiIiMgwGKQSERERERGRYTBIJSIiIiIiIsNgkEpERERERESGwSCViIiIiIiIDINBKhERERERERkGg1QiIiIiIiIyDAapREREREREZBgMUomIiIiIiMgwGKQSERERERHR/8/encfHUd95/n9VVbek1i3r8G35PrBjsDFgcxgMhhgSkpBrgAkJzJGwySTsJvubzJCEncwyk/wmk5ldQpLZTGYgMwTy2yRAHO7TJjb4xLcl2zps2brvu9VH1e+PUpW7ZfnEttTy+/l49ENSd9dXVeqSVO/+fI9RQyFVRERERERERg2FVBERERERERk1FFJFRERERERk1FBIFRERERERkVFDIVVERERERERGDYVUERERERERGTUCI70DIjJ2OY4z0rsgIiIpxDCMkd4FERkFFFJF5IJSUBURkTOhgCoiHoVUEbmgHMfxbyIiIsMxTVMhVUR8Cqkict4lBtKjR49y5MgRBgYGUjaoehdP8Xh8pHflA7EsC9u2U/Z1cByHQCCQ0sdgGAaBQADHcYjFYiO9O+fMMAxM00zZ3wnHcTBNM6WPwZPqv9eGYZCWlsaUKVOYNWuWfxwKrCKXNoVUEbkgbNvGMAxeeeUVnn/+eSZMmIDjOCl14eFdLPX19RGNRsnJycGyrJQ8Dtu2aW1tpaCggGAwmJLHYBgGLS0tZGVlEQqFUuoYvH2NxWJ0dHQQCATIzc319z9VjgPcY4lEInR3d1NUVDTSu3PWvNeir6+P3t5e/xhS7TUwDINIJEJPTw+hUIiMjAwg9Y7DcRza29tZuXIl3/jGN4DUOgYRuTAUUkXkgnEchyNHjpCens5dd91FZmZmSl58lJeX09fXx8KFC0lPTx/p3Tknvb29rF+/npUrV5KVlZWSrwPAyy+/zNIrr6SkuDjljsFxHPr7+/n1r39NUVERd9xxB5B6F+ReqNi8eTO33377SO/OOXEch7q6Ovbs2cPq1auxLCvlXgeAjo4O9u/fz+TJkyktLR3p3TlrjuPQ29vL7373O6qrq0d6d0RkFFFIFZELbsKECaxYsYLc3Fwsyxrp3Tlj3rv8oVCIjo4OVqxYQXZ2NpA6wcI7hq6uLurr67nq6qspTsHKkVeZr6qqYumSJcyYMSOlxrB5r0NHRwcbN25k4sSJXHfddQQC7r/hVDkOcF+Luro6urq6uPHGG0d6d86a91ocOHCASCTCddddRzAYTMm/TY2NjQDMmTOH+fPnYxhGypxLXg+P9vZ2tm/fTltb20jvkoiMIgqpInJBGYaBbdtYloVlWf5FeSpInPQpGo364wkhdUKFdyFoWRaRSARn8PNUupiF4yE1FosRj8cJBAIpGVINw/C7kZummXLnE0A8Hse2baLRaEr9Pnts2/Y/RiIRAoFAyv5tAohGo4A7NjXVfifi8XhKDqEQkQsvdf4ii0jK8gJRql2EePtbMG4clmWRlpaWksfgTUxSWlpKRkZGyr4WhmEwddo0srOzU+4YEseeDt33VDoOcMN1ZmYmU6dOHeldOSemaeI4Drm5uUwrLU3Jrr7e/oZCISZOmpQ0vjlVJP4upNq+i8iFp5AqIhddqlyQeO/uz5k9G9u2CQaD/mOpdAxeqFi9ejXp6ekpOVmP5+abbyYtGMQ0TSA1juFUs66malgtLi7m5ptvTql99ni/11OmTGH8+PH+73UqHYt3DAUFBVx99dUEB3sWQOocR6rORiwiF4dCqojISXgXe0O7ZKbKRSAk72soFErJY4CEytFgJTjxPrn4LMvyZ5NNNV6Xa6+br3dfKvGOwbIs0lWNFJExSCFVROQ0xkooGgsXsmPltUhlXkBK9ddgLPw+AH4FVURkLFFIFRE5jbFwITsWjgHGznGkOr0OIiJyISmkioiIyCVlLITssXAMIiInoz4iIiIiIiIiMmoopIqIiIiIiMiooZAqIiIiIiIio4bGpIpIkpOtXXey8U9a605EREREzidVUkVkWI7jnDaAKqCKiIiIyPmmSqqIAMmB03EcbNv210JMXIfPq6h6z7dtG9u2/TUHx8ragyIiIiIyMhRSRSSJ4zj09vZSWVlJfX09RUVFLF26NCl4egE1Ho9TU1PDnj17CAQCLFiwgGnTpmFZlh9wRURERETOhkKqiPi88HnsWC1r1/6e99/fTklJCY8//jgApmkmBdTq6mqeeeYZOjo6ANixYwef/exnmT179sgcgIiIiIikPI1JFRGf11U3JyeHa665mlmzZlFZWXnC2FPHcQiHw2zatImDBw9yzz33cOedd1JRUcHmzZuJxWIjdAQiIiIikupUSRWRE0yYMJ6SkmKqqqrYt2/fCY87jkNPTw/V1dVMmjSJJUuW0NfXx+uvv05NTQ29vb1kZ2drRmA574aOiU7lNrztz1dbktq8l98wjn9+sscTvx7uvuH+9A5tN3Gbkz1/6Pc+3zQkRERORpVUEQE4YcIj0zSJx+PDXjg7jsPAwADd3d1+GE1PTyc7O5twOEx/f3/SdvF4nGg0SiQS8W/xeNx/3LbtpOqr93ViG0O/jsfjSW04jpPUhve1bdvDfu21+UHbGG4/otHoSdvwvu/ZtDF0G8dxiMfjp21jaEV7uDYStznbNobb5mRtDH0tT9WGbdvDnh/ejNMnex1OdQ4l7sfJ2hh6Hg7d93PZj6FtJE5Kdqqfx9A2otFoUhtDX/8zOZahbQz3fT/ouX2y1zLxeE91bp9JG0OP5WTHfz7aGHpOndhGDNt2cBywbRgYiBGN2tg2xOMQjdpEIjFsm8H7hv5tc3Cc5N8PiAF2wtc2EMMwvODofe0M3uf42xx/TgyIn7SN49s4g88/3obHceI4ju0HVNu2h339T3VeDvdaej9n739BNBpNeo6ICID1N3/zN38z0jshIqOLd9Gxbds2Dh48yN13341pmpim6V9g9/T0sG3bNoLBICtXriQej7Nx40Zs2+bqq68mFAphmiYbNmxg9+7dBAIBDhw4QFlZGWVlZWAYTBg/Htu2qTl6lLKyMsaPH08gEODYsWOUlZe7wTcri/7+ft555x2ys7PJysrCMAze27SJ5uZmJk2ahG3b1NfXs2PHDiZPnoxlWdTXN7Bv/36CwSA5OTn09/fz3nvvkZaWRk5ODoZhsCmhDcdxaGhoYMuWLf7kT83NzezevYdAwCI3N5f+/n62bt0KQF5eHoZhsHXrVpqbmykpKcE0TZqbm9m4cSPTp0/Hsiza29t5//33sSyLvLw8ent72bVrF5FIhIKCAgzDYPv27TQ3N1NUVIRlWbS0tPDmm28yd+5cDMOgq6uLLVu2+G309/ezZ88euru7KSwsBNzxwE1NTRQUFBAIBGhqamLdunV+G/39/WzcuJFAIEBeXh7hcJh9+/bR2tpKSUkJAHv37qW+vp68vDyCwSANDQ289957lJaWYlkWsViMN998k/T0dL+N8vJyGhoamDhxIo7jUF5ezrFjx8jNzSUtLY3Gxka2bNnCxIkTCQaDALz88stkZmaSl5fHwMAA5eXl1NTUMGnSJAAqKyupqqoiNzeX9PR0Ghoa2LFjB+PGjSMjIwOAV155hczMTHJzc4nFYpSVlVFdXc2UKVMAqKmp4cCBA+Tn55Oenk5jYyO7du0iMzOTrKwsAF5//XUyMjLIzc0FYP/+/Rw6dIjS0lIA6urq2LNnDwUFBX4be/bs8c8p27ZZv349luWeH4ZhsHfvXg4ePMj06dMBaGpqYtu2bRQVFZGenk5TUxNvvPEGRcXFXH311TiOw6ZNmwDIycnBNE327t1LWVkZM2bMAKCtrY2NGzcyfvx40tPTaWtrY8+ePcTjcfLz84nFYmzdupVIJEJeXp7bxr59VBw6xNSpUzEMg87OTtatW8ekSZNIS0ujo6OD3bt3E4lEGTduHNFolJ07d9Lb2+u3sX//fqqqqhg/fjyWZdHX18fLL79MaWkpwWCQ7p4eduzYQXhggMLCQiKRCPv27aO9vZ1x48YNtuG+LoWFhe423d289NJLzJgxg2AwSF9fH1u2biUcDlNUVEQ0GuXAgQPU19dTXFyMaZocOHCA6urD5OXlkZ6eTnd3N2+++SZTpkwhLS2NaDTKxo0bCYfDFBcXE4lEOHToEDU1NYwfPx7TNKmoqKCqqors7GwyMjLo6upi/fr1TJgwgfT0dADefvttIpEIxcXFRKNRKiurqKioZOLESTiOQXV1NQcPHiIzM4tQKERXVyebNr07eH6EAHhv05sYRMnNLca24zQ3V1Nevp+JE0uxbYfa2lrKysoJBEJYVib19R28/fY2otFMBgYyaWkxeOaZtzl8OEo4XMThIzZvv32Y557bTX//DMrKHP7wh0Z+97s9lJVlsm9fFu+808lzz+1gyxaL99/P4d13DX796w2sWzfAli0FrFtn8tJL1Tz//Pts3DiL1193eOWVVtau3c5rr2Xz6quZvPRSJy+8sJsXX4zx4ov5vPiiwYsvbiI/v5cJE/KxLIvq6mo2b97M3LlzcRyH7u5u3nvvPXJycsjKyqKrq4s9e/bQ39/PuHHjMAyDbdu20d3dTV5eHpZlUVlZyZ49ezBNk5dffpl9+/axb98+Nm/eTEFBAR/+8IeBE980FZFLj7r7igiQ3NXQuzhIS0sjEHD/THjL0BiGgWVZhEIhCgoKaGhoACAcDtPZ2UlJSUlSV99YLEZxcTHLli0jKysLy7IwDIOCggK/vaKiIjJDIf97jRs3jvT0dHJycgAIBoMsXLjQDwKO4zBn9mwsy/LbKCgoYMGCBf59+fn5zA7MJjs7yz+W+fPnJ7UxO6ENb5tFixb59+Xm5jJnzmyysrL9NubMmeMHZcdxmDlzJpZl+T+f3NxcLr/8cr+NrKws5s2b5wej9PR0Zs6cSXp6ut/GjBkzME3T3yYnJ4crr7zS/xmGQiHmz59Pdvbx/Zg+fbof+gCmT5+OYRj+fbm5uSxdutR/PC0tjcsuuyypjWnTpmGapr8fU6ZMwXEc0tLS/J/H4sWL/f2yLIsPfehDfqgLBoP+Np5JkyYRj8f9MJmXl8eiRYv8NgGuuOIK8vPzk9rwKimGYVBSUkJ+fn5SGwsWLCAzM9Nv4/LLL/fbsCyLKVOmJFV5CgsLyczMTGpj3rx5/r4DLF682D8fACZPnkxxcbHfBTc/P5+5c+cSCoX8NubMmeOfl4ZhcNlll/lvegBMnTqVkpISv43c3FwWLFhARkYGjuOQkZGRdP4EAgHmzZtHZmamfw5NnTo1aT+ysrJYtGiRfyxZWVnMmjXL3y/TNJkzZw7p6enH25gyhZLiYn+/MjMzWbx4sR/IMjMzmTV7NqHBNi3LYubMmQQCAb+NKVOmEIlE/Nc/LS2NpUuX+udYKCOD2bNn+/sVCAQoLS31/0a4bUwmEin2X/+MjAyWLVvmt5GWlsbcOXP8NizLYvLkyTiO4+/HpEmTKCoq8p+TkZHBFVdc4bdpWRbz58/3fx6BQIBJkyYRi8X8NiZMmEBBQYF/DoVCIRYvXkxaWjrxuNuddd68y8jMDOE4YJoW48dPoKBgHKbp/gxLSkrIzc31/6akp2cyY8ZC+vqy6OiAri5obV1IY0MWmzdDV5dBc3MJzc25PP889PYatLWNo7Mzg7S0HAwDenqyaG6eT1ZWDoMvDQ0Nlw2+iQOOY9DfX8zAQCbbtoFpGsTj+cRicxO2ySQWm0N6ehZpaQaWBbHYPILBDHp7TdwfQTHBYIhYzG0jGMwmGJyPZWVjWWCamRjGLEwrA9M0ME0IBmczblwapmnhOFBcXOyfP4ZhkJGR4Z//3s905syZpKWl+eedd05550NJSQlZWVlkZ2dz7bXXEo/H/XCruQxEJJHhaBCMiJAcUru7u6msrOQXv/gFb7/9Nj/+8Y+ZPHkyJSUlvPzyywQCAdasWcPrr7/Ov//7v3P33XcTDod56aWXuPfee/nIRz4CuBcy3/72t2lpaeH73/8+OTk5fhA93bvkDnC+30c/H8viqI0L40Icz7m0eaHa8D62tbXxgx/8gMmTJ/OlL30p6YL+fO/H6docLW1cjNfJcY7fwOvyevxr205+PBaD9nZoa4PGRmhsgpZmaGlx7+vshJ4e6Otzn+v1cLUCkJEOaWmQkQGhEGRmuh8TbxkZ7i09/fjHYNC9BQLuLRgEyzq+r4YBppn8EY5/frpbwnLXCd2CT/K5AaYB2dnufpzvPxPe70QsFqOjo4PHHnuM9vZ2fvSjHw3uhyqpIpc6VVJFxOddOHR0dPCrX/2K2tpaSktL+fnPf87HPvYxbrnlFurr60lLS8OyLJYvX05bWxvPPvsswWCQO+64g+uvv97vFgzHLzYMw/Crdmdy8XEhLk/Ox0WP2rgwLsTxnEubF6KNUz1+Jp+f636c7X6NVBtnH1BP30Zi6EwMccefDwMD0NoKhw+7t8pKOHoU6uvdgBoOQ9x2A2RONuTlwbhxUFgI06e7n+fnQ24u5OS4t7Q0BiuT7s2yjt+8r73HEm8nC5be8Q49/lN9fS5O9hJ4wfZ8/6nwehIk/k8YTX+PRGTkKaSKiM+7SJg4cSJ/9Vd/5Xe/MgyDUChEeno6999/v9+db9y4cXzmM5/hjjvu8J+TkZGhiw0RuagS5urxQ58XUqNR6OiAyirYvw/KyuDQIWhogN5eCKZBQT5MmeLeliyBiRNh/HgoKnKricMFzaGBM7E66wXHxMptosTK5dD7hjrZtiIiY5lCqogAyUtqBAKBpLF73uPe+LjEr9PT0/2xYontKKiKyAdxqgqhN5uubbtdYxP190NVFWzbBps3w549UFfnbjN+PMydC9ddB/PmwezZMGFCcgU0MXwmBs/EIAwnBs0L9SdPf0pF5FKkkCoiwzITBzAlGBo+T/Y8EZHzKXFcqfdnx3HcUFpRAX/4A6xbB3v3uhXSCRPg8svh819wq6NzZsPge2wnBMvE6mfi/YlfJ8yxdsEokIqIuBRSRSTJ+aiAaj42ETlbw/3Z8CqY3mPu2qPQ3Q1btsBrr8G777rdeadOheXL4b77YOlSt2o6dLzn0Iro0LGqw1FwFBG5+BRSRUREZFRJrGx6obSpCTZtgvXr3S68gYAbRh9+GK65BiZPPr69FyyH66J7MSqiIiLywSikioiIyIhIrJ4mdueNxdxg2tICu3bDm2/A7t3uci4rVsCf/AksW+Yu35K4HIttn3zZFVBVVEQkVSikioiIyEU3NKDatrvsS2MjHDwIGzbA9u3uY1deCd//vhtMQ6ETx5J6oVRVUhGRsUEhVURERC6K4Sqn8Tj09cGRI+6kRxs2uOuWTpoMX/gC3HijuxSMZR0fVwqqlIqIjGUKqSIiInLRJK4h2tUF+/e7FdPNm91K6tKl8MADcNllbtU0cRs4MZiKiMjYo5AqIiInzMisdW7lfBhaOQW3cjowALt2uRMh7dzp3r9iBdxyi7t2qTfO1OvKmxhMdWqKiIx9CqkiIgKAA+j6Xy6keNwNpevWwbZt7sRHq1bBzTe7S8h4Eic/EhGRS49CqojIJSi5cuoMjg90y1bG0IF/ImcpsUuvd6s+DG+9Ce+84y4fc8st7q209Hi11Kucgk49EZFLmUKqiMglzcEBBvr7aG3vIDcvn5zsrJHeKRkDvHDa2wtvvAFrfw8DYbjuOlh9K8ydkxxKQcFURERcCqkiIpeQxAqq4zjYdozammpefmEtB+u6+Nwf38sVC+eC4Q4CVGaQMzHcrL22Dfv2wW9+A4cOwcKFsHo1XHVVcldeVU5FRGQohVQRkUuQ49h0tbey4Z11vPDiC6x/5w8Ei2bzkY9+bLC8NdJ7KKnIC6u9vfDii/D885CfD3ffAzeuhNxcTYIkIiKnp5AqInJJcjh8uIKd+w6w+Kpr6Whrp6x+AOf0G4r4hqugVlTAf/6nu7TMyhvh1lthxnR3kiRQ914RETk9hVQRkUuIYTAYRE2mTZ/D3feMp6ggh+bK/Rxo2H/CUjQiwxkunDoOvPce/OQn7sRIDzzgjj/1qqfq1isiImdKIVVE5JJi+D158/LHkZdXALF+DNVQ5Rw4jrusTH8/rF0Lv/wlLF0Kf/RHMHMmhELDjz8VERE5FYVUEZFLlGmaOI7jLjkjcpa8yZFaW+HJJ+G119xwetddUFAAlqVwKiIi50YhVUTkEmYYDE6SpBQhZ8br2huPw7Fj8L//N5SXwze+AStXutXTxO69IiIiZ0shVURERE7LG4dq224APXIEvvUt6OmB730PFiyAYFCz94qIyAenkCoicilzvPDhJhDbdtwuwDiouipDeV18Kyvhy192l5f52c+gpMQNpIkBVURE5Fzp34mIpDzHcU5XgnseAAAgAElEQVQ7K633nMTbmbY7lma8HXo8tuMQt+NEojbgDiK0HcOvmo2lY5dzk9i9Nx53u/befz/MmuWORR0/3g2n3hjUxJuIiMi5UCVVRC4ZXuA604mCvEA3NicYchgIh2lqbGD/rm3s2LuPikOHeeedDRTlhJgxo5T83Bx3yZoxd+xytmzbDai7drkV1JUr4e//3u3eC6qgiojI+aWQKiIpKakaaNuAO1utxwtV3vPi8TjRaJTu7m7S09PJzs72nz/0uQDRaJSuri4syyI7OxvLsk5oO1V54buztYmX1z7La+v+QIQAyxbNYOuG16mpquRL/+XLXL1kPgHTVEXsEuX9OsTjbkjdtctd+/QTn4DvfldVUxERuXAUUkUkpcVjMeqOHaGzN8q8eXMIBqwTnuM4Dp2dnWzfvp3169dzww03cOONN5Kenj5s4LRtm6amJp577jlisRhr1qxhxowZpKWlpXxABTdkG4ZB0cQpfOGLX+G+P/8KpndcDsTsOGlpaQSt5BAvlx6vgrp5s1tB/dSn4DvfUTgVEZELSx10RCSlJI6pjMdtenu7+ek//j3ffvSf6I/YeBMAec+zbZvu7m6ee+45nnzySebPn8+yZcuSAufQcZqGYVBcXMyqVatobm7m8ccfZ9euXcRisZOOUR1uzOupb8crVReTF1ABTNMiPT2DUEYG6enp7i0jnazMTIKBgP98ubR456Ztu7dNm9zlZe66Cx555MQKqk4RERE53xRSRST1eEHRgHC4j3c3byYjr5BQmoljJye/eDzOm2+9xdq1a/nkJz/JXXfdxbhx4453DR4mKRqGQVpaGgsWLOCLX/wiGRkZPPXUU9TU1GgiIbkkeCF10yY3mN5++/GAqjVQRUTkQlN3XxFJCV449KqjjuPQ29PJkaoyjjR0sWrBfKLRKEbQIjAYQB3HoaWlheeefZa5c+eyfPly0tLS/DbjsRgDAwPE43HswcmBLMvCME23KzAwefJkbvvwh/nx44+zYcMGpk6dStCbLYbkSuOZzgTsVjO9bYzB+0481tHgQu+LKrWjR+I6qLYNO3bA978Py5fDN7+ZvMSMXjYREbmQFFJFJKU4jkNzwzE2b97CsbpaynZsobM/THXZTn7z23RWXLucWTNK/RU+d+7cydGjR1mzZg3jx4/3J0CybZtD+7fz0ut/ICevgEDAwrFjdHZ2M2HKDD7ykdvJCaVhmiYL5s9nXGEhu3btYs2aNRQXF58QTgH6+3ro7QtjGMZJw51hGKRnhMjMDGFpSlQZZbwK6t698I//CHPmuF1909M1g6+IiFw8CqkiMqoNraDWVpbx4//zM/ZV1HHttddQdfAAOQUlzJlcwO9+9SS795fz4JceZObUEgDKy8txHIcJEya4VVLDIG7b4Ng898yTPP3aTv70gc+THoC3X3mOzbsq+PyX/isfGfz+hmFQWFjIxAkTKCsro76+nqKioqRlWWzbwTQN3l3/Gq+t24xpmv6Mw8cdr54uXX4Dq29exbjcLAzDAYYvSyUe+1iTODZWRtbxNXHdgHr4MPz0p5CfDw89BAUFyWNP9bKJiMiFppAqIimjt7OFf/7Hf+CtXUf5q7/8S26+YSnbX/3/uOzK6/kvX36Q32Qb/OSJ3zBz3of44n13YcfjNDc3EwqFyMnJ8YOlaZjYdoy07BK++t++yT133cY7Lz9LfWMbq2//FPfd/SmyM9wuvYZhEAwGGTduHJ2dnbS3t/v3D+U4DvF43P98yKNuGDAMbPv0syY5jkNXVxfhcHhMhjnLsigoKEha2kdGjhdQGxvhiScgEoGvfQ0mTXIrqKqiiojIxaSQKiKjnu04GMCO997mty+8xpe//U986s6baa6rYk9FHZ/68FKyc3JZdMUS0vgPDlVVYjvupEmRSISMwdlrwZ371x1bZ/HpP36AvMISyt/fyD/9r8cpmrmYh776ZWZOmXBCpS8jI4NoNJoUGg3DwMFbn9VhxQ23smjp9ZjmKbr7miYZGSGyMkMJFSm3mppYOY3FYjz99NNs3779QvxIR1xubi7f/e53ycnJATQ2dSQknqKOA3198MwzbiX1z/4M5s2DQEDjUEVE5OJTSBWRlOAAmzaupyeezm0334BpWRyrLKcrClcsXgQOxKMxYnFICwYxOH4FPvyERgbTpk3j4N7tfOuR7zKQNYVv/uV/Z9G80mG7onpV2JNVUDEcqirL2bnnAJZlnWJMqsn0OfNZvOgysgPWsB19vW2Li4spLS09mx9TysjOzlYwHSUcx10L9fe/hw0b4LOfhSuvhIwMVVBFRGRkKKSKSAowMHBo7+jANtLJyQph2w57tm8hEMxg/twZhPt6KN+/l2gglwXzFmAZBkYgQCgUoq+vj3A4PNjS8fGtLXUV/NVf/jXVrVF+8uOHuXzeDFpb2ykoHEdgyGy7PT09BINBQqFQ8ljRwUmSTMOgbM8Ofv2blwhlpBOPDx2T6laiHMfghts+yqxZs8kOpQ9bnjJNE8MwWLNmDTfffPMJgTdVwt2pxtJalkUoFLqIeyPD8br5vvMOPPssrFoFq1dDVpYqqCIiMnIUUkVk9BtcE3XWrDkE42+x5+Bhpk+4go0bNjBh5mKmF2dTtuNdnviP/8v8xStYdf1VgBv2Jk6cSH9/Px0dHUmz7vZ2t/I//+bbHGjq58c/fpwVS+ay5e3f8/qWGr798NexDBiMtAwMDNDa2kphYSFFRUWDu3R84iTTdD9ev2oN0+ctwbLMUw45LSyeQH5O5inDpmEYZGVlkZmZeXy/B0NxqoRUOP6GAOAfh2EYfhCXkeOdUgcOwC9+AaWl8MlPQmGhgqmIiIwshVQRGfW8C+bb77qbV9/ewN8+/A26v/Ygm7aXkbvgZv7j337K79a+wJSFy/nG17/K5JICf8NFixYRDAapra0lEokQDAaJ9nXy9w//P/z2hbe46a4v0Ndax1O/eJcnn/xPrrjpEwRML4S6Hxubmqirr2fOnDlMmjQpqduvMfh9HMdh4uRpTJg09bTHkxjQEoOa97kXpL3v41ckEz4/29lx3aBo+IH6YjKG2e/hjl8uDi+cOg40N8P//b8QDMJ998H48cdn8tVLIyIiI0UhVURGPS/kTCydy/96/P/wwgtreWPtrzna0c+K7ACNbb088OX/xo3Xr2B8cTGWZfrdej/0oQ8xe/Zs3nvvPW688UZKp00jEgmTN2E6n737c2TnZrFjx/sMhPtZceMt3PHxOzATwqLjOOzauZO2tjbu+sQnyM3NPWnANM9iAN+ZhzMHBwOcOJUH9vHG+ndZfNUNrFi6MGFJkJOMkx3y/ZL31/9s+O96BsveOI590oqx9706WxvYtXsfHd29BNNDpAUNcvOLufrKK/zKsFwcQydKikTghRdg61b4i7+Ayy5zJ0rSSyIiIiNNIVVEUoIbAi0mTJnBvff9KVPyA7z4xjs88t3vsmDKODIzs8jISMPASIpdOTk5PPDAAzz66KO8/vrr3HPPPWTnFvHlh77urpfK8UBmmiaZWdmDgQ7icZv9+/ezdu1ali5Zwk033eRXQYcLhklVz/PBcYjbNu2tzTz9i5/xH089QyB/Kt+YvhBncEmb04Vdx4Fwfx+vv/Ac2ZNns+raq/19PfPdcE4ycZTbHXoo9+fghthf//tPeerVrXz0o3fQVLGTX7/4Jl/673/H1Vde4fXilovMtt2JkrZudSdLuu02WLlSAVVEREYPhVQRGdUSu8C6nxtkZITY/O57ZOROY/6MqeSFLEzTwjQSZnoZfL5lWVx11VV87Wtf47HHHqOzs5P77vscRUXFw46L9JaTCYcH2LZtG//6r/9KYWEhX/ziFxk3btwZ7+/5YNtxjhzax/945Dt0O5lMnTaVysZ+wDhlFTIxKNu2TX9vD//yD3/P5Jvu4qYVV+Gu2eqtT3q8G+7QbR3H9iP/0MejkQGOHq6ioaU96ZgdxyEtI8TMWbPIywlRPH0u3//B3cwqCvLxO37EdWs+zVfu/wS2bWNo6tiLxntZvW6+R4/CL38JEyfC5z/vzuR7vDI/cvspIiICCqkikmJMy8RwbDZu3Mjcqz/BuKzg4Lqnw09F6nXDveWWW5g3bx6/+MUv2LZtO7fddhuBQGDYLrqO49DU1MS2bdu44447+OhHP0pGRsZFn+zHME3yC4t54CtfZ8XSxfz+t7/k0Z/8mvhZVGu9Z2aEMklPSzvj7bzJjuJ2nN07ttLY2sXM2XOYNX0ahmHQ1d7GM0/8jGdfeye5guw4FE2ZzsPf+muuv2opH73rs3S31XDnrR8lc+4K/s8P/5ZQehDDMFVFHQGOA+EwvPaaux7qD38IeXnuYwqnIiIyWiikikhK8GfSBWzT4p+ffJ6ckilucGSYCmZC5c8LoqWlpTzyyCN+e6cKnNOmTeOhhx4adh8udFA93r7JuOJJrFo5gUhvJ+Fw7IyShGPbflfmWDxOLBYjFosSi8eJxmIYOJhm8iy7yRVUB8eOs2fber7zP/6OtILJhCLtvLB+C//yH7/lj+64gYLiEv76737IXz164hq0x8O8Q2dHE/d/7vP0Fl3Gr3/6A3BsHDOgQDQCHAdiMdi2za2ifvGLMHeu+5hpKqSKiMjoob5WIpJyTDPI4iuWMmNSiRuGzuDq2guqZztmdPixmBeP49jE43EwzNPOzOuNHY3FY4TDYfr7+4kMDDAwMAAY2LbDQDjMwECEcDjMQCSKbTsntGEAu957gz++/y8ovuxGnvi3n/GTJ35OINrHq2+uB9yVay3TxLIsAoFA0s0LqZ3Njfz1N/4r9QOFPPm//ydH973Hnz/0TQbiNsONZZULwzvl43G3evrTn8KVV8If/ZEbTtXrWkRERhtVUkUk9QyOOXWn3Tl1cBtuiZfTNz96lkcxDBPTdLDP4LleoK4o383aF9/AcdzuuuG+bvYdqaHW2sDjPw65M+cYJhOnzuDm1auZNqHQ/V5uKwz0dfLDf/hHjPxS/vLBzxHu6WLzupcwMvO56sor8J9sGMP+9G3HwcBg/Wu/Z9/Bw0yfs5jnfvMM6998ndKr7iTNcHBsG8O0htlazicvoMZi0N8PL74IbW3wD//gLjsDqqCKiMjoo5AqIilpNATI0aqzvYUdO94nFreJxWJEI2G6wzGcpjq2bd3mT4g0pz/GNdfd4G/nVmJtDu7eSnlNI5NnXcnbb75G5cF9vLNhM3/8J1/m3k98GHDD88l4S/jccMcnWXzdrQyE+4nG4vzRPfdRMnESlmXp9buIbNsNqdu3w69+BQ8/DJMnuwFWVVQRERmNFFJFJKVcquHG68rrfpG85qXH69J8zQ0f5unrbwPcZXQ621q4/xNrmLLy4zz+d98efK7ld5X2fqK242A7ULZ/Pz29/Vw9dTyReJy5i5by2c8/yJIPzU8KmKd7LQoLiyksLD6+3wnf61J9HS+WoWuiNjXBj37kLjVz550KqCIiMroppIqIjHKO42Dbcex43A95bmgdvqtmUhdn08QwDQL++q7uEjvDj7N1JzvqC/fiYPHpe+/l+qULCVomVQf2s+39XVx15ZKzCDdOcph2HJyTdBGWCyMedwPpb34DHR3gzQWmgCoiIqOZQqqIyCiTOLlTPBajqaGOI9WH2Lt3L10d7ZTt3U35jBImT5pEQV6u/9zEzHk8gLrjQ23b8deO9T8mPM/7ngYGM2bOJi8rwCsvv0Yg0kOkr4vf//bX5M+8nGXLlpxqidYkhmFqvOMI8tZE3bkTnngCHn0Uxo93HzvD+cZERERGhEKqiMgo5c7G28+OrZtYt/FdDhyuY8r4AvZt30jQiHHrrbdx5eWXEThF2DBwK6aZ2dlkZGQM3jn8BqYJDiZLr7mJT378fd7Y+Batxw4RGxhg4oy5fO6ez2CdYiyqjC6OA52d8Ld/CzfcAHfcodl8RUQkNSikioiMUoYBgWCQ0hmzuCUzj9tuvxPLMIjF4xhWGiWF+Qy3Ko277qn7uWlCRmYmn33gz8mZMmuwcnpil1s3txpgGuQUlPDgV/8ry2/cS0d3L+OKJ3DVsmVkpFnDr0kro0bicjPgTpRUWwv//M8QGPyPr5dPRERGO4VUEZFRyjAM0tLTWbB4CfOHmSnJXY/0dG1ARiiTT9z9x4Pdb8+ony75heNZeVOJd4e/RqsC6ujnnSrlB9w1UR95BKZP12RJIiKSOhRSRURGmeRxosbg+METw+HxcaXDtcFgGwxOkmQlbTPMFsltmSZmQjAefqIlGY0cByIR+If/F664wp3NF1RBFRGR1KGQKiIyyo1UOFQoTT227YbRl1+GzZvh6achPd19TC+niIikCoVUEZFR6nyExHNtQwE1tXgz+ToONDTAv/wL/Pmfw2WXufdZlkKqiIikDo1OERERGQMcx62k/vznkJEBn/0sBIMahyoiIqlH/7pERERSVGIFFaCsHF54Ef70T6GkROuhiohIalJIFRERSXFeFfWnP4GlS2DZMreLr1dFVVAVEZFUopAqIiKSwmzbvb3yCuzZA5/7HBQVqZuviIikLk2cJCIikmKGLpvb0wP/9m9w663uZEmJY1FVRRURkVSj91lFRERSlG27gfX556G/H26/HXJzFVBFRCS1KaSKiIikIK+a2tgIL70EH/sYzJunYCoiIqlPIVVERCRFxWLwy1+6wXTFCsjO1lhUERFJffpXJiIikiISl5xxHDh4EDZtglWrYO5cN6B6y86ooioiIqlKIVVERCQFhcPwwgswbhxcdx2kp4/0HomIiJwfCqkiIiIpxFsTdfdu93bDDclVVBERkVSnkCoiIpJienrglVchlAnXXOMuOaOAKiIiY4VCqoiIyCiXOA41HoedO6FsP1x7LUyfnjwOVWFVRERSnUKqiIhICvBCakcHvPMOFBXBLTdDIDDSeyYiInJ+KaSKiIikCNuGXbtg/353LOrUqRqLKiIiY49CqoiISApwHGhvhz/8ATIz4frrFU5FRGRsUkgVEREZpYaORd23z73dcgtMmKCxqCIiMjYppIqIiIxytg2tre5Y1MJCWH2ruvmKiMjYpZAqIiIyinmV1AMHYMtWWLMGiotUQRURkbFLIVVERGQUs213Rt+33oLcHLj+Bvd+hVMRERmrFFJFRERGIa+CattQVQWbNsFnPgv5ee79IiIiY5VWVxMRERmlbBs6O+HFF6GkBG67FSxLVVQRERnbVEkVEREZhRzHDaNHj8Irr8A997hLz6iKKiIiY50qqSIiIqOIF0JtG8JheO45KCqCG29079esviIiMtapkioiIjLKeONR6+vh+efhK38B6emqooqIyKVBlVQREZFRxrYhEoGnnoIpU2DNh93qqam3lkVE5BKgkCoiIjKKOI4bRpub4ckn4Sc/cQOqqqgiInKp0HuyIiIio4DXxTcedz8+8YRbRV21yn1cVVQREblUqJIqIiIySngz+jY1uV19//mfIRg8fr+IiMilQO/LioiIjBK27QbSn/0Mpk6FNWvcCqqqqCIicinRvz0REZFRwjShoQH+5V/ga1+DgPo7iYjIJUghVUREZBSwbffjfz4FEyfC6tXu1966qOruKyIilwqFVBERkRHmTZpUVwe/egYefhgyMzWjr4iIXJoUUkVEREaYF1KffhoKC+H22937NRZVREQuRfr3JyIiMoK8mXsbGuCZZ+CBByAUUvdeERG5dGlKBhERkRHiVVABfvc7yM2Fm2927/PGooqIiFxqFFJFRERGiBdSW1pg7Vr4whfc7r4iIiKXMoVUkTHIOcPZVgyVaURGnOO4VVTThJtugmBQFVQREbm0aUyqyBhl2/awYdVxnDMOsSJyYRkGtLfDb3/rTpZUUqLlZkRERFRJFRlDvPDpBVHbtunq6iIcDmNZFtnZ2WRkZGAYBoZh4DiOqqkiI+yNN9xq6sqVkJ5+fEZf/WqKiMilSiFVZAxxAAPo7e1l3bp1lJWV0dPTQzweByAzM5PJkyezfPly5s2bN6L7KnIp88ai9vTACy/Ahz8MpaUKpiIiIqCQKjIm+N13HYcjNTWsW7+e3Jwcbr/9dvLz8/2qaTgcpqamhi1bttDS0sLSpUuTKqtJbZ3EmT5PRE7OcSAeh9deg9ZWuOEGyMnRuqgiIiKgkCoypti2TUdHB7evWUNubi5paWmYpolt25imieM4lJaW0tnZSXNzM11dXYRCoWHb8kKoYRj+9if7nokSA6+InMhbXiYahWefhSuvhBkztOSMiIiIRyFVZAyxLIsPfehDfrDcu3cvhYWFlJSU0NzcjGmaFBYWkp+fT0FBQVKYTKyMemNa4/E4juNgWZY/fjXxebZt+zdwA6plWQqpIqfgOJCWBjt2uEvPfOELUFCgsagiIiIedSwSGQMSq5feR8uymDx5Mj/5yU+orq6mq6uLp556ioqKCkzTxDAMvzo6NKw6jkNZWRn3338/t912G48++iixWCxpxuB4PE5lZSXf/va3ufvuu7n77rv5xje+wY4dOzSDsMhJOI4bQgcG3HVRFy+G+fNHeq9ERERGF1VSRcYYwzCIx+MYhsETTzzBlcuWUV9fz4QJE8jPz2fr1q3Mnj172G29YNnW1sZXv/pVbrvtNr7+9a/zpS99ibS0NL75zW9i27ZfWW1oaKCqqopVq1axcOFCQqFMpk+frkqqyCmkpcHWrdDWBg8+CJMmgWWN9F6JiIiMHgqpImPAydZDnThxIvFYjCVLlvDqq68CcPvtt580RHrtrF+/nrS0ND73uc8xadIkvve97/HQQw/x9a9/nbS0NP95pmlSUlLCwkWL+NCiRWRmZp50jOvp9lfkYjkfk3+daxteFfWll+Cuu2DhQgfTNAa7+HpLSJ3zbomIiIwJCqkiY5DXjfeee+6hoaGBrKwsVq5cydatWxkYGDjt9tXV1UyaNIlAIOBPtjQwMEB7ezsTJkzAtm0MwyAjI4PW1lZ+/Pjj5OTkcMUVV/CpT32KKVOmnNCm11U4cfzq0Av9od2OT/f1uWxzPtpI3Ga4NoZONHW6bS7UfpztNmfSxtke24Xaj9Hy8xhuG8dx/J+R9/XxbvgQjzuEQg433ghTpwI4g92AL+w5pTZO3Yb3d+18nw9nss1oaeNU2ww9t8+1jaHP9f436M1LEUmkMakiY4jjOHR3dxOJRPwwOGnSJEzTZPz48axZs4asrCyi0Sh9fX1Eo1F/u0TRaBTLsvyxq4GA+35WJBJJqqLOmjWLhx9+mEcffZQ777yT119/nbVr1zIwMJD0vM7OTg4fPkxFRQWVlZVUVVXR1tbmf++enh4aGxv99Vx7enpoamqiv78fcMe/1tbW+l8DNDU10dLS4rfR29tLfX29f9y9vX00NjbS19cHQCwWo76+nt7eXr+NxsZGvw2Avr4+amtr/Tb6+/tpbGz0t4nFYjQ2NtLT0+Nv09zcTGtrq3+8/f39HDt2zG8jHA7T0NCQ1EZTUxPd3d1JbbS1tSVtc+TIkaTXo76+3v++sViMlpYWOjs7/ee0trbS2trq/wz7+/uT2ojH49TV1SXtR2trK+3t7f5z2traaG1tJRaL+T+PxGNxHIfa2lp/P+LxuL+Np6Ojg5aWFv/c8n6mXpsANTU1/n7Ytk17ezvNzc3+411dXTQ3Nye1UV9fTyQS8Z9z9OjRE9pobGz0H/fOocQ2GhoaCIfD/gXxsWPHks6H9vZ2Ghoa/K+9bbw2vPPBO6ccx/F/pold5RPbCIfD1NfXE41GcRyHSCRKNDrAqlWwbBkYhkNjYwM9PT1JbdTX1ye1UVdX5+9HODxAU1Oz/zo4juOfU0P3w/s6Eolw7Ngx/3UYGBigqamJrsHz0LZt/5zytmlvb6epqcl//WOxGEeOHPHbiEajbhtdXX4bbW1tdHR0+G10dHTQ1NSUtM3hw4f98zQWi9HQ0Oify95r2dbW5rfhzUbuHX8kEuHo0aN+m7ZtU19fn9SGdx56bXjnlPcmnffz8NoEqK+vp6Ojw2+jq6uLpqYm//Hu7u4T2qirq0t646+2ttZvw3Ecurq6ks4H77wMh8P+69DQ0JD0t62urs5vw/u+iedDX5/7t81rIxKJJP2dAmhoaEh6Lbu7u6mtrfUf985L7/tGIhGampqS/rY1NTXR0dHhv/7d3d0cO3bMf9w7/sT98GaN9zQ3Nye10dXVRV1dHT09PVRWVlJRUcGRI0dob28/6QzyInJp0l8EkTHEcRwqKirYu3cvR48epauri0gkQjweJxqNEg6H6enp4cCBA+zfvz/pIiZRfn4+3d3dxGIxHMehs7MTy7LIycnxv49hGOTn57No0SLmz5/PnXfeyTXXXMPRo0dpb2/327Usi5aWFnbs2MHWrVv9m3fB5DgOrW1tVFZW+hed7e3tVFZV+UEuGo1SXl6edBFeUVnJ4cEQ5jgOHR0dHDhwwG+js7ODqupq/8I1Eolw6NChpAvoqqoqP8h5x1lWVuZfQHd3d1NVVeVfMEYiESorK5MuoKurq6mpqUm6GN67d29CWO6loqLCD4ORSITDhw/T3Nzsb1NTU0NNTU3S9925c2dSWD506JAf7CORCDU1NTQ2Nia1cfToUf+iu6uri927d/uvaSQSoby83G8jGo1y7NixpAvX2tpaampq/DDY2dmZdCy2bbN///6kNmprazl69KjfRkNDAzU1Nf6Fe1dXF2VlZUkBc8+ePf7Pw2sjMVA3Nzdz+PBh/+K3q6uLgwcP+uFwaBu2bVNXV0dVVZX/eGtrK1VVVUltVFRUJL05sH///qRAUVtbS0VFhf94Z2cnlZWVSW1UVlYmhaEDBw4knQ+1tbUcOnTIb6O7u5uDBw8SDg/gOAbV1QNUVvazcKFDaakB2FRUVNDa2ur/nGtraykvL/fb6O3tZf/+/f7PtLe3h+rqKv/NgXg8TlVVFU1NTf45VFtXR0VFRdKbJ3v27PHb6O/vp6q62n9zIB6Pc+TIkaQ3i+rq6gRT4+UAACAASURBVKisqvJ/pyKRCDt37kwIy2Eqq6poHAxy8Xico0ePUldXd7yN+nqqDx/2X/+BgQF27NjhtxGNRqmsrPTfYPDeTDl69Kj/82hoaKC6utp/HcLhMLt37/bbjMfjHDx40A+D8XicxsZGjhw54rfR1NSU1EZ/fz/79u3zvwYoLy/327Btm6amJqqqqvw2WlpaqKqq8sNgX18f5eXlSefl0DZaWlqSzof29vakNvr7+zl48GDSeVleXu7/PBzHoaWlJel86OzspKKiwg+UfX19SX9jAA4dOpT0JkVLSwv79+/3H+/p6eHgwYNJx1JdXZ30hpP3uiQe/969e/3Hw+Ew5eXl/n709/dz+PDhpGB/+PBh6uvr/XOoubmZgwcP0tbWxubNm9m2bRvvv/8+DQ0NWBqYLSIJDEf9K0RSnvdr7IW1zZs309LSQn5+Pnl5eQSDQWKxGH19fbS1tREMBlm4cBGzZs0kEAj4XbG8i5HNmzfzne98h0ceeYQFCxbwr//6r7z77rs899xztLe309LSwvz58+np6aGzs5OsrCxaW1v50Y9+xPjx43nwwQfJzc3Fsiy+853v0NLSwve+9z3y8/P1brl8ICM5nvRc2/CeMjDg8NRTrXzve//IV74yia9+9UsEAmmaaEwuWV71/bHHHqO9vZ3HHnsM0HrbIqIxqSJjilfdvO2226ioqODgwYMcPnyY7u5uMjMzyc7OZvr06cybN4/8/PwTLgJM08RxHC6//HKWL1/O888/z65du9i4cSNf/epXsW2bPXv2sH79er71rW9RVVXFa6+9RnZ2Ng0NDUQiEa699lry8/OH3b+hY8BELhWOA3V1sGkTdHW5Y1MH3xM6YVyfyKXAcY7PUSAiMpRCqsgYMFxVZ86cOUycOJEtW7ZQW1vL1KlTWbJkCXl5eUnbeJ8nbhsKhfja177Gq6++SltbGw899BCrV6/Gtm2mTp3K8uXLMQyDvLw8SkpK6OzsZOrUqXz84x9n4cKFWJbld/dL/B5D13IVOVfn4xy60G0c/5VyiEZh+3aoq4cFCyAQ8B73ZvbV74VcenTOi8jJKKSKjBGJE6a0t7eTnZ3NgQMHqK+vJxAIUFFRQSwW47rrriMjI+OkFwdeYC0uLubee+/17zdNE9M0mTNnDrNnz8YwDEpLS7nvvvuStvcqpbr4EHHZNtTWwpatMHfO8fv0KyIiIjI89bsTGWNs26a7p4e6ujp2797N3LlzWbp0KVdffbU/S+pw0/0PrXQahoFpmv4sv0Of5z2e+BxvNmARcTmOG0h374aaI3DLLZCTA15HA/26iIiInEiVVJExwquAFhYWEgqF6O3tpaioyB/vZts26enpbNu2DcdxKCkpIScn55Sh8mTdc4d2FR7uOSLihtSWFti8GcaNg4UL4d13FU5FRERORZVUkTHEMAwsyyIrK4uioiKWLVvG3r176e/vJycnh0gkSnp6OrFYLGltv6FtfNCbyKXMcY7f4nE4cADKymH1agiF3Pv0ayIiInJyqqSKjEFeWJw2bRozZ87kueeewzAMZs+ezerVt5KX5y4Po0ApcuHYNrS3w4YNUFQIq1YpoIqIiJwJhVSRMco0TYLBIFdffTXFxcUMDAxQUlJCSUmxJjcSucC8Id+HD7vde++/HwoKoLVVIVVEROR0FFJFxjDTNMnMzGTBggV+INU6pSIXnuNAby+sXw+mCTfdNNJ7JCIikjoUUkXGoMR1U71xqsM9LiLnl1dBdRxoaIC33oJPfQry84/P6CsiIiKnppAqIiJyHtk2hMPwzh/csPrJT0JA/21FRETOmP5tioxhqpiKjIzWVnj6l/Dpz7hVVMfRWFQREZEzpZAqIiJynti2261340ZoaoLPfNoNpwqoIiIiZ04zqIiIiHxAiWuj9vTAk0/Cvfe6M/qqiioiInJ2FFJFRETOA9t2A+m770JLC/zZn7kz+yqgioiInB2FVBERkfOktxd++EP42MeguNi9TyFVRETk7CikioiInCOvi69tu2H03XehshK+8AX3cQVUERGRs6eQKiIi8gE5jrvszGOPuWNRp0zRWFQREZFzpZAqIiLyAdi2+3HjRqiogAcf1FhUERGRD0IhVURE5APq7YUf/ADuugumTXPvU0gVERE5NwqpIiIiZ2noWNSNG+HAAXdGXzi+NqqCqoiIyNlTSBUREfkA+vvh5z+Hu++GmTM1FlVEROSDUkgVERE5B141df16OHwY/uRPVD0VERE5HxRSRUREzlFvL/z0p7BmDUyf7t6nkCoiIvLBKKSKiIicocSxqADvvAO1tfDpT0MgcHxWXwVVERGRc6eQKiIichYcx/3Y3w9PPw133gmzZrn3KZyKiIh8cAqpIiIiZ8GrpL72GtTXw8c/DqGQAqqIiMj5opAqIiJyFgzDHYv6i1/AqlXujL6WpZAqIiJyvgRGegdERERGO6+Lr/fxrbegsxNuvRWystyxqKCgKiIicj4opIqIiJwBb9Kkvj549lm47TaYO1fBVERE5HxTd18REZEzZNuwdi20tcFNN0Fe3vEqqoiIiJwf+tcqIiJyhjo73SrqihVuFdVbckZERETOH3X3FREROQlvDKptu5+/8gpEInDDDclVVAVVERGR80eVVBERkVPwgmpLC7zzDqxcCYsXj+w+iYiIjGUKqSIiIqcRi8Hvfw/t7bB8OeTmaiyqiIjIhaLuviIiIkMMXXLm6FHYsAEuvxwWLXK793o3EREROb8UUkVERE7CcdwxqG+9BfG4O6NvTo7CqYiIyIWkzkoiIiLD8NZFraiA7dth2TJYskQVVBERkQtNIVVEROQk+vvdKmp3tzujb0aGAqqIiMiFpu6+IiIigxLHoto2HDgAW7bA0qWwYIHGooqIiFwMqqSKiIgMYdvQ0QHr1oFlwUc/CmlpI71XIiIilwaFVBERkQReFXX/fti8GW65BWbPdpecUQVVRETkwlNIFRERSeA47nqob77pjkFdvVoBVURE5P9n796D2zjve+F/F1feKZK6cCVKtC2psR27tmFGYZ3Yzjg+cXyoE4s+J21m2sxx56ATD16/bd9kxmdOK7SZUr3F7XHcuDjqGG3sNJc2F1HHIds4rZPantaULaOuL7It60aJ4oKSeL8AIIDd94/FLheLxZWguBC/nxmNTRJ4sJdnF8/v+T3Ps1cTg1QiItrwtJV8FQVIJoG33wYiEaC/H9i6deV1nI9KRES09hikEhERZcgyEI0CP/oRsHs3cN99zKISERFdbQxSiYhoQ9NW9JVlNYv6+uvA++8DX/wi0NLCFX2JiIiuNgapRES04WlDfScnge98R52HevPN6u8YnBIREV1dDFKJiGjDUxQgFgN++EP10TP//b8DbjcDVCIiovXAIJWIiDY0LYs6OgocPgz8P48BosghvkREROvFtd4bQEREtB60uajpNJBKAX/2Z8CttwJ9/1n9PRdMIiIiWh8MUomIaMOSZTUQ/bd/A155BfinfwK8XganRERE64nDfYmIaEPShvnG48CXvgQEAkB3t/o3BqlERETrh0EqERFtOIqiZlEB4A//EPB41EAVYIBKRES03jjcl4iINhQtQFUU4LXXgGefBY4cUYf5AlwwiYiIaL0xk0pERBuCNrxX+//JSeDLX1YfN9PbqwamTicDVCIiovXGIJWIiDYUbTXfb35T/fnxx9XMqoPfiERERLbA4b5ERLRhaPNQX30VGBwEDv0h0Nys/o4ZVCIiIntgvzEREW0I2lDfsTHga18DPvtZ4K5fUoNTZlGJiIjsg5lUIiK6phnnocZi6kJJDifwxS8CdXVqgMosKhERkX2w75iIiK55sqz+Gx5Wh/oGAsCOHVzJl4iIyI6YSSUiomuSMYOqKMC77wLf+hZw//3qMF+vl1lUIiIiO2ImlYiIrlnaM1GvXAG+/W2guxvo71cXS2JwSkREZE8MUomI6Jpifh5qMgn84Afqgkm/8ivqMF9mUImIiOyLQSoREV2TZFkNUv/lX4AXX1SH+d52G+B2M0AlIiKyM85JJSKia45xHup3vwvceqv6yJmmppXHzTBQJSIisidmUomI6JqjKMClS+o8VK9XHea7bRuH+RIREdUCBqlERHRN0LKnsgwsLgI//CFw6hTwy78M7NkDOJ0rj5xhoEpERGRfDFKJiOiaoShAOg288ALw4x+rK/l+8pOch0pERFRLOCeViIhqmraSryyrAeobbwDPPQfccw/wX/8rn4dKRERUa5hJJSKimqdlUD/8EPj61wFRBB57DKirY3BKRERUa5hJJSKimmR+Furly0A4DCwvA1/9KtDSwvmnREREtYhBKhER1bR0GpidBf72b9VHzvzZn6kr+QIMUImIiGoRg1QiIqo5WhY1mVRX8v3BD4ChIeCP/gi46SY1OOXzUImIiGoT56QSEVFNSqeBeBz4v/8XePZZ4H/+T+Cuu7IDVCIiIqo9/BonIqKaoT0HNZ0GEgng+eeBp54CvvIV4MEH1QDV6VRfy/moREREtYnDfYmIyPaMiyTJsppBPXIEePJJ4Ld+C3j4YTV7ykfNEBER1T4GqUREVBO0x8wsLgI//CHw9F8CX/7/gC98gUN8iYiIriUMUomIyLbMGdTZWeA73wG+//2VANXpZAaViIjoWsIglYiIbE3LoEoS8O1vAy+/DHz5y8B/+S8rQ3yJiIjo2sEglYiIbEPLnGpkWf3d6dPAN7+p/vexx4BPf5oZVCIiomsVg1QiIrIlbYhvJKIGqKmUGqDu2we43cygEhERXasYpBIR0bozZlCNj5n52c+Ab30L2LYN+OIXgZtvBjweZlCJiIiuZQxSiYjINhRF/TczA/zoR8BPfwr09AD/7b8Bu3YBLhczqERERNc6BqlERHTVmeeeAmr2FADOnAGeew54912gr09dIKmjIzt7yiwqERHRtYtBKhERrSste5pMAseOAf/n/6hzTr/0JaC3F2huVoNSBqZEREQbA4NUIiK6aswZ1HRa/e/UFPDDHwJHj6rDe7/wBWDPHqCuLjs4ZaBKRER07WOQSkREV52WPZVl4J13gP/9v4GJCeB//A/g/vuBlhb1ETMMSomIiDYeBqlERLSmjNlTWVb/CQKwsAA8+6w6//STnwT+1/8CrrtuJXvKIb5EREQbE4NUIiK6KtJpdfEjRQFeegn4/d8HFheBr34V+Oxn1ZV7gZXVexmgEhERbUwMUomIqCqsVuzVhvQC6n9PnQL+8A/V55/+xm8Aj/2/wKbW3MwpA1QiIqKNi0EqERFVnTbnFADiceDCBeCv/gr4+78HPvMZ4Oc/B3bvXnk9n31KREREGgapRES0KuY5p4oCpFLqnNOzZ9VVe194Adi7F/jBD4B9+9RFkRSFiyMRERFRLgapRERUNvPQXm1IbzwOTE4CJ04Aw8PAq6+qGdM//3N1cSS3W32vIKjZUwaoREREZMYglYiI8so3z1QQsrOmU1PA+Djw1lvAK6+ow3tvugn42teAj30MaGhYeT+H9hIREVEhDFKJyJJiik4EpryuKVbBZymv1f5floHpaUCSgNOngddfB95+W/19by/wW78F3Hgj4PWuvIePlCEiIqJSMEglIqIsxqBSW51X++/ly8DFi8DYGPD+++pqvbOzQFcX8Ku/Btz1S0BnpzrXVCuLgSkRERGVg0EqEWUxZ1AVRYEgCPrvtYyq+XW0flZzKvIN59XMzQHRqBqUXrgAfPABcP48EIsBW7eqWdPeXnVRpLq6lcAW4ONkiIiIqDIMUonIkjEI1QLVYq/jkGB7Mgei2mnSHhOj/T2Vyg5Ktf9OTKgr9Tocapb0P/0n4Bd/UV0QqbFxZREkrUxWAyIiIloNBqlEBMA6gzo3NwdFUdDa2mqZQVUUBel0GktLSxAEAY2NjRAEYUMFq3ZIKFvNGQWyg0VjMKoterSwoA7flSQ1INX+TU4CS0vq6zo6gBtuUDOlN90E7NwJeDwr5XC+KREREVUbg1QiyqIFni+++CLeeOMNJJNJ3HrrrXjooYfgcDj0AFSWZczPz2NkZATHjx+Hy+WCz+dDb28vmpqaCmZfqThz8GuVDTUfXmMgalyBd35eXX13YmLl3+Sk+m9hAUinAZcLaGoCNm9WM6SiCHTtBLp2AM3NapkOR+7KvDzFREREVG0MUolIp2VJ33rrLTzzzDO477770NDQgKeeegpdXV3o6emBoihwOBxIp9N455138P3v/wAfufEjSKdS+NGPfoS6ujp88pOfLOlzKpnfag5887+1nBSndaQlCErRTOnK3wWL35W+HVYB50qZ1tuhKEAyqWY9FxaA6RlgekoNPq9cUVffnZ0VMDsLLC4qSKXUILOuTg08N29Ws6ObNwPbtqmB6datK4+LWQmEhcznKwWD0mLHyji3uVLVmBNtlzLyWc31wDJWX0a+MqtVd43KLbMaZViVaYfrkojIiEEqEem07OcLL7yAtrY2HDhwAO3t7XjppZfwve99D3feeaf+usXFRbz55ptwOh349UceweLiIv78z/8cb731Fnp6euB2u7MaLoqiQJZlODKpuHKzrObM7EpjSIAsAyvBYOnlCoJier2S+Z0j63eFy9T+bvxvbhmKIli8J/vvWtCpBp4KlpYELC4CC4vA3KyiB5xzc2p2dGEBWFxUg9R4XA0SHQ71sS8NDUBjo4K2NgFdXUB7O9DSoqCpScCmTcCmTUBLC1Bfv5Id1eaWZg8TVjLBqmD4efXnbi3KKPYaO5VR6PWlfo759QDK3tZiZVi9ptpl5Ds+611GKcqtD9q90DgtYj3KqHT/C72n1ADVuBifLMv6/hARGTFIJSKd1tg4deoUbrr5ZjQ2NsLj8eDjH/84vv/97wMAHA4HZFnG4uIixsfH0dnZiY6ODjQ3N2Pz5s24cuUKFhYWsGnTJgBqg8SZeR6JwzRWtFDDJF+DKfc9Sub32T+v/H/+4ND6PerPVvM5tWA4lRKQTqvDZGVZDSoTCSCZVDKvEbC4qCAeB5aX1dcZg8lUSs1sLi4KiMXUn+Nx9e9qOStlaMN26+rUANLlUgPL5mYFzc3Atm0CWlqA9nYFDQ2CIUAFmpoENDcraGxcCUaNQ4IdDu3YZTd0sw/7SjbXSr6suPHcFfpbqWXke6359/l+LqWMcpRbhjGwMF8HlWShzKtum7erWmWUEpSutgyr91j9XIpqlFGszErfW24dzbcOAFBanSk1gMx3rhR99ETlZVj9bHy9NoXE6XRCVm+eREQAGKQSkYHW2EwkEqirq9Mb001NTYjFYlmvTafTWF5eRmtrKwC1seHxeLC0tIRUKqW/zul0YnJyEu+//z4aGhrgdDohCAK2bt2KrVu3QlHUBZrm5+fR2dkJl8uFubk5zM3Noa2tDY2NjUgmkxgbG8PWrVvRkBmLevHiRTgcTmzaJOLHP1YwNjYPRZlGOr0DsuxCOr0AWZ6BLLdClpshy0mk0+OQ5TYoSnMmyLwIWXYilRKhKArS6UWk05ehKLugKE6kUotIJqehKC1Q0ILk8jLi8SgEoRVAKwAF8fg4ZNmJurptUBQBsdgiZHkCXm833G4nUqkYZmauoLW1FR0dLVCUJGZmJtDW1ghRbIPXq2BmRkJTkxN7925GU5MTgrCIuflxfPTmPWhoEOBwJLC4OIG2tlY0NrbC40liefkKvF432ts3w+1WMDMThdPpQFtbB1wuFxYXFyFJ4+jo2AtBANLpFM6fv4i2tk1oaWlFKpXCpUtX4HA4MucBuHz5EhRFQUdHB9xuNxYWFnDp0iVcd911eufEuXPnsHnzZrS0tCCVSmFychKKoqCzsxMAcOXKFaRSKXR0dMDj8WBhYQFXrlzBjh074Ha7AQCnT5/Gli1b0NLSgnQ6jcnJSaRSKWzfvh0AMDU1hXg8ji1btuhlTE1NYdu2bfB6vTllyLKMK1euIJFIoKurC4IgYGZmBouLi9i6datexvT0NDo6OvQ6dPbsWXR0dKClpQWKouDy5cuIx+PYuXMnBEHA3NwcZmZm9M9dWFjAzMwMNm3apM+7Pn/+PDZt2oSWlhYIgoBLly4hFoth165dEAQBCwsLuHz5MkRRhMfjQSKRQCwW0xvu6XQa4+PjaG5uRktLCxwOBy5duoSlpSV0d3dDEAQsLS1BkiR0dXXB6/ViaWkJ09PTaGpqQmtrK2RZhiRJaGhoQGtrKxwOBy5fvoxYLIauri44HA7E43FcuHABu3btgtfrRSwWw+TkJBobG9HW1oZ0Oo3Lly/D7Xajra1NLyORSOjX5fLyMs6cOYMbbrhB35dLly6hsbER7e3tSKfTuHLlCpxOJ9rb2+FwOPTzop3LRCKBs2fPYvfu3XC73Ugmk5AkCY2Njejo6EA6ncbU1BRkWcaWLVvgcDgwOTmJRCKBjo4OeL1efV+6u7vh8XiQTqdx4cIYmpoasXnzZqTTaUxPTyOZTKKzsxOCIGB6ehqxWAzt7e2oq6tDPB7H2NgYdu7cCa/XC0VRMDo6iqamJr2MmZkZxONxbN++PatOtbe3o76+HvF4HJIkYdu2bXqdOnfunN5hJ8syZmdnsbCwgJ07dwKAfq9ra2tDQ0MD4vE4Ll26hI6ODjQ2NgIARkdH0dzcjI6ODiiKgpmZGczNzaG7uxsA9HrY3t6ul3H58mW0traipaUFAHDhwgU0NDTo52FmZgYzMzO4/vrrAQBLS0u4cuUKNm/erJeh1Qetg/HixTHU1dVllTE5OYk9e/YAAOLxOKLRqH5fTiQSmJyc1N8DAOPj43C73Whvb4fT6cTU1BTm5uawadMmXLhwQb//X7p0Se/MJCICGKQSkYHWu+31ehGPxZBMJpFOp7GwsKA3wgDoPd9erxeJRAKKoiCVSmF5eRlutztrqK8WpL777rvweDxwOBxwOBy45ZZbsHXrVsiyjOnpaVy8eBGbN2+Gy+XC7Owszp8/D7fbrQepp06dQkNDg74d58+fh8vlQVOTiA8/VHDy5Bzc7jMAOiEILjgccxCE8xCE6+B0NkNwLEPAWTgcTjgcTXA4BLhc5+F0uuFyiXA6AUWZhyyfRkPDDrhcTsjyAmKxUTQ3d6O5uQWynMLly+fR3r4THR0tcLuBs+cuoM7rwd69W+DxODEzs4BTpz7A3XfvhMfjxOzsEs6cOYfu7uuwfXsLFGUZp0+Poa1tM7q7N8HpBE6evIiGBhf27GmD1+vE4tISjh07gfvv3w2nU8D8fAJv/sdZdHZehx07WhGLJfHBBxfhdDahtbUDggCcPDkOh8OBtrZWuFwuxOMLOHnyPdx4oxqkJhJJnD5zGnv37EFrayuSyWWMj4/D5XJh69atABREJyaQTqXQ0tICt9uN+fl5nDz5IXbu3KkHqR9++CFcLhdaWlqQTKYQjUaRTqf1IPXS5cuILS2hubkZHo8H8/PzOHXqFLZs2aoHqe+//wHcbrce6EYnJhCPxfQgdXJyEtPT02hpadHLOHPmDFpaW/Ug9YMPPoDH49GD1ImJCczNz6OrqwsAMDMzA0mS0Nraqpdx7tw51NXX63Xo5MmT+OhHP4rmzMpQ0YkJzMzMYOfOnXrj+dy5c9i0aZMepI6OjsLpdOpB6unTp7F79240NzdDEAREo1FMTk1h165dANSA4syZM3qAlUgksLS0BFnRstgKzp07h507d65sRzSKy5evoLu7G4qiYGlpCadOncLWrVv1IPX8+fMQRVEPUs+fP48tW7agubkZDocD0WgU09PT2LFjBwA1oPjggw8giqIe6J0/fx5bt25FW1sbZFnG2NgYmpub9UB3YmICs7Oz2LJlix6knjhxAjt37tQDTu1ztSBVkiS43W5s2rRJL0MLSrT3vPPOO9i1a5cepI6OjmLLli16kDoxMYFUKoXNmzcDAC5fvozZ2Vk0NTXpx/C9997D9u3b9SD17Nmz2LZtmx5gXr58We+kcDqduDI5iampKdTX16Ourg6JRAIffvihfkwB4NTp09ixfbseYF65cgXT09MQRRGCIGBqehqXLl1CfX29HqSePn0ara2tqK+vhyAIOHXqFHbs2KGXMTk5CUmS9CB1ZnYWF8fG4PV60dDQgFgshrNnz8Lr9epB6unTp7F9+3Y9SJ2amsLo6KgepM7Pz+Pc6KheRjwe1/+uBalnz53Dtsy5BYDp6WmcPn06K0g9e/Ys6jPXgxb4b9u2TQ9SR0fPo729Ta8PU1NT+ODkST1ITSQSOH36NBobG/Uyxi5eRNumTXqQOjY2hsbGRrS2turfBRfGxnD9ddfhzTff1Ot3NBrVrxkiIgAQFE4EICJAnx8EAE888QTeffdd/Omf/im2bNmCX/3VX8XOnTvxJ3/yJ0gmk3A4HEgkEvj2t7+N48eP48knn8TMzAz++I//GLfeeit+4zd+Q8+YBoNBXLp0CQcPHtSzroIgwOv1oq6uDgCQTCaRTCb1hp72s8fjgcvlgizLWFpaQl1dHVwutW9Ne+yN11uPqSlgeTkFQUgAaAAgQBBSAJYhCB6o/XEyBCEGwANBcGe2Yynz2vrMENcUFCUBh6MhE2SnMz+74XS6oSgy0ul4JrB1QxCA5eVYZjvq9Izl8nI80+BUM2XJZAIul1oGICOVSgBwwuXyQFGAVCqWCZq9UIfXprEUW0JTY3Pm3MiIxeLweNQOAFmWkUgk4HA49AZ2LBbTj6sgCEilUojFYnrgozUGPR4P3G63njEHoJ+HeDwOAHpnQiqVQjwe1x8tBKhBl9frzVtGIpGArCjwGspIJBJoaGjQy5ifX0BdXXYZiqKgvr4eALC8vIx0Og2v16uXsby8nJXdt9oOWZb1AFSrQ9p7tDK8Xq+esVlcXITX69XrVCKRQDqdLlqGVi+1MrRjqh3DdDqtBxza/mtlTE5O4oknnsCOHTvwpS99CR6PB7FYTO/csSojnU4jFouhoaFBX7RseXkZLpdLf08sFoPT6YQngXFn8AAAIABJREFU83ygeDyedTy0R0U1NjbqZSQSCbhcLng8HiiKgng8DqfTqXcyacdDuy5lWcbCwgKampr0Tot4PJ5VRiKRgCAI8Hg8ehmyLOvnUitDC+q1MrROL0VRsLy8DEVR9Dplrg/adANtX7S67XK5ssqQZTmnTnk8Hn1o6dLSkn5MtXNpLEPrpNPKSCaTSKVSehnpdBrxeBx1dXV6nVpYWIDb7davy+XlZaRSqaw6ZVWGsR4at0MrI5lMZtUpY13WjqGxDi0uLcGVOaZaGcvJJJoMdSoeT6CubqUMrT5oZSwtLel1ShAEtYzlZTQ1NQFQV3iPxWL6/mtlGOthLBbTR9loZSSTSbjdbiwtLQFQA+i//uu/xszMDL7xjW8AQNZ8WyLamJhJJSKdNtz385//PP7pn/4JTz75JLxeL9555x38wR/8ARYXF/Hkk0/C4/Hg8ccfR09PD1555RU8/vjjeoNl3759cLlcelZWG9ao9bYb56dqjRC32w2Xy6U3Fl0uF1wul/53h8OhNya132kNR0EQ0N6uQFGcAOqxsmCRC4ATK3MqHaa/A0CdtudQ51yulCEIgKI4Mq/R5mk6oCh1EASHPm/T4/FmtkP9WW3kN8DpdOg/u1x1hrmeDjgc3qy5n06nN7OfQmZbnGhsWAkMBcGB+vq6rOOhNeA1WmNUa9y5XK6s4FI7ZitlCvp7jGUoiqIfZ5fLpQeXWt0wnwdzGVrj1Lgd2uu19zQ25pZh7C81ZuONZRjfY94O7XM1LpcLTqdTr1NOp1MPFI11yHh8jI187WerMoz7Yj6mVtth/Eztdcb/18o0nhfj8XA6nVnBlBbQGbfDWB+szq3T6dSDOu1n4zWkbYfxZ+O5BNR6pwWo2s/GMoCV+qC9Jl8Zxp/NZZjfY7w/aHN6jfsiCIJ+Hsopw3hMgdxzqb1H+52xTmmjSerr67PKMHbGGD+3nDK042EuQ9su8/Wg3Q+yrnXTz+Yy1M+tyypDq1Mac103ds5o79G2PV8Z5npqPB7Nzc16ZwkDUiIyY5BKRDqtodDd3Y1nnnkGR44cwdLSEo4ePYobbrgBqVQKn/nMZ/RG1h133IHf//3fxwsv/BQulxP33Xcf9u7dq2dqjGVq78k37yhfI16Tb7EZ9W+AGtyZ32f+2VHkZ3MZVmWat8Nqu7LfY972Yj+X8hrzMapGGVbZi0rKqGQ7yj3/lZRZ7r6Zf7eaMgotoFNs20v5nErOQ7H32KmMahyPSspYbR1aizJKec9alFHJewpth/ZdoP2XgSoRGTFIJSIA5qDPgeuuuw6//du/rf8MqD3pv/RLv6S/3uFw4CMf+Qj27t2blRkxl2fMTpj/VsrPxbbX+hEx5TZ4qlFGqeWW+57yy6jkmJZbRvnnKfd3V6uMUstdbRlWZZpXwM33ufmuj2ptx1qXUew8VauMYmVWo4xSymUZqyvD2FnDAJWIzHK7yYhow9MaDMbn12k94FbPtNPms7KhQURERESrxUwqEVnS5j6ZWQ3fsnodEREREVElmEklIiIiIiIi22D6g4iyVGPILp9sRURERESVYiaViIiIiIiIbINBKhEREREREdkGg1QiIiIiIiKyDQapREREREREZBsMUomIiIiIiMg2GKQSERERERGRbfARNERERZgfqVONx/RcbdfCPgDZ+1Gr+1Dravkc5Hs8Vq3tB3DtXNNERFaYSSUiIiIiIiLbYJBKRJSHoihQFAWjo6N47733EI/H9d/XCkVRIMsy4vE4Xn31VczPz+u/r6X9kGUZiqLg2LFjuHTpkr79tbQP1wpFUTA9PY1jx46t96ZURKs30WgUIyMjSKfTSKfTNVWXtH2Ym5vDW2+9hWg0ql8jRETXAgapRER5aA3BiYkJnDt3DsvLy+u9SRVRFAWJRALvvPMOFhYWarIhq23zu+++i6mpqZrch2uFFhydOHFivTdlVSYnJ/Huu+/WXIBqtLCwgFOnTunXRK3uBxGRGeekEtGa0hpOsiwjnU7X1LwpbdvT6TRSqVRN7gMApNNpyLKs74MsyzW3D7IsAwBSqVRW5quW9kM79sZ/tViftO3W/tUa83WtnYNaOg9aMGrcB+26rqVAVcv+MsAmIjMGqUS0pgRBgNPp1AMKLdioJYqiwOl0AkBNBniAut0OhwMOh6Mm90Hr6NDqUy02yLVrQDsPQG3WJ1mW4XK59P+vRYqiwOFw6HUJqL190eqTdn/VroVauiaAlftrrV0HRLS2BKXW7mZEZHvGgOL3fu/38Ld/+7fYvXt3zWW+tO2dnp5GIpFAR0cH3G73em9W2bSs0YULFyCKIurq6tZ7k8qmBRXnzp1De3s7mpub13uTyqJ91S4vL2N8fBxerxednZ16sFpLFEVBPB7H5cuXsWvXrvXenLJp1/Xc3BympqZw3XXX1ey9KRaLYWpqCi0tLWhubq65/QDUzoELFy7gwQcfxF/8xV8AQM1ltomo+phJJaI14XA4oCgKfuVXfgUfveUWpFKpmuvh1zgEAajRLLBGAODIZI1q9TwA0DNftbwPLpcLUBSkanCorEYQBDgEAelaviYygVAtX9fAyqNnavWa0LLBv7B3r/4zEREzqUS0JoxDz2q9EUhERGtLcDjUDkHtZwarRBsaM6lEtCa0+YLGfjBtsRjt7w6Ho+YaIlrQre2XcX5hrdHORy3ug7EuAbVzHowLxWj1v5auAXP9r9XrWKMtAuVyuWpuH4wLDhnnO9fafhjvQ3A6a+I6JqK1xyCViNaUeYGYeDwOWZbh9XpRV1dXcw0SRVGQSqUQj8chCALq6+trsmGozVNNp9P6AjK1RHusTjqdhtPpRGNjo+3Pg3bMte2ur6+Hx+Ox9TabybKM5eVlLC8vQxAEeL1euFyumruOgZXzkUql4PF4am4fFEVBMpnU76kej6em7qnGld9jsZhen7xer97JWUvXBhFVF4NUIlpzWmMwEongxz/+MeLxOPbs2YP+/n5s2bKlJhpVWoNqZmYGP/vZzxCJRCAIAj73uc/B5/PBWWMZgFQqhXdPnMDIqyPo6bkTPT09NdEg1Bqub7/9Nn7yk5/gypUraG9vx/79+/HRj37U1quEJpNJnDhxAv/8z/+MyclJ3HXXXbjnnnvQ0tJi2202kmUZk5OTGDx6FKdPnYLH48HHPvYxfOpTn0Jzc3NN7INGy979/Oc/x+uvv47f/M3frKl9UBQFsVgM//7vb+Lll1/C9PQ0br/9djzwwANob2+vif1QFAVLS0t46aWX8Morr8DpdMLn8+HTn/40Wltba2IfiGjt1E6LiohszTz0zPw4hIsXL+KRRx6By+XCbbfdhuHhYTzxxBNZr9WGPq7Hv1IsLCzgmWeewU9+8hN0d3dj586dWF5ezhrSvJ77UMp+aB0GExMT+P7f/z2eeurreOONN2pq+wHg1VdfRTwex8c//nEsLi7iK1/5Cs6dO2eb+mT8p2WLzp49i2eeCePMmTPYvHkznn32Wfzs5z9HIpGwVR2yOida58DFixfxzttv45ZbbkFbWxsOHz6M559/Xt/P9d7WUvdFURScPHkSX/va1/Dkk09idnbWtsffvP2A2uHxyiuv4NlnvwlZlnHTTTfB5XIhlUrZfj+AlWHWx48fx+/8zu9g27Zt6OjowN/8zd/gRz/6Uda1TkQbEzOpRFQ1Vo0KbZjv2bNnkUqlEAgE4PV6oSgKvvvd767MRbIJq33QGt9vvPEG3nvvPTz44IO48cYb0dzcjJ07d9puPluhxp2iKFhYWMCxY8ewtLSEe++915aP1cm3D1pd+dKXvqSvIH3vvffii1/8Il5//XVcd911thr2q9UdRVHwzjvvIJlcRiAQwK233op4PI7jr78O3x13oKury9ZDrrXjecstt+Cpp56CoiiYnJxEIpHAsWPH8Gu/9mu2OebFKIqC6ZkZPPvss3jwwQcxMTGBdA2ttKwoCi5duoSXX34Z119/Pfr7+6EoCrZv314zWXlA/W44deoUOjs78cgjj2BmZgZTU1M4ffp0zewDEa0dBqlEVBFjEKE9NzGRSOS8zuVywev14sYbb8Rtt92Gv/qrv8Lu3bvx05/+FA899NC6BqjmfUgkEjlZLUB97El9fT1OnTqFyclJHDt2DK+99hqWl5fxhS98AT09Pes6t9C4vclkErFYLGdFZUFQ53s5HA6cOHECb775Ju677z689trriMfj6z7/y7gPqVQKiUTC8rFFHo8H9fX1cDqdSKVSSCaTOHXqFGRZxg033GCrxq15n6anp9HU1ARRFAEAu3btwr/+679idnYWO3bsWK/NLMqYgXS5XJBlGalUCpOTkxgdHcWePXv0v9vp+Btp50KWZSSTSQwPDaG5uRmf+9zn8I1vfCOrg8Du+6EoCqLRKMbGxuB0OvGd73wHV65cQW9vL/bv34+Ojg7bbr9GENRFnu6880785Cc/wbe+9S0IgoDx8XF8/vOfzxoNQUQbE4NUIloVLUCNRCJ49913c/7e3t6O+++/H4qiYNu2bfiP//gPzM/PY3JyEh0dHbbIpGpDz95++228+eabALIDjM2bN2Pfvn2IxWI4c+YM7r77bnz605/Gc889h1AohK9//evr3jDUGq+jo6P6UFhjQ8/lcsHn82Hz5s148cUX0draihtuuAEvvfQSUqmUvnjMetL2YWpqGsePv46LFy9m7YMsy/jIRz6Cu+66S597eurUKYRCIXziE5+Az+ezVRZVow2xTiaTcDqd+iI9brcby8vLWUM07U47H/Pz83j++ecxOzuLvv37a2JopraN77zzDl555RUEAgH998ZFuOxWf6ykUilEo1Fs27YNn/nMZ/DBBx/gyJEj6O7uxj333KPfU+28L9p9qaGhAW+88QYaGhqQTCbR3Nxs644CIro6GKQS0appgerc3Jz+O22Io8ul3mZeevllvPHGG/jBD36AlpYW/OM//iPC4TDuu+8+dHR05MzJWw+JRAKzs7NwOBz6MGVFUVBXV4dUKgWXy4Xdu3fjE5/4BO644w7EYjF8+ctfRiKRWPdAG1CPWzKZxNzcHBKJhJ5N1VbvTSQSmJiYwLFjx3DnnXdieHgYJ06cwPT0ND744APcfPPNekZpPc6Bcb7a4uKiXp+0x7Wk02k9+E6n07hw4QL+8i//Elu2bMFjjz2m1zW70RrjXq83azXWpaUl1NXVrXvnQDHG+eWKomB+fh5/93d/h7fffhuBQAC/sHdvTQUU//Iv/4J4PI6RkRHMzc1haWkJR48exa//+q+jvb0dAGyfyXO73Whra8Odd96Ju+66CzfddBN+/vOfIxqNZnU42TXY07LxQ8PDSCaTeOqppxCPx/Hcc8/h6NGjuPPOO1FXV2f780BEa8ee3+hEZHtao0EQBDQ2NuL+++/H/fffn/UabcEYAJiamoKiKGhsbER9fT2am5sxOzuL5WTyqm+7RtsHp9MJp9OJu+++G3fffXfO67R92Lt3L1566SXMzMwglUrh3LlzaG5uhtPpXNfGoHFBkptvvhk333xzzmu0AOPixYvo6+tDMpnE5OQk4okE4vE4kut4HoDs+iSKnfjlX/5ly9dp+3H27Fn80R/9EZxOJx5//HE0NjZClmVbzutUFAVOpxPbtm3DwsICTp48ibq6Onz44YcQRbGmVmONxWL47ne/ixdeeAGPPfYYenp6bHvcjYxDln0+HxobG/VOD2PHgfYau5+PLVu2YOfOnZidncXCwgImJiaQSqXQ0NBgiw6zUsiyjMkrV+B2u9HY2KiPMpifn6+pOcJEtDacX/3qV7+63htBRNc2QRDQ3NyMl19+GdFoFCdPnsSLL76I2++4Aw888ABcpiF2dm0gtrS04Pz583jvvfdw5swZvPzyy7j//vvx8Y9/HG63O2cFTrsRBAEtLS24/fbb4fP5cN311+PK5cu444478OCDD2YFGnbdD214+HPPPYdnn30Wn/rUp3DhwgWcOHECzc3N6OjoAABbnguv14tz587h3//93/H+++9jfHwcDzzwgL4yqzFQtxstgDt58iR+93d/F5s3b0ZzczPefPNNxONx7Nq1y9bbD6zUie7ubtx+++248847cf311+Mf/uEf8MQTT6Czs1N/nfE9dlRXV4dkMom33n4bp0+dwr/927+hpaUFDzzwADZv3pwVqNpxH7Rz4Xa78fLLL+PSpUuIRCJ4//33ce+998Ln82Vdw3bcByJaWwxSiWhNaQ2N9vZ2XH/99VhcXIQsy7jllltw4KGH0NbWljV/yq6NEUEQUF9fj507dwIA4vE4br/9duzfvx+tra22nwNmPLba8F+3y4WOjg78wi/8ArZu3ZrzOrsSBAFzc3O4/fbb0dnZCbfbjaamJnR1daGtrU1/zXrvh7mR3dTUhG3btqnDl51O3HPPPdi3bx8aGxtzHtFhR4IgIB6PY9OmTbjtttvgdrtRX1+Pzs5O7NixoyYCCm3BHkEQ4HQ64XK50NnZiV/8xV+E1+u1fFyKnRhHf2zbtg0tLS1YWlqCKIr47Gc/i927d+urddt5H7R/oihiy5YtWFxcRH19PXp7e3HvvffWzDVBRGtHUGphtQMiqknm1XNlWcby8jISiQSampr0hqLGro0R85y85eVlLC8vo76+PufxM3bdB435nBifbQnYf/s1qVQK6XQa6XQ6K+iwY30y1h/tGkin0/B4PDWRgTfWGVmW9fmEGpfLpc8HtvN+GBnPiVaH7LjoVj7atauthO1yueB2u7P2we77ou2DNuwaAOrr6/WOBMD++0BEa4dBKhGtOfNtxjznq1YaIoVul7WyD2a1vDCJ+XzYfR/y1R+7b7fRtbAPZrV4DZg7m66F+2mt7gcRrQ0unEREVx0bH0QqXgu0WrWSOS2m1refiKqLmVQiIiIiIiKyjdpYp5yIiIiIiIg2BA73JSIiugquxfmcREREa4GZVCIiIiIiIrINZlKJiIjWkPkRRsaMqvaoDYAZVSIiIg2DVCIioqtEluW8jzwxP4KDiIhoo2KQSkREdBVMTEzgtddew+TkJADA7fbgYx/rwe7du+F0OiEIAgNVIiIiMEglIiJac4qiIBaL4cKFCxgfH8fFixfx5ptv4itf+Qq6u7vhdDrXexOJiIhsg89JJSIiWkPGOampVAqTk5P45je/ieXlZTzyyCPYtWtXVvaUmVQiItrouLovERHRVSDLMqanp/G9730PkiThoYceQldX13pvFhERke0wSCUiIlpjiqJgfn4ezz//PN5//30cOHAAe/bsgSzLzJwSERGZMEglIiK6Ct5//30MDQ1BlmVMTExgeHgY586dQyqVWu9NIyIishUunERERLTGBEFAa2srPvWpTyEej2NsbAwAsHfvXv3ZqcyoEhERqbhwEhER0Royfs0qigJZlvWfHQ5HTnDKYJWIiDY6BqlERERXQbGvWwanREREKg73JSIiWkcMTomIiLJx4SQiIiIiIiKyDWZSiYiIrgJmTImIiErDTCoRERERERHZBoNUIiIiIiIisg0GqURERERERGQbDFKJiIiIiIjINhikEhERERERkW0wSCUiIiIiIiLbYJBKREREREREtsEglYiIiIiIiGyDQSoRERERERHZBoNUIiIiIiIisg0GqURERERERGQbDFKJiIiIiIjINhikEhERERERkW0wSCUiIiIiIiLbYJBKREREREREtsEglYiIiIiIiGyDQSoRERERERHZBoNUIiIiIiIisg0GqURERERERGQbDFKJiIiIiIjINhikEhERERERkW0wSCUiIiIiIiLbYJBKREREREREtsEglYiIiIiIiGyDQSoRERERERHZBoNUIiIiIiIisg0GqURERERERGQbDFKJiIiIiIjINhikEhERERERkW0wSCUiIiIiIiLbYJBKREREREREtsEglYiIiIiIiGyDQSoRERERERHZBoNUIiIiIiIisg0GqURERERERGQbDFKJiIiIiIjINhikEhERERERkW0wSCUiIiIiIiLbYJBKREREREREtsEglYiIiIiIiGyDQSoRERERERHZBoNUIiIiIiIisg0GqURERERERGQbDFKJiIiIiIjINhikEhERERERkW0wSCUiIiIiIiLbYJBKREREREREtsEglYiIiIiIiGyDQSoRERERERHZBoNUIiIiIiIisg0GqURERERERGQbDFKJiIiIiIjINhikEhERERERkW0wSCUiIiIiIiLbYJBKREREREREtsEglYiIiIiIiGyDQSoRERERERHZxgYIUiMI+UOIAJCGgvAfjpT39ugwgpn3lyPfZ0UO++H3F/pX/meVuWUYPhjEcBQV71vksB/BIWktNm6Vx0fC8EHz6zP7av1pCBX8rBLPR5HjKA0FLY+XNBQs8tmVHOcIQnn2uTrnrfgxK+szosMIHhyGVO72Vfq+jIruBVbbUMV7Q7kK3WPyH4+V+2G5Kqs/+evj2n92kWMdCVXpmls76j2i0u+EzP2wCnXtmhEJFflOWNMPr+haWLvv20qvzTzvi4Tgz9yTLd912I9QBVWxsvtl5fedahzviu/xeb5T1rLNtfrPubr1odzv3ZX2VzWvP/XeWtH2l2KV7ZtriWu9N6AapKEggkfNJ9GHQDgAX/F3Y/hgEINaxe3sx8ChPogF3hE57EfouPm3IvoPDaCvs/Cn+R4NI5y/ZIT8I0W3WK3AgysXf08A4UeNe2raJ+2zA2EEih+Q3OOZU35x1scom3hgAAP7s490xccnEoI/FIEvEEbYuKnRYQQP+jFouQ8+BML5P63k81Ehcf8Awvvz/10aCiKU5/fZ9b3Uul4FUQlSgWvEapst60KJdSprX8uuhxKGD4aAx4pfl7nyBXPFjnWe95VwXzGyvqehomuxFPmu1+L3jPLvn7kfHoL/tV7TfqnXXm+BY63WtUD2PcSyLIuPPOxH6Lh6/ZtfqXaUFTnP0WEED46if42vu2L3CCNpKIjgWL9h30X0HQqjr8LPXs11a1u+AAre8lcp+5gVvy/nvc4ruY6Kbg+Knz9z28Kg1PZDZdT7yOjDpXyGdftGVcExr6RO5xyntWtvVlWmnbSilPvcetQHq/tZwVdnHdfyt634981aWF37ZmO4JoJUwDrgKS5TsbsCCB9SK0fksB/Bgyh646j0As37pbRSMnoLFaA3jrTGlboP/sOBgo2TyGE/Sgm3pKEggiO9GAhr+29VfnGFg03tBiQBpqNcPLi1Oj4Sho9ErM9JZx8GwiJC/kEMR30VBCulUjOM+YgHcn9XvC5Yv6+chqsdmOuCeu5LeGMkhOBREYHwAHwV1UMJo1Ggu4Jttu7AiCDkH4QUBZC3HuW+T72myvt0y3McCcH/Wmnvl44G4T+afxvN11Du9arua/f2gp+C4YNBjPQOIKzdeyMh+P2hq9dpUhEJ0piI/kPW2+h7dAD9B0NFzvPGYP5ejRz2l/1dsFFEDvsRGuvXvzuloSCCpVwLa9g4LfY9nKOzDwPh3G6NyGE/BsclwFekjRUdRNA/mH979pWzMfnk63wp3qlcrfZNvuNUWOXtzaopt5OmJuoDEDlsOK6ZxESonDZ6VMqb8V0zq27fbAzXTJBakWgEI1EfAodWKoXv0QB8/kFEon1rEtBIY9LqeqA6+zCQdZMR0fewD4NH1IvM+pahNsq6LQIe8+siI0D/Y8Ybpoi+QwGM+kcQga+qDU+xy3pryz8+EkajYoEGtYjuTgmj4zA1OksZ+lik08DwunyNkXwZUaC8zpVSOjgC4dK2dv1IiIxI8D1c7ASvdDyorxTR91g/Rg6WUQ+jEiSI6K3WdRyVIHX2or+c8vQvIlMj5HgIfj/K6kmPvBaB2NVf0sfmr1eljA5QM9DSgQH0Hw/Cb6hzYpexqEEMoj/7c3wBBHr8GByS4Cun01A7Hlmyrz098DY06q2D8Uh2WT3mv4sQuySEDoYgWlyzkcNBDEZ9CKy23piyFlbnJCfzdqgbg08DAa1ORELwH+leqSOWZUqG+5h6HLXPihz2Y7BrIDfbbMymlBEk+Q70QzRfg6ZsS8792/R38cAA+seCGNmnvU4b8dCP0YPqfuhlFCzbnFEz3IPzHXurDHix85TJzgcQKpAljWDkuIh+w7Us7g+gfySIkQjgu8rtzqLfFT0BhB8tr0xxewnXc4H7WcGO8sggRiBCCgUxfGgA4lFzBri8bbVWpfZNTjYyo9i9fB3amyufnT8jmtkSBMKBsopc0/qACAZHADEaQnBoAAPbB3MywLroMAaP+xDQhtB19iFwYATB18q48MZHIXV2X72Mdt72jeF7sLO07/pr3bUZpFoMabBsuo+PQurpNd2YfOjtCWHwuIS+sjOzxYldIiIhP/Ln3CrM0kZH8wep0QhG0FtCo6tQ5km6KpmFyo5PviBUUyiIrdZQ2fIzqeUqLYMayXvjF7vEIhm2Eutekd7RgvsaGVQDgBKGdOWcs04RIkbUeliK8dGq9o5Gjg4CvQMlf5GtBCBi7rVTdvZEbQT3HiixQ6PMTKrO0JgRkV3nIof9MJ51aVwCunpzjke+zqeCco5HbjBtFeTlCyj0IDZP1t73aBjhzJxUM/HAAMKPru7erwYJQP+hcKbxmekpHwtkbZs65Fi7/6idZlLexkkEoRAshiiLCITDJQ2PU7dLtBzmXJFMfREDYQzoQaUaaKj7HUHo4CBwYCXbLg0FETyem0UZeXoQvYfCK99TRcqWhkLZWXxdvuOUq5TzBAA4HkKoJ4Bw2FCvDg6vNMAtO7BE+HpFDJbTWK6SUr8rqq6izJl6vvrDAxCHggge9KvTdjJBdMkjb4qqUvvGIhsZORyEdKBIZ+Mq2pur/u4uMfNb9RpRYSY1cjgEPBzGwHb1mvf3BBDWguhMR5POIsAUt4vASOnZUWlcQnljrkSIXcBgwbZqoSmA+do3InoPDaAPwwg+XcbmXMNsHqSae0pLm/eZfRNoB/U4AAAeVklEQVTJnzlQK2auUhpZOYFUZz8GHh5FMKuH2qLsqg/VVHtkxAMDeb+QcxvXEgYPag1O47t86D8wiGBWhkHt5Y70BFafWShBZcdHzSb7QxZDPLRG91puf0VDf1TFvngseyKLZkJWzq/xi6sqdW8V+6o2RtS6Kg4ZMnR5G+UiRFOjr7vTUHeL9DRGXlOPkZrVQ+48pnJ65zO9tf05wYvWObFyb1rJYmgBSGaxKajno5L+UWloEJGe/pLqcPYQv1Ln5a6MKvBlggJ1bibyBtTGhoDxqEhjEtCV83L7WbP5iREMHlVHzKwcc62nXJt2kBlREDDet30IBHzwH8lTbFRaZW9/BINHkXeYcynv1wJO7f2Ro+q9dUD7hZbFOBpB36M+IDKCSGd2tl3LMI5mlS0Bvdl1tFjZ0pgEcZ/F0Sj5OJVynrTf+xAwXAPi/n74jo6s1P3xUUgWjVxxuwhUIcCyGkVQipzpMxXNgSxxJFYl11MkBH9IQv+hTJ3aP4BwTxnDNY2dUkXP+9q0b6ShIEb2DeS+3zRaBqtob1at3ZiTwCmxTZ1lDeuD1lF3YCBz3fdhIOwrPhS2S8w+79u7IRoC5MJJAvVejOggBiN9CPhyR9iJFt9nZQ+lz2HdvhkdB1Bwms3GYvMgdXULPxQtPc8XSCmNrHy9VtpFae79K2UhIdPWlXTzkIZCuUPusv6e6a3PalxnyoapRwqZm+H27AyDeMCqt3p1zA2MVR8fXwDhcGY1y5D5deECx7FwBlQtOs+XZdEhNBYMjYyKvniiwwiGpKx9yp0nVskXTwmfu4p9Vbczc+MfkyA+mtn3aKEeQ3Pvttr72F9KT6M2BOhQNwYPDiKyP5B1Lymvd15tnIsBq8yMMROmdar5MvNMjK8xhI3jpX6u9vHakOE1ysZkGi7m67zol7CvH/1HgggN+fT7j/X9pgQlDPe1YtnJ05P/XWt1H84SlSDBh/6c+fE+9HYOZkZ85Bndsb1AI7vTh14EEfSPVjb6IzKCSJnD1bOPr3ovDRiuR2kMOUP3s7IYltl2NQuR/c1jHj5YvGzfPh9CIT+C5mx6qceppPOk/c58XtQGpX5/ynPe8nWEl6uSNTe0hcXChvuGNBRE8LBY9gJ0o9EC0ybyDX8tQDygDeGUcq+vSjtCx0chZdW13M7aardv1NElPuCocfRAhrlDYRXtzaqIDiNoHmEQHTYF7aVYo/qQmbYg5dT1EuKAMVNn6fiovsAjCky3Urc3M20lMIrgkWFIvr6s72vzCKLqsW7fFF4HYuOxeZC6xrZ3QzxunotQ3rC6Uq2+18VCvvluWX+voOd8jVdAtOqJsz4+5a7OWm6nhnmRmzJXeMv3ZWqeR1ZF0vERSD39WcfDcp6YcXOq0TBf5b6qwQvgCwyg+0hQnWdSsGFgMYTbOMe04JBfCcNPZ4LKTgA9foQORypckMDcs1tIafVP3D9Q+r3AnGko9NJC5/mg1Rdt5jyXeL37Hs0dZtp3aAA4aAhkOvsNi5KUqITPz/3s0jp5zMd6Te7DZnnnN6nB2ci4BGyvZL60Wr98Q0EE/f6rsjKoMTiKHPZbDku0nJ7RqWYVpTGpsuHfJZSt1hv1sRL+o8bOxBKPUynnqdjCMPo2iRCj5rmFpc6/txY57MfIvnCJayLkksbyBMjmBv3KJxZcoyGSCex8AdPcxTzXb/Hh56Xdd0q9X0rb+03D9PN0MFWhfaONlvFlDUX3Y7RQ9reC9mZVO9XyTn/JN9T5atcHscjTFjLM67Js74Zomu5mnIpSuJsoglBIQv+hAMROKafT1WIvCqwsnY/VlLJ87RsJkRJHim0U10SQKm5XJ9znDpsU0X+owInu7EO/qQEbObyaoR8SpKg5hZ/99+IVvMQ5knpGzbrxujLXpooZtegwgkfFioYrZss/N0T7Yra+0WdWHK12lvBqq7inUYTY0wvxaPZQNG1YXL46c1Ua5gVoX7R6I3J7P0YOBhHaHkagwGJX6hDuECLhgLr63dPZQw2tGVZQzLxQXZwiVEJgbCop0xCpbOVw5D3Ppc05z5eVzW/V57mEbLnVfPBqjnaxXvCl8NyeQo+uKO8xBlVi0WjKbA2kMagjSDpFiBjMXVQnz7BRIzU4V/e7/KxY5XwH+vVRCVmTRArV5y4R0kgE0n5jkKgeB5SwsmfxayXT0RgJwR/KzmYVPU6lnKeSZYaSPj0M3yFtdd/MKKcC2y9uF4GjVqMIMvd8HxApcUXvnC16NIyANmRfU7Bjo9RO20jhzFTZii9gWMo9WOzU/h5BpNLnbxZt3xi+X4wjWzr7MHAI+jBlyzIqaG9W9bvbF0A4YJ6HX+jeul71oYTg3FiPzcc1OozQUaD/ULH74koHtHr8taH+mbaJ5dur9X2Xv30T1hZ445xUANdIkFq4Z6zwBaQ+biCYtaLWQNHKnaeHF8VupsUqeCmPuECmMTmiTrC2ep2eYS0vg1rK418Ch3yQCs2hLFmhYH7lNX2HBqrxYWurxGcz6rLqq0Uju1B20vBlqGfGSpynVLgDoESZm2eg1AxOJITQcdMXYWcfBgKj6g36UIEGuS+AgQOZbAig7meRhoreMMw6Hj4EDvUjeDCE4Z7SOjhWFpgpLUDM/35zBlAdXp4zRDH73TmPKihHxee5yDC7vI8dKFgnfCUPUzY/wiOr/GJZijJV5VrIJzNcNCcAzazuqQ4v9aH/gIig3khBpuMxspIpLKiUVd1NfL3whUKZeVdl75XeGFxZubl4xlGduxnKyk6oqyejyHVVZjbT14/+zqDF4nkFjlNJ56l04v4BBMb8hoVifPlHOenbvbajltQgx2pEUoWBXAGWzy0ubSsLZtDMj6vLbaeYVvOGD/0W3yvVad8UaMMZ7p/5pnRU3N6s1v0qU9+szlWkyhWi8vpQJDjPLJxkvJ7NxzV7nrk1rYMgq01hbJsUbD+v5hns2kaX377ZiK6NIHVVyu8ZWU3vVknPAV1NgApU/MVX6n4VvJWVkSXUhovkPIuvyIppxq+fyobDBICn82e0I5ZzVMtYBdi3ksVbE6tavKjKiu1rvrqo/T46XHC+R7nzdvO+vsxjttqFKtRHTVkFuNriOObsUtanr+lcfHvKPLv0MeuOmWKPFCh4z6jK4yvKofWS565yaxzxIO4fwAAMjZRM3QjlWzjJJPJaJGu+Z76FrFZogbHF/LkSmbOp6s+FMg/qfVMbkgsA4oEA+sdCOXNSrT+rUNkG0QhGoiJ6LUZmmI/TitLOUznWe9SKKk9mMmvIvwhfYG0fV1bWtIYylHaMc5MTVWnfrNr63Nut20nZow/FnkDFQ8tLsVb1IVN69drxaz7dbUWtPfN+PTBIXQereU6qdHwEUtbqvJo1WCynElW4wPMfHzXTnPXaShsFGy4IoKtJfZSSVW+stsJx/1V8JlstyDy71DBcUhcdRuioBF+Bm2a+e0b1Hl9hJXfRNb3DTRtaZ7hPWy3QYm6kRA778wRUyO0ANGdhMpnSoH9wZUVRE33hmApGYqifaRpaZxjZYViKxvRdZMqUZYZVWgWU5s/KX3bu1Bk9e1LsOBmVeJ7sRw1EYVnvC2cms8pYgy0j+yk5QD+85ptCVJYNEKSuDDer5jMTV2M1z0ldfc+LYQhtWZO/r57Cx6dIpnm9WK5OalSt57GuTrG6V9L8yyLPPitrXzMNUaDM67PS910lVqtIZv5iWiF1bVTlPJeqU1Qful7w2bnFP8/3aBgDQ0GLcnwFnnlZ/Hl1Yr5FSVZzjErJzJfbYacPjTcGnoaRCkXLyw1ORIsFp0rdLqvFqrTfZ729rFEK6twrqSeQ/diXQ3k2KG/ZBTInhfbPvOhKsddrf885EPaYiiKVs7hT2Uofqq9vTyWPVKOSXNV7uqXarA/qiBWg+i0Fq2RRtooTUjZv31xNgqIoynpvBBER0YZSlWcW2p3FYoFlPuuTiIg2JgapREREREREZBuO9d4AIiIiIiIiIg2DVCIiIiIiIrINBqlERERERERkGwxSiYiIiIiIyDYYpBIREREREZFtMEglIiIiIiIi22CQSkRERERERLbBIJWIiIiIiIhsg0EqERERERER2QaDVCIiIiIiIrINBqlERERERERkGwxSiYiIiIiIyDYYpBKRvURC8B+OrPdWUNVEEPKHwDNKREREpaqtIDU6jKDfD7/+L4jhaKWFRRCq8P2Rw34Eh6RKP7isz5eGglX4LLWcShr+Fb0vOoygTRql0lAQ/oq3JYKQvxrn+tqxuuNZighCR7ox8KhP+0QMHzRe81b/1vA6rlrAXPn9xqjS69h6X9VjG8pXXHQYwYPDKL/2m/fVh0AACJW53Sv3vsqOneU+V+veFAkVqZOlfEb17i+lfSdd/c6Cir8r1+o7JOe8hRCxOJdlXytVp9YNq7pVre+jfOemOu0bExu1CYiodrjWewPK0tmHgXBfCS+UMHwwiEGLRo0vEEbAl/v7LJEQ/IZvo5LeU6is13oRfrSSAiIYHAEQDWG4ZwB9nQVeGh1G8OCg3qAUDwxgYL9YsHRpKIjgUYsvo55Awe2NHPYjdDz396V8Zvb2jqI/HEClh7YU4v4BhPeX9trIYT8Gu4z74EMgHK74sy2PU5Fja3flHM9KSEODwMMDWKlFIvoOhZH/qpcwfDCU89uq1FEAkdciAHqLvSpP49+HQLn123QdAyL6DxW69vPf69a8rkVC8B/pxsChPhQ9or5+9B8JYTjqM+1L9vaXf6+NIOQfQe8a30dy+AKwvjVk6kJPb5HtkTB8cBDdhwbQ/XQQQeSvl5HDfozsyz4u0lAQIQTKqsvS0CCkTrWzoBr1otLvj8y7s+ttZ39p9ajINhSrP9K4lHMPkIaCZd8XViez78izz9FhBA+OoPdQGAGL6z5y2A//4cLHeHXnplz5Oz9W1XYiog2vNoLUnIabSc4XnFXDNtOY3V7ksyIh+EMS+g+F1cZUdBjBg36EKrzZSuMSxK4Kvvz0IG4AvugwggeDQL7Gaub4iIEwBnyAlnko1PABrAMONVArtL0SpLHcL5/IYT8Gy9i9jcLc+CmlgbFxRTB4VERv5f0COt+jYWQXozYMR7eXcS1GhzF4HAAGLYKrnE8sPyC1UnJHnCZPEB8JwX9EggQUbfhHQn74825PfxnbUoiIvodFBI9L6Mu6HoIY7AogfMhX2b02KlWQ6V0LKw118cAAwgXuu2oHiqHz4dAAcDAI/9HyGvXSUfU9GrGrwNZpHXCHxKrdg6y+P9TguViNywRp2nnPbF/wIMoLVCMhBEd6MRDW3pPJuBfs1FlnWgAa6Id4JM9rxkdXXacrPzcVf2KRzjQiovLVRpBq2XDTemJF9D9W/ItNGgphsKsfYVMv/uBBNbjSGgeR1yIQDxhutp19CBwYQfC1COAr90s9gsGjEqTOCKT9pX75ao0dQ6O3sw8DYVEd/mPRGJaOj0DqCWQCVEAdXueD/0g5n4tMo9yH/kevVo9yYaX0kmdnzHwIHOrG4NNAQGvsmLI9lmVuN3SCHDc2FjOBzcO5AbkxS1dOw9J3oB/iwRFE4NPPYfY2WQQ7Flny/rHgSnYlOozg00Dg4VEEQ5GsMgqXbc7C5XufYR+tsmemkQc5WYnMaIIAQtnnyryfkRFEenoRyDpiBTKFK5+IoqFUZFDNXJR8CUsYfnoQUk8A4X0j8D89DF8FmZ7SFRuKqTYCy7oDdYklbW/e+pupV9YkDB+RICKC4GER4QNSTga42/yW7d2A8Z6Uud8EwpkPr+ReOz4KqbN7Dc9LIdbnTBqxvu9q9w1fIIzwo8a/aB0Nkbz3eCvG6yxfJ6F2HRtf63s0jIHMsP2CGcRICP4QsrdFz/JZBCTRYYSOiugPZ5enB9NaFi8awUjUh8ChlT30PRqAzz+ISLSvxEBHwvCRCHwPBwzH2Yf+A4MIHo2gz6adgNK4iEB4AGJ0GCP5XuQLIBzW6oLVn8MIl7t7pZ4bIiIbqY0gVWNqDJeWvTD02ubchM29fxKkMRG9B7Jv5GJPL8Sj2YFFSZt7OIRITwABhNSGXJEvAa1BYf0llBl6mpk/Y2xcSGMSfPtMb/D1whcq80v/6UHgQJkN4bzUL9lKe1jVBp0PgbC2PZn5W8b9HgpmXhMwvCYEKV/2JzqMUFbPu0btBMkd7mtmqEtltxLylDgURPCoqO+nNBRE8OCwIQiMIHRQPS9hw34HjwO+fcaSRhA60ouB8EqjrVjZ0lAII70WWZ+8xynf9mNl5EHmGPnHTNfb8RBCPSvHLXc/C406WG0vfQShUAS+QKDkYCZyODMc71EfAB8GxoNFMj1afTcoawhjaUPL1yJrWEkmVa07AQzslxDyh+Af68dAOGzIaFmETJ0+9CK0ck+yCDDF7SIwUnp2VBqXgNxwOL9OESIGc89V1muKnDfD95CWNc0afptZO0ECcoLD3Ox+CHhMq9v564DVORIPFNrRTADd2W95HauZtsy1ejTP96ivH/2dQYwY+gzUDtH+nGtx5V6TW05OIDw+CilnOLQPvT0hDJoy7XllAt1+04dV+l1dnAixCxgsdK2UcJ8SS+7oXt1UE6Oyzg0AsUvMydLnbB2H8RLRVVADQaqxt1q9cfuy/uZHSP9b9k04q+e6pBuqhNGoRZOnU4SI0TK22TjnxAcRA+g/GIT/YOHGT0nz/XLmQqnDb7HP/EIR3WU06iOHM1npnmrlJFYx/DE6jMHjIvoPGd+fyQ6HBhHZH4APEiIjEnyBgdzXFBpG1dVbedZFy8ZV3OO8EnBqQfXg0ex9EPcH0D8SxGCkL5O5HFEbmoaGhPaarBoZBXqz6lbxsqUxCeI+i6NR8nHSPiNsaJiJ6HusHyMHzUNk///27ia3bZ2Lw/j/fVdhBgGyByG48B7SQXzX4EFhdAnxyFmD0EHWcN1BsgfjItAeAgSRd9E7oGRTEklRip2o7fMbprUsf0k8PIeHmVbO+2a+LJT92DXKUYPn8y42ECiUpQ2q6qx1K1AxXzbaaK31chsYoJ2o3NeztGHMgDBtmUHfel/vkZ1JPyPJaPXwkFiuaWQuS+3eJNXfi3a29+JKZr/Vugpy44GYvQZov62+093MZrcE9gSD/+B61Mrgku2Up+yuSV1Hy31TXmff52+UzY22h8x2dc392y0rqQL26/SJOzux4Hm2octifBn0wffqdN1JhhPrW9bkE8uAjvhspHP2HXjfxDWAP88vEKTGbraBf6sv9gMvzsHAbtC6J1/m1g4GzJh1N73sDG/3thwIuEPnu686cMbWvn6UtxeVs7my9jlkc2XaqtxLmpV62RtdtdcYX0RK/7K5sjzvnSwIKf4tZOaLQY9rzkgbLdxmGPtSpdrZAPt57t5KKTN2QNcJGH2fuZFx36+EY2d/ZcrzZnZaUvr75H0O2YzZbKsXNxjpDCiNrmZl9VlK4ckW+291WX6Iv2zxmE1a3e6UL/N4IFkN6kJrCu3grSrDO1cDkqphyvH3N26dXTzgTymhbsu0elioDFSljB7Av7bWzb69HCYI9LhWtyWWo540Wr1o/c+TyuymcT84yzr5TjWPy599qsvzfY28JEne73ZCVi6h3Pe9GpnJfaGdFlWw7Nw3GhPHCce8MNJr9+/laylF1tU2vL2oDN7d3OtK97nLvPk5ZdeZyudWwP+hjZQqJ5vcGP/ZnNeJJvIA/DGmHaRGBwR+9uaScrF31kIdHy1zWXZKjuoSp7SLa3h2ujmQaz3/6NdqZC6N7ULqlhIVOxWzuRYpHYGdkrDN7TrepOlwut2yp+xEWTB/YCbVgc3LmySVKmU0HxRMZ8esz3L7IetwOgPJTjmbp0xUx6xI+Tqy8VbCsY9rn9pNWxLfp+B6wGYwnCY02dL+PbVLJAPcLMLXTNKNVq/LeKDalyGz/8kzMWZ0NfO/14MGZtVkWHfoXTYDfkeoi7Ek6bn6jV6vWut8Q9coW6Z7FfvtJ2VefddWj4srmf1LM5vu/PbjE4OF8rzU4n4lMyu1+Get/DELBxanylIlfUd83peFG1buO3YSwvM9rSacdoVk3nbSvC6ZT8vCZ189QdLFlcxzuyS30O65u9QmKDYZ2Z6wa5xQ+/Oz3aHDwdwJ38tUCWOBeBA97rOJXksCz9ObEa37JXwbclwAsKYdpI4eEFjN1v3NrQrKx7XWr4tuRuB2oe2ds+XL/kn5D2lxP+KW03uzcW5mgdeastWA+bJQtsyVF85r7VuDVw3a1MoamS8bPVzkWt7lMg++x48pERzGXZfWavNwzJ5Wa8t27R4r0Rl2y04W2Czb+vHjZsztd6suVz78NTqgMZfG04gllnVsPGPCYMlZ65w3M3a975MnyHDPb0zpbjkosA2ofnftEsm6YUy9FvZ0Un4TCYHb7Eabe2ndyqzFyn3bGUzfdiX27/GnHiq4xcXxzDzfPbvm/6oOrmY3Wlwvj1uiJF9rq7Xnt5uqKqEuMV8rvwi8V2cowR2+9VDKPqXdxw7PUscmIYZu11OX/D7p6lWaf2v9NltbrDW+f6Ftxtqfu5z+DUMmHX3XnpN3ez7//a6jZ9xjxy4pfbvVOwaJr5lOZSeP/dUu9vts9k+jjgzgzzbtILWSMsM3dN1WMEM1u9Fm9aKlc8FtrrkbIHqzsVmLUFnSwCfS6n6h9d1xtt3cbuKdTGODNue8gzf8eobUVw46u9HmPWmDUNOnRnY40+LWaJ3nKupB0P7JdredpTRSqR6ferOXqvLYdpA5QDU42z6Wyr6YKtDeRb8Ddu1m3sgS2fXDip9DwrEbqiYp3Yxd5H1ysiyNiYJAU5PeU/grU/5v+ucRPlD4d+eutzp1E6JxgVtL/bv07K9cFsWJz3n8HqPxdWuBa9u+0E7zRiCSfa3W61cXrpRrbR3QNEqy6+u2ez3wiV23hnAmQjpzD1Vzu+49qW+daOyeEK8g8GYsT6SeBN3OFtoMuVdFOi+3P3fbrGrAKwhde7xNmU4hsYLjFBKy/iY14xyZ/F7/MFp4JmhDE12Rs/n4QB7AH+GXCFL7ZviK70ttAxmYZplUprl02P+wfA4EHO/M4B703myygeWqEWfJFHyWaiuBKpvrBqDm9rgm9NjMZnl43GqVKQ81TmqwTUDM3MkiXxq7Lio0fK0CubzVlXbQK2tkUz2vs/sIrR5Wh5JcSTK3Ky1e8572ICnHduwL7fZG884+wt336cjo5u+slYG1zaHK6xGBfDZXlh/LAKOTUyPX8QWdoBx0VOBW8Qe4hRoVxLOFVvMhJzhUYpnuWN6GXMMHuMH7wamu2wnKN7uti3cgn63ssolR25ZNUab5tVReZv5r3nPe+J7aruN2ixjti2MTuIb3BjbVtadai3zoKl1VEHXFy3aL95bqn9qgzuDpDteZwf06AODj/RJB6nscZ7Nt1sAtc90o17qvmcp7OE1AprHz6NR01/Ed1tl2AlB/trwdGBTfl4H1rJ5AoJWNsU1CqgHXdd29tPFsxwZYzhYbg7L4rVI33+vsDlBaGZj9k9Y/fAFl62yjx+4O2uosVt/71JCt9LDKG5UHocZD/Wxgva3G9mfvpun65Eme1I6a5WNwd8WJs/uqLr79HgPjugGPt7y4yKutxH6P1xramu3Amawpvi+1a3S3l/K7pfJzbFmSrezWUEnX4j842+dOwM0yZbNSxXOu5fLzGxmVj2utd3PGSAC8fusg1VyaTsOJ4q5w1mFU6y/PFai2tlPw+aX3G+t5bdHGRAlBweBW+EWu/Nk017Rlq2M5Xt/xPOd0c98Nk1KDp1AJXvvxw16n3c+2vF4dM4aR8urwscODtuj5uO+n+7fYG+J7jIxu7jee515Id252BEMML/sMNXxyjnmKa1Sx1fZyoYcBWW47ySKdvDC777qVkkE7NB3z7Zt5jq6qtqlfHutyfa4J0WKrreb+Ut+LK5lWJlXPa7ttVnUumwdjt4o7w73ufNul+PR3GU/+rVTrz4P6vqNJn3W9Bto4+1i7/2zL0n3Hiu6drBN3P/b2NQAA6X8/f/78+dknAYzSaQrxO+6/5ilT+4CuxJ/Ksx4Tv7Lxa1/xiQ4ZuN/xugoAmDqCVAAAAADAZPz/s08AAAAAAIAaQSoAAAAAYDIIUgEAAAAAk0GQCgAAAACYDIJUAAAAAMBkEKQCAAAAACaDIBUAAAAAMBkEqQAAAACAySBIBQAAAABMBkEqAAAAAGAyCFIBAAAAAJNBkAoAAAAAmAyCVAAAAADAZBCkAgAAAAAmgyAVAAAAADAZBKkAAAAAgMkgSAUAAAAATAZBKgAAAABgMghSAQAAAACTQZAKAAAAAJgMglQAAAAAwGQQpAIAAAAAJoMgFQAAAAAwGQSpAAAAAIDJIEgFAAAAAEwGQSoAAAAAYDIIUgEAAAAAk/EfFPbVsq6wd8wAAAAASUVORK5CYII=)"
      ],
      "metadata": {
        "id": "cYnUfgSJQ8F4"
      }
    },
    {
      "cell_type": "code",
      "source": [
        "import numpy as np\n",
        "import matplotlib.pyplot as plt\n",
        "z = np.arange(-5, 5, 0.1)\n",
        "phi = 1 / (1 + np.exp(-z))\n",
        "plt.plot(z, phi)\n",
        "plt.xlabel('z')\n",
        "plt.ylabel('phi')\n",
        "plt.show()"
      ],
      "metadata": {
        "colab": {
          "base_uri": "https://localhost:8080/",
          "height": 279
        },
        "id": "OybinTRXRdjl",
        "outputId": "0a0f8c2a-e848-40fe-b4f8-4ec87beb42d7"
      },
      "execution_count": 25,
      "outputs": [
        {
          "output_type": "display_data",
          "data": {
            "image/png": "[encoded data removed]",
            "text/plain": [
              "<Figure size 432x288 with 1 Axes>"
            ]
          },
          "metadata": {
            "needs_background": "light"
          }
        }
      ]
    },
    {
      "cell_type": "code",
      "source": [
        "# 넘파이 배열의 불리언 인덱싱(Boolean indexing)\n",
        "\n",
        "bream_smelt_indexes = (train_target == 'Bream') | (train_target == 'Smelt') # 도미 or 방어인 행을 리턴\n",
        "train_bream_smelt = train_scaled[bream_smelt_indexes]\n",
        "target_bream_smelt = train_target[bream_smelt_indexes]"
      ],
      "metadata": {
        "id": "yyRn1uA7SEx2"
      },
      "execution_count": 26,
      "outputs": []
    },
    {
      "cell_type": "code",
      "source": [
        "from sklearn.linear_model import LogisticRegression\n",
        "lr = LogisticRegression()\n",
        "lr.fit(train_bream_smelt, target_bream_smelt)"
      ],
      "metadata": {
        "colab": {
          "base_uri": "https://localhost:8080/"
        },
        "id": "vur3pFxLSuw8",
        "outputId": "c746bce4-cb62-47f0-9a47-76dbc4a36060"
      },
      "execution_count": 27,
      "outputs": [
        {
          "output_type": "execute_result",
          "data": {
            "text/plain": [
              "LogisticRegression()"
            ]
          },
          "metadata": {},
          "execution_count": 27
        }
      ]
    },
    {
      "cell_type": "code",
      "source": [
        "print(lr.predict(train_bream_smelt[:5]))"
      ],
      "metadata": {
        "colab": {
          "base_uri": "https://localhost:8080/"
        },
        "id": "pvJFW0FAS3E1",
        "outputId": "04791efe-e895-44a5-b6ac-87fc751dc6c6"
      },
      "execution_count": 28,
      "outputs": [
        {
          "output_type": "stream",
          "name": "stdout",
          "text": [
            "['Bream' 'Smelt' 'Bream' 'Bream' 'Bream']\n"
          ]
        }
      ]
    },
    {
      "cell_type": "code",
      "source": [
        "print(lr.predict_proba(train_bream_smelt[:5]))\n",
        "\n",
        "# 0번열이 음성클래스, 1번열이 양성클래스의 확률"
      ],
      "metadata": {
        "colab": {
          "base_uri": "https://localhost:8080/"
        },
        "id": "XXQqPfCaS5Tv",
        "outputId": "9bbdbc59-a8e9-45c3-e14f-f00c1e4f424d"
      },
      "execution_count": 30,
      "outputs": [
        {
          "output_type": "stream",
          "name": "stdout",
          "text": [
            "[[0.99759855 0.00240145]\n",
            " [0.02735183 0.97264817]\n",
            " [0.99486072 0.00513928]\n",
            " [0.98584202 0.01415798]\n",
            " [0.99767269 0.00232731]]\n"
          ]
        }
      ]
    },
    {
      "cell_type": "code",
      "source": [
        "print(lr.classes_) # Smelt 가 양성클ㄹ새ㅡ"
      ],
      "metadata": {
        "colab": {
          "base_uri": "https://localhost:8080/"
        },
        "id": "7AqoMoAwS9Yu",
        "outputId": "57614e82-f148-46c6-d9a9-ce4bad889f27"
      },
      "execution_count": 32,
      "outputs": [
        {
          "output_type": "stream",
          "name": "stdout",
          "text": [
            "['Bream' 'Smelt']\n"
          ]
        }
      ]
    },
    {
      "cell_type": "code",
      "source": [
        "print(lr.coef_, lr.intercept_) \n",
        "\n",
        "# 로지스틱 회귀 모델 학습 방정식의 파라미터"
      ],
      "metadata": {
        "colab": {
          "base_uri": "https://localhost:8080/"
        },
        "id": "Cfbu8BuXTEeg",
        "outputId": "5a203e72-b03f-4378-8190-0f87756a8f88"
      },
      "execution_count": 34,
      "outputs": [
        {
          "output_type": "stream",
          "name": "stdout",
          "text": [
            "[[-0.4037798  -0.57620209 -0.66280298 -1.01290277 -0.73168947]] [-2.16155132]\n"
          ]
        }
      ]
    },
    {
      "cell_type": "code",
      "source": [
        "# z값을 출력하는 decision_function\n",
        "decisions = lr.decision_function(train_bream_smelt[:5])\n",
        "print(decisions)"
      ],
      "metadata": {
        "colab": {
          "base_uri": "https://localhost:8080/"
        },
        "id": "xQz7A4dpTL4A",
        "outputId": "7b2ef7d1-56ed-4f26-e610-e35c706f5742"
      },
      "execution_count": 36,
      "outputs": [
        {
          "output_type": "stream",
          "name": "stdout",
          "text": [
            "[-6.02927744  3.57123907 -5.26568906 -4.24321775 -6.0607117 ]\n"
          ]
        }
      ]
    },
    {
      "cell_type": "code",
      "source": [
        "from scipy.special import expit\n",
        "print(expit(decisions))"
      ],
      "metadata": {
        "colab": {
          "base_uri": "https://localhost:8080/"
        },
        "id": "84qe62UGTZVi",
        "outputId": "94eee8b3-ff79-46dc-e692-2883263f5fb4"
      },
      "execution_count": 37,
      "outputs": [
        {
          "output_type": "stream",
          "name": "stdout",
          "text": [
            "[0.00240145 0.97264817 0.00513928 0.01415798 0.00232731]\n"
          ]
        }
      ]
    },
    {
      "cell_type": "markdown",
      "source": [
        "- 이진 분류를 위해 2개의 target sample을 추출하고, 이를 이용하여 로지스틱 회귀 모델을 훈련\n",
        "- predict_proba() 메서드로 음성, 양성클래스에 대한 확률 출력\n",
        "- decision_function() 메서드로 양성클래스에 대한 z값을 계산"
      ],
      "metadata": {
        "id": "sJ1PZfWVTjzM"
      }
    },
    {
      "cell_type": "markdown",
      "source": [
        "## 로지스틱 회귀를 이용한 다중 분류 수행\n",
        "\n",
        "- LogisticRegression 클래스는 기본적으로 반복 알고리즘을 사용, max_iter 매개변수를 이용하여 반복횟수를 지정하며, 기본값은 100이다.\n",
        "\n",
        "- 충분한 훈련을 위해 반복 횟수를 1000으로 지정.\n",
        "\n",
        "- Logistic Regression의 Regularization\n",
        "기본적으로 릿지 회귀아 같이 계수의 제곱을 규제 (L2)\n",
        "릿지 -> alpha, 로지스틱 -> C... alpha와 반대로 작을수록 규제가 커지게 됨. C의 기본값은 1. 규제 완화를 위해 20으로 설정"
      ],
      "metadata": {
        "id": "gNPOdbTWT9Ta"
      }
    },
    {
      "cell_type": "code",
      "source": [
        "lr = LogisticRegression(C=20, max_iter = 1000)\n",
        "lr.fit(train_scaled, train_target)\n",
        "print(lr.score(train_scaled, train_target))\n",
        "print(lr.score(test_scaled, test_target))"
      ],
      "metadata": {
        "colab": {
          "base_uri": "https://localhost:8080/"
        },
        "id": "Xa79AL_1UA93",
        "outputId": "95e5e077-aa4e-4241-9625-6a7501cbb6b5"
      },
      "execution_count": 38,
      "outputs": [
        {
          "output_type": "stream",
          "name": "stdout",
          "text": [
            "0.9327731092436975\n",
            "0.925\n"
          ]
        }
      ]
    },
    {
      "cell_type": "code",
      "source": [
        "print(lr.predict(test_scaled[:5]))"
      ],
      "metadata": {
        "colab": {
          "base_uri": "https://localhost:8080/"
        },
        "id": "HSpBrqd2UncX",
        "outputId": "da506ece-72cb-4fed-c223-354857763a44"
      },
      "execution_count": 39,
      "outputs": [
        {
          "output_type": "stream",
          "name": "stdout",
          "text": [
            "['Perch' 'Smelt' 'Pike' 'Roach' 'Perch']\n"
          ]
        }
      ]
    },
    {
      "cell_type": "code",
      "source": [
        "proba = lr.predict_proba(test_scaled[:5])\n",
        "print(np.round(proba, decimals = 3))\n",
        "print(lr.classes_)"
      ],
      "metadata": {
        "colab": {
          "base_uri": "https://localhost:8080/"
        },
        "id": "gdk7TCNOUqlE",
        "outputId": "22835a56-030e-487f-fd60-0ef0a0d32e44"
      },
      "execution_count": 42,
      "outputs": [
        {
          "output_type": "stream",
          "name": "stdout",
          "text": [
            "[[0.    0.014 0.841 0.    0.136 0.007 0.003]\n",
            " [0.    0.003 0.044 0.    0.007 0.946 0.   ]\n",
            " [0.    0.    0.034 0.935 0.015 0.016 0.   ]\n",
            " [0.011 0.034 0.306 0.007 0.567 0.    0.076]\n",
            " [0.    0.    0.904 0.002 0.089 0.002 0.001]]\n",
            "['Bream' 'Parkki' 'Perch' 'Pike' 'Roach' 'Smelt' 'Whitefish']\n"
          ]
        }
      ]
    },
    {
      "cell_type": "code",
      "source": [
        "# 다중 분류의 경우의 선형방정식\n",
        "\n",
        "print(lr.coef_.shape, lr.intercept_.shape)"
      ],
      "metadata": {
        "colab": {
          "base_uri": "https://localhost:8080/"
        },
        "id": "vw80Rt7eUun9",
        "outputId": "12a68ba6-fdd8-49be-c55f-ef68a7846c51"
      },
      "execution_count": 43,
      "outputs": [
        {
          "output_type": "stream",
          "name": "stdout",
          "text": [
            "(7, 5) (7,)\n"
          ]
        }
      ]
    },
    {
      "cell_type": "markdown",
      "source": [
        "- 이진 분류에서는 시그모이드 함수를 사용해 z를 0과 1로 변환\n",
        "- 다중 분류에서는 소프트맥스(Softmax)함수를 사용하여 7개의 z값을 확률로 변환한다.\n",
        "\n",
        "- e_sum = e^z1 + .. + e^z7"
      ],
      "metadata": {
        "id": "8L5-kGToU_H0"
      }
    },
    {
      "cell_type": "markdown",
      "source": [
        "![image.png](data:image/png;base64,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)"
      ],
      "metadata": {
        "id": "arF8PryZVgMh"
      }
    },
    {
      "cell_type": "code",
      "source": [
        "decision = lr.decision_function(test_scaled[:5])\n",
        "print(np.round(decision, decimals = 2))"
      ],
      "metadata": {
        "colab": {
          "base_uri": "https://localhost:8080/"
        },
        "id": "3d2zfapmVhaK",
        "outputId": "03b93b48-2fb9-4454-ba59-7b28dbc87bda"
      },
      "execution_count": 44,
      "outputs": [
        {
          "output_type": "stream",
          "name": "stdout",
          "text": [
            "[[ -6.5    1.03   5.16  -2.73   3.34   0.33  -0.63]\n",
            " [-10.86   1.93   4.77  -2.4    2.98   7.84  -4.26]\n",
            " [ -4.34  -6.23   3.17   6.49   2.36   2.42  -3.87]\n",
            " [ -0.68   0.45   2.65  -1.19   3.26  -5.75   1.26]\n",
            " [ -6.4   -1.99   5.82  -0.11   3.5   -0.11  -0.71]]\n"
          ]
        }
      ]
    },
    {
      "cell_type": "code",
      "source": [
        "from scipy.special import softmax\n",
        "proba = softmax(decision, axis = 1) # 각행에 대해 softmax 함수 통과\n",
        "print(np.round(proba, decimals = 3))"
      ],
      "metadata": {
        "colab": {
          "base_uri": "https://localhost:8080/"
        },
        "id": "074gEysHV3-B",
        "outputId": "f0696058-0911-4dfc-d93b-bdbd2527509a"
      },
      "execution_count": 45,
      "outputs": [
        {
          "output_type": "stream",
          "name": "stdout",
          "text": [
            "[[0.    0.014 0.841 0.    0.136 0.007 0.003]\n",
            " [0.    0.003 0.044 0.    0.007 0.946 0.   ]\n",
            " [0.    0.    0.034 0.935 0.015 0.016 0.   ]\n",
            " [0.011 0.034 0.306 0.007 0.567 0.    0.076]\n",
            " [0.    0.    0.904 0.002 0.089 0.002 0.001]]\n"
          ]
        }
      ]
    },
    {
      "cell_type": "markdown",
      "source": [
        "# 04-2 확률적 경사 하강법 (Stochastic Gradient Descent)\n",
        "\n",
        "- 이전에 훈련한 모델을 버리지 않고 새로운 데이터에 대해서만 조금씩 더 훈련하는 방법\n",
        "- 점진적학습 or 온라인 학습\n",
        "- 경사를 따라 내려가는 방법. 가장 빠른 길은 경사가 가장 가파른길. 가장 가파른길을 찾아 내려오지만 조금씩 내려오는 것이 중요하다.\n",
        "\n",
        "\n",
        "<b> 확률적 </b> : 경사 하강법으로 내려올 때 가장 가파른 길을 찾는 방법은 훈련 셋을 이용하여 가장 가파른 길을 찾는다. 전체 샘플을 사용하지 않고 딱 하나의 샘플을 훈련 셋에서 랜덤하게 골라 가장 가파른 길을 찾는다.\n",
        "\n",
        "- 이처럼 훈련세트에서 랜덤하게 하나의 샘플을 고르는 것이 ** 확률적 경사 하강법 ** 이다."
      ],
      "metadata": {
        "id": "l77rclXDWDeM"
      }
    },
    {
      "cell_type": "markdown",
      "source": [
        "- 에포크(epoch) : 훈련 세트를 한번 모두 사용하여 경사를 내려가는 과정\n",
        "- 미니배치 경사하강법 : 무작위로 몇개의 샘플을 선택해서 경사를 내려가는 방법\n",
        "- 배치 경사 하강법 : 극단적으로 한번 경사로를 이동하기 위해 전체 샘플을 사용하는 방법. 컴퓨팅 자원을 많이 소모하게되어 시간이 오래 걸릴 수도 있다.\n",
        "\n",
        "- 만족할 만한 위치에 도달하지 못했을 경우 훈련 세트를 다시 채워서 도달할 때 까지 재수행."
      ],
      "metadata": {
        "id": "d7WgWSmvXZGI"
      }
    },
    {
      "cell_type": "markdown",
      "source": [
        "### 가장 빨리 내려가야 하는 산, 손실함수(loss_function)\n",
        "\n",
        "- 어떤 문제에서 머신러닝 알고리즘이 얼마나 잘못되었는지를 측정하는 기준. 손실함수의 값이 작을수록 좋다.\n",
        "\n",
        "- 비용함수(Cost function) : 샘플 하나에 대한 손실을 정의하는 손실함수, 훈련 세트에 있는 모든 샘플에 대한 손실 함수의 합.\n",
        "\n",
        "- 손실함수는 미분 가능해야 함. (Continuous)"
      ],
      "metadata": {
        "id": "ZMcxJ1OkYBR6"
      }
    },
    {
      "cell_type": "code",
      "source": [
        ""
      ],
      "metadata": {
        "id": "h-pnzkZBYJLW"
      },
      "execution_count": null,
      "outputs": []
    }
  ]
}