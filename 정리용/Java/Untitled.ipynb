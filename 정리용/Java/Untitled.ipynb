{
 "cells": [
  {
   "cell_type": "markdown",
   "id": "986351c0",
   "metadata": {},
   "source": [
    "# 자바의 최상위 클래스 Object"
   ]
  },
  {
   "cell_type": "code",
   "execution_count": null,
   "id": "44250506",
   "metadata": {},
   "outputs": [],
   "source": []
  }
 ],
 "metadata": {
  "kernelspec": {
   "display_name": "Python 3 (ipykernel)",
   "language": "python",
   "name": "python3"
  },
  "language_info": {
   "codemirror_mode": {
    "name": "ipython",
    "version": 3
   },
   "file_extension": ".py",
   "mimetype": "text/x-python",
   "name": "python",
   "nbconvert_exporter": "python",
   "pygments_lexer": "ipython3",
   "version": "3.9.7"
  }
 },
 "nbformat": 4,
 "nbformat_minor": 5
}
