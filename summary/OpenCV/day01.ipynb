{
 "cells": [
  {
   "cell_type": "code",
   "execution_count": 1,
   "id": "80579fca",
   "metadata": {},
   "outputs": [],
   "source": [
    "import numpy as np\n",
    "import pandas as pd\n",
    "import cv2"
   ]
  },
  {
   "cell_type": "code",
   "execution_count": 2,
   "id": "445272e5",
   "metadata": {},
   "outputs": [],
   "source": [
    "import matplotlib.pyplot as plt"
   ]
  },
  {
   "cell_type": "code",
   "execution_count": 6,
   "id": "0a16e983",
   "metadata": {
    "scrolled": true
   },
   "outputs": [
    {
     "name": "stdout",
     "output_type": "stream",
     "text": [
      "None\n"
     ]
    }
   ],
   "source": [
    "img_path = 'C:\\Users\\user\\Desktop\\TodayLearn\\TiL\\summary\\OpenCV\\image'\n",
    "# image = cv2.imread(\"C:/Users/user/Desktop/TodayLearn/TiL/정리용/OpenCV/image/lena.bmp\", cv2.IMREAD_GRAYSCALE)\n",
    "image = cv2.imread(\"./lena.bmp\", cv2.IMREAD_GRAYSCALE)\n",
    "print(image)\n",
    "# plt.imshow(image)\n",
    "\n",
    "# cv2.imshow(\"lena\", image)\n",
    "# cv2.waitKey(0)\n",
    "# cv2.destroyAllWindows()"
   ]
  },
  {
   "cell_type": "code",
   "execution_count": null,
   "id": "b8b98a03",
   "metadata": {},
   "outputs": [],
   "source": [
    "src = cv2.imread()"
   ]
  },
  {
   "cell_type": "code",
   "execution_count": 8,
   "id": "e089ac9b",
   "metadata": {},
   "outputs": [
    {
     "name": "stdout",
     "output_type": "stream",
     "text": [
      "C:\\Users\\user\\Desktop\\TodayLearn\\TiL\\정리용\\OpenCV\n"
     ]
    }
   ],
   "source": [
    "!cd"
   ]
  },
  {
   "cell_type": "code",
   "execution_count": null,
   "id": "d5a5ab44",
   "metadata": {},
   "outputs": [],
   "source": []
  }
 ],
 "metadata": {
  "kernelspec": {
   "display_name": "Python 3 (ipykernel)",
   "language": "python",
   "name": "python3"
  },
  "language_info": {
   "codemirror_mode": {
    "name": "ipython",
    "version": 3
   },
   "file_extension": ".py",
   "mimetype": "text/x-python",
   "name": "python",
   "nbconvert_exporter": "python",
   "pygments_lexer": "ipython3",
   "version": "3.9.7"
  }
 },
 "nbformat": 4,
 "nbformat_minor": 5
}
