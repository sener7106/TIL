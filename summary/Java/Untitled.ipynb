{
 "cells": [
  {
   "cell_type": "markdown",
   "id": "986351c0",
   "metadata": {},
   "source": [
    "# 자바의 최상위 클래스 Object\n",
    "\n",
    "## toStirng() 메서드\n",
    "\n",
    "- 객체의 정보를 String으로 바꾸어서 사용할 때 쓰임\n",
    "- String이나 Integer 클래스는 이미 재정의 되어 있음\n",
    "- toString()메서드 재정의의 예\n",
    "\n",
    "## equals() 메서드\n",
    "\n",
    "- ( == 는 주소값을 비교함)\n",
    "- 두 인스턴스의 주소 값을 비교하여 true/false를 반환\n",
    "- 재정이 하여 두 인승턴스가 논리적으로 동일함의 여부를 구현함\n",
    "- 인스턴스가 다르더라도 논리적으로 동일한 경우 true를 반환하도록 재정의 할 수 있음\n",
    "(ex 같은 학번, 같은 사번, 같은 아이디의 회원..)\n",
    "\n",
    "## hashCode() 메서드\n",
    "\n",
    "- hashCode() => 주소값\n",
    "- 자바에서는 메모리를 관리하는 방법이 hash방식. 해쉬키값 -> index를 알 수 있음\n",
    "- JVM이 메모리를 관리하는 방식은 hash\n",
    "- hashCode()는 인스턴스의 저장 주소를 반환함\n",
    "- 힙메모리에 인스턴스가 저장되는 방식이 hash\n",
    "- hash : 정보를 저장, 검색하는 자료구조\n",
    "- 자료의 특정 값(키 값)에 대한 저장 위치를 반환해주는 해시 함수를 사용\n",
    "\n",
    "<B>index = hash(key) </B>\n",
    "\n",
    "## clone() 메서드\n",
    "\n",
    "- 객체의 원본을 복제하는데 사용하는 메서드 (prototype)\n",
    "- 생성과정의 복잡한 과정을 반복하지 않고 복제 할 수 있음\n",
    "- 생성자는 초기화 -> 초기값을 가지고 생성 \n",
    "- clone()메서드를 사용하면 객체의 정보가 동일한 또 다른 인스턴스가 생성 되는 것이므로,\n",
    "  객체 지향프로그래밍에서의 정보 은닉, 객체 보호의 관점에서 위배 될 수 있음.\n",
    "- 해당 클래스의 clone()메서드 사용을 허용한다는 의미로 cloneable 인터페이스를 명시."
   ]
  },
  {
   "cell_type": "markdown",
   "id": "6ee718ee",
   "metadata": {},
   "source": [
    "# String, StringBuilder, StringBuffer, TextBlock\n",
    "\n",
    "### String 클래스\n",
    "\n",
    "- String 선언하기는 new 키워드와 바로 생성하는 방법이 있다.\n",
    "- 힙 메모리에 인스턴스로 생성되는 경우와 상수 풀(constant pool)에 있는 주소를 참조하는 두가지 방법\n",
    "- 힙 메모리는 생성될때마다 다른 주소 값을 거치지만, 상수 풀의 문자열은 모두 같은 주소값을 가짐.\n",
    "- String str1, str2 = new String() 키워드로 생성되면 둘의 주소는 다르지만, 상수 풀로 생성된 경우는 같다.\n",
    "\n",
    "- 한번 생성된 String은 불변(immutable)\n",
    "- String을 연결하면 기존의 String에 연결되는 것이 아닌 새로운 문자열이 생성(메모리 낭비 발생 가능)\n",
    "- ex(str1 + str2, str1.concat(str2))..\n",
    "\n",
    "### StringBuilder, StringBuffer 활용\n",
    "\n",
    "- 내부적으로 가변적인 char[]를 멤버 변수로 가지게 됨\n",
    "- 문자열을 여러번 연결 또는 변경 시 사용\n",
    "- 새로운 인스턴스 생성 x char[]를 변경\n",
    "- StringBuffer는 멀티 쓰레드 프로그래밍에서 synchorinization을 보장\n",
    "- 단일 쓰레드 프로그램에서는 StringBuilder 사용을 권장\n",
    "- toString()메서드로 String  반환..\n",
    "\n",
    "### Text Block 사용(JAVA 13)\n",
    "\n",
    "- 문자열을 \"\"\" \"\"\" 사이에 이어서 만들 수 있음\n",
    "- html.json 문자열 생성에 유용하게 사용할 수 있음"
   ]
  },
  {
   "cell_type": "markdown",
   "id": "02e54a70",
   "metadata": {},
   "source": [
    "# Class 클래스 \n",
    "\n",
    "- 동적바인딩을 하는 forName()\n",
    "- 자바의 모든 클래스와 인터페이스는 컴파일 후 class 파일이 생성됨\n",
    "- Class 클래스는 컴파일 된 class 파일을 로드하여 객체를 동적 로드하고, 정보를 가져오는 메서드가 제공됨\n",
    "- Class.forName(\"클래스 이름\") 메서드로 클래스를 동적으로 로드 함\n",
    "\n",
    "Class c = Class.forName(\"java.lang.String\");\n",
    "\n",
    "- 클래스 이름으로 직접 Class 클래스 가져오기\n",
    "Class c = String.class;\n",
    "\n",
    "- 생성된 인스턴스에서 Class 클래스 가져오기\n",
    "String s = new String();\n",
    "Class c = s.getClass();\n",
    "\n",
    "## 동적 로딩\n",
    "\n",
    " - 컴파일 시에 데이터 타입이 binding 되극 것이 아닌, 실행(Runtime) 중에 데이터 타입을 Binding하는 방법\n",
    " - 프로그래밍 시에는 문자열 변수를 처리했다가 런타임시에 원하는 클래스를 로딩하여 binding할 수 있다는 장점\n",
    " - 컴파일 시에 타입이 정해지지 않으므로 동적 로딩시 오류가 발생하면 심각한 장애가 발생가능."
   ]
  },
  {
   "cell_type": "code",
   "execution_count": null,
   "id": "f4de363b",
   "metadata": {},
   "outputs": [],
   "source": []
  }
 ],
 "metadata": {
  "kernelspec": {
   "display_name": "Python 3 (ipykernel)",
   "language": "python",
   "name": "python3"
  },
  "language_info": {
   "codemirror_mode": {
    "name": "ipython",
    "version": 3
   },
   "file_extension": ".py",
   "mimetype": "text/x-python",
   "name": "python",
   "nbconvert_exporter": "python",
   "pygments_lexer": "ipython3",
   "version": "3.9.7"
  }
 },
 "nbformat": 4,
 "nbformat_minor": 5
}
