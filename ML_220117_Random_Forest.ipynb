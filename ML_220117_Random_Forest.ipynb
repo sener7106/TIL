{
  "nbformat": 4,
  "nbformat_minor": 0,
  "metadata": {
    "colab": {
      "name": "ML_220117_Random_Forest.ipynb",
      "provenance": [],
      "collapsed_sections": [],
      "toc_visible": true,
      "authorship_tag": "ABX9TyPfC5COYrXX1iJwNHk50xgu",
      "include_colab_link": true
    },
    "kernelspec": {
      "name": "python3",
      "display_name": "Python 3"
    },
    "language_info": {
      "name": "python"
    }
  },
  "cells": [
    {
      "cell_type": "markdown",
      "metadata": {
        "id": "view-in-github",
        "colab_type": "text"
      },
      "source": [
        "<a href=\"https://colab.research.google.com/github/sener7106/TiL/blob/main/ML_220117_Random_Forest.ipynb\" target=\"_parent\"><img src=\"https://colab.research.google.com/assets/colab-badge.svg\" alt=\"Open In Colab\"/></a>"
      ]
    },
    {
      "cell_type": "markdown",
      "source": [
        "# Random Forest\n",
        "\n",
        "- Decision Tree의 단점을 개선하기 위한 알고리즘 중 하나\n",
        "- Decision Tree의 확장\n",
        "\n",
        "- 데이터 분류, 군집, 특성의 중요성 확인, 데이터의 예측 등에 활용\n",
        "\n",
        "- 분류 -> 지도학습, 종속 변수 있음, 예측 분류 하고 싶은 칸이 존재 , 종속 변수를 기준으로 분류\n",
        "\n",
        "- 군집(Clustering) -> 비지도 학습, 종속 변수가 존재하지 않음\n",
        "ex) 논문 1000개가 있는데 봐도 어떤 논문이랑 어떤 논문이 비슷한지 종속변수를 모르기 때문에 군집을 통해 분류해주는 작업이 필요.. 잠재적 디리클레 할당(Latent Dirichlet Allocation : LDA) \n",
        "\n",
        "## Random Forest의 특징\n",
        "\n",
        "- 여러개의 Decision Tree 결합으로 단일 트리의 결점을 극복\n",
        "- Overfitting 문제가 적음\n",
        "- 구현이 간다하고, 병렬 계산이 간편하다.\n",
        "- 기본 트리를 100개, CPU를 100개로 쪼개고 동시에 실행(Multi-Thread)\n",
        "\n",
        "\n",
        "- R.F에서의 2가지 random\n",
        "1) Dataset에서의 샘플 데이터를 random으로 선택\n",
        "2) 선택한 샘플 데이터로 Decision Tree 생성"
      ],
      "metadata": {
        "id": "Y9E0IP-DbRem"
      }
    },
    {
      "cell_type": "markdown",
      "source": [
        "- 선택한 샘플 데이터에서 랜덤으로 f개의 feature를 선택\n",
        "- 선택하는 feature의 개수는 기본으로 sqrt(전체 feature 수) , 선택으로 log2(전체 feature 수)를 방법으로 계산\n",
        "\n",
        "if sqrt(10000) ~= 13.28 칸 선택"
      ],
      "metadata": {
        "id": "MP9K4mZggYrZ"
      }
    },
    {
      "cell_type": "markdown",
      "source": [
        "## Bootstrap \n",
        "데이터에서 얻어진 통계량의 표본오차를 확률 분포의 가정을 두지 않고 논 파라메트릭(non-para-metric)하게 평가하기 위한 하나의 방법. 이 방법에서는 주어진 데이터세트를 원래의 모집단을 대표하는 독립 표본으로 가정하고, 그 자료로부터 중복을 허용한 무작위 재추출로 복수의 자료를 작성하고 각각에서 얻어진 통계량을 계산함. 계통추정론의 분야에서 계통수의 신뢰성을 평가할 목적으로 널리 사용되고 있음.\n",
        "[네이버 지식백과] 부트스트랩 [bootstrap] (해양과학용어사전, 2005. 10. 7., 한국해양학회)\n",
        "\n",
        "\n",
        "- Random Foreset 는 랜덤하게 feauture를 뽑아 Gini Impurity 를 비교한다.\n",
        "\n",
        "\n",
        "## Voting 하기"
      ],
      "metadata": {
        "id": "uhBtGP7QgYo0"
      }
    },
    {
      "cell_type": "code",
      "execution_count": 44,
      "metadata": {
        "id": "574fb6zFbM6s"
      },
      "outputs": [],
      "source": [
        ""
      ]
    },
    {
      "cell_type": "markdown",
      "source": [
        "# Random Forest - IRIS 데이터 분류\n",
        "\n",
        "- 1. 1976년 보스턴 집값 데이터 : load_boston()\n",
        "- 2. 꽃 데이터 : load_iris()\n",
        "- 3. 인디언 당뇨병 데이터 : load_diabeetes()\n",
        "- 4. 손글씨 숫자 이미지 : load_digits()\n",
        "- 5. 운동 데이터 : load_linnerud()\n",
        "- 6. 와인 데이터 : load_wine()\n",
        "- 7. load_breast_cancer()"
      ],
      "metadata": {
        "id": "LW8cIsosqSb8"
      }
    },
    {
      "cell_type": "code",
      "source": [
        "from sklearn.datasets import load_iris\n",
        "from sklearn.metrics import classification_report\n",
        "import sklearn.metrics\n",
        "import numpy as np\n",
        "import pandas as pd\n",
        "import matplotlib.pyplot as plt"
      ],
      "metadata": {
        "id": "5gjewFq1qQw8"
      },
      "execution_count": 57,
      "outputs": []
    },
    {
      "cell_type": "code",
      "source": [
        "#loading the iris ddataset\n",
        "iris = load_iris()\n",
        "# training data 설정\n",
        "X_train = iris.data[:-30]\n",
        "y_train = iris.target[:-30]\n",
        "# test data 설정\n",
        "\n",
        "X_test = iris.data[-30:] #test feature data\n",
        "y_test = iris.target[-30:] #test target data\n",
        "\n",
        "iris.keys()\n",
        "# iris.data : iris data에서 feature 데이터를 호출\n",
        "#iris.target : iris data에서 target 데이터를 호출\n",
        "# dictionary 형태로 호출"
      ],
      "metadata": {
        "colab": {
          "base_uri": "https://localhost:8080/"
        },
        "id": "fR8UbqiMqlDx",
        "outputId": "6fc243aa-4ef2-4390-c8ff-c481e2a5d907"
      },
      "execution_count": 58,
      "outputs": [
        {
          "output_type": "execute_result",
          "data": {
            "text/plain": [
              "dict_keys(['data', 'target', 'frame', 'target_names', 'DESCR', 'feature_names', 'filename', 'data_module'])"
            ]
          },
          "metadata": {},
          "execution_count": 58
        }
      ]
    },
    {
      "cell_type": "code",
      "source": [
        "print(y_train, y_test)\n",
        "\n",
        "# test data의 target은 전부 2 (virginica)\n",
        "# 훈련 셋과 테스트 셋의 분리가 잘 되지 않음"
      ],
      "metadata": {
        "colab": {
          "base_uri": "https://localhost:8080/"
        },
        "id": "2L0lD4SOshpx",
        "outputId": "c8244e5a-5631-4fce-f8eb-4426d76a7494"
      },
      "execution_count": 47,
      "outputs": [
        {
          "output_type": "stream",
          "name": "stdout",
          "text": [
            "[0 0 0 0 0 0 0 0 0 0 0 0 0 0 0 0 0 0 0 0 0 0 0 0 0 0 0 0 0 0 0 0 0 0 0 0 0\n",
            " 0 0 0 0 0 0 0 0 0 0 0 0 0 1 1 1 1 1 1 1 1 1 1 1 1 1 1 1 1 1 1 1 1 1 1 1 1\n",
            " 1 1 1 1 1 1 1 1 1 1 1 1 1 1 1 1 1 1 1 1 1 1 1 1 1 1 2 2 2 2 2 2 2 2 2 2 2\n",
            " 2 2 2 2 2 2 2 2 2] [2 2 2 2 2 2 2 2 2 2 2 2 2 2 2 2 2 2 2 2 2 2 2 2 2 2 2 2 2 2]\n"
          ]
        }
      ]
    },
    {
      "cell_type": "code",
      "source": [
        "#RandomForestClassifier 클래스 import\n",
        "from sklearn.ensemble import RandomForestClassifier\n",
        "rfc = RandomForestClassifier(n_estimators=10)\n",
        "rfc\n",
        "# Sklearn.ensemble 모듈은 분류, 회귀 및 이상 탐지를 위한 ensemble-based 방법을 포함\n"
      ],
      "metadata": {
        "colab": {
          "base_uri": "https://localhost:8080/"
        },
        "id": "GLGcwV87tP9V",
        "outputId": "d9648008-4ad5-4af1-dc08-f9fcac5c59bb"
      },
      "execution_count": 48,
      "outputs": [
        {
          "output_type": "execute_result",
          "data": {
            "text/plain": [
              "RandomForestClassifier(n_estimators=10)"
            ]
          },
          "metadata": {},
          "execution_count": 48
        }
      ]
    },
    {
      "cell_type": "markdown",
      "source": [
        "- 변수 설명 \n",
        " n_estimators : Decision Tree의 개수(default = 10)\n",
        " max_featrues : 최대 고려하는 feature의 개수(default = auto)\n",
        " oob_score : out-of-bag(OOB) 사용 여부 (default = False)"
      ],
      "metadata": {
        "id": "_pIC32JauO2n"
      }
    },
    {
      "cell_type": "code",
      "source": [
        "rfc.estimators_[8]"
      ],
      "metadata": {
        "colab": {
          "base_uri": "https://localhost:8080/"
        },
        "id": "oLgri5PF40ui",
        "outputId": "3c7c6735-f91a-4222-c582-55c7160a8e4b"
      },
      "execution_count": 83,
      "outputs": [
        {
          "output_type": "execute_result",
          "data": {
            "text/plain": [
              "DecisionTreeClassifier(max_features='auto', random_state=550560713)"
            ]
          },
          "metadata": {},
          "execution_count": 83
        }
      ]
    },
    {
      "cell_type": "code",
      "source": [
        "from sklearn import tree\n",
        "from IPython.display import Image\n",
        "import pydotplus\n",
        "dt_dot_data = tree.export_graphviz(\n",
        "    rfc.estimators_[8],\n",
        "    feature_names = [\"sepal length\", \"sepal width\", \"petal length\", \"petal width\"], # 독립변수 칸이름\n",
        "    class_names = [\"setosa\", \"virsicolor\", \"virsinica\"] # 종속변수 이름\n",
        ")\n",
        "\n",
        "dt_graph = pydotplus.graph_from_dot_data(dt_dot_data)\n"
      ],
      "metadata": {
        "id": "a8bRFPHG6FZV"
      },
      "execution_count": 97,
      "outputs": []
    },
    {
      "cell_type": "code",
      "source": [
        "Image(dt_graph.create_png())"
      ],
      "metadata": {
        "colab": {
          "base_uri": "https://localhost:8080/",
          "height": 753
        },
        "id": "SWTQTIjb6svX",
        "outputId": "93cb78fd-8821-4c30-9c19-f68660b2a362"
      },
      "execution_count": 98,
      "outputs": [
        {
          "output_type": "execute_result",
          "data": {
            "image/png": "[encoded data removed]",
            "text/plain": [
              "<IPython.core.display.Image object>"
            ]
          },
          "metadata": {},
          "execution_count": 98
        }
      ]
    },
    {
      "cell_type": "code",
      "source": [
        "dt_graph.write_pdf(\"8번 째 트리 간직할래요.pdf\")"
      ],
      "metadata": {
        "colab": {
          "base_uri": "https://localhost:8080/"
        },
        "id": "3Oti-z7R8Ztl",
        "outputId": "6feb2eba-434b-437f-937b-c53480dc5c02"
      },
      "execution_count": 100,
      "outputs": [
        {
          "output_type": "execute_result",
          "data": {
            "text/plain": [
              "True"
            ]
          },
          "metadata": {},
          "execution_count": 100
        }
      ]
    },
    {
      "cell_type": "code",
      "source": [
        "rfc.fit(X_train, y_train)\n",
        "# test_Data를 입력하여 target_data를 예측\n",
        "\n",
        "prediction = rfc.predict(x_test)\n",
        "# 예측 결과 precision 과 실제 test data 의 target 을 비교\n",
        "print(prediction == y_test)\n",
        "# 랜덤 포레스트 분류기 성능 평가\n",
        "rfc.score(X_test, y_test)"
      ],
      "metadata": {
        "colab": {
          "base_uri": "https://localhost:8080/"
        },
        "id": "5JR3TWMZtk8V",
        "outputId": "7d203d49-9154-4ddd-f4a8-ab55b96a51ce"
      },
      "execution_count": 66,
      "outputs": [
        {
          "output_type": "stream",
          "name": "stdout",
          "text": [
            "[ True False  True False  True  True False False  True  True  True  True\n",
            "  True False  True  True  True  True False  True  True  True  True  True\n",
            "  True  True  True  True  True  True]\n"
          ]
        },
        {
          "output_type": "execute_result",
          "data": {
            "text/plain": [
              "0.8"
            ]
          },
          "metadata": {},
          "execution_count": 66
        }
      ]
    },
    {
      "cell_type": "markdown",
      "source": [
        "### 순서\n",
        "\n",
        "- 1. 훈련데이터를 입력해 RFC학습\n",
        "- 2. 분류기에 테스트 데이터를 입력해 목표 값을 예측하여 분류\n",
        "- 3. 분류(예측)한 목표 값과 실제 목표 값을 비교하고 출력\n",
        "\n",
        "\n",
        "### 성능평가\n",
        "\n",
        "- sklearn.metrics : scikit-learn 패키지 중 모듈 성능 평가방법 모듈\n",
        "- accuracy_score() : 분류 결과의 accuracy를 계산.\n",
        "- classification_report() : 분류 결과의 precision, recall 을 계산\n",
        "\n",
        "- y_test(테스트 데이터의 target data), prediction(테스트 데이터의 target 예측 값)"
      ],
      "metadata": {
        "id": "HH7zNrtivLED"
      }
    },
    {
      "cell_type": "code",
      "source": [
        "y_test"
      ],
      "metadata": {
        "colab": {
          "base_uri": "https://localhost:8080/"
        },
        "id": "3N-InzsHyuG8",
        "outputId": "8ef721c0-f3ef-4561-ddf7-f4634cdc3180"
      },
      "execution_count": 70,
      "outputs": [
        {
          "output_type": "execute_result",
          "data": {
            "text/plain": [
              "array([2, 2, 2, 2, 2, 2, 2, 2, 2, 2, 2, 2, 2, 2, 2, 2, 2, 2, 2, 2, 2, 2,\n",
              "       2, 2, 2, 2, 2, 2, 2, 2])"
            ]
          },
          "metadata": {},
          "execution_count": 70
        }
      ]
    },
    {
      "cell_type": "code",
      "source": [
        "print(\"Accuracy is :\", accuracy_score(prediction, y_test))\n",
        "print(classification_report(y_test, rfc.predict(X_test)))"
      ],
      "metadata": {
        "colab": {
          "base_uri": "https://localhost:8080/"
        },
        "id": "J_jTdAeXufPo",
        "outputId": "0b40c2da-7dc0-4601-9c12-b58134b58bf7"
      },
      "execution_count": 78,
      "outputs": [
        {
          "output_type": "stream",
          "name": "stdout",
          "text": [
            "Accuracy is : 0.8\n",
            "              precision    recall  f1-score   support\n",
            "\n",
            "           1       0.00      0.00      0.00         0\n",
            "           2       1.00      0.80      0.89        30\n",
            "\n",
            "    accuracy                           0.80        30\n",
            "   macro avg       0.50      0.40      0.44        30\n",
            "weighted avg       1.00      0.80      0.89        30\n",
            "\n"
          ]
        },
        {
          "output_type": "stream",
          "name": "stderr",
          "text": [
            "/usr/local/lib/python3.7/dist-packages/sklearn/metrics/_classification.py:1318: UndefinedMetricWarning: Recall and F-score are ill-defined and being set to 0.0 in labels with no true samples. Use `zero_division` parameter to control this behavior.\n",
            "  _warn_prf(average, modifier, msg_start, len(result))\n",
            "/usr/local/lib/python3.7/dist-packages/sklearn/metrics/_classification.py:1318: UndefinedMetricWarning: Recall and F-score are ill-defined and being set to 0.0 in labels with no true samples. Use `zero_division` parameter to control this behavior.\n",
            "  _warn_prf(average, modifier, msg_start, len(result))\n",
            "/usr/local/lib/python3.7/dist-packages/sklearn/metrics/_classification.py:1318: UndefinedMetricWarning: Recall and F-score are ill-defined and being set to 0.0 in labels with no true samples. Use `zero_division` parameter to control this behavior.\n",
            "  _warn_prf(average, modifier, msg_start, len(result))\n"
          ]
        }
      ]
    },
    {
      "cell_type": "code",
      "source": [
        ""
      ],
      "metadata": {
        "id": "CjpIfNOov7BP"
      },
      "execution_count": 49,
      "outputs": []
    }
  ]
}